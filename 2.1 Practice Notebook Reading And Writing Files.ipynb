{
 "cells": [
  {
   "cell_type": "markdown",
   "metadata": {},
   "source": [
    "# Practice Notebook: Reading and Writing Files"
   ]
  },
  {
   "cell_type": "markdown",
   "metadata": {},
   "source": [
    "In this exercise, we will test your knowledge of reading and writing files by playing around with some text files. \n",
    "<br><br>\n",
    "Let's say we have a text file containing current visitors at a hotel.  We'll call it, *guests.txt*.  Run the following code to create the file.  The file will automatically populate with each initial guest's first name on its own line."
   ]
  },
  {
   "cell_type": "code",
   "execution_count": 1,
   "metadata": {},
   "outputs": [],
   "source": [
    "guests = open(\"guests.txt\", \"w\")\n",
    "initial_guests = [\"Bob\", \"Andrea\", \"Manuel\", \"Polly\", \"Khalid\"]\n",
    "\n",
    "for i in initial_guests:\n",
    "    guests.write(i + \"\\n\")\n",
    "    \n",
    "guests.close()"
   ]
  },
  {
   "cell_type": "markdown",
   "metadata": {},
   "source": [
    "No output is generated for the above code cell.  To check the contents of the newly created *guests.txt* file, run the following code."
   ]
  },
  {
   "cell_type": "code",
   "execution_count": 47,
   "metadata": {},
   "outputs": [
    {
     "name": "stdout",
     "output_type": "stream",
     "text": [
      "Bob\n",
      "\n",
      "Andrea\n",
      "\n",
      "Manuel\n",
      "\n",
      "Polly\n",
      "\n",
      "Khalid\n",
      "\n"
     ]
    },
    {
     "data": {
      "text/plain": [
       "_io.TextIOWrapper"
      ]
     },
     "execution_count": 47,
     "metadata": {},
     "output_type": "execute_result"
    }
   ],
   "source": [
    "with open(\"guests.txt\") as guests:\n",
    "    for line in guests:\n",
    "        print(line)\n",
    "type(guests)"
   ]
  },
  {
   "cell_type": "markdown",
   "metadata": {},
   "source": [
    "The output shows that our *guests.txt* file is correctly populated with each initial guest's first name on its own line.  Cool!\n",
    "<br><br>\n",
    "Now suppose we want to update our file as guests check in and out.  Fill in the missing code in the following cell to add guests to the *guests.txt* file as they check in."
   ]
  },
  {
   "cell_type": "code",
   "execution_count": 48,
   "metadata": {},
   "outputs": [],
   "source": [
    "new_guests = [\"Sam\", \"Danielle\", \"Jacob\"]\n",
    "\n",
    "with open(\"guests.txt\", \"a\") as guests:\n",
    "    for i in new_guests:\n",
    "        guests.write(i + \"\\n\")\n",
    "\n",
    "guests.close()"
   ]
  },
  {
   "cell_type": "markdown",
   "metadata": {},
   "source": [
    "To check whether your code correctly added the new guests to the *guests.txt* file, run the following cell."
   ]
  },
  {
   "cell_type": "code",
   "execution_count": 49,
   "metadata": {},
   "outputs": [
    {
     "name": "stdout",
     "output_type": "stream",
     "text": [
      "Bob\n",
      "\n",
      "Andrea\n",
      "\n",
      "Manuel\n",
      "\n",
      "Polly\n",
      "\n",
      "Khalid\n",
      "\n",
      "Sam\n",
      "\n",
      "Danielle\n",
      "\n",
      "Jacob\n",
      "\n"
     ]
    }
   ],
   "source": [
    "with open(\"guests.txt\") as guests:\n",
    "    for line in guests:\n",
    "        print(line)"
   ]
  },
  {
   "cell_type": "markdown",
   "metadata": {},
   "source": [
    "The current names in the *guests.txt* file should be:  Bob, Andrea, Manuel, Polly, Khalid, Sam, Danielle and Jacob.\n",
    "<br><br>\n",
    "Was the *guests.txt* file correctly appended with the new guests? If not, go back and edit your code making sure to fill in the gaps appropriately so that the new guests are correctly added to the *guests.txt* file.  Once the new guests are successfully added, you have filled in the missing code correctly.  Great!\n",
    "<br><br>\n",
    "Now let's remove the guests that have checked out already.  There are several ways to do this, however, the method we will choose for this exercise is outlined as follows:\n",
    "1. Open the file in \"read\" mode.\n",
    "2. Iterate over each line in the file and put each guest's name into a Python list.\n",
    "3. Open the file once again in \"write\" mode.\n",
    "4. Add each guest's name in the Python list to the file one by one.\n",
    "\n",
    "<br>\n",
    "Ready? Fill in the missing code in the following cell to remove the guests that have checked out already."
   ]
  },
  {
   "cell_type": "code",
   "execution_count": 50,
   "metadata": {},
   "outputs": [],
   "source": [
    "checked_out=[\"Andrea\", \"Manuel\", \"Khalid\"]\n",
    "temp_list=[]\n",
    "\n",
    "with open(\"guests.txt\", \"r\") as guests:\n",
    "    for g in guests:\n",
    "        temp_list.append(g.strip())\n",
    "\n",
    "with open(\"guests.txt\", \"w\") as guests:\n",
    "    for name in temp_list:\n",
    "        if name not in checked_out:\n",
    "            guests.write(name + \"\\n\")"
   ]
  },
  {
   "cell_type": "markdown",
   "metadata": {},
   "source": [
    "To check whether your code correctly removed the checked out guests from the *guests.txt* file, run the following cell."
   ]
  },
  {
   "cell_type": "code",
   "execution_count": 51,
   "metadata": {},
   "outputs": [
    {
     "name": "stdout",
     "output_type": "stream",
     "text": [
      "Bob\n",
      "\n",
      "Polly\n",
      "\n",
      "Sam\n",
      "\n",
      "Danielle\n",
      "\n",
      "Jacob\n",
      "\n"
     ]
    }
   ],
   "source": [
    "with open(\"guests.txt\") as guests:\n",
    "    for line in guests:\n",
    "        print(line)"
   ]
  },
  {
   "cell_type": "markdown",
   "metadata": {},
   "source": [
    "The current names in the *guests.txt* file should be:  Bob, Polly, Sam, Danielle and Jacob.\n",
    "<br><br>\n",
    "Were the names of the checked out guests correctly removed from the *guests.txt* file? If not, go back and edit your code making sure to fill in the gaps appropriately so that the checked out guests are correctly removed from the *guests.txt* file. Once the checked out guests are successfully removed, you have filled in the missing code correctly. Awesome!\n",
    "<br><br>\n",
    "Now let's check whether Bob and Andrea are still checked in.  How could we do this? We'll just read through each line in the file to see if their name is in there.  Run the following code to check whether Bob and Andrea are still checked in."
   ]
  },
  {
   "cell_type": "code",
   "execution_count": 13,
   "metadata": {},
   "outputs": [
    {
     "name": "stdout",
     "output_type": "stream",
     "text": [
      "Bob is checked in\n",
      "Andrea is checked in\n"
     ]
    }
   ],
   "source": [
    "guests_to_check = ['Bob', 'Andrea']\n",
    "checked_in = []\n",
    "\n",
    "with open(\"guests.txt\",\"r\") as guests:\n",
    "    for g in guests:\n",
    "        checked_in.append(g.strip())\n",
    "    for check in guests_to_check:\n",
    "        if check in checked_in:\n",
    "            print(\"{} is checked in\".format(check))\n",
    "        else:\n",
    "            print(\"{} is not checked in\".format(check))"
   ]
  },
  {
   "cell_type": "markdown",
   "metadata": {},
   "source": [
    "We can see that Bob is checked in while Andrea is not.  Nice work! You've learned the basics of reading and writing files in Python!"
   ]
  },
  {
   "cell_type": "markdown",
   "metadata": {},
   "source": [
    "# <a href=\"https://docs.python.org/3/library/functions.html#open\"> Link to the source below </a> <br>\n",
    "Character\n",
    "\n",
    "Meaning\n",
    "\n",
    "'r'\n",
    "\n",
    "open for reading (default)\n",
    "\n",
    "'w'\n",
    "\n",
    "open for writing, truncating the file first\n",
    "\n",
    "'x'\n",
    "\n",
    "open for exclusive creation, failing if the file already exists\n",
    "\n",
    "'a'\n",
    "\n",
    "open for writing, appending to the end of the file if it exists\n",
    "\n",
    "'b'\n",
    "\n",
    "binary mode\n",
    "\n",
    "'t'\n",
    "\n",
    "text mode (default)\n",
    "\n",
    "'+'\n",
    "\n",
    "open for updating (reading and writing)"
   ]
  },
  {
   "cell_type": "markdown",
   "metadata": {},
   "source": [
    "### reading and writing files\n",
    "* import os\n",
    "* os.remove(\"novel.txt\")\n",
    "* os.rename(\"before_rename.txt\", \"after_rename\")\n",
    "* os.path.exists(\"novel.txt\") -> True/ False <- return True if file existed\n",
    "* os.path.getsize(\"file\")\n",
    "* import datetime\n",
    "* timestamp = os.path.getmtime(\"spider.txt\")\n",
    "## manaing file and directories\n",
    "* new dir: os.mkdir(\". . .\")\n",
    "* change dir: os.chdir(\". . .\")\n",
    "* current dir: os.getcwd()\n",
    "* remove dir: os.rmdir(\"  \")\n",
    "* os.listdir(\"directories_name\") -> a list of file and directories\n",
    "* os.path.join(dir, name)  -> for eg: website/images\n",
    "* file or directory? -> os.path.isdir(name_of_...) -> return True or False -> True because images is directory"
   ]
  },
  {
   "cell_type": "raw",
   "metadata": {},
   "source": [
    "for name in os.listdir(dir):\n",
    "    fullname = os.path.join(dir, name)\n",
    "    if os.path.isdir(fullname):\n",
    "        print(\"{} is a dir\".format(fullname))\n",
    "    else:\n",
    "        print(\"{} is a file\".format(fullname))"
   ]
  },
  {
   "cell_type": "raw",
   "metadata": {},
   "source": [
    "Here is the quiz and my answer: \n",
    "1.Question 1\n",
    "The create_python_script function creates a new python script in the current working directory, adds the line of comments to it declared by the 'comments' variable, and returns the size of the new file. Fill in the gaps to create a script called \"program.py\".\n",
    "\n",
    "import os\n",
    "def create_python_script(filename):\n",
    "    comments = \"# Start of a new Python program\"\n",
    "    with open(filename, \"w\") as file:\n",
    "        filesize = file.write(comments)\n",
    "    return(filesize)\n",
    "\n",
    "print(create_python_script(\"program.py\"))  #result is 31\n",
    "\n",
    "\n",
    "2.Question 2\n",
    "The new_directory function creates a new directory inside the current working directory, then creates a new empty file inside the new directory, and returns the list of files in that directory. Complete the function to create a file \"script.py\" in the directory \"PythonPrograms\".\n",
    "\n",
    "import os\n",
    "\n",
    "def new_directory(directory, filename):\n",
    "    # Before creating a new directory, check to see if it already exists\n",
    "    if not os.path.exists(directory):\n",
    "        os.mkdir(directory)\n",
    "    # Create the new file inside of the new directory\n",
    "    os.chdir(directory)\n",
    "    new_file =  open(filename, \"w\")\n",
    "    # Return the list of files in the new directory\n",
    "    return os.listdir()\n",
    "  \n",
    "print(new_directory(\"PythonPrograms\", \"script.py\"))   -> ['scripts.py']"
   ]
  },
  {
   "cell_type": "raw",
   "metadata": {},
   "source": [
    "# read csv\n",
    "import csv\n",
    "f = open(\"csv_file.txt\")\n",
    "csv_f = csv.reader(f)\n",
    "for row in csv_f:\n",
    "    name, phone, role = row\n",
    "    print(\"name {}, phone {}, role {}\".format(name, phone, role))\n",
    "f.close()\n",
    "\n",
    "\n",
    "\n"
   ]
  },
  {
   "cell_type": "markdown",
   "metadata": {},
   "source": [
    "# generating CSV with lists"
   ]
  },
  {
   "cell_type": "code",
   "execution_count": 25,
   "metadata": {},
   "outputs": [],
   "source": [
    "import csv\n",
    "hosts = [['work.local', 'sai gon'], ['study.local', 'phan lan']]\n",
    "with open('host.csv','w') as hosts_csv:\n",
    "    writer = csv.writer(hosts_csv)\n",
    "    # add content by using writerows\n",
    "    writer.writerows(hosts)\n",
    "\n",
    "# need to add schema this way in case our data is very big and we make an example with small data\n",
    "hosts2_initative = [['this is the schema']]\n",
    "hosts2 = [['this is the test text 1'], ['this is the test text 2']]\n",
    "for content in hosts2:\n",
    "    hosts2_initative.append(content)\n",
    "#make csv file\n",
    "with open('host2.csv','w') as hosts_csv2:\n",
    "    writer = csv.writer(hosts_csv2)\n",
    "    # add content by using writerows\n",
    "    writer.writerows(hosts2_initative)\n",
    "\n",
    "#import pandas as pd\n",
    "#data = pd.read_csv(\"../Chapter_2/host2.csv\")\n",
    "#x = read_csv('host2.csv')\n",
    "#x.columns = ['test schema']\n",
    "#x.to_csv('host2.csv', index = False)\n",
    "#data"
   ]
  },
  {
   "cell_type": "code",
   "execution_count": 27,
   "metadata": {},
   "outputs": [
    {
     "data": {
      "text/plain": [
       "[['test schema'], ['this is the test text 1'], ['this is the test text 2']]"
      ]
     },
     "execution_count": 27,
     "metadata": {},
     "output_type": "execute_result"
    }
   ],
   "source": [
    "h1 = [['test schema']]\n",
    "h2 = [['this is the test text 1'], ['this is the test text 2']]\n",
    "for content in h2:\n",
    "    h1.append(content)\n",
    "h1"
   ]
  },
  {
   "cell_type": "markdown",
   "metadata": {},
   "source": [
    "# generating CSV with dictionaries"
   ]
  },
  {
   "cell_type": "raw",
   "metadata": {},
   "source": [
    "We're working with a list of flowers and some information about each one. The create_file function writes this information to a CSV file. The contents_of_file function reads this file into records and returns the information in a nicely formatted block. Fill in the gaps of the contents_of_file function to turn the data in the CSV file into a dictionary using DictReader.\n",
    "----> result:"
   ]
  },
  {
   "cell_type": "code",
   "execution_count": 46,
   "metadata": {
    "scrolled": true
   },
   "outputs": [
    {
     "name": "stdout",
     "output_type": "stream",
     "text": [
      "a pink carnation is annual\n",
      "a yellow daffodil is perennial\n",
      "a blue iris is perennial\n",
      "a red poinsettia is perennial\n",
      "a yellow sunflower is annual\n",
      "\n"
     ]
    }
   ],
   "source": [
    "import os\n",
    "import csv\n",
    "\n",
    "# Create a file with data in it\n",
    "def create_file(filename):\n",
    "  with open(filename, \"w\") as file:\n",
    "    file.write(\"name,color,type\\n\")\n",
    "    file.write(\"carnation,pink,annual\\n\")\n",
    "    file.write(\"daffodil,yellow,perennial\\n\")\n",
    "    file.write(\"iris,blue,perennial\\n\")\n",
    "    file.write(\"poinsettia,red,perennial\\n\")\n",
    "    file.write(\"sunflower,yellow,annual\\n\")\n",
    "\n",
    "# Read the file contents and format the information about each row\n",
    "def contents_of_file(filename):\n",
    "  return_string = \"\"\n",
    "\n",
    "  # Call the function to create the file \n",
    "  create_file(filename)\n",
    "\n",
    "  # Open the file\n",
    "  with open(filename) as file_name:\n",
    "    # Read the rows of the file into a dictionary\n",
    "    rows = csv.DictReader(file_name)\n",
    "    \n",
    "    # Process each item of the dictionary\n",
    "    for row in rows:\n",
    "      return_string += \"a {} {} is {}\\n\".format(row[\"color\"], row[\"name\"], row[\"type\"])\n",
    "  return return_string\n",
    "\n",
    "#Call the function\n",
    "print(contents_of_file(\"flowers.csv\"))"
   ]
  },
  {
   "cell_type": "raw",
   "metadata": {},
   "source": [
    "Using the CSV file of flowers again, fill in the gaps of the contents_of_file function to process the data without turning it into a dictionary. How do you skip over the header record with the field names?\n",
    "-------> result:"
   ]
  },
  {
   "cell_type": "code",
   "execution_count": 45,
   "metadata": {},
   "outputs": [
    {
     "name": "stdout",
     "output_type": "stream",
     "text": [
      "a pink carnation is annual\n",
      "a yellow daffodil is perennial\n",
      "a blue iris is perennial\n",
      "a red poinsettia is perennial\n",
      "a yellow sunflower is annual\n",
      "\n"
     ]
    }
   ],
   "source": [
    "import os\n",
    "import csv\n",
    "\n",
    "# Create a file with data in it\n",
    "def create_file(filename):\n",
    "  with open(filename, \"w\") as file:\n",
    "    file.write(\"name,color,type\\n\")\n",
    "    file.write(\"carnation,pink,annual\\n\")\n",
    "    file.write(\"daffodil,yellow,perennial\\n\")\n",
    "    file.write(\"iris,blue,perennial\\n\")\n",
    "    file.write(\"poinsettia,red,perennial\\n\")\n",
    "    file.write(\"sunflower,yellow,annual\\n\")\n",
    "\n",
    "# Read the file contents and format the information about each row\n",
    "def contents_of_file(filename):\n",
    "  return_string = \"\"\n",
    "\n",
    "  # Call the function to create the file \n",
    "  create_file(filename)\n",
    "\n",
    "  # Open the file\n",
    "  with open(filename) as file_name:\n",
    "    # Read the rows of the file\n",
    "    rows = csv.reader(file_name)\n",
    "    # use next to omit the schema\n",
    "    next(rows)\n",
    "    # Process each row\n",
    "    for row in rows:\n",
    "      name, color, typed = row\n",
    "      # Format the return string for data rows only\n",
    "\n",
    "      return_string += \"a {} {} is {}\\n\".format(color, name, typed)\n",
    "  return return_string\n",
    "\n",
    "#Call the function\n",
    "print(contents_of_file(\"flowers.csv\"))"
   ]
  },
  {
   "cell_type": "code",
   "execution_count": 48,
   "metadata": {},
   "outputs": [
    {
     "name": "stdout",
     "output_type": "stream",
     "text": [
      "[OrderedDict([('Full Name', 'Audrey Miller'), ('Username', 'audrey'), ('Department', 'Development')]), OrderedDict([('Full Name', 'Arden Garcia'), ('Username', 'ardeng'), ('Department', 'Sales')]), OrderedDict([('Full Name', 'Bailey Thomas'), ('Username', 'baileyt'), ('Department', 'Human Resources')]), OrderedDict([('Full Name', 'Blake Sousa'), ('Username', 'sousa'), ('Department', 'IT infrastructure')]), OrderedDict([('Full Name', 'Cameron Nguyen'), ('Username', 'nguyen'), ('Department', 'Marketing')]), OrderedDict([('Full Name', 'Charlie Grey'), ('Username', 'greyc'), ('Department', 'Development')]), OrderedDict([('Full Name', 'Chris Black'), ('Username', 'chrisb'), ('Department', 'User Experience Research')]), OrderedDict([('Full Name', 'Courtney Silva'), ('Username', 'silva'), ('Department', 'IT infrastructure')]), OrderedDict([('Full Name', 'Darcy Johnsonn'), ('Username', 'darcy'), ('Department', 'IT infrastructure')]), OrderedDict([('Full Name', 'Elliot Lamb'), ('Username', 'elliotl'), ('Department', 'Development')]), OrderedDict([('Full Name', 'Emery Halls'), ('Username', 'halls'), ('Department', 'Sales')]), OrderedDict([('Full Name', 'Flynn McMillan'), ('Username', 'flynn'), ('Department', 'Marketing')]), OrderedDict([('Full Name', 'Harley Klose'), ('Username', 'harley'), ('Department', 'Human Resources')]), OrderedDict([('Full Name', 'Jean May Coy'), ('Username', 'jeanm'), ('Department', 'Vendor operations')]), OrderedDict([('Full Name', 'Kay Stevens'), ('Username', 'kstev'), ('Department', 'Sales')]), OrderedDict([('Full Name', 'Lio Nelson'), ('Username', 'lion'), ('Department', 'User Experience Research')]), OrderedDict([('Full Name', 'Logan Tillas'), ('Username', 'tillas'), ('Department', 'Vendor operations')]), OrderedDict([('Full Name', 'Micah Lopes'), ('Username', 'micah'), ('Department', 'Development')]), OrderedDict([('Full Name', 'Sol Mansi'), ('Username', 'solm'), ('Department', 'IT infrastructure')])]\n"
     ]
    }
   ],
   "source": [
    "import csv\n",
    "\n",
    "def read_employees(csv_file_location):\n",
    "    csv.register_dialect('empDialect', skipinitialspace=True, strict=True)\n",
    "    employee_file = csv.DictReader(open(csv_file_location), dialect = 'empDialect')\n",
    "    employee_list = []\n",
    "    for data in employee_file:\n",
    "        employee_list.append(data)\n",
    "    return employee_list\n",
    "\n",
    "employee_list = read_employees(\"/Users/phamthailinh/Desktop/ds_research/Google_IT_Python_Prof_Cert/Chapter_2/host.csv\")\n",
    "print(employee_list)"
   ]
  },
  {
   "cell_type": "code",
   "execution_count": null,
   "metadata": {},
   "outputs": [],
   "source": []
  }
 ],
 "metadata": {
  "kernelspec": {
   "display_name": "Python 3",
   "language": "python",
   "name": "python3"
  },
  "language_info": {
   "codemirror_mode": {
    "name": "ipython",
    "version": 3
   },
   "file_extension": ".py",
   "mimetype": "text/x-python",
   "name": "python",
   "nbconvert_exporter": "python",
   "pygments_lexer": "ipython3",
   "version": "3.7.6"
  }
 },
 "nbformat": 4,
 "nbformat_minor": 2
}
