{
 "cells": [
  {
   "cell_type": "code",
   "execution_count": 2,
   "metadata": {},
   "outputs": [],
   "source": [
    "import numpy as np\n",
    "import pandas as pd\n",
    "import matplotlib.pyplot as plt; plt.rcdefaults()\n",
    "from IPython.display import display\n",
    "import io\n",
    "import sys\n",
    "import arrow\n",
    "import datetime\n",
    "import os\n",
    "import graphlab as gl"
   ]
  },
  {
   "cell_type": "code",
   "execution_count": 3,
   "metadata": {},
   "outputs": [
    {
     "data": {
      "text/plain": [
       "'/Users/phamthailinh/Desktop/upgithub/My_extended_side_project'"
      ]
     },
     "execution_count": 3,
     "metadata": {},
     "output_type": "execute_result"
    }
   ],
   "source": [
    "os.getcwd()"
   ]
  },
  {
   "cell_type": "code",
   "execution_count": 196,
   "metadata": {},
   "outputs": [],
   "source": [
    "data = pd.read_csv(\"/Users/phamthailinh/Desktop/upgithub/My_extended_side_project/test.csv\")"
   ]
  },
  {
   "cell_type": "code",
   "execution_count": 197,
   "metadata": {
    "scrolled": false
   },
   "outputs": [],
   "source": [
    "data = gl.SFrame(data = data)"
   ]
  },
  {
   "cell_type": "code",
   "execution_count": 198,
   "metadata": {},
   "outputs": [
    {
     "data": {
      "text/html": [
       "<div style=\"max-height:1000px;max-width:1500px;overflow:auto;\"><table frame=\"box\" rules=\"cols\">\n",
       "    <tr>\n",
       "        <th style=\"padding-left: 1em; padding-right: 1em; text-align: center\">Unnamed: 0</th>\n",
       "        <th style=\"padding-left: 1em; padding-right: 1em; text-align: center\">sentence</th>\n",
       "        <th style=\"padding-left: 1em; padding-right: 1em; text-align: center\">frequencies</th>\n",
       "        <th style=\"padding-left: 1em; padding-right: 1em; text-align: center\">word_count</th>\n",
       "    </tr>\n",
       "    <tr>\n",
       "        <td style=\"padding-left: 1em; padding-right: 1em; text-align: center; vertical-align: top\">0</td>\n",
       "        <td style=\"padding-left: 1em; padding-right: 1em; text-align: center; vertical-align: top\">hello, Sub-Periods, he is<br>Li hey ^^ ...</td>\n",
       "        <td style=\"padding-left: 1em; padding-right: 1em; text-align: center; vertical-align: top\">1</td>\n",
       "        <td style=\"padding-left: 1em; padding-right: 1em; text-align: center; vertical-align: top\">{'hello,': 1, '^^': 1,<br>'is': 1, 'sub-periods,': ...</td>\n",
       "    </tr>\n",
       "    <tr>\n",
       "        <td style=\"padding-left: 1em; padding-right: 1em; text-align: center; vertical-align: top\">1</td>\n",
       "        <td style=\"padding-left: 1em; padding-right: 1em; text-align: center; vertical-align: top\">hello a 😊</td>\n",
       "        <td style=\"padding-left: 1em; padding-right: 1em; text-align: center; vertical-align: top\">2</td>\n",
       "        <td style=\"padding-left: 1em; padding-right: 1em; text-align: center; vertical-align: top\">{'a': 1,<br>'\\xf0\\x9f\\x98\\x8a': 1, ...</td>\n",
       "    </tr>\n",
       "    <tr>\n",
       "        <td style=\"padding-left: 1em; padding-right: 1em; text-align: center; vertical-align: top\">2</td>\n",
       "        <td style=\"padding-left: 1em; padding-right: 1em; text-align: center; vertical-align: top\">You can now call each<br>other and see informa ...</td>\n",
       "        <td style=\"padding-left: 1em; padding-right: 1em; text-align: center; vertical-align: top\">1</td>\n",
       "        <td style=\"padding-left: 1em; padding-right: 1em; text-align: center; vertical-align: top\">{'status': 1,<br>'information': 1, 'and': ...</td>\n",
       "    </tr>\n",
       "    <tr>\n",
       "        <td style=\"padding-left: 1em; padding-right: 1em; text-align: center; vertical-align: top\">3</td>\n",
       "        <td style=\"padding-left: 1em; padding-right: 1em; text-align: center; vertical-align: top\">v see at the right</td>\n",
       "        <td style=\"padding-left: 1em; padding-right: 1em; text-align: center; vertical-align: top\">2</td>\n",
       "        <td style=\"padding-left: 1em; padding-right: 1em; text-align: center; vertical-align: top\">{'the': 1, 'right': 1,<br>'at': 1, 'see': 1, 'v': ...</td>\n",
       "    </tr>\n",
       "    <tr>\n",
       "        <td style=\"padding-left: 1em; padding-right: 1em; text-align: center; vertical-align: top\">4</td>\n",
       "        <td style=\"padding-left: 1em; padding-right: 1em; text-align: center; vertical-align: top\">Hi e</td>\n",
       "        <td style=\"padding-left: 1em; padding-right: 1em; text-align: center; vertical-align: top\">1</td>\n",
       "        <td style=\"padding-left: 1em; padding-right: 1em; text-align: center; vertical-align: top\">{'hi': 1, 'e': 1}</td>\n",
       "    </tr>\n",
       "</table>\n",
       "[5 rows x 4 columns]<br/>\n",
       "</div>"
      ],
      "text/plain": [
       "Columns:\n",
       "\tUnnamed: 0\tint\n",
       "\tsentence\tstr\n",
       "\tfrequencies\tint\n",
       "\tword_count\tdict\n",
       "\n",
       "Rows: 5\n",
       "\n",
       "Data:\n",
       "+------------+-------------------------------+-------------+\n",
       "| Unnamed: 0 |            sentence           | frequencies |\n",
       "+------------+-------------------------------+-------------+\n",
       "|     0      | hello, Sub-Periods, he is ... |      1      |\n",
       "|     1      |           hello a 😊          |      2      |\n",
       "|     2      | You can now call each othe... |      1      |\n",
       "|     3      |       v see at the right      |      2      |\n",
       "|     4      |              Hi e             |      1      |\n",
       "+------------+-------------------------------+-------------+\n",
       "+-------------------------------+\n",
       "|           word_count          |\n",
       "+-------------------------------+\n",
       "| {'hello,': 1, '^^': 1, 'is... |\n",
       "| {'a': 1, '\\xf0\\x9f\\x98\\x8a... |\n",
       "| {'status': 1, 'information... |\n",
       "| {'the': 1, 'right': 1, 'at... |\n",
       "|       {'hi': 1, 'e': 1}       |\n",
       "+-------------------------------+\n",
       "[5 rows x 4 columns]"
      ]
     },
     "execution_count": 198,
     "metadata": {},
     "output_type": "execute_result"
    }
   ],
   "source": [
    "data['word_count'] = gl.text_analytics.count_words(data['sentence'])\n",
    "data.head(5)"
   ]
  },
  {
   "cell_type": "code",
   "execution_count": 199,
   "metadata": {},
   "outputs": [
    {
     "data": {
      "text/html": [
       "<div style=\"max-height:1000px;max-width:1500px;overflow:auto;\"><table frame=\"box\" rules=\"cols\">\n",
       "    <tr>\n",
       "        <th style=\"padding-left: 1em; padding-right: 1em; text-align: center\">Unnamed: 0</th>\n",
       "        <th style=\"padding-left: 1em; padding-right: 1em; text-align: center\">sentence</th>\n",
       "        <th style=\"padding-left: 1em; padding-right: 1em; text-align: center\">frequencies</th>\n",
       "        <th style=\"padding-left: 1em; padding-right: 1em; text-align: center\">word_count</th>\n",
       "        <th style=\"padding-left: 1em; padding-right: 1em; text-align: center\">sentiment</th>\n",
       "    </tr>\n",
       "    <tr>\n",
       "        <td style=\"padding-left: 1em; padding-right: 1em; text-align: center; vertical-align: top\">0</td>\n",
       "        <td style=\"padding-left: 1em; padding-right: 1em; text-align: center; vertical-align: top\">hello, Sub-Periods, he is<br>Li hey ^^ ...</td>\n",
       "        <td style=\"padding-left: 1em; padding-right: 1em; text-align: center; vertical-align: top\">1</td>\n",
       "        <td style=\"padding-left: 1em; padding-right: 1em; text-align: center; vertical-align: top\">{'hello,': 1, '^^': 1,<br>'is': 1, 'sub-periods,': ...</td>\n",
       "        <td style=\"padding-left: 1em; padding-right: 1em; text-align: center; vertical-align: top\">1</td>\n",
       "    </tr>\n",
       "    <tr>\n",
       "        <td style=\"padding-left: 1em; padding-right: 1em; text-align: center; vertical-align: top\">1</td>\n",
       "        <td style=\"padding-left: 1em; padding-right: 1em; text-align: center; vertical-align: top\">hello a 😊</td>\n",
       "        <td style=\"padding-left: 1em; padding-right: 1em; text-align: center; vertical-align: top\">2</td>\n",
       "        <td style=\"padding-left: 1em; padding-right: 1em; text-align: center; vertical-align: top\">{'a': 1,<br>'\\xf0\\x9f\\x98\\x8a': 1, ...</td>\n",
       "        <td style=\"padding-left: 1em; padding-right: 1em; text-align: center; vertical-align: top\">0</td>\n",
       "    </tr>\n",
       "    <tr>\n",
       "        <td style=\"padding-left: 1em; padding-right: 1em; text-align: center; vertical-align: top\">2</td>\n",
       "        <td style=\"padding-left: 1em; padding-right: 1em; text-align: center; vertical-align: top\">You can now call each<br>other and see informa ...</td>\n",
       "        <td style=\"padding-left: 1em; padding-right: 1em; text-align: center; vertical-align: top\">1</td>\n",
       "        <td style=\"padding-left: 1em; padding-right: 1em; text-align: center; vertical-align: top\">{'status': 1,<br>'information': 1, 'and': ...</td>\n",
       "        <td style=\"padding-left: 1em; padding-right: 1em; text-align: center; vertical-align: top\">1</td>\n",
       "    </tr>\n",
       "    <tr>\n",
       "        <td style=\"padding-left: 1em; padding-right: 1em; text-align: center; vertical-align: top\">3</td>\n",
       "        <td style=\"padding-left: 1em; padding-right: 1em; text-align: center; vertical-align: top\">v see at the right</td>\n",
       "        <td style=\"padding-left: 1em; padding-right: 1em; text-align: center; vertical-align: top\">2</td>\n",
       "        <td style=\"padding-left: 1em; padding-right: 1em; text-align: center; vertical-align: top\">{'the': 1, 'right': 1,<br>'at': 1, 'see': 1, 'v': ...</td>\n",
       "        <td style=\"padding-left: 1em; padding-right: 1em; text-align: center; vertical-align: top\">0</td>\n",
       "    </tr>\n",
       "    <tr>\n",
       "        <td style=\"padding-left: 1em; padding-right: 1em; text-align: center; vertical-align: top\">4</td>\n",
       "        <td style=\"padding-left: 1em; padding-right: 1em; text-align: center; vertical-align: top\">Hi e</td>\n",
       "        <td style=\"padding-left: 1em; padding-right: 1em; text-align: center; vertical-align: top\">1</td>\n",
       "        <td style=\"padding-left: 1em; padding-right: 1em; text-align: center; vertical-align: top\">{'hi': 1, 'e': 1}</td>\n",
       "        <td style=\"padding-left: 1em; padding-right: 1em; text-align: center; vertical-align: top\">1</td>\n",
       "    </tr>\n",
       "</table>\n",
       "[5 rows x 5 columns]<br/>\n",
       "</div>"
      ],
      "text/plain": [
       "Columns:\n",
       "\tUnnamed: 0\tint\n",
       "\tsentence\tstr\n",
       "\tfrequencies\tint\n",
       "\tword_count\tdict\n",
       "\tsentiment\tint\n",
       "\n",
       "Rows: 5\n",
       "\n",
       "Data:\n",
       "+------------+-------------------------------+-------------+\n",
       "| Unnamed: 0 |            sentence           | frequencies |\n",
       "+------------+-------------------------------+-------------+\n",
       "|     0      | hello, Sub-Periods, he is ... |      1      |\n",
       "|     1      |           hello a 😊          |      2      |\n",
       "|     2      | You can now call each othe... |      1      |\n",
       "|     3      |       v see at the right      |      2      |\n",
       "|     4      |              Hi e             |      1      |\n",
       "+------------+-------------------------------+-------------+\n",
       "+-------------------------------+-----------+\n",
       "|           word_count          | sentiment |\n",
       "+-------------------------------+-----------+\n",
       "| {'hello,': 1, '^^': 1, 'is... |     1     |\n",
       "| {'a': 1, '\\xf0\\x9f\\x98\\x8a... |     0     |\n",
       "| {'status': 1, 'information... |     1     |\n",
       "| {'the': 1, 'right': 1, 'at... |     0     |\n",
       "|       {'hi': 1, 'e': 1}       |     1     |\n",
       "+-------------------------------+-----------+\n",
       "[5 rows x 5 columns]"
      ]
     },
     "execution_count": 199,
     "metadata": {},
     "output_type": "execute_result"
    }
   ],
   "source": [
    "data['sentiment'] = data['frequencies'] == 1\n",
    "data.head(5)"
   ]
  },
  {
   "cell_type": "code",
   "execution_count": 200,
   "metadata": {},
   "outputs": [],
   "source": [
    "gl.canvas.set_target('ipynb')"
   ]
  },
  {
   "cell_type": "code",
   "execution_count": 207,
   "metadata": {},
   "outputs": [],
   "source": [
    "train_data, test_data = data.random_split(.9, seed=0)"
   ]
  },
  {
   "cell_type": "code",
   "execution_count": 209,
   "metadata": {},
   "outputs": [
    {
     "data": {
      "text/html": [
       "<pre>WARNING: The number of feature dimensions in this problem is very large in comparison with the number of examples. Unless an appropriate regularization value is set, this model may not provide accurate predictions for a validation/test set.</pre>"
      ],
      "text/plain": [
       "WARNING: The number of feature dimensions in this problem is very large in comparison with the number of examples. Unless an appropriate regularization value is set, this model may not provide accurate predictions for a validation/test set."
      ]
     },
     "metadata": {},
     "output_type": "display_data"
    },
    {
     "data": {
      "text/html": [
       "<pre>Logistic regression:</pre>"
      ],
      "text/plain": [
       "Logistic regression:"
      ]
     },
     "metadata": {},
     "output_type": "display_data"
    },
    {
     "data": {
      "text/html": [
       "<pre>--------------------------------------------------------</pre>"
      ],
      "text/plain": [
       "--------------------------------------------------------"
      ]
     },
     "metadata": {},
     "output_type": "display_data"
    },
    {
     "data": {
      "text/html": [
       "<pre>Number of examples          : 1266</pre>"
      ],
      "text/plain": [
       "Number of examples          : 1266"
      ]
     },
     "metadata": {},
     "output_type": "display_data"
    },
    {
     "data": {
      "text/html": [
       "<pre>Number of classes           : 2</pre>"
      ],
      "text/plain": [
       "Number of classes           : 2"
      ]
     },
     "metadata": {},
     "output_type": "display_data"
    },
    {
     "data": {
      "text/html": [
       "<pre>Number of feature columns   : 1</pre>"
      ],
      "text/plain": [
       "Number of feature columns   : 1"
      ]
     },
     "metadata": {},
     "output_type": "display_data"
    },
    {
     "data": {
      "text/html": [
       "<pre>Number of unpacked features : 2472</pre>"
      ],
      "text/plain": [
       "Number of unpacked features : 2472"
      ]
     },
     "metadata": {},
     "output_type": "display_data"
    },
    {
     "data": {
      "text/html": [
       "<pre>Number of coefficients    : 2473</pre>"
      ],
      "text/plain": [
       "Number of coefficients    : 2473"
      ]
     },
     "metadata": {},
     "output_type": "display_data"
    },
    {
     "data": {
      "text/html": [
       "<pre>Starting L-BFGS</pre>"
      ],
      "text/plain": [
       "Starting L-BFGS"
      ]
     },
     "metadata": {},
     "output_type": "display_data"
    },
    {
     "data": {
      "text/html": [
       "<pre>--------------------------------------------------------</pre>"
      ],
      "text/plain": [
       "--------------------------------------------------------"
      ]
     },
     "metadata": {},
     "output_type": "display_data"
    },
    {
     "data": {
      "text/html": [
       "<pre>+-----------+----------+-----------+--------------+-------------------+---------------------+</pre>"
      ],
      "text/plain": [
       "+-----------+----------+-----------+--------------+-------------------+---------------------+"
      ]
     },
     "metadata": {},
     "output_type": "display_data"
    },
    {
     "data": {
      "text/html": [
       "<pre>| Iteration | Passes   | Step size | Elapsed Time | Training-accuracy | Validation-accuracy |</pre>"
      ],
      "text/plain": [
       "| Iteration | Passes   | Step size | Elapsed Time | Training-accuracy | Validation-accuracy |"
      ]
     },
     "metadata": {},
     "output_type": "display_data"
    },
    {
     "data": {
      "text/html": [
       "<pre>+-----------+----------+-----------+--------------+-------------------+---------------------+</pre>"
      ],
      "text/plain": [
       "+-----------+----------+-----------+--------------+-------------------+---------------------+"
      ]
     },
     "metadata": {},
     "output_type": "display_data"
    },
    {
     "data": {
      "text/html": [
       "<pre>| 1         | 3        | 0.000790  | 0.010433     | 0.898104          | 0.843537            |</pre>"
      ],
      "text/plain": [
       "| 1         | 3        | 0.000790  | 0.010433     | 0.898104          | 0.843537            |"
      ]
     },
     "metadata": {},
     "output_type": "display_data"
    },
    {
     "data": {
      "text/html": [
       "<pre>| 2         | 5        | 1.000000  | 0.021800     | 0.935229          | 0.829932            |</pre>"
      ],
      "text/plain": [
       "| 2         | 5        | 1.000000  | 0.021800     | 0.935229          | 0.829932            |"
      ]
     },
     "metadata": {},
     "output_type": "display_data"
    },
    {
     "data": {
      "text/html": [
       "<pre>| 3         | 6        | 1.000000  | 0.029854     | 0.966035          | 0.823129            |</pre>"
      ],
      "text/plain": [
       "| 3         | 6        | 1.000000  | 0.029854     | 0.966035          | 0.823129            |"
      ]
     },
     "metadata": {},
     "output_type": "display_data"
    },
    {
     "data": {
      "text/html": [
       "<pre>| 4         | 7        | 1.000000  | 0.037585     | 0.973934          | 0.816327            |</pre>"
      ],
      "text/plain": [
       "| 4         | 7        | 1.000000  | 0.037585     | 0.973934          | 0.816327            |"
      ]
     },
     "metadata": {},
     "output_type": "display_data"
    },
    {
     "data": {
      "text/html": [
       "<pre>| 5         | 8        | 1.000000  | 0.044789     | 0.983412          | 0.816327            |</pre>"
      ],
      "text/plain": [
       "| 5         | 8        | 1.000000  | 0.044789     | 0.983412          | 0.816327            |"
      ]
     },
     "metadata": {},
     "output_type": "display_data"
    },
    {
     "data": {
      "text/html": [
       "<pre>| 6         | 9        | 1.000000  | 0.052541     | 0.988152          | 0.809524            |</pre>"
      ],
      "text/plain": [
       "| 6         | 9        | 1.000000  | 0.052541     | 0.988152          | 0.809524            |"
      ]
     },
     "metadata": {},
     "output_type": "display_data"
    },
    {
     "data": {
      "text/html": [
       "<pre>+-----------+----------+-----------+--------------+-------------------+---------------------+</pre>"
      ],
      "text/plain": [
       "+-----------+----------+-----------+--------------+-------------------+---------------------+"
      ]
     },
     "metadata": {},
     "output_type": "display_data"
    },
    {
     "data": {
      "text/html": [
       "<pre>TERMINATED: Iteration limit reached.</pre>"
      ],
      "text/plain": [
       "TERMINATED: Iteration limit reached."
      ]
     },
     "metadata": {},
     "output_type": "display_data"
    },
    {
     "data": {
      "text/html": [
       "<pre>This model may not be optimal. To improve it, consider increasing `max_iterations`.</pre>"
      ],
      "text/plain": [
       "This model may not be optimal. To improve it, consider increasing `max_iterations`."
      ]
     },
     "metadata": {},
     "output_type": "display_data"
    }
   ],
   "source": [
    "sentiment_model = gl.logistic_classifier.create(train_data,\n",
    "                                                target='sentiment',\n",
    "                                                features=['word_count'],\n",
    "                                                validation_set=test_data)"
   ]
  },
  {
   "cell_type": "code",
   "execution_count": 210,
   "metadata": {},
   "outputs": [],
   "source": [
    "selected_words = ['awesome', 'great', 'fantastic', 'amazing', 'love', 'horrible', 'bad', 'terrible', 'awful']"
   ]
  },
  {
   "cell_type": "code",
   "execution_count": 211,
   "metadata": {},
   "outputs": [],
   "source": [
    "def word_count(word, word_dict): \n",
    "    if word in word_dict : return word_dict[word] \n",
    "    return 0\n",
    "for word in selected_words:\n",
    "    data[word] = data['word_count'].apply(lambda word_dict : word_count(word, word_dict))"
   ]
  },
  {
   "cell_type": "code",
   "execution_count": 212,
   "metadata": {},
   "outputs": [],
   "source": [
    "train_data,test_data = data.random_split(.8, seed=0)"
   ]
  },
  {
   "cell_type": "code",
   "execution_count": 213,
   "metadata": {},
   "outputs": [
    {
     "data": {
      "text/html": [
       "<pre>WARNING: Detected extremely low variance for feature(s) 'awesome', 'fantastic', 'amazing', 'horrible', 'terrible' because all entries are nearly the same.\n",
       "Proceeding with model training using all features. If the model does not provide results of adequate quality, exclude the above mentioned feature(s) from the input dataset.</pre>"
      ],
      "text/plain": [
       "WARNING: Detected extremely low variance for feature(s) 'awesome', 'fantastic', 'amazing', 'horrible', 'terrible' because all entries are nearly the same.\n",
       "Proceeding with model training using all features. If the model does not provide results of adequate quality, exclude the above mentioned feature(s) from the input dataset."
      ]
     },
     "metadata": {},
     "output_type": "display_data"
    },
    {
     "data": {
      "text/html": [
       "<pre>Logistic regression:</pre>"
      ],
      "text/plain": [
       "Logistic regression:"
      ]
     },
     "metadata": {},
     "output_type": "display_data"
    },
    {
     "data": {
      "text/html": [
       "<pre>--------------------------------------------------------</pre>"
      ],
      "text/plain": [
       "--------------------------------------------------------"
      ]
     },
     "metadata": {},
     "output_type": "display_data"
    },
    {
     "data": {
      "text/html": [
       "<pre>Number of examples          : 1121</pre>"
      ],
      "text/plain": [
       "Number of examples          : 1121"
      ]
     },
     "metadata": {},
     "output_type": "display_data"
    },
    {
     "data": {
      "text/html": [
       "<pre>Number of classes           : 2</pre>"
      ],
      "text/plain": [
       "Number of classes           : 2"
      ]
     },
     "metadata": {},
     "output_type": "display_data"
    },
    {
     "data": {
      "text/html": [
       "<pre>Number of feature columns   : 9</pre>"
      ],
      "text/plain": [
       "Number of feature columns   : 9"
      ]
     },
     "metadata": {},
     "output_type": "display_data"
    },
    {
     "data": {
      "text/html": [
       "<pre>Number of unpacked features : 9</pre>"
      ],
      "text/plain": [
       "Number of unpacked features : 9"
      ]
     },
     "metadata": {},
     "output_type": "display_data"
    },
    {
     "data": {
      "text/html": [
       "<pre>Number of coefficients    : 10</pre>"
      ],
      "text/plain": [
       "Number of coefficients    : 10"
      ]
     },
     "metadata": {},
     "output_type": "display_data"
    },
    {
     "data": {
      "text/html": [
       "<pre>Starting Newton Method</pre>"
      ],
      "text/plain": [
       "Starting Newton Method"
      ]
     },
     "metadata": {},
     "output_type": "display_data"
    },
    {
     "data": {
      "text/html": [
       "<pre>--------------------------------------------------------</pre>"
      ],
      "text/plain": [
       "--------------------------------------------------------"
      ]
     },
     "metadata": {},
     "output_type": "display_data"
    },
    {
     "data": {
      "text/html": [
       "<pre>+-----------+----------+--------------+-------------------+---------------------+</pre>"
      ],
      "text/plain": [
       "+-----------+----------+--------------+-------------------+---------------------+"
      ]
     },
     "metadata": {},
     "output_type": "display_data"
    },
    {
     "data": {
      "text/html": [
       "<pre>| Iteration | Passes   | Elapsed Time | Training-accuracy | Validation-accuracy |</pre>"
      ],
      "text/plain": [
       "| Iteration | Passes   | Elapsed Time | Training-accuracy | Validation-accuracy |"
      ]
     },
     "metadata": {},
     "output_type": "display_data"
    },
    {
     "data": {
      "text/html": [
       "<pre>+-----------+----------+--------------+-------------------+---------------------+</pre>"
      ],
      "text/plain": [
       "+-----------+----------+--------------+-------------------+---------------------+"
      ]
     },
     "metadata": {},
     "output_type": "display_data"
    },
    {
     "data": {
      "text/html": [
       "<pre>| 1         | 2        | 0.001215     | 0.897413          | 0.852740            |</pre>"
      ],
      "text/plain": [
       "| 1         | 2        | 0.001215     | 0.897413          | 0.852740            |"
      ]
     },
     "metadata": {},
     "output_type": "display_data"
    },
    {
     "data": {
      "text/html": [
       "<pre>| 2         | 3        | 0.002444     | 0.897413          | 0.852740            |</pre>"
      ],
      "text/plain": [
       "| 2         | 3        | 0.002444     | 0.897413          | 0.852740            |"
      ]
     },
     "metadata": {},
     "output_type": "display_data"
    },
    {
     "data": {
      "text/html": [
       "<pre>| 3         | 4        | 0.003706     | 0.897413          | 0.852740            |</pre>"
      ],
      "text/plain": [
       "| 3         | 4        | 0.003706     | 0.897413          | 0.852740            |"
      ]
     },
     "metadata": {},
     "output_type": "display_data"
    },
    {
     "data": {
      "text/html": [
       "<pre>| 4         | 5        | 0.004965     | 0.897413          | 0.852740            |</pre>"
      ],
      "text/plain": [
       "| 4         | 5        | 0.004965     | 0.897413          | 0.852740            |"
      ]
     },
     "metadata": {},
     "output_type": "display_data"
    },
    {
     "data": {
      "text/html": [
       "<pre>| 5         | 6        | 0.006464     | 0.897413          | 0.852740            |</pre>"
      ],
      "text/plain": [
       "| 5         | 6        | 0.006464     | 0.897413          | 0.852740            |"
      ]
     },
     "metadata": {},
     "output_type": "display_data"
    },
    {
     "data": {
      "text/html": [
       "<pre>| 6         | 7        | 0.007968     | 0.897413          | 0.852740            |</pre>"
      ],
      "text/plain": [
       "| 6         | 7        | 0.007968     | 0.897413          | 0.852740            |"
      ]
     },
     "metadata": {},
     "output_type": "display_data"
    },
    {
     "data": {
      "text/html": [
       "<pre>+-----------+----------+--------------+-------------------+---------------------+</pre>"
      ],
      "text/plain": [
       "+-----------+----------+--------------+-------------------+---------------------+"
      ]
     },
     "metadata": {},
     "output_type": "display_data"
    },
    {
     "data": {
      "text/html": [
       "<pre>SUCCESS: Optimal solution found.</pre>"
      ],
      "text/plain": [
       "SUCCESS: Optimal solution found."
      ]
     },
     "metadata": {},
     "output_type": "display_data"
    },
    {
     "data": {
      "text/html": [
       "<pre></pre>"
      ],
      "text/plain": []
     },
     "metadata": {},
     "output_type": "display_data"
    }
   ],
   "source": [
    "selected_words_model = gl.logistic_classifier.create(train_data,\n",
    "                                                    target='sentiment',\n",
    "                                                    features=selected_words,\n",
    "                                                    validation_set=test_data)"
   ]
  },
  {
   "cell_type": "code",
   "execution_count": 214,
   "metadata": {},
   "outputs": [
    {
     "data": {
      "text/plain": [
       "{'roc_curve': Columns:\n",
       " \tthreshold\tfloat\n",
       " \tfpr\tfloat\n",
       " \ttpr\tfloat\n",
       " \tp\tint\n",
       " \tn\tint\n",
       " \n",
       " Rows: 100001\n",
       " \n",
       " Data:\n",
       " +-----------+-----+-----+-----+----+\n",
       " | threshold | fpr | tpr |  p  | n  |\n",
       " +-----------+-----+-----+-----+----+\n",
       " |    0.0    | 1.0 | 1.0 | 249 | 43 |\n",
       " |   1e-05   | 1.0 | 1.0 | 249 | 43 |\n",
       " |   2e-05   | 1.0 | 1.0 | 249 | 43 |\n",
       " |   3e-05   | 1.0 | 1.0 | 249 | 43 |\n",
       " |   4e-05   | 1.0 | 1.0 | 249 | 43 |\n",
       " |   5e-05   | 1.0 | 1.0 | 249 | 43 |\n",
       " |   6e-05   | 1.0 | 1.0 | 249 | 43 |\n",
       " |   7e-05   | 1.0 | 1.0 | 249 | 43 |\n",
       " |   8e-05   | 1.0 | 1.0 | 249 | 43 |\n",
       " |   9e-05   | 1.0 | 1.0 | 249 | 43 |\n",
       " +-----------+-----+-----+-----+----+\n",
       " [100001 rows x 5 columns]\n",
       " Note: Only the head of the SFrame is printed.\n",
       " You can use print_rows(num_rows=m, num_columns=n) to print more rows and columns.}"
      ]
     },
     "execution_count": 214,
     "metadata": {},
     "output_type": "execute_result"
    }
   ],
   "source": [
    "selected_words_model.evaluate(test_data, metric='roc_curve')"
   ]
  },
  {
   "cell_type": "code",
   "execution_count": 215,
   "metadata": {
    "scrolled": false
   },
   "outputs": [
    {
     "data": {
      "application/javascript": [
       "$(\"head\").append($(\"<link/>\").attr({\n",
       "  rel:  \"stylesheet\",\n",
       "  type: \"text/css\",\n",
       "  href: \"//cdnjs.cloudflare.com/ajax/libs/font-awesome/4.1.0/css/font-awesome.min.css\"\n",
       "}));\n",
       "$(\"head\").append($(\"<link/>\").attr({\n",
       "  rel:  \"stylesheet\",\n",
       "  type: \"text/css\",\n",
       "  href: \"https://static.turi.com/products/graphlab-create/2.1/canvas/css/canvas.css\"\n",
       "}));\n",
       "\n",
       "            (function(){\n",
       "\n",
       "                var e = null;\n",
       "                if (typeof element == 'undefined') {\n",
       "                    var scripts = document.getElementsByTagName('script');\n",
       "                    var thisScriptTag = scripts[scripts.length-1];\n",
       "                    var parentDiv = thisScriptTag.parentNode;\n",
       "                    e = document.createElement('div');\n",
       "                    parentDiv.appendChild(e);\n",
       "                } else {\n",
       "                    e = element[0];\n",
       "                }\n",
       "\n",
       "                if (typeof requirejs !== 'undefined') {\n",
       "                    // disable load timeout; ipython_app.js is large and can take a while to load.\n",
       "                    requirejs.config({waitSeconds: 0});\n",
       "                }\n",
       "\n",
       "                require(['https://static.turi.com/products/graphlab-create/2.1/canvas/js/ipython_app.js'], function(IPythonApp){\n",
       "                    var app = new IPythonApp();\n",
       "                    app.attachView('model','Evaluation', {\"comparison\": null, \"selected_variable\": {\"comparison\": null, \"name\": [\"selected_words_model\"], \"view_file\": \"model\", \"view_component\": \"Evaluation\", \"view_params\": {\"model_type\": \"regression\", \"view\": \"Evaluation\"}, \"view_components\": [\"Summary\", \"Evaluation\", \"Comparison\"], \"model_type\": \"regression\", \"attributes\": {\"section_titles\": [\"Schema\", \"Hyperparameters\", \"Training Summary\", \"Settings\", \"Highest Positive Coefficients\", \"Lowest Negative Coefficients\"], \"sections\": [[[\"Number of coefficients\", 10], [\"Number of examples\", 1121], [\"Number of classes\", 2], [\"Number of feature columns\", 9], [\"Number of unpacked features\", 9]], [[\"L1 penalty\", 0.0], [\"L2 penalty\", 0.01]], [[\"Solver\", \"newton\"], [\"Solver iterations\", 8], [\"Solver status\", \"SUCCESS: Optimal solution found.\"], [\"Training time (sec)\", 0.0111]], [[\"Log-likelihood\", 369.423]], [[\"love\", 6.4951], [\"bad\", 6.4951], [\"awful\", 6.4951], [\"(intercept)\", 2.1655]], [[\"great\", -1.0668]]]}, \"evaluations\": [[\"test_data\", {\"roc_curve\": [{\"threshold\": 0.0, \"p\": 249, \"fpr\": 1.0, \"tpr\": 1.0, \"n\": 43}, {\"threshold\": 0.001, \"p\": 249, \"fpr\": 1.0, \"tpr\": 1.0, \"n\": 43}, {\"threshold\": 0.002, \"p\": 249, \"fpr\": 1.0, \"tpr\": 1.0, \"n\": 43}, {\"threshold\": 0.003, \"p\": 249, \"fpr\": 1.0, \"tpr\": 1.0, \"n\": 43}, {\"threshold\": 0.004, \"p\": 249, \"fpr\": 1.0, \"tpr\": 1.0, \"n\": 43}, {\"threshold\": 0.005, \"p\": 249, \"fpr\": 1.0, \"tpr\": 1.0, \"n\": 43}, {\"threshold\": 0.006, \"p\": 249, \"fpr\": 1.0, \"tpr\": 1.0, \"n\": 43}, {\"threshold\": 0.007, \"p\": 249, \"fpr\": 1.0, \"tpr\": 1.0, \"n\": 43}, {\"threshold\": 0.008, \"p\": 249, \"fpr\": 1.0, \"tpr\": 1.0, \"n\": 43}, {\"threshold\": 0.009, \"p\": 249, \"fpr\": 1.0, \"tpr\": 1.0, \"n\": 43}, {\"threshold\": 0.01, \"p\": 249, \"fpr\": 1.0, \"tpr\": 1.0, \"n\": 43}, {\"threshold\": 0.011, \"p\": 249, \"fpr\": 1.0, \"tpr\": 1.0, \"n\": 43}, {\"threshold\": 0.012, \"p\": 249, \"fpr\": 1.0, \"tpr\": 1.0, \"n\": 43}, {\"threshold\": 0.013, \"p\": 249, \"fpr\": 1.0, \"tpr\": 1.0, \"n\": 43}, {\"threshold\": 0.014, \"p\": 249, \"fpr\": 1.0, \"tpr\": 1.0, \"n\": 43}, {\"threshold\": 0.015, \"p\": 249, \"fpr\": 1.0, \"tpr\": 1.0, \"n\": 43}, {\"threshold\": 0.016, \"p\": 249, \"fpr\": 1.0, \"tpr\": 1.0, \"n\": 43}, {\"threshold\": 0.017, \"p\": 249, \"fpr\": 1.0, \"tpr\": 1.0, \"n\": 43}, {\"threshold\": 0.018, \"p\": 249, \"fpr\": 1.0, \"tpr\": 1.0, \"n\": 43}, {\"threshold\": 0.019, \"p\": 249, \"fpr\": 1.0, \"tpr\": 1.0, \"n\": 43}, {\"threshold\": 0.02, \"p\": 249, \"fpr\": 1.0, \"tpr\": 1.0, \"n\": 43}, {\"threshold\": 0.021, \"p\": 249, \"fpr\": 1.0, \"tpr\": 1.0, \"n\": 43}, {\"threshold\": 0.022, \"p\": 249, \"fpr\": 1.0, \"tpr\": 1.0, \"n\": 43}, {\"threshold\": 0.023, \"p\": 249, \"fpr\": 1.0, \"tpr\": 1.0, \"n\": 43}, {\"threshold\": 0.024, \"p\": 249, \"fpr\": 1.0, \"tpr\": 1.0, \"n\": 43}, {\"threshold\": 0.025, \"p\": 249, \"fpr\": 1.0, \"tpr\": 1.0, \"n\": 43}, {\"threshold\": 0.026, \"p\": 249, \"fpr\": 1.0, \"tpr\": 1.0, \"n\": 43}, {\"threshold\": 0.027, \"p\": 249, \"fpr\": 1.0, \"tpr\": 1.0, \"n\": 43}, {\"threshold\": 0.028, \"p\": 249, \"fpr\": 1.0, \"tpr\": 1.0, \"n\": 43}, {\"threshold\": 0.029, \"p\": 249, \"fpr\": 1.0, \"tpr\": 1.0, \"n\": 43}, {\"threshold\": 0.03, \"p\": 249, \"fpr\": 1.0, \"tpr\": 1.0, \"n\": 43}, {\"threshold\": 0.031, \"p\": 249, \"fpr\": 1.0, \"tpr\": 1.0, \"n\": 43}, {\"threshold\": 0.032, \"p\": 249, \"fpr\": 1.0, \"tpr\": 1.0, \"n\": 43}, {\"threshold\": 0.033, \"p\": 249, \"fpr\": 1.0, \"tpr\": 1.0, \"n\": 43}, {\"threshold\": 0.034, \"p\": 249, \"fpr\": 1.0, \"tpr\": 1.0, \"n\": 43}, {\"threshold\": 0.035, \"p\": 249, \"fpr\": 1.0, \"tpr\": 1.0, \"n\": 43}, {\"threshold\": 0.036, \"p\": 249, \"fpr\": 1.0, \"tpr\": 1.0, \"n\": 43}, {\"threshold\": 0.037, \"p\": 249, \"fpr\": 1.0, \"tpr\": 1.0, \"n\": 43}, {\"threshold\": 0.038, \"p\": 249, \"fpr\": 1.0, \"tpr\": 1.0, \"n\": 43}, {\"threshold\": 0.039, \"p\": 249, \"fpr\": 1.0, \"tpr\": 1.0, \"n\": 43}, {\"threshold\": 0.04, \"p\": 249, \"fpr\": 1.0, \"tpr\": 1.0, \"n\": 43}, {\"threshold\": 0.041, \"p\": 249, \"fpr\": 1.0, \"tpr\": 1.0, \"n\": 43}, {\"threshold\": 0.042, \"p\": 249, \"fpr\": 1.0, \"tpr\": 1.0, \"n\": 43}, {\"threshold\": 0.043, \"p\": 249, \"fpr\": 1.0, \"tpr\": 1.0, \"n\": 43}, {\"threshold\": 0.044, \"p\": 249, \"fpr\": 1.0, \"tpr\": 1.0, \"n\": 43}, {\"threshold\": 0.045, \"p\": 249, \"fpr\": 1.0, \"tpr\": 1.0, \"n\": 43}, {\"threshold\": 0.046, \"p\": 249, \"fpr\": 1.0, \"tpr\": 1.0, \"n\": 43}, {\"threshold\": 0.047, \"p\": 249, \"fpr\": 1.0, \"tpr\": 1.0, \"n\": 43}, {\"threshold\": 0.048, \"p\": 249, \"fpr\": 1.0, \"tpr\": 1.0, \"n\": 43}, {\"threshold\": 0.049, \"p\": 249, \"fpr\": 1.0, \"tpr\": 1.0, \"n\": 43}, {\"threshold\": 0.05, \"p\": 249, \"fpr\": 1.0, \"tpr\": 1.0, \"n\": 43}, {\"threshold\": 0.051, \"p\": 249, \"fpr\": 1.0, \"tpr\": 1.0, \"n\": 43}, {\"threshold\": 0.052, \"p\": 249, \"fpr\": 1.0, \"tpr\": 1.0, \"n\": 43}, {\"threshold\": 0.053, \"p\": 249, \"fpr\": 1.0, \"tpr\": 1.0, \"n\": 43}, {\"threshold\": 0.054, \"p\": 249, \"fpr\": 1.0, \"tpr\": 1.0, \"n\": 43}, {\"threshold\": 0.055, \"p\": 249, \"fpr\": 1.0, \"tpr\": 1.0, \"n\": 43}, {\"threshold\": 0.056, \"p\": 249, \"fpr\": 1.0, \"tpr\": 1.0, \"n\": 43}, {\"threshold\": 0.057, \"p\": 249, \"fpr\": 1.0, \"tpr\": 1.0, \"n\": 43}, {\"threshold\": 0.058, \"p\": 249, \"fpr\": 1.0, \"tpr\": 1.0, \"n\": 43}, {\"threshold\": 0.059, \"p\": 249, \"fpr\": 1.0, \"tpr\": 1.0, \"n\": 43}, {\"threshold\": 0.06, \"p\": 249, \"fpr\": 1.0, \"tpr\": 1.0, \"n\": 43}, {\"threshold\": 0.061, \"p\": 249, \"fpr\": 1.0, \"tpr\": 1.0, \"n\": 43}, {\"threshold\": 0.062, \"p\": 249, \"fpr\": 1.0, \"tpr\": 1.0, \"n\": 43}, {\"threshold\": 0.063, \"p\": 249, \"fpr\": 1.0, \"tpr\": 1.0, \"n\": 43}, {\"threshold\": 0.064, \"p\": 249, \"fpr\": 1.0, \"tpr\": 1.0, \"n\": 43}, {\"threshold\": 0.065, \"p\": 249, \"fpr\": 1.0, \"tpr\": 1.0, \"n\": 43}, {\"threshold\": 0.066, \"p\": 249, \"fpr\": 1.0, \"tpr\": 1.0, \"n\": 43}, {\"threshold\": 0.067, \"p\": 249, \"fpr\": 1.0, \"tpr\": 1.0, \"n\": 43}, {\"threshold\": 0.068, \"p\": 249, \"fpr\": 1.0, \"tpr\": 1.0, \"n\": 43}, {\"threshold\": 0.069, \"p\": 249, \"fpr\": 1.0, \"tpr\": 1.0, \"n\": 43}, {\"threshold\": 0.07, \"p\": 249, \"fpr\": 1.0, \"tpr\": 1.0, \"n\": 43}, {\"threshold\": 0.071, \"p\": 249, \"fpr\": 1.0, \"tpr\": 1.0, \"n\": 43}, {\"threshold\": 0.072, \"p\": 249, \"fpr\": 1.0, \"tpr\": 1.0, \"n\": 43}, {\"threshold\": 0.073, \"p\": 249, \"fpr\": 1.0, \"tpr\": 1.0, \"n\": 43}, {\"threshold\": 0.074, \"p\": 249, \"fpr\": 1.0, \"tpr\": 1.0, \"n\": 43}, {\"threshold\": 0.075, \"p\": 249, \"fpr\": 1.0, \"tpr\": 1.0, \"n\": 43}, {\"threshold\": 0.076, \"p\": 249, \"fpr\": 1.0, \"tpr\": 1.0, \"n\": 43}, {\"threshold\": 0.077, \"p\": 249, \"fpr\": 1.0, \"tpr\": 1.0, \"n\": 43}, {\"threshold\": 0.078, \"p\": 249, \"fpr\": 1.0, \"tpr\": 1.0, \"n\": 43}, {\"threshold\": 0.079, \"p\": 249, \"fpr\": 1.0, \"tpr\": 1.0, \"n\": 43}, {\"threshold\": 0.08, \"p\": 249, \"fpr\": 1.0, \"tpr\": 1.0, \"n\": 43}, {\"threshold\": 0.081, \"p\": 249, \"fpr\": 1.0, \"tpr\": 1.0, \"n\": 43}, {\"threshold\": 0.082, \"p\": 249, \"fpr\": 1.0, \"tpr\": 1.0, \"n\": 43}, {\"threshold\": 0.083, \"p\": 249, \"fpr\": 1.0, \"tpr\": 1.0, \"n\": 43}, {\"threshold\": 0.084, \"p\": 249, \"fpr\": 1.0, \"tpr\": 1.0, \"n\": 43}, {\"threshold\": 0.085, \"p\": 249, \"fpr\": 1.0, \"tpr\": 1.0, \"n\": 43}, {\"threshold\": 0.086, \"p\": 249, \"fpr\": 1.0, \"tpr\": 1.0, \"n\": 43}, {\"threshold\": 0.087, \"p\": 249, \"fpr\": 1.0, \"tpr\": 1.0, \"n\": 43}, {\"threshold\": 0.088, \"p\": 249, \"fpr\": 1.0, \"tpr\": 1.0, \"n\": 43}, {\"threshold\": 0.089, \"p\": 249, \"fpr\": 1.0, \"tpr\": 1.0, \"n\": 43}, {\"threshold\": 0.09, \"p\": 249, \"fpr\": 1.0, \"tpr\": 1.0, \"n\": 43}, {\"threshold\": 0.091, \"p\": 249, \"fpr\": 1.0, \"tpr\": 1.0, \"n\": 43}, {\"threshold\": 0.092, \"p\": 249, \"fpr\": 1.0, \"tpr\": 1.0, \"n\": 43}, {\"threshold\": 0.093, \"p\": 249, \"fpr\": 1.0, \"tpr\": 1.0, \"n\": 43}, {\"threshold\": 0.094, \"p\": 249, \"fpr\": 1.0, \"tpr\": 1.0, \"n\": 43}, {\"threshold\": 0.095, \"p\": 249, \"fpr\": 1.0, \"tpr\": 1.0, \"n\": 43}, {\"threshold\": 0.096, \"p\": 249, \"fpr\": 1.0, \"tpr\": 1.0, \"n\": 43}, {\"threshold\": 0.097, \"p\": 249, \"fpr\": 1.0, \"tpr\": 1.0, \"n\": 43}, {\"threshold\": 0.098, \"p\": 249, \"fpr\": 1.0, \"tpr\": 1.0, \"n\": 43}, {\"threshold\": 0.099, \"p\": 249, \"fpr\": 1.0, \"tpr\": 1.0, \"n\": 43}, {\"threshold\": 0.1, \"p\": 249, \"fpr\": 1.0, \"tpr\": 1.0, \"n\": 43}, {\"threshold\": 0.101, \"p\": 249, \"fpr\": 1.0, \"tpr\": 1.0, \"n\": 43}, {\"threshold\": 0.102, \"p\": 249, \"fpr\": 1.0, \"tpr\": 1.0, \"n\": 43}, {\"threshold\": 0.103, \"p\": 249, \"fpr\": 1.0, \"tpr\": 1.0, \"n\": 43}, {\"threshold\": 0.104, \"p\": 249, \"fpr\": 1.0, \"tpr\": 1.0, \"n\": 43}, {\"threshold\": 0.105, \"p\": 249, \"fpr\": 1.0, \"tpr\": 1.0, \"n\": 43}, {\"threshold\": 0.106, \"p\": 249, \"fpr\": 1.0, \"tpr\": 1.0, \"n\": 43}, {\"threshold\": 0.107, \"p\": 249, \"fpr\": 1.0, \"tpr\": 1.0, \"n\": 43}, {\"threshold\": 0.108, \"p\": 249, \"fpr\": 1.0, \"tpr\": 1.0, \"n\": 43}, {\"threshold\": 0.109, \"p\": 249, \"fpr\": 1.0, \"tpr\": 1.0, \"n\": 43}, {\"threshold\": 0.11, \"p\": 249, \"fpr\": 1.0, \"tpr\": 1.0, \"n\": 43}, {\"threshold\": 0.111, \"p\": 249, \"fpr\": 1.0, \"tpr\": 1.0, \"n\": 43}, {\"threshold\": 0.112, \"p\": 249, \"fpr\": 1.0, \"tpr\": 1.0, \"n\": 43}, {\"threshold\": 0.113, \"p\": 249, \"fpr\": 1.0, \"tpr\": 1.0, \"n\": 43}, {\"threshold\": 0.114, \"p\": 249, \"fpr\": 1.0, \"tpr\": 1.0, \"n\": 43}, {\"threshold\": 0.115, \"p\": 249, \"fpr\": 1.0, \"tpr\": 1.0, \"n\": 43}, {\"threshold\": 0.116, \"p\": 249, \"fpr\": 1.0, \"tpr\": 1.0, \"n\": 43}, {\"threshold\": 0.117, \"p\": 249, \"fpr\": 1.0, \"tpr\": 1.0, \"n\": 43}, {\"threshold\": 0.118, \"p\": 249, \"fpr\": 1.0, \"tpr\": 1.0, \"n\": 43}, {\"threshold\": 0.119, \"p\": 249, \"fpr\": 1.0, \"tpr\": 1.0, \"n\": 43}, {\"threshold\": 0.12, \"p\": 249, \"fpr\": 1.0, \"tpr\": 1.0, \"n\": 43}, {\"threshold\": 0.121, \"p\": 249, \"fpr\": 1.0, \"tpr\": 1.0, \"n\": 43}, {\"threshold\": 0.122, \"p\": 249, \"fpr\": 1.0, \"tpr\": 1.0, \"n\": 43}, {\"threshold\": 0.123, \"p\": 249, \"fpr\": 1.0, \"tpr\": 1.0, \"n\": 43}, {\"threshold\": 0.124, \"p\": 249, \"fpr\": 1.0, \"tpr\": 1.0, \"n\": 43}, {\"threshold\": 0.125, \"p\": 249, \"fpr\": 1.0, \"tpr\": 1.0, \"n\": 43}, {\"threshold\": 0.126, \"p\": 249, \"fpr\": 1.0, \"tpr\": 1.0, \"n\": 43}, {\"threshold\": 0.127, \"p\": 249, \"fpr\": 1.0, \"tpr\": 1.0, \"n\": 43}, {\"threshold\": 0.128, \"p\": 249, \"fpr\": 1.0, \"tpr\": 1.0, \"n\": 43}, {\"threshold\": 0.129, \"p\": 249, \"fpr\": 1.0, \"tpr\": 1.0, \"n\": 43}, {\"threshold\": 0.13, \"p\": 249, \"fpr\": 1.0, \"tpr\": 1.0, \"n\": 43}, {\"threshold\": 0.131, \"p\": 249, \"fpr\": 1.0, \"tpr\": 1.0, \"n\": 43}, {\"threshold\": 0.132, \"p\": 249, \"fpr\": 1.0, \"tpr\": 1.0, \"n\": 43}, {\"threshold\": 0.133, \"p\": 249, \"fpr\": 1.0, \"tpr\": 1.0, \"n\": 43}, {\"threshold\": 0.134, \"p\": 249, \"fpr\": 1.0, \"tpr\": 1.0, \"n\": 43}, {\"threshold\": 0.135, \"p\": 249, \"fpr\": 1.0, \"tpr\": 1.0, \"n\": 43}, {\"threshold\": 0.136, \"p\": 249, \"fpr\": 1.0, \"tpr\": 1.0, \"n\": 43}, {\"threshold\": 0.137, \"p\": 249, \"fpr\": 1.0, \"tpr\": 1.0, \"n\": 43}, {\"threshold\": 0.138, \"p\": 249, \"fpr\": 1.0, \"tpr\": 1.0, \"n\": 43}, {\"threshold\": 0.139, \"p\": 249, \"fpr\": 1.0, \"tpr\": 1.0, \"n\": 43}, {\"threshold\": 0.14, \"p\": 249, \"fpr\": 1.0, \"tpr\": 1.0, \"n\": 43}, {\"threshold\": 0.141, \"p\": 249, \"fpr\": 1.0, \"tpr\": 1.0, \"n\": 43}, {\"threshold\": 0.142, \"p\": 249, \"fpr\": 1.0, \"tpr\": 1.0, \"n\": 43}, {\"threshold\": 0.143, \"p\": 249, \"fpr\": 1.0, \"tpr\": 1.0, \"n\": 43}, {\"threshold\": 0.144, \"p\": 249, \"fpr\": 1.0, \"tpr\": 1.0, \"n\": 43}, {\"threshold\": 0.145, \"p\": 249, \"fpr\": 1.0, \"tpr\": 1.0, \"n\": 43}, {\"threshold\": 0.146, \"p\": 249, \"fpr\": 1.0, \"tpr\": 1.0, \"n\": 43}, {\"threshold\": 0.147, \"p\": 249, \"fpr\": 1.0, \"tpr\": 1.0, \"n\": 43}, {\"threshold\": 0.148, \"p\": 249, \"fpr\": 1.0, \"tpr\": 1.0, \"n\": 43}, {\"threshold\": 0.149, \"p\": 249, \"fpr\": 1.0, \"tpr\": 1.0, \"n\": 43}, {\"threshold\": 0.15, \"p\": 249, \"fpr\": 1.0, \"tpr\": 1.0, \"n\": 43}, {\"threshold\": 0.151, \"p\": 249, \"fpr\": 1.0, \"tpr\": 1.0, \"n\": 43}, {\"threshold\": 0.152, \"p\": 249, \"fpr\": 1.0, \"tpr\": 1.0, \"n\": 43}, {\"threshold\": 0.153, \"p\": 249, \"fpr\": 1.0, \"tpr\": 1.0, \"n\": 43}, {\"threshold\": 0.154, \"p\": 249, \"fpr\": 1.0, \"tpr\": 1.0, \"n\": 43}, {\"threshold\": 0.155, \"p\": 249, \"fpr\": 1.0, \"tpr\": 1.0, \"n\": 43}, {\"threshold\": 0.156, \"p\": 249, \"fpr\": 1.0, \"tpr\": 1.0, \"n\": 43}, {\"threshold\": 0.157, \"p\": 249, \"fpr\": 1.0, \"tpr\": 1.0, \"n\": 43}, {\"threshold\": 0.158, \"p\": 249, \"fpr\": 1.0, \"tpr\": 1.0, \"n\": 43}, {\"threshold\": 0.159, \"p\": 249, \"fpr\": 1.0, \"tpr\": 1.0, \"n\": 43}, {\"threshold\": 0.16, \"p\": 249, \"fpr\": 1.0, \"tpr\": 1.0, \"n\": 43}, {\"threshold\": 0.161, \"p\": 249, \"fpr\": 1.0, \"tpr\": 1.0, \"n\": 43}, {\"threshold\": 0.162, \"p\": 249, \"fpr\": 1.0, \"tpr\": 1.0, \"n\": 43}, {\"threshold\": 0.163, \"p\": 249, \"fpr\": 1.0, \"tpr\": 1.0, \"n\": 43}, {\"threshold\": 0.164, \"p\": 249, \"fpr\": 1.0, \"tpr\": 1.0, \"n\": 43}, {\"threshold\": 0.165, \"p\": 249, \"fpr\": 1.0, \"tpr\": 1.0, \"n\": 43}, {\"threshold\": 0.166, \"p\": 249, \"fpr\": 1.0, \"tpr\": 1.0, \"n\": 43}, {\"threshold\": 0.167, \"p\": 249, \"fpr\": 1.0, \"tpr\": 1.0, \"n\": 43}, {\"threshold\": 0.168, \"p\": 249, \"fpr\": 1.0, \"tpr\": 1.0, \"n\": 43}, {\"threshold\": 0.169, \"p\": 249, \"fpr\": 1.0, \"tpr\": 1.0, \"n\": 43}, {\"threshold\": 0.17, \"p\": 249, \"fpr\": 1.0, \"tpr\": 1.0, \"n\": 43}, {\"threshold\": 0.171, \"p\": 249, \"fpr\": 1.0, \"tpr\": 1.0, \"n\": 43}, {\"threshold\": 0.172, \"p\": 249, \"fpr\": 1.0, \"tpr\": 1.0, \"n\": 43}, {\"threshold\": 0.173, \"p\": 249, \"fpr\": 1.0, \"tpr\": 1.0, \"n\": 43}, {\"threshold\": 0.174, \"p\": 249, \"fpr\": 1.0, \"tpr\": 1.0, \"n\": 43}, {\"threshold\": 0.175, \"p\": 249, \"fpr\": 1.0, \"tpr\": 1.0, \"n\": 43}, {\"threshold\": 0.176, \"p\": 249, \"fpr\": 1.0, \"tpr\": 1.0, \"n\": 43}, {\"threshold\": 0.177, \"p\": 249, \"fpr\": 1.0, \"tpr\": 1.0, \"n\": 43}, {\"threshold\": 0.178, \"p\": 249, \"fpr\": 1.0, \"tpr\": 1.0, \"n\": 43}, {\"threshold\": 0.179, \"p\": 249, \"fpr\": 1.0, \"tpr\": 1.0, \"n\": 43}, {\"threshold\": 0.18, \"p\": 249, \"fpr\": 1.0, \"tpr\": 1.0, \"n\": 43}, {\"threshold\": 0.181, \"p\": 249, \"fpr\": 1.0, \"tpr\": 1.0, \"n\": 43}, {\"threshold\": 0.182, \"p\": 249, \"fpr\": 1.0, \"tpr\": 1.0, \"n\": 43}, {\"threshold\": 0.183, \"p\": 249, \"fpr\": 1.0, \"tpr\": 1.0, \"n\": 43}, {\"threshold\": 0.184, \"p\": 249, \"fpr\": 1.0, \"tpr\": 1.0, \"n\": 43}, {\"threshold\": 0.185, \"p\": 249, \"fpr\": 1.0, \"tpr\": 1.0, \"n\": 43}, {\"threshold\": 0.186, \"p\": 249, \"fpr\": 1.0, \"tpr\": 1.0, \"n\": 43}, {\"threshold\": 0.187, \"p\": 249, \"fpr\": 1.0, \"tpr\": 1.0, \"n\": 43}, {\"threshold\": 0.188, \"p\": 249, \"fpr\": 1.0, \"tpr\": 1.0, \"n\": 43}, {\"threshold\": 0.189, \"p\": 249, \"fpr\": 1.0, \"tpr\": 1.0, \"n\": 43}, {\"threshold\": 0.19, \"p\": 249, \"fpr\": 1.0, \"tpr\": 1.0, \"n\": 43}, {\"threshold\": 0.191, \"p\": 249, \"fpr\": 1.0, \"tpr\": 1.0, \"n\": 43}, {\"threshold\": 0.192, \"p\": 249, \"fpr\": 1.0, \"tpr\": 1.0, \"n\": 43}, {\"threshold\": 0.193, \"p\": 249, \"fpr\": 1.0, \"tpr\": 1.0, \"n\": 43}, {\"threshold\": 0.194, \"p\": 249, \"fpr\": 1.0, \"tpr\": 1.0, \"n\": 43}, {\"threshold\": 0.195, \"p\": 249, \"fpr\": 1.0, \"tpr\": 1.0, \"n\": 43}, {\"threshold\": 0.196, \"p\": 249, \"fpr\": 1.0, \"tpr\": 1.0, \"n\": 43}, {\"threshold\": 0.197, \"p\": 249, \"fpr\": 1.0, \"tpr\": 1.0, \"n\": 43}, {\"threshold\": 0.198, \"p\": 249, \"fpr\": 1.0, \"tpr\": 1.0, \"n\": 43}, {\"threshold\": 0.199, \"p\": 249, \"fpr\": 1.0, \"tpr\": 1.0, \"n\": 43}, {\"threshold\": 0.2, \"p\": 249, \"fpr\": 1.0, \"tpr\": 1.0, \"n\": 43}, {\"threshold\": 0.201, \"p\": 249, \"fpr\": 1.0, \"tpr\": 1.0, \"n\": 43}, {\"threshold\": 0.202, \"p\": 249, \"fpr\": 1.0, \"tpr\": 1.0, \"n\": 43}, {\"threshold\": 0.203, \"p\": 249, \"fpr\": 1.0, \"tpr\": 1.0, \"n\": 43}, {\"threshold\": 0.204, \"p\": 249, \"fpr\": 1.0, \"tpr\": 1.0, \"n\": 43}, {\"threshold\": 0.205, \"p\": 249, \"fpr\": 1.0, \"tpr\": 1.0, \"n\": 43}, {\"threshold\": 0.206, \"p\": 249, \"fpr\": 1.0, \"tpr\": 1.0, \"n\": 43}, {\"threshold\": 0.207, \"p\": 249, \"fpr\": 1.0, \"tpr\": 1.0, \"n\": 43}, {\"threshold\": 0.208, \"p\": 249, \"fpr\": 1.0, \"tpr\": 1.0, \"n\": 43}, {\"threshold\": 0.209, \"p\": 249, \"fpr\": 1.0, \"tpr\": 1.0, \"n\": 43}, {\"threshold\": 0.21, \"p\": 249, \"fpr\": 1.0, \"tpr\": 1.0, \"n\": 43}, {\"threshold\": 0.211, \"p\": 249, \"fpr\": 1.0, \"tpr\": 1.0, \"n\": 43}, {\"threshold\": 0.212, \"p\": 249, \"fpr\": 1.0, \"tpr\": 1.0, \"n\": 43}, {\"threshold\": 0.213, \"p\": 249, \"fpr\": 1.0, \"tpr\": 1.0, \"n\": 43}, {\"threshold\": 0.214, \"p\": 249, \"fpr\": 1.0, \"tpr\": 1.0, \"n\": 43}, {\"threshold\": 0.215, \"p\": 249, \"fpr\": 1.0, \"tpr\": 1.0, \"n\": 43}, {\"threshold\": 0.216, \"p\": 249, \"fpr\": 1.0, \"tpr\": 1.0, \"n\": 43}, {\"threshold\": 0.217, \"p\": 249, \"fpr\": 1.0, \"tpr\": 1.0, \"n\": 43}, {\"threshold\": 0.218, \"p\": 249, \"fpr\": 1.0, \"tpr\": 1.0, \"n\": 43}, {\"threshold\": 0.219, \"p\": 249, \"fpr\": 1.0, \"tpr\": 1.0, \"n\": 43}, {\"threshold\": 0.22, \"p\": 249, \"fpr\": 1.0, \"tpr\": 1.0, \"n\": 43}, {\"threshold\": 0.221, \"p\": 249, \"fpr\": 1.0, \"tpr\": 1.0, \"n\": 43}, {\"threshold\": 0.222, \"p\": 249, \"fpr\": 1.0, \"tpr\": 1.0, \"n\": 43}, {\"threshold\": 0.223, \"p\": 249, \"fpr\": 1.0, \"tpr\": 1.0, \"n\": 43}, {\"threshold\": 0.224, \"p\": 249, \"fpr\": 1.0, \"tpr\": 1.0, \"n\": 43}, {\"threshold\": 0.225, \"p\": 249, \"fpr\": 1.0, \"tpr\": 1.0, \"n\": 43}, {\"threshold\": 0.226, \"p\": 249, \"fpr\": 1.0, \"tpr\": 1.0, \"n\": 43}, {\"threshold\": 0.227, \"p\": 249, \"fpr\": 1.0, \"tpr\": 1.0, \"n\": 43}, {\"threshold\": 0.228, \"p\": 249, \"fpr\": 1.0, \"tpr\": 1.0, \"n\": 43}, {\"threshold\": 0.229, \"p\": 249, \"fpr\": 1.0, \"tpr\": 1.0, \"n\": 43}, {\"threshold\": 0.23, \"p\": 249, \"fpr\": 1.0, \"tpr\": 1.0, \"n\": 43}, {\"threshold\": 0.231, \"p\": 249, \"fpr\": 1.0, \"tpr\": 1.0, \"n\": 43}, {\"threshold\": 0.232, \"p\": 249, \"fpr\": 1.0, \"tpr\": 1.0, \"n\": 43}, {\"threshold\": 0.233, \"p\": 249, \"fpr\": 1.0, \"tpr\": 1.0, \"n\": 43}, {\"threshold\": 0.234, \"p\": 249, \"fpr\": 1.0, \"tpr\": 1.0, \"n\": 43}, {\"threshold\": 0.235, \"p\": 249, \"fpr\": 1.0, \"tpr\": 1.0, \"n\": 43}, {\"threshold\": 0.236, \"p\": 249, \"fpr\": 1.0, \"tpr\": 1.0, \"n\": 43}, {\"threshold\": 0.237, \"p\": 249, \"fpr\": 1.0, \"tpr\": 1.0, \"n\": 43}, {\"threshold\": 0.238, \"p\": 249, \"fpr\": 1.0, \"tpr\": 1.0, \"n\": 43}, {\"threshold\": 0.239, \"p\": 249, \"fpr\": 1.0, \"tpr\": 1.0, \"n\": 43}, {\"threshold\": 0.24, \"p\": 249, \"fpr\": 1.0, \"tpr\": 1.0, \"n\": 43}, {\"threshold\": 0.241, \"p\": 249, \"fpr\": 1.0, \"tpr\": 1.0, \"n\": 43}, {\"threshold\": 0.242, \"p\": 249, \"fpr\": 1.0, \"tpr\": 1.0, \"n\": 43}, {\"threshold\": 0.243, \"p\": 249, \"fpr\": 1.0, \"tpr\": 1.0, \"n\": 43}, {\"threshold\": 0.244, \"p\": 249, \"fpr\": 1.0, \"tpr\": 1.0, \"n\": 43}, {\"threshold\": 0.245, \"p\": 249, \"fpr\": 1.0, \"tpr\": 1.0, \"n\": 43}, {\"threshold\": 0.246, \"p\": 249, \"fpr\": 1.0, \"tpr\": 1.0, \"n\": 43}, {\"threshold\": 0.247, \"p\": 249, \"fpr\": 1.0, \"tpr\": 1.0, \"n\": 43}, {\"threshold\": 0.248, \"p\": 249, \"fpr\": 1.0, \"tpr\": 1.0, \"n\": 43}, {\"threshold\": 0.249, \"p\": 249, \"fpr\": 1.0, \"tpr\": 1.0, \"n\": 43}, {\"threshold\": 0.25, \"p\": 249, \"fpr\": 1.0, \"tpr\": 1.0, \"n\": 43}, {\"threshold\": 0.251, \"p\": 249, \"fpr\": 1.0, \"tpr\": 1.0, \"n\": 43}, {\"threshold\": 0.252, \"p\": 249, \"fpr\": 1.0, \"tpr\": 1.0, \"n\": 43}, {\"threshold\": 0.253, \"p\": 249, \"fpr\": 1.0, \"tpr\": 1.0, \"n\": 43}, {\"threshold\": 0.254, \"p\": 249, \"fpr\": 1.0, \"tpr\": 1.0, \"n\": 43}, {\"threshold\": 0.255, \"p\": 249, \"fpr\": 1.0, \"tpr\": 1.0, \"n\": 43}, {\"threshold\": 0.256, \"p\": 249, \"fpr\": 1.0, \"tpr\": 1.0, \"n\": 43}, {\"threshold\": 0.257, \"p\": 249, \"fpr\": 1.0, \"tpr\": 1.0, \"n\": 43}, {\"threshold\": 0.258, \"p\": 249, \"fpr\": 1.0, \"tpr\": 1.0, \"n\": 43}, {\"threshold\": 0.259, \"p\": 249, \"fpr\": 1.0, \"tpr\": 1.0, \"n\": 43}, {\"threshold\": 0.26, \"p\": 249, \"fpr\": 1.0, \"tpr\": 1.0, \"n\": 43}, {\"threshold\": 0.261, \"p\": 249, \"fpr\": 1.0, \"tpr\": 1.0, \"n\": 43}, {\"threshold\": 0.262, \"p\": 249, \"fpr\": 1.0, \"tpr\": 1.0, \"n\": 43}, {\"threshold\": 0.263, \"p\": 249, \"fpr\": 1.0, \"tpr\": 1.0, \"n\": 43}, {\"threshold\": 0.264, \"p\": 249, \"fpr\": 1.0, \"tpr\": 1.0, \"n\": 43}, {\"threshold\": 0.265, \"p\": 249, \"fpr\": 1.0, \"tpr\": 1.0, \"n\": 43}, {\"threshold\": 0.266, \"p\": 249, \"fpr\": 1.0, \"tpr\": 1.0, \"n\": 43}, {\"threshold\": 0.267, \"p\": 249, \"fpr\": 1.0, \"tpr\": 1.0, \"n\": 43}, {\"threshold\": 0.268, \"p\": 249, \"fpr\": 1.0, \"tpr\": 1.0, \"n\": 43}, {\"threshold\": 0.269, \"p\": 249, \"fpr\": 1.0, \"tpr\": 1.0, \"n\": 43}, {\"threshold\": 0.27, \"p\": 249, \"fpr\": 1.0, \"tpr\": 1.0, \"n\": 43}, {\"threshold\": 0.271, \"p\": 249, \"fpr\": 1.0, \"tpr\": 1.0, \"n\": 43}, {\"threshold\": 0.272, \"p\": 249, \"fpr\": 1.0, \"tpr\": 1.0, \"n\": 43}, {\"threshold\": 0.273, \"p\": 249, \"fpr\": 1.0, \"tpr\": 1.0, \"n\": 43}, {\"threshold\": 0.274, \"p\": 249, \"fpr\": 1.0, \"tpr\": 1.0, \"n\": 43}, {\"threshold\": 0.275, \"p\": 249, \"fpr\": 1.0, \"tpr\": 1.0, \"n\": 43}, {\"threshold\": 0.276, \"p\": 249, \"fpr\": 1.0, \"tpr\": 1.0, \"n\": 43}, {\"threshold\": 0.277, \"p\": 249, \"fpr\": 1.0, \"tpr\": 1.0, \"n\": 43}, {\"threshold\": 0.278, \"p\": 249, \"fpr\": 1.0, \"tpr\": 1.0, \"n\": 43}, {\"threshold\": 0.279, \"p\": 249, \"fpr\": 1.0, \"tpr\": 1.0, \"n\": 43}, {\"threshold\": 0.28, \"p\": 249, \"fpr\": 1.0, \"tpr\": 1.0, \"n\": 43}, {\"threshold\": 0.281, \"p\": 249, \"fpr\": 1.0, \"tpr\": 1.0, \"n\": 43}, {\"threshold\": 0.282, \"p\": 249, \"fpr\": 1.0, \"tpr\": 1.0, \"n\": 43}, {\"threshold\": 0.283, \"p\": 249, \"fpr\": 1.0, \"tpr\": 1.0, \"n\": 43}, {\"threshold\": 0.284, \"p\": 249, \"fpr\": 1.0, \"tpr\": 1.0, \"n\": 43}, {\"threshold\": 0.285, \"p\": 249, \"fpr\": 1.0, \"tpr\": 1.0, \"n\": 43}, {\"threshold\": 0.286, \"p\": 249, \"fpr\": 1.0, \"tpr\": 1.0, \"n\": 43}, {\"threshold\": 0.287, \"p\": 249, \"fpr\": 1.0, \"tpr\": 1.0, \"n\": 43}, {\"threshold\": 0.288, \"p\": 249, \"fpr\": 1.0, \"tpr\": 1.0, \"n\": 43}, {\"threshold\": 0.289, \"p\": 249, \"fpr\": 1.0, \"tpr\": 1.0, \"n\": 43}, {\"threshold\": 0.29, \"p\": 249, \"fpr\": 1.0, \"tpr\": 1.0, \"n\": 43}, {\"threshold\": 0.291, \"p\": 249, \"fpr\": 1.0, \"tpr\": 1.0, \"n\": 43}, {\"threshold\": 0.292, \"p\": 249, \"fpr\": 1.0, \"tpr\": 1.0, \"n\": 43}, {\"threshold\": 0.293, \"p\": 249, \"fpr\": 1.0, \"tpr\": 1.0, \"n\": 43}, {\"threshold\": 0.294, \"p\": 249, \"fpr\": 1.0, \"tpr\": 1.0, \"n\": 43}, {\"threshold\": 0.295, \"p\": 249, \"fpr\": 1.0, \"tpr\": 1.0, \"n\": 43}, {\"threshold\": 0.296, \"p\": 249, \"fpr\": 1.0, \"tpr\": 1.0, \"n\": 43}, {\"threshold\": 0.297, \"p\": 249, \"fpr\": 1.0, \"tpr\": 1.0, \"n\": 43}, {\"threshold\": 0.298, \"p\": 249, \"fpr\": 1.0, \"tpr\": 1.0, \"n\": 43}, {\"threshold\": 0.299, \"p\": 249, \"fpr\": 1.0, \"tpr\": 1.0, \"n\": 43}, {\"threshold\": 0.3, \"p\": 249, \"fpr\": 1.0, \"tpr\": 1.0, \"n\": 43}, {\"threshold\": 0.301, \"p\": 249, \"fpr\": 1.0, \"tpr\": 1.0, \"n\": 43}, {\"threshold\": 0.302, \"p\": 249, \"fpr\": 1.0, \"tpr\": 1.0, \"n\": 43}, {\"threshold\": 0.303, \"p\": 249, \"fpr\": 1.0, \"tpr\": 1.0, \"n\": 43}, {\"threshold\": 0.304, \"p\": 249, \"fpr\": 1.0, \"tpr\": 1.0, \"n\": 43}, {\"threshold\": 0.305, \"p\": 249, \"fpr\": 1.0, \"tpr\": 1.0, \"n\": 43}, {\"threshold\": 0.306, \"p\": 249, \"fpr\": 1.0, \"tpr\": 1.0, \"n\": 43}, {\"threshold\": 0.307, \"p\": 249, \"fpr\": 1.0, \"tpr\": 1.0, \"n\": 43}, {\"threshold\": 0.308, \"p\": 249, \"fpr\": 1.0, \"tpr\": 1.0, \"n\": 43}, {\"threshold\": 0.309, \"p\": 249, \"fpr\": 1.0, \"tpr\": 1.0, \"n\": 43}, {\"threshold\": 0.31, \"p\": 249, \"fpr\": 1.0, \"tpr\": 1.0, \"n\": 43}, {\"threshold\": 0.311, \"p\": 249, \"fpr\": 1.0, \"tpr\": 1.0, \"n\": 43}, {\"threshold\": 0.312, \"p\": 249, \"fpr\": 1.0, \"tpr\": 1.0, \"n\": 43}, {\"threshold\": 0.313, \"p\": 249, \"fpr\": 1.0, \"tpr\": 1.0, \"n\": 43}, {\"threshold\": 0.314, \"p\": 249, \"fpr\": 1.0, \"tpr\": 1.0, \"n\": 43}, {\"threshold\": 0.315, \"p\": 249, \"fpr\": 1.0, \"tpr\": 1.0, \"n\": 43}, {\"threshold\": 0.316, \"p\": 249, \"fpr\": 1.0, \"tpr\": 1.0, \"n\": 43}, {\"threshold\": 0.317, \"p\": 249, \"fpr\": 1.0, \"tpr\": 1.0, \"n\": 43}, {\"threshold\": 0.318, \"p\": 249, \"fpr\": 1.0, \"tpr\": 1.0, \"n\": 43}, {\"threshold\": 0.319, \"p\": 249, \"fpr\": 1.0, \"tpr\": 1.0, \"n\": 43}, {\"threshold\": 0.32, \"p\": 249, \"fpr\": 1.0, \"tpr\": 1.0, \"n\": 43}, {\"threshold\": 0.321, \"p\": 249, \"fpr\": 1.0, \"tpr\": 1.0, \"n\": 43}, {\"threshold\": 0.322, \"p\": 249, \"fpr\": 1.0, \"tpr\": 1.0, \"n\": 43}, {\"threshold\": 0.323, \"p\": 249, \"fpr\": 1.0, \"tpr\": 1.0, \"n\": 43}, {\"threshold\": 0.324, \"p\": 249, \"fpr\": 1.0, \"tpr\": 1.0, \"n\": 43}, {\"threshold\": 0.325, \"p\": 249, \"fpr\": 1.0, \"tpr\": 1.0, \"n\": 43}, {\"threshold\": 0.326, \"p\": 249, \"fpr\": 1.0, \"tpr\": 1.0, \"n\": 43}, {\"threshold\": 0.327, \"p\": 249, \"fpr\": 1.0, \"tpr\": 1.0, \"n\": 43}, {\"threshold\": 0.328, \"p\": 249, \"fpr\": 1.0, \"tpr\": 1.0, \"n\": 43}, {\"threshold\": 0.329, \"p\": 249, \"fpr\": 1.0, \"tpr\": 1.0, \"n\": 43}, {\"threshold\": 0.33, \"p\": 249, \"fpr\": 1.0, \"tpr\": 1.0, \"n\": 43}, {\"threshold\": 0.331, \"p\": 249, \"fpr\": 1.0, \"tpr\": 1.0, \"n\": 43}, {\"threshold\": 0.332, \"p\": 249, \"fpr\": 1.0, \"tpr\": 1.0, \"n\": 43}, {\"threshold\": 0.333, \"p\": 249, \"fpr\": 1.0, \"tpr\": 1.0, \"n\": 43}, {\"threshold\": 0.334, \"p\": 249, \"fpr\": 1.0, \"tpr\": 1.0, \"n\": 43}, {\"threshold\": 0.335, \"p\": 249, \"fpr\": 1.0, \"tpr\": 1.0, \"n\": 43}, {\"threshold\": 0.336, \"p\": 249, \"fpr\": 1.0, \"tpr\": 1.0, \"n\": 43}, {\"threshold\": 0.337, \"p\": 249, \"fpr\": 1.0, \"tpr\": 1.0, \"n\": 43}, {\"threshold\": 0.338, \"p\": 249, \"fpr\": 1.0, \"tpr\": 1.0, \"n\": 43}, {\"threshold\": 0.339, \"p\": 249, \"fpr\": 1.0, \"tpr\": 1.0, \"n\": 43}, {\"threshold\": 0.34, \"p\": 249, \"fpr\": 1.0, \"tpr\": 1.0, \"n\": 43}, {\"threshold\": 0.341, \"p\": 249, \"fpr\": 1.0, \"tpr\": 1.0, \"n\": 43}, {\"threshold\": 0.342, \"p\": 249, \"fpr\": 1.0, \"tpr\": 1.0, \"n\": 43}, {\"threshold\": 0.343, \"p\": 249, \"fpr\": 1.0, \"tpr\": 1.0, \"n\": 43}, {\"threshold\": 0.344, \"p\": 249, \"fpr\": 1.0, \"tpr\": 1.0, \"n\": 43}, {\"threshold\": 0.345, \"p\": 249, \"fpr\": 1.0, \"tpr\": 1.0, \"n\": 43}, {\"threshold\": 0.346, \"p\": 249, \"fpr\": 1.0, \"tpr\": 1.0, \"n\": 43}, {\"threshold\": 0.347, \"p\": 249, \"fpr\": 1.0, \"tpr\": 1.0, \"n\": 43}, {\"threshold\": 0.348, \"p\": 249, \"fpr\": 1.0, \"tpr\": 1.0, \"n\": 43}, {\"threshold\": 0.349, \"p\": 249, \"fpr\": 1.0, \"tpr\": 1.0, \"n\": 43}, {\"threshold\": 0.35, \"p\": 249, \"fpr\": 1.0, \"tpr\": 1.0, \"n\": 43}, {\"threshold\": 0.351, \"p\": 249, \"fpr\": 1.0, \"tpr\": 1.0, \"n\": 43}, {\"threshold\": 0.352, \"p\": 249, \"fpr\": 1.0, \"tpr\": 1.0, \"n\": 43}, {\"threshold\": 0.353, \"p\": 249, \"fpr\": 1.0, \"tpr\": 1.0, \"n\": 43}, {\"threshold\": 0.354, \"p\": 249, \"fpr\": 1.0, \"tpr\": 1.0, \"n\": 43}, {\"threshold\": 0.355, \"p\": 249, \"fpr\": 1.0, \"tpr\": 1.0, \"n\": 43}, {\"threshold\": 0.356, \"p\": 249, \"fpr\": 1.0, \"tpr\": 1.0, \"n\": 43}, {\"threshold\": 0.357, \"p\": 249, \"fpr\": 1.0, \"tpr\": 1.0, \"n\": 43}, {\"threshold\": 0.358, \"p\": 249, \"fpr\": 1.0, \"tpr\": 1.0, \"n\": 43}, {\"threshold\": 0.359, \"p\": 249, \"fpr\": 1.0, \"tpr\": 1.0, \"n\": 43}, {\"threshold\": 0.36, \"p\": 249, \"fpr\": 1.0, \"tpr\": 1.0, \"n\": 43}, {\"threshold\": 0.361, \"p\": 249, \"fpr\": 1.0, \"tpr\": 1.0, \"n\": 43}, {\"threshold\": 0.362, \"p\": 249, \"fpr\": 1.0, \"tpr\": 1.0, \"n\": 43}, {\"threshold\": 0.363, \"p\": 249, \"fpr\": 1.0, \"tpr\": 1.0, \"n\": 43}, {\"threshold\": 0.364, \"p\": 249, \"fpr\": 1.0, \"tpr\": 1.0, \"n\": 43}, {\"threshold\": 0.365, \"p\": 249, \"fpr\": 1.0, \"tpr\": 1.0, \"n\": 43}, {\"threshold\": 0.366, \"p\": 249, \"fpr\": 1.0, \"tpr\": 1.0, \"n\": 43}, {\"threshold\": 0.367, \"p\": 249, \"fpr\": 1.0, \"tpr\": 1.0, \"n\": 43}, {\"threshold\": 0.368, \"p\": 249, \"fpr\": 1.0, \"tpr\": 1.0, \"n\": 43}, {\"threshold\": 0.369, \"p\": 249, \"fpr\": 1.0, \"tpr\": 1.0, \"n\": 43}, {\"threshold\": 0.37, \"p\": 249, \"fpr\": 1.0, \"tpr\": 1.0, \"n\": 43}, {\"threshold\": 0.371, \"p\": 249, \"fpr\": 1.0, \"tpr\": 1.0, \"n\": 43}, {\"threshold\": 0.372, \"p\": 249, \"fpr\": 1.0, \"tpr\": 1.0, \"n\": 43}, {\"threshold\": 0.373, \"p\": 249, \"fpr\": 1.0, \"tpr\": 1.0, \"n\": 43}, {\"threshold\": 0.374, \"p\": 249, \"fpr\": 1.0, \"tpr\": 1.0, \"n\": 43}, {\"threshold\": 0.375, \"p\": 249, \"fpr\": 1.0, \"tpr\": 1.0, \"n\": 43}, {\"threshold\": 0.376, \"p\": 249, \"fpr\": 1.0, \"tpr\": 1.0, \"n\": 43}, {\"threshold\": 0.377, \"p\": 249, \"fpr\": 1.0, \"tpr\": 1.0, \"n\": 43}, {\"threshold\": 0.378, \"p\": 249, \"fpr\": 1.0, \"tpr\": 1.0, \"n\": 43}, {\"threshold\": 0.379, \"p\": 249, \"fpr\": 1.0, \"tpr\": 1.0, \"n\": 43}, {\"threshold\": 0.38, \"p\": 249, \"fpr\": 1.0, \"tpr\": 1.0, \"n\": 43}, {\"threshold\": 0.381, \"p\": 249, \"fpr\": 1.0, \"tpr\": 1.0, \"n\": 43}, {\"threshold\": 0.382, \"p\": 249, \"fpr\": 1.0, \"tpr\": 1.0, \"n\": 43}, {\"threshold\": 0.383, \"p\": 249, \"fpr\": 1.0, \"tpr\": 1.0, \"n\": 43}, {\"threshold\": 0.384, \"p\": 249, \"fpr\": 1.0, \"tpr\": 1.0, \"n\": 43}, {\"threshold\": 0.385, \"p\": 249, \"fpr\": 1.0, \"tpr\": 1.0, \"n\": 43}, {\"threshold\": 0.386, \"p\": 249, \"fpr\": 1.0, \"tpr\": 1.0, \"n\": 43}, {\"threshold\": 0.387, \"p\": 249, \"fpr\": 1.0, \"tpr\": 1.0, \"n\": 43}, {\"threshold\": 0.388, \"p\": 249, \"fpr\": 1.0, \"tpr\": 1.0, \"n\": 43}, {\"threshold\": 0.389, \"p\": 249, \"fpr\": 1.0, \"tpr\": 1.0, \"n\": 43}, {\"threshold\": 0.39, \"p\": 249, \"fpr\": 1.0, \"tpr\": 1.0, \"n\": 43}, {\"threshold\": 0.391, \"p\": 249, \"fpr\": 1.0, \"tpr\": 1.0, \"n\": 43}, {\"threshold\": 0.392, \"p\": 249, \"fpr\": 1.0, \"tpr\": 1.0, \"n\": 43}, {\"threshold\": 0.393, \"p\": 249, \"fpr\": 1.0, \"tpr\": 1.0, \"n\": 43}, {\"threshold\": 0.394, \"p\": 249, \"fpr\": 1.0, \"tpr\": 1.0, \"n\": 43}, {\"threshold\": 0.395, \"p\": 249, \"fpr\": 1.0, \"tpr\": 1.0, \"n\": 43}, {\"threshold\": 0.396, \"p\": 249, \"fpr\": 1.0, \"tpr\": 1.0, \"n\": 43}, {\"threshold\": 0.397, \"p\": 249, \"fpr\": 1.0, \"tpr\": 1.0, \"n\": 43}, {\"threshold\": 0.398, \"p\": 249, \"fpr\": 1.0, \"tpr\": 1.0, \"n\": 43}, {\"threshold\": 0.399, \"p\": 249, \"fpr\": 1.0, \"tpr\": 1.0, \"n\": 43}, {\"threshold\": 0.4, \"p\": 249, \"fpr\": 1.0, \"tpr\": 1.0, \"n\": 43}, {\"threshold\": 0.401, \"p\": 249, \"fpr\": 1.0, \"tpr\": 1.0, \"n\": 43}, {\"threshold\": 0.402, \"p\": 249, \"fpr\": 1.0, \"tpr\": 1.0, \"n\": 43}, {\"threshold\": 0.403, \"p\": 249, \"fpr\": 1.0, \"tpr\": 1.0, \"n\": 43}, {\"threshold\": 0.404, \"p\": 249, \"fpr\": 1.0, \"tpr\": 1.0, \"n\": 43}, {\"threshold\": 0.405, \"p\": 249, \"fpr\": 1.0, \"tpr\": 1.0, \"n\": 43}, {\"threshold\": 0.406, \"p\": 249, \"fpr\": 1.0, \"tpr\": 1.0, \"n\": 43}, {\"threshold\": 0.407, \"p\": 249, \"fpr\": 1.0, \"tpr\": 1.0, \"n\": 43}, {\"threshold\": 0.408, \"p\": 249, \"fpr\": 1.0, \"tpr\": 1.0, \"n\": 43}, {\"threshold\": 0.409, \"p\": 249, \"fpr\": 1.0, \"tpr\": 1.0, \"n\": 43}, {\"threshold\": 0.41, \"p\": 249, \"fpr\": 1.0, \"tpr\": 1.0, \"n\": 43}, {\"threshold\": 0.411, \"p\": 249, \"fpr\": 1.0, \"tpr\": 1.0, \"n\": 43}, {\"threshold\": 0.412, \"p\": 249, \"fpr\": 1.0, \"tpr\": 1.0, \"n\": 43}, {\"threshold\": 0.413, \"p\": 249, \"fpr\": 1.0, \"tpr\": 1.0, \"n\": 43}, {\"threshold\": 0.414, \"p\": 249, \"fpr\": 1.0, \"tpr\": 1.0, \"n\": 43}, {\"threshold\": 0.415, \"p\": 249, \"fpr\": 1.0, \"tpr\": 1.0, \"n\": 43}, {\"threshold\": 0.416, \"p\": 249, \"fpr\": 1.0, \"tpr\": 1.0, \"n\": 43}, {\"threshold\": 0.417, \"p\": 249, \"fpr\": 1.0, \"tpr\": 1.0, \"n\": 43}, {\"threshold\": 0.418, \"p\": 249, \"fpr\": 1.0, \"tpr\": 1.0, \"n\": 43}, {\"threshold\": 0.419, \"p\": 249, \"fpr\": 1.0, \"tpr\": 1.0, \"n\": 43}, {\"threshold\": 0.42, \"p\": 249, \"fpr\": 1.0, \"tpr\": 1.0, \"n\": 43}, {\"threshold\": 0.421, \"p\": 249, \"fpr\": 1.0, \"tpr\": 1.0, \"n\": 43}, {\"threshold\": 0.422, \"p\": 249, \"fpr\": 1.0, \"tpr\": 1.0, \"n\": 43}, {\"threshold\": 0.423, \"p\": 249, \"fpr\": 1.0, \"tpr\": 1.0, \"n\": 43}, {\"threshold\": 0.424, \"p\": 249, \"fpr\": 1.0, \"tpr\": 1.0, \"n\": 43}, {\"threshold\": 0.425, \"p\": 249, \"fpr\": 1.0, \"tpr\": 1.0, \"n\": 43}, {\"threshold\": 0.426, \"p\": 249, \"fpr\": 1.0, \"tpr\": 1.0, \"n\": 43}, {\"threshold\": 0.427, \"p\": 249, \"fpr\": 1.0, \"tpr\": 1.0, \"n\": 43}, {\"threshold\": 0.428, \"p\": 249, \"fpr\": 1.0, \"tpr\": 1.0, \"n\": 43}, {\"threshold\": 0.429, \"p\": 249, \"fpr\": 1.0, \"tpr\": 1.0, \"n\": 43}, {\"threshold\": 0.43, \"p\": 249, \"fpr\": 1.0, \"tpr\": 1.0, \"n\": 43}, {\"threshold\": 0.431, \"p\": 249, \"fpr\": 1.0, \"tpr\": 1.0, \"n\": 43}, {\"threshold\": 0.432, \"p\": 249, \"fpr\": 1.0, \"tpr\": 1.0, \"n\": 43}, {\"threshold\": 0.433, \"p\": 249, \"fpr\": 1.0, \"tpr\": 1.0, \"n\": 43}, {\"threshold\": 0.434, \"p\": 249, \"fpr\": 1.0, \"tpr\": 1.0, \"n\": 43}, {\"threshold\": 0.435, \"p\": 249, \"fpr\": 1.0, \"tpr\": 1.0, \"n\": 43}, {\"threshold\": 0.436, \"p\": 249, \"fpr\": 1.0, \"tpr\": 1.0, \"n\": 43}, {\"threshold\": 0.437, \"p\": 249, \"fpr\": 1.0, \"tpr\": 1.0, \"n\": 43}, {\"threshold\": 0.438, \"p\": 249, \"fpr\": 1.0, \"tpr\": 1.0, \"n\": 43}, {\"threshold\": 0.439, \"p\": 249, \"fpr\": 1.0, \"tpr\": 1.0, \"n\": 43}, {\"threshold\": 0.44, \"p\": 249, \"fpr\": 1.0, \"tpr\": 1.0, \"n\": 43}, {\"threshold\": 0.441, \"p\": 249, \"fpr\": 1.0, \"tpr\": 1.0, \"n\": 43}, {\"threshold\": 0.442, \"p\": 249, \"fpr\": 1.0, \"tpr\": 1.0, \"n\": 43}, {\"threshold\": 0.443, \"p\": 249, \"fpr\": 1.0, \"tpr\": 1.0, \"n\": 43}, {\"threshold\": 0.444, \"p\": 249, \"fpr\": 1.0, \"tpr\": 1.0, \"n\": 43}, {\"threshold\": 0.445, \"p\": 249, \"fpr\": 1.0, \"tpr\": 1.0, \"n\": 43}, {\"threshold\": 0.446, \"p\": 249, \"fpr\": 1.0, \"tpr\": 1.0, \"n\": 43}, {\"threshold\": 0.447, \"p\": 249, \"fpr\": 1.0, \"tpr\": 1.0, \"n\": 43}, {\"threshold\": 0.448, \"p\": 249, \"fpr\": 1.0, \"tpr\": 1.0, \"n\": 43}, {\"threshold\": 0.449, \"p\": 249, \"fpr\": 1.0, \"tpr\": 1.0, \"n\": 43}, {\"threshold\": 0.45, \"p\": 249, \"fpr\": 1.0, \"tpr\": 1.0, \"n\": 43}, {\"threshold\": 0.451, \"p\": 249, \"fpr\": 1.0, \"tpr\": 1.0, \"n\": 43}, {\"threshold\": 0.452, \"p\": 249, \"fpr\": 1.0, \"tpr\": 1.0, \"n\": 43}, {\"threshold\": 0.453, \"p\": 249, \"fpr\": 1.0, \"tpr\": 1.0, \"n\": 43}, {\"threshold\": 0.454, \"p\": 249, \"fpr\": 1.0, \"tpr\": 1.0, \"n\": 43}, {\"threshold\": 0.455, \"p\": 249, \"fpr\": 1.0, \"tpr\": 1.0, \"n\": 43}, {\"threshold\": 0.456, \"p\": 249, \"fpr\": 1.0, \"tpr\": 1.0, \"n\": 43}, {\"threshold\": 0.457, \"p\": 249, \"fpr\": 1.0, \"tpr\": 1.0, \"n\": 43}, {\"threshold\": 0.458, \"p\": 249, \"fpr\": 1.0, \"tpr\": 1.0, \"n\": 43}, {\"threshold\": 0.459, \"p\": 249, \"fpr\": 1.0, \"tpr\": 1.0, \"n\": 43}, {\"threshold\": 0.46, \"p\": 249, \"fpr\": 1.0, \"tpr\": 1.0, \"n\": 43}, {\"threshold\": 0.461, \"p\": 249, \"fpr\": 1.0, \"tpr\": 1.0, \"n\": 43}, {\"threshold\": 0.462, \"p\": 249, \"fpr\": 1.0, \"tpr\": 1.0, \"n\": 43}, {\"threshold\": 0.463, \"p\": 249, \"fpr\": 1.0, \"tpr\": 1.0, \"n\": 43}, {\"threshold\": 0.464, \"p\": 249, \"fpr\": 1.0, \"tpr\": 1.0, \"n\": 43}, {\"threshold\": 0.465, \"p\": 249, \"fpr\": 1.0, \"tpr\": 1.0, \"n\": 43}, {\"threshold\": 0.466, \"p\": 249, \"fpr\": 1.0, \"tpr\": 1.0, \"n\": 43}, {\"threshold\": 0.467, \"p\": 249, \"fpr\": 1.0, \"tpr\": 1.0, \"n\": 43}, {\"threshold\": 0.468, \"p\": 249, \"fpr\": 1.0, \"tpr\": 1.0, \"n\": 43}, {\"threshold\": 0.469, \"p\": 249, \"fpr\": 1.0, \"tpr\": 1.0, \"n\": 43}, {\"threshold\": 0.47, \"p\": 249, \"fpr\": 1.0, \"tpr\": 1.0, \"n\": 43}, {\"threshold\": 0.471, \"p\": 249, \"fpr\": 1.0, \"tpr\": 1.0, \"n\": 43}, {\"threshold\": 0.472, \"p\": 249, \"fpr\": 1.0, \"tpr\": 1.0, \"n\": 43}, {\"threshold\": 0.473, \"p\": 249, \"fpr\": 1.0, \"tpr\": 1.0, \"n\": 43}, {\"threshold\": 0.474, \"p\": 249, \"fpr\": 1.0, \"tpr\": 1.0, \"n\": 43}, {\"threshold\": 0.475, \"p\": 249, \"fpr\": 1.0, \"tpr\": 1.0, \"n\": 43}, {\"threshold\": 0.476, \"p\": 249, \"fpr\": 1.0, \"tpr\": 1.0, \"n\": 43}, {\"threshold\": 0.477, \"p\": 249, \"fpr\": 1.0, \"tpr\": 1.0, \"n\": 43}, {\"threshold\": 0.478, \"p\": 249, \"fpr\": 1.0, \"tpr\": 1.0, \"n\": 43}, {\"threshold\": 0.479, \"p\": 249, \"fpr\": 1.0, \"tpr\": 1.0, \"n\": 43}, {\"threshold\": 0.48, \"p\": 249, \"fpr\": 1.0, \"tpr\": 1.0, \"n\": 43}, {\"threshold\": 0.481, \"p\": 249, \"fpr\": 1.0, \"tpr\": 1.0, \"n\": 43}, {\"threshold\": 0.482, \"p\": 249, \"fpr\": 1.0, \"tpr\": 1.0, \"n\": 43}, {\"threshold\": 0.483, \"p\": 249, \"fpr\": 1.0, \"tpr\": 1.0, \"n\": 43}, {\"threshold\": 0.484, \"p\": 249, \"fpr\": 1.0, \"tpr\": 1.0, \"n\": 43}, {\"threshold\": 0.485, \"p\": 249, \"fpr\": 1.0, \"tpr\": 1.0, \"n\": 43}, {\"threshold\": 0.486, \"p\": 249, \"fpr\": 1.0, \"tpr\": 1.0, \"n\": 43}, {\"threshold\": 0.487, \"p\": 249, \"fpr\": 1.0, \"tpr\": 1.0, \"n\": 43}, {\"threshold\": 0.488, \"p\": 249, \"fpr\": 1.0, \"tpr\": 1.0, \"n\": 43}, {\"threshold\": 0.489, \"p\": 249, \"fpr\": 1.0, \"tpr\": 1.0, \"n\": 43}, {\"threshold\": 0.49, \"p\": 249, \"fpr\": 1.0, \"tpr\": 1.0, \"n\": 43}, {\"threshold\": 0.491, \"p\": 249, \"fpr\": 1.0, \"tpr\": 1.0, \"n\": 43}, {\"threshold\": 0.492, \"p\": 249, \"fpr\": 1.0, \"tpr\": 1.0, \"n\": 43}, {\"threshold\": 0.493, \"p\": 249, \"fpr\": 1.0, \"tpr\": 1.0, \"n\": 43}, {\"threshold\": 0.494, \"p\": 249, \"fpr\": 1.0, \"tpr\": 1.0, \"n\": 43}, {\"threshold\": 0.495, \"p\": 249, \"fpr\": 1.0, \"tpr\": 1.0, \"n\": 43}, {\"threshold\": 0.496, \"p\": 249, \"fpr\": 1.0, \"tpr\": 1.0, \"n\": 43}, {\"threshold\": 0.497, \"p\": 249, \"fpr\": 1.0, \"tpr\": 1.0, \"n\": 43}, {\"threshold\": 0.498, \"p\": 249, \"fpr\": 1.0, \"tpr\": 1.0, \"n\": 43}, {\"threshold\": 0.499, \"p\": 249, \"fpr\": 1.0, \"tpr\": 1.0, \"n\": 43}, {\"threshold\": 0.5, \"p\": 249, \"fpr\": 1.0, \"tpr\": 1.0, \"n\": 43}, {\"threshold\": 0.501, \"p\": 249, \"fpr\": 1.0, \"tpr\": 1.0, \"n\": 43}, {\"threshold\": 0.502, \"p\": 249, \"fpr\": 1.0, \"tpr\": 1.0, \"n\": 43}, {\"threshold\": 0.503, \"p\": 249, \"fpr\": 1.0, \"tpr\": 1.0, \"n\": 43}, {\"threshold\": 0.504, \"p\": 249, \"fpr\": 1.0, \"tpr\": 1.0, \"n\": 43}, {\"threshold\": 0.505, \"p\": 249, \"fpr\": 1.0, \"tpr\": 1.0, \"n\": 43}, {\"threshold\": 0.506, \"p\": 249, \"fpr\": 1.0, \"tpr\": 1.0, \"n\": 43}, {\"threshold\": 0.507, \"p\": 249, \"fpr\": 1.0, \"tpr\": 1.0, \"n\": 43}, {\"threshold\": 0.508, \"p\": 249, \"fpr\": 1.0, \"tpr\": 1.0, \"n\": 43}, {\"threshold\": 0.509, \"p\": 249, \"fpr\": 1.0, \"tpr\": 1.0, \"n\": 43}, {\"threshold\": 0.51, \"p\": 249, \"fpr\": 1.0, \"tpr\": 1.0, \"n\": 43}, {\"threshold\": 0.511, \"p\": 249, \"fpr\": 1.0, \"tpr\": 1.0, \"n\": 43}, {\"threshold\": 0.512, \"p\": 249, \"fpr\": 1.0, \"tpr\": 1.0, \"n\": 43}, {\"threshold\": 0.513, \"p\": 249, \"fpr\": 1.0, \"tpr\": 1.0, \"n\": 43}, {\"threshold\": 0.514, \"p\": 249, \"fpr\": 1.0, \"tpr\": 1.0, \"n\": 43}, {\"threshold\": 0.515, \"p\": 249, \"fpr\": 1.0, \"tpr\": 1.0, \"n\": 43}, {\"threshold\": 0.516, \"p\": 249, \"fpr\": 1.0, \"tpr\": 1.0, \"n\": 43}, {\"threshold\": 0.517, \"p\": 249, \"fpr\": 1.0, \"tpr\": 1.0, \"n\": 43}, {\"threshold\": 0.518, \"p\": 249, \"fpr\": 1.0, \"tpr\": 1.0, \"n\": 43}, {\"threshold\": 0.519, \"p\": 249, \"fpr\": 1.0, \"tpr\": 1.0, \"n\": 43}, {\"threshold\": 0.52, \"p\": 249, \"fpr\": 1.0, \"tpr\": 1.0, \"n\": 43}, {\"threshold\": 0.521, \"p\": 249, \"fpr\": 1.0, \"tpr\": 1.0, \"n\": 43}, {\"threshold\": 0.522, \"p\": 249, \"fpr\": 1.0, \"tpr\": 1.0, \"n\": 43}, {\"threshold\": 0.523, \"p\": 249, \"fpr\": 1.0, \"tpr\": 1.0, \"n\": 43}, {\"threshold\": 0.524, \"p\": 249, \"fpr\": 1.0, \"tpr\": 1.0, \"n\": 43}, {\"threshold\": 0.525, \"p\": 249, \"fpr\": 1.0, \"tpr\": 1.0, \"n\": 43}, {\"threshold\": 0.526, \"p\": 249, \"fpr\": 1.0, \"tpr\": 1.0, \"n\": 43}, {\"threshold\": 0.527, \"p\": 249, \"fpr\": 1.0, \"tpr\": 1.0, \"n\": 43}, {\"threshold\": 0.528, \"p\": 249, \"fpr\": 1.0, \"tpr\": 1.0, \"n\": 43}, {\"threshold\": 0.529, \"p\": 249, \"fpr\": 1.0, \"tpr\": 1.0, \"n\": 43}, {\"threshold\": 0.53, \"p\": 249, \"fpr\": 1.0, \"tpr\": 1.0, \"n\": 43}, {\"threshold\": 0.531, \"p\": 249, \"fpr\": 1.0, \"tpr\": 1.0, \"n\": 43}, {\"threshold\": 0.532, \"p\": 249, \"fpr\": 1.0, \"tpr\": 1.0, \"n\": 43}, {\"threshold\": 0.533, \"p\": 249, \"fpr\": 1.0, \"tpr\": 1.0, \"n\": 43}, {\"threshold\": 0.534, \"p\": 249, \"fpr\": 1.0, \"tpr\": 1.0, \"n\": 43}, {\"threshold\": 0.535, \"p\": 249, \"fpr\": 1.0, \"tpr\": 1.0, \"n\": 43}, {\"threshold\": 0.536, \"p\": 249, \"fpr\": 1.0, \"tpr\": 1.0, \"n\": 43}, {\"threshold\": 0.537, \"p\": 249, \"fpr\": 1.0, \"tpr\": 1.0, \"n\": 43}, {\"threshold\": 0.538, \"p\": 249, \"fpr\": 1.0, \"tpr\": 1.0, \"n\": 43}, {\"threshold\": 0.539, \"p\": 249, \"fpr\": 1.0, \"tpr\": 1.0, \"n\": 43}, {\"threshold\": 0.54, \"p\": 249, \"fpr\": 1.0, \"tpr\": 1.0, \"n\": 43}, {\"threshold\": 0.541, \"p\": 249, \"fpr\": 1.0, \"tpr\": 1.0, \"n\": 43}, {\"threshold\": 0.542, \"p\": 249, \"fpr\": 1.0, \"tpr\": 1.0, \"n\": 43}, {\"threshold\": 0.543, \"p\": 249, \"fpr\": 1.0, \"tpr\": 1.0, \"n\": 43}, {\"threshold\": 0.544, \"p\": 249, \"fpr\": 1.0, \"tpr\": 1.0, \"n\": 43}, {\"threshold\": 0.545, \"p\": 249, \"fpr\": 1.0, \"tpr\": 1.0, \"n\": 43}, {\"threshold\": 0.546, \"p\": 249, \"fpr\": 1.0, \"tpr\": 1.0, \"n\": 43}, {\"threshold\": 0.547, \"p\": 249, \"fpr\": 1.0, \"tpr\": 1.0, \"n\": 43}, {\"threshold\": 0.548, \"p\": 249, \"fpr\": 1.0, \"tpr\": 1.0, \"n\": 43}, {\"threshold\": 0.549, \"p\": 249, \"fpr\": 1.0, \"tpr\": 1.0, \"n\": 43}, {\"threshold\": 0.55, \"p\": 249, \"fpr\": 1.0, \"tpr\": 1.0, \"n\": 43}, {\"threshold\": 0.551, \"p\": 249, \"fpr\": 1.0, \"tpr\": 1.0, \"n\": 43}, {\"threshold\": 0.552, \"p\": 249, \"fpr\": 1.0, \"tpr\": 1.0, \"n\": 43}, {\"threshold\": 0.553, \"p\": 249, \"fpr\": 1.0, \"tpr\": 1.0, \"n\": 43}, {\"threshold\": 0.554, \"p\": 249, \"fpr\": 1.0, \"tpr\": 1.0, \"n\": 43}, {\"threshold\": 0.555, \"p\": 249, \"fpr\": 1.0, \"tpr\": 1.0, \"n\": 43}, {\"threshold\": 0.556, \"p\": 249, \"fpr\": 1.0, \"tpr\": 1.0, \"n\": 43}, {\"threshold\": 0.557, \"p\": 249, \"fpr\": 1.0, \"tpr\": 1.0, \"n\": 43}, {\"threshold\": 0.558, \"p\": 249, \"fpr\": 1.0, \"tpr\": 1.0, \"n\": 43}, {\"threshold\": 0.559, \"p\": 249, \"fpr\": 1.0, \"tpr\": 1.0, \"n\": 43}, {\"threshold\": 0.56, \"p\": 249, \"fpr\": 1.0, \"tpr\": 1.0, \"n\": 43}, {\"threshold\": 0.561, \"p\": 249, \"fpr\": 1.0, \"tpr\": 1.0, \"n\": 43}, {\"threshold\": 0.562, \"p\": 249, \"fpr\": 1.0, \"tpr\": 1.0, \"n\": 43}, {\"threshold\": 0.563, \"p\": 249, \"fpr\": 1.0, \"tpr\": 1.0, \"n\": 43}, {\"threshold\": 0.564, \"p\": 249, \"fpr\": 1.0, \"tpr\": 1.0, \"n\": 43}, {\"threshold\": 0.565, \"p\": 249, \"fpr\": 1.0, \"tpr\": 1.0, \"n\": 43}, {\"threshold\": 0.566, \"p\": 249, \"fpr\": 1.0, \"tpr\": 1.0, \"n\": 43}, {\"threshold\": 0.567, \"p\": 249, \"fpr\": 1.0, \"tpr\": 1.0, \"n\": 43}, {\"threshold\": 0.568, \"p\": 249, \"fpr\": 1.0, \"tpr\": 1.0, \"n\": 43}, {\"threshold\": 0.569, \"p\": 249, \"fpr\": 1.0, \"tpr\": 1.0, \"n\": 43}, {\"threshold\": 0.57, \"p\": 249, \"fpr\": 1.0, \"tpr\": 1.0, \"n\": 43}, {\"threshold\": 0.571, \"p\": 249, \"fpr\": 1.0, \"tpr\": 1.0, \"n\": 43}, {\"threshold\": 0.572, \"p\": 249, \"fpr\": 1.0, \"tpr\": 1.0, \"n\": 43}, {\"threshold\": 0.573, \"p\": 249, \"fpr\": 1.0, \"tpr\": 1.0, \"n\": 43}, {\"threshold\": 0.574, \"p\": 249, \"fpr\": 1.0, \"tpr\": 1.0, \"n\": 43}, {\"threshold\": 0.575, \"p\": 249, \"fpr\": 1.0, \"tpr\": 1.0, \"n\": 43}, {\"threshold\": 0.576, \"p\": 249, \"fpr\": 1.0, \"tpr\": 1.0, \"n\": 43}, {\"threshold\": 0.577, \"p\": 249, \"fpr\": 1.0, \"tpr\": 1.0, \"n\": 43}, {\"threshold\": 0.578, \"p\": 249, \"fpr\": 1.0, \"tpr\": 1.0, \"n\": 43}, {\"threshold\": 0.579, \"p\": 249, \"fpr\": 1.0, \"tpr\": 1.0, \"n\": 43}, {\"threshold\": 0.58, \"p\": 249, \"fpr\": 1.0, \"tpr\": 1.0, \"n\": 43}, {\"threshold\": 0.581, \"p\": 249, \"fpr\": 1.0, \"tpr\": 1.0, \"n\": 43}, {\"threshold\": 0.582, \"p\": 249, \"fpr\": 1.0, \"tpr\": 1.0, \"n\": 43}, {\"threshold\": 0.583, \"p\": 249, \"fpr\": 1.0, \"tpr\": 1.0, \"n\": 43}, {\"threshold\": 0.584, \"p\": 249, \"fpr\": 1.0, \"tpr\": 1.0, \"n\": 43}, {\"threshold\": 0.585, \"p\": 249, \"fpr\": 1.0, \"tpr\": 1.0, \"n\": 43}, {\"threshold\": 0.586, \"p\": 249, \"fpr\": 1.0, \"tpr\": 1.0, \"n\": 43}, {\"threshold\": 0.587, \"p\": 249, \"fpr\": 1.0, \"tpr\": 1.0, \"n\": 43}, {\"threshold\": 0.588, \"p\": 249, \"fpr\": 1.0, \"tpr\": 1.0, \"n\": 43}, {\"threshold\": 0.589, \"p\": 249, \"fpr\": 1.0, \"tpr\": 1.0, \"n\": 43}, {\"threshold\": 0.59, \"p\": 249, \"fpr\": 1.0, \"tpr\": 1.0, \"n\": 43}, {\"threshold\": 0.591, \"p\": 249, \"fpr\": 1.0, \"tpr\": 1.0, \"n\": 43}, {\"threshold\": 0.592, \"p\": 249, \"fpr\": 1.0, \"tpr\": 1.0, \"n\": 43}, {\"threshold\": 0.593, \"p\": 249, \"fpr\": 1.0, \"tpr\": 1.0, \"n\": 43}, {\"threshold\": 0.594, \"p\": 249, \"fpr\": 1.0, \"tpr\": 1.0, \"n\": 43}, {\"threshold\": 0.595, \"p\": 249, \"fpr\": 1.0, \"tpr\": 1.0, \"n\": 43}, {\"threshold\": 0.596, \"p\": 249, \"fpr\": 1.0, \"tpr\": 1.0, \"n\": 43}, {\"threshold\": 0.597, \"p\": 249, \"fpr\": 1.0, \"tpr\": 1.0, \"n\": 43}, {\"threshold\": 0.598, \"p\": 249, \"fpr\": 1.0, \"tpr\": 1.0, \"n\": 43}, {\"threshold\": 0.599, \"p\": 249, \"fpr\": 1.0, \"tpr\": 1.0, \"n\": 43}, {\"threshold\": 0.6, \"p\": 249, \"fpr\": 1.0, \"tpr\": 1.0, \"n\": 43}, {\"threshold\": 0.601, \"p\": 249, \"fpr\": 1.0, \"tpr\": 1.0, \"n\": 43}, {\"threshold\": 0.602, \"p\": 249, \"fpr\": 1.0, \"tpr\": 1.0, \"n\": 43}, {\"threshold\": 0.603, \"p\": 249, \"fpr\": 1.0, \"tpr\": 1.0, \"n\": 43}, {\"threshold\": 0.604, \"p\": 249, \"fpr\": 1.0, \"tpr\": 1.0, \"n\": 43}, {\"threshold\": 0.605, \"p\": 249, \"fpr\": 1.0, \"tpr\": 1.0, \"n\": 43}, {\"threshold\": 0.606, \"p\": 249, \"fpr\": 1.0, \"tpr\": 1.0, \"n\": 43}, {\"threshold\": 0.607, \"p\": 249, \"fpr\": 1.0, \"tpr\": 1.0, \"n\": 43}, {\"threshold\": 0.608, \"p\": 249, \"fpr\": 1.0, \"tpr\": 1.0, \"n\": 43}, {\"threshold\": 0.609, \"p\": 249, \"fpr\": 1.0, \"tpr\": 1.0, \"n\": 43}, {\"threshold\": 0.61, \"p\": 249, \"fpr\": 1.0, \"tpr\": 1.0, \"n\": 43}, {\"threshold\": 0.611, \"p\": 249, \"fpr\": 1.0, \"tpr\": 1.0, \"n\": 43}, {\"threshold\": 0.612, \"p\": 249, \"fpr\": 1.0, \"tpr\": 1.0, \"n\": 43}, {\"threshold\": 0.613, \"p\": 249, \"fpr\": 1.0, \"tpr\": 1.0, \"n\": 43}, {\"threshold\": 0.614, \"p\": 249, \"fpr\": 1.0, \"tpr\": 1.0, \"n\": 43}, {\"threshold\": 0.615, \"p\": 249, \"fpr\": 1.0, \"tpr\": 1.0, \"n\": 43}, {\"threshold\": 0.616, \"p\": 249, \"fpr\": 1.0, \"tpr\": 1.0, \"n\": 43}, {\"threshold\": 0.617, \"p\": 249, \"fpr\": 1.0, \"tpr\": 1.0, \"n\": 43}, {\"threshold\": 0.618, \"p\": 249, \"fpr\": 1.0, \"tpr\": 1.0, \"n\": 43}, {\"threshold\": 0.619, \"p\": 249, \"fpr\": 1.0, \"tpr\": 1.0, \"n\": 43}, {\"threshold\": 0.62, \"p\": 249, \"fpr\": 1.0, \"tpr\": 1.0, \"n\": 43}, {\"threshold\": 0.621, \"p\": 249, \"fpr\": 1.0, \"tpr\": 1.0, \"n\": 43}, {\"threshold\": 0.622, \"p\": 249, \"fpr\": 1.0, \"tpr\": 1.0, \"n\": 43}, {\"threshold\": 0.623, \"p\": 249, \"fpr\": 1.0, \"tpr\": 1.0, \"n\": 43}, {\"threshold\": 0.624, \"p\": 249, \"fpr\": 1.0, \"tpr\": 1.0, \"n\": 43}, {\"threshold\": 0.625, \"p\": 249, \"fpr\": 1.0, \"tpr\": 1.0, \"n\": 43}, {\"threshold\": 0.626, \"p\": 249, \"fpr\": 1.0, \"tpr\": 1.0, \"n\": 43}, {\"threshold\": 0.627, \"p\": 249, \"fpr\": 1.0, \"tpr\": 1.0, \"n\": 43}, {\"threshold\": 0.628, \"p\": 249, \"fpr\": 1.0, \"tpr\": 1.0, \"n\": 43}, {\"threshold\": 0.629, \"p\": 249, \"fpr\": 1.0, \"tpr\": 1.0, \"n\": 43}, {\"threshold\": 0.63, \"p\": 249, \"fpr\": 1.0, \"tpr\": 1.0, \"n\": 43}, {\"threshold\": 0.631, \"p\": 249, \"fpr\": 1.0, \"tpr\": 1.0, \"n\": 43}, {\"threshold\": 0.632, \"p\": 249, \"fpr\": 1.0, \"tpr\": 1.0, \"n\": 43}, {\"threshold\": 0.633, \"p\": 249, \"fpr\": 1.0, \"tpr\": 1.0, \"n\": 43}, {\"threshold\": 0.634, \"p\": 249, \"fpr\": 1.0, \"tpr\": 1.0, \"n\": 43}, {\"threshold\": 0.635, \"p\": 249, \"fpr\": 1.0, \"tpr\": 1.0, \"n\": 43}, {\"threshold\": 0.636, \"p\": 249, \"fpr\": 1.0, \"tpr\": 1.0, \"n\": 43}, {\"threshold\": 0.637, \"p\": 249, \"fpr\": 1.0, \"tpr\": 1.0, \"n\": 43}, {\"threshold\": 0.638, \"p\": 249, \"fpr\": 1.0, \"tpr\": 1.0, \"n\": 43}, {\"threshold\": 0.639, \"p\": 249, \"fpr\": 1.0, \"tpr\": 1.0, \"n\": 43}, {\"threshold\": 0.64, \"p\": 249, \"fpr\": 1.0, \"tpr\": 1.0, \"n\": 43}, {\"threshold\": 0.641, \"p\": 249, \"fpr\": 1.0, \"tpr\": 1.0, \"n\": 43}, {\"threshold\": 0.642, \"p\": 249, \"fpr\": 1.0, \"tpr\": 1.0, \"n\": 43}, {\"threshold\": 0.643, \"p\": 249, \"fpr\": 1.0, \"tpr\": 1.0, \"n\": 43}, {\"threshold\": 0.644, \"p\": 249, \"fpr\": 1.0, \"tpr\": 1.0, \"n\": 43}, {\"threshold\": 0.645, \"p\": 249, \"fpr\": 1.0, \"tpr\": 1.0, \"n\": 43}, {\"threshold\": 0.646, \"p\": 249, \"fpr\": 1.0, \"tpr\": 1.0, \"n\": 43}, {\"threshold\": 0.647, \"p\": 249, \"fpr\": 1.0, \"tpr\": 1.0, \"n\": 43}, {\"threshold\": 0.648, \"p\": 249, \"fpr\": 1.0, \"tpr\": 1.0, \"n\": 43}, {\"threshold\": 0.649, \"p\": 249, \"fpr\": 1.0, \"tpr\": 1.0, \"n\": 43}, {\"threshold\": 0.65, \"p\": 249, \"fpr\": 1.0, \"tpr\": 1.0, \"n\": 43}, {\"threshold\": 0.651, \"p\": 249, \"fpr\": 1.0, \"tpr\": 1.0, \"n\": 43}, {\"threshold\": 0.652, \"p\": 249, \"fpr\": 1.0, \"tpr\": 1.0, \"n\": 43}, {\"threshold\": 0.653, \"p\": 249, \"fpr\": 1.0, \"tpr\": 1.0, \"n\": 43}, {\"threshold\": 0.654, \"p\": 249, \"fpr\": 1.0, \"tpr\": 1.0, \"n\": 43}, {\"threshold\": 0.655, \"p\": 249, \"fpr\": 1.0, \"tpr\": 1.0, \"n\": 43}, {\"threshold\": 0.656, \"p\": 249, \"fpr\": 1.0, \"tpr\": 1.0, \"n\": 43}, {\"threshold\": 0.657, \"p\": 249, \"fpr\": 1.0, \"tpr\": 1.0, \"n\": 43}, {\"threshold\": 0.658, \"p\": 249, \"fpr\": 1.0, \"tpr\": 1.0, \"n\": 43}, {\"threshold\": 0.659, \"p\": 249, \"fpr\": 1.0, \"tpr\": 1.0, \"n\": 43}, {\"threshold\": 0.66, \"p\": 249, \"fpr\": 1.0, \"tpr\": 1.0, \"n\": 43}, {\"threshold\": 0.661, \"p\": 249, \"fpr\": 1.0, \"tpr\": 1.0, \"n\": 43}, {\"threshold\": 0.662, \"p\": 249, \"fpr\": 1.0, \"tpr\": 1.0, \"n\": 43}, {\"threshold\": 0.663, \"p\": 249, \"fpr\": 1.0, \"tpr\": 1.0, \"n\": 43}, {\"threshold\": 0.664, \"p\": 249, \"fpr\": 1.0, \"tpr\": 1.0, \"n\": 43}, {\"threshold\": 0.665, \"p\": 249, \"fpr\": 1.0, \"tpr\": 1.0, \"n\": 43}, {\"threshold\": 0.666, \"p\": 249, \"fpr\": 1.0, \"tpr\": 1.0, \"n\": 43}, {\"threshold\": 0.667, \"p\": 249, \"fpr\": 1.0, \"tpr\": 1.0, \"n\": 43}, {\"threshold\": 0.668, \"p\": 249, \"fpr\": 1.0, \"tpr\": 1.0, \"n\": 43}, {\"threshold\": 0.669, \"p\": 249, \"fpr\": 1.0, \"tpr\": 1.0, \"n\": 43}, {\"threshold\": 0.67, \"p\": 249, \"fpr\": 1.0, \"tpr\": 1.0, \"n\": 43}, {\"threshold\": 0.671, \"p\": 249, \"fpr\": 1.0, \"tpr\": 1.0, \"n\": 43}, {\"threshold\": 0.672, \"p\": 249, \"fpr\": 1.0, \"tpr\": 1.0, \"n\": 43}, {\"threshold\": 0.673, \"p\": 249, \"fpr\": 1.0, \"tpr\": 1.0, \"n\": 43}, {\"threshold\": 0.674, \"p\": 249, \"fpr\": 1.0, \"tpr\": 1.0, \"n\": 43}, {\"threshold\": 0.675, \"p\": 249, \"fpr\": 1.0, \"tpr\": 1.0, \"n\": 43}, {\"threshold\": 0.676, \"p\": 249, \"fpr\": 1.0, \"tpr\": 1.0, \"n\": 43}, {\"threshold\": 0.677, \"p\": 249, \"fpr\": 1.0, \"tpr\": 1.0, \"n\": 43}, {\"threshold\": 0.678, \"p\": 249, \"fpr\": 1.0, \"tpr\": 1.0, \"n\": 43}, {\"threshold\": 0.679, \"p\": 249, \"fpr\": 1.0, \"tpr\": 1.0, \"n\": 43}, {\"threshold\": 0.68, \"p\": 249, \"fpr\": 1.0, \"tpr\": 1.0, \"n\": 43}, {\"threshold\": 0.681, \"p\": 249, \"fpr\": 1.0, \"tpr\": 1.0, \"n\": 43}, {\"threshold\": 0.682, \"p\": 249, \"fpr\": 1.0, \"tpr\": 1.0, \"n\": 43}, {\"threshold\": 0.683, \"p\": 249, \"fpr\": 1.0, \"tpr\": 1.0, \"n\": 43}, {\"threshold\": 0.684, \"p\": 249, \"fpr\": 1.0, \"tpr\": 1.0, \"n\": 43}, {\"threshold\": 0.685, \"p\": 249, \"fpr\": 1.0, \"tpr\": 1.0, \"n\": 43}, {\"threshold\": 0.686, \"p\": 249, \"fpr\": 1.0, \"tpr\": 1.0, \"n\": 43}, {\"threshold\": 0.687, \"p\": 249, \"fpr\": 1.0, \"tpr\": 1.0, \"n\": 43}, {\"threshold\": 0.688, \"p\": 249, \"fpr\": 1.0, \"tpr\": 1.0, \"n\": 43}, {\"threshold\": 0.689, \"p\": 249, \"fpr\": 1.0, \"tpr\": 1.0, \"n\": 43}, {\"threshold\": 0.69, \"p\": 249, \"fpr\": 1.0, \"tpr\": 1.0, \"n\": 43}, {\"threshold\": 0.691, \"p\": 249, \"fpr\": 1.0, \"tpr\": 1.0, \"n\": 43}, {\"threshold\": 0.692, \"p\": 249, \"fpr\": 1.0, \"tpr\": 1.0, \"n\": 43}, {\"threshold\": 0.693, \"p\": 249, \"fpr\": 1.0, \"tpr\": 1.0, \"n\": 43}, {\"threshold\": 0.694, \"p\": 249, \"fpr\": 1.0, \"tpr\": 1.0, \"n\": 43}, {\"threshold\": 0.695, \"p\": 249, \"fpr\": 1.0, \"tpr\": 1.0, \"n\": 43}, {\"threshold\": 0.696, \"p\": 249, \"fpr\": 1.0, \"tpr\": 1.0, \"n\": 43}, {\"threshold\": 0.697, \"p\": 249, \"fpr\": 1.0, \"tpr\": 1.0, \"n\": 43}, {\"threshold\": 0.698, \"p\": 249, \"fpr\": 1.0, \"tpr\": 1.0, \"n\": 43}, {\"threshold\": 0.699, \"p\": 249, \"fpr\": 1.0, \"tpr\": 1.0, \"n\": 43}, {\"threshold\": 0.7, \"p\": 249, \"fpr\": 1.0, \"tpr\": 1.0, \"n\": 43}, {\"threshold\": 0.701, \"p\": 249, \"fpr\": 1.0, \"tpr\": 1.0, \"n\": 43}, {\"threshold\": 0.702, \"p\": 249, \"fpr\": 1.0, \"tpr\": 1.0, \"n\": 43}, {\"threshold\": 0.703, \"p\": 249, \"fpr\": 1.0, \"tpr\": 1.0, \"n\": 43}, {\"threshold\": 0.704, \"p\": 249, \"fpr\": 1.0, \"tpr\": 1.0, \"n\": 43}, {\"threshold\": 0.705, \"p\": 249, \"fpr\": 1.0, \"tpr\": 1.0, \"n\": 43}, {\"threshold\": 0.706, \"p\": 249, \"fpr\": 1.0, \"tpr\": 1.0, \"n\": 43}, {\"threshold\": 0.707, \"p\": 249, \"fpr\": 1.0, \"tpr\": 1.0, \"n\": 43}, {\"threshold\": 0.708, \"p\": 249, \"fpr\": 1.0, \"tpr\": 1.0, \"n\": 43}, {\"threshold\": 0.709, \"p\": 249, \"fpr\": 1.0, \"tpr\": 1.0, \"n\": 43}, {\"threshold\": 0.71, \"p\": 249, \"fpr\": 1.0, \"tpr\": 1.0, \"n\": 43}, {\"threshold\": 0.711, \"p\": 249, \"fpr\": 1.0, \"tpr\": 1.0, \"n\": 43}, {\"threshold\": 0.712, \"p\": 249, \"fpr\": 1.0, \"tpr\": 1.0, \"n\": 43}, {\"threshold\": 0.713, \"p\": 249, \"fpr\": 1.0, \"tpr\": 1.0, \"n\": 43}, {\"threshold\": 0.714, \"p\": 249, \"fpr\": 1.0, \"tpr\": 1.0, \"n\": 43}, {\"threshold\": 0.715, \"p\": 249, \"fpr\": 1.0, \"tpr\": 1.0, \"n\": 43}, {\"threshold\": 0.716, \"p\": 249, \"fpr\": 1.0, \"tpr\": 1.0, \"n\": 43}, {\"threshold\": 0.717, \"p\": 249, \"fpr\": 1.0, \"tpr\": 1.0, \"n\": 43}, {\"threshold\": 0.718, \"p\": 249, \"fpr\": 1.0, \"tpr\": 1.0, \"n\": 43}, {\"threshold\": 0.719, \"p\": 249, \"fpr\": 1.0, \"tpr\": 1.0, \"n\": 43}, {\"threshold\": 0.72, \"p\": 249, \"fpr\": 1.0, \"tpr\": 1.0, \"n\": 43}, {\"threshold\": 0.721, \"p\": 249, \"fpr\": 1.0, \"tpr\": 1.0, \"n\": 43}, {\"threshold\": 0.722, \"p\": 249, \"fpr\": 1.0, \"tpr\": 1.0, \"n\": 43}, {\"threshold\": 0.723, \"p\": 249, \"fpr\": 1.0, \"tpr\": 1.0, \"n\": 43}, {\"threshold\": 0.724, \"p\": 249, \"fpr\": 1.0, \"tpr\": 1.0, \"n\": 43}, {\"threshold\": 0.725, \"p\": 249, \"fpr\": 1.0, \"tpr\": 1.0, \"n\": 43}, {\"threshold\": 0.726, \"p\": 249, \"fpr\": 1.0, \"tpr\": 1.0, \"n\": 43}, {\"threshold\": 0.727, \"p\": 249, \"fpr\": 1.0, \"tpr\": 1.0, \"n\": 43}, {\"threshold\": 0.728, \"p\": 249, \"fpr\": 1.0, \"tpr\": 1.0, \"n\": 43}, {\"threshold\": 0.729, \"p\": 249, \"fpr\": 1.0, \"tpr\": 1.0, \"n\": 43}, {\"threshold\": 0.73, \"p\": 249, \"fpr\": 1.0, \"tpr\": 1.0, \"n\": 43}, {\"threshold\": 0.731, \"p\": 249, \"fpr\": 1.0, \"tpr\": 1.0, \"n\": 43}, {\"threshold\": 0.732, \"p\": 249, \"fpr\": 1.0, \"tpr\": 1.0, \"n\": 43}, {\"threshold\": 0.733, \"p\": 249, \"fpr\": 1.0, \"tpr\": 1.0, \"n\": 43}, {\"threshold\": 0.734, \"p\": 249, \"fpr\": 1.0, \"tpr\": 1.0, \"n\": 43}, {\"threshold\": 0.735, \"p\": 249, \"fpr\": 1.0, \"tpr\": 1.0, \"n\": 43}, {\"threshold\": 0.736, \"p\": 249, \"fpr\": 1.0, \"tpr\": 1.0, \"n\": 43}, {\"threshold\": 0.737, \"p\": 249, \"fpr\": 1.0, \"tpr\": 1.0, \"n\": 43}, {\"threshold\": 0.738, \"p\": 249, \"fpr\": 1.0, \"tpr\": 1.0, \"n\": 43}, {\"threshold\": 0.739, \"p\": 249, \"fpr\": 1.0, \"tpr\": 1.0, \"n\": 43}, {\"threshold\": 0.74, \"p\": 249, \"fpr\": 1.0, \"tpr\": 1.0, \"n\": 43}, {\"threshold\": 0.741, \"p\": 249, \"fpr\": 1.0, \"tpr\": 1.0, \"n\": 43}, {\"threshold\": 0.742, \"p\": 249, \"fpr\": 1.0, \"tpr\": 1.0, \"n\": 43}, {\"threshold\": 0.743, \"p\": 249, \"fpr\": 1.0, \"tpr\": 1.0, \"n\": 43}, {\"threshold\": 0.744, \"p\": 249, \"fpr\": 1.0, \"tpr\": 1.0, \"n\": 43}, {\"threshold\": 0.745, \"p\": 249, \"fpr\": 1.0, \"tpr\": 1.0, \"n\": 43}, {\"threshold\": 0.746, \"p\": 249, \"fpr\": 1.0, \"tpr\": 1.0, \"n\": 43}, {\"threshold\": 0.747, \"p\": 249, \"fpr\": 1.0, \"tpr\": 1.0, \"n\": 43}, {\"threshold\": 0.748, \"p\": 249, \"fpr\": 1.0, \"tpr\": 1.0, \"n\": 43}, {\"threshold\": 0.749, \"p\": 249, \"fpr\": 1.0, \"tpr\": 1.0, \"n\": 43}, {\"threshold\": 0.75, \"p\": 249, \"fpr\": 1.0, \"tpr\": 1.0, \"n\": 43}, {\"threshold\": 0.751, \"p\": 249, \"fpr\": 1.0, \"tpr\": 0.9959839357429718, \"n\": 43}, {\"threshold\": 0.752, \"p\": 249, \"fpr\": 1.0, \"tpr\": 0.9959839357429718, \"n\": 43}, {\"threshold\": 0.753, \"p\": 249, \"fpr\": 1.0, \"tpr\": 0.9959839357429718, \"n\": 43}, {\"threshold\": 0.754, \"p\": 249, \"fpr\": 1.0, \"tpr\": 0.9959839357429718, \"n\": 43}, {\"threshold\": 0.755, \"p\": 249, \"fpr\": 1.0, \"tpr\": 0.9959839357429718, \"n\": 43}, {\"threshold\": 0.756, \"p\": 249, \"fpr\": 1.0, \"tpr\": 0.9959839357429718, \"n\": 43}, {\"threshold\": 0.757, \"p\": 249, \"fpr\": 1.0, \"tpr\": 0.9959839357429718, \"n\": 43}, {\"threshold\": 0.758, \"p\": 249, \"fpr\": 1.0, \"tpr\": 0.9959839357429718, \"n\": 43}, {\"threshold\": 0.759, \"p\": 249, \"fpr\": 1.0, \"tpr\": 0.9959839357429718, \"n\": 43}, {\"threshold\": 0.76, \"p\": 249, \"fpr\": 1.0, \"tpr\": 0.9959839357429718, \"n\": 43}, {\"threshold\": 0.761, \"p\": 249, \"fpr\": 1.0, \"tpr\": 0.9959839357429718, \"n\": 43}, {\"threshold\": 0.762, \"p\": 249, \"fpr\": 1.0, \"tpr\": 0.9959839357429718, \"n\": 43}, {\"threshold\": 0.763, \"p\": 249, \"fpr\": 1.0, \"tpr\": 0.9959839357429718, \"n\": 43}, {\"threshold\": 0.764, \"p\": 249, \"fpr\": 1.0, \"tpr\": 0.9959839357429718, \"n\": 43}, {\"threshold\": 0.765, \"p\": 249, \"fpr\": 1.0, \"tpr\": 0.9959839357429718, \"n\": 43}, {\"threshold\": 0.766, \"p\": 249, \"fpr\": 1.0, \"tpr\": 0.9959839357429718, \"n\": 43}, {\"threshold\": 0.767, \"p\": 249, \"fpr\": 1.0, \"tpr\": 0.9959839357429718, \"n\": 43}, {\"threshold\": 0.768, \"p\": 249, \"fpr\": 1.0, \"tpr\": 0.9959839357429718, \"n\": 43}, {\"threshold\": 0.769, \"p\": 249, \"fpr\": 1.0, \"tpr\": 0.9959839357429718, \"n\": 43}, {\"threshold\": 0.77, \"p\": 249, \"fpr\": 1.0, \"tpr\": 0.9959839357429718, \"n\": 43}, {\"threshold\": 0.771, \"p\": 249, \"fpr\": 1.0, \"tpr\": 0.9959839357429718, \"n\": 43}, {\"threshold\": 0.772, \"p\": 249, \"fpr\": 1.0, \"tpr\": 0.9959839357429718, \"n\": 43}, {\"threshold\": 0.773, \"p\": 249, \"fpr\": 1.0, \"tpr\": 0.9959839357429718, \"n\": 43}, {\"threshold\": 0.774, \"p\": 249, \"fpr\": 1.0, \"tpr\": 0.9959839357429718, \"n\": 43}, {\"threshold\": 0.775, \"p\": 249, \"fpr\": 1.0, \"tpr\": 0.9959839357429718, \"n\": 43}, {\"threshold\": 0.776, \"p\": 249, \"fpr\": 1.0, \"tpr\": 0.9959839357429718, \"n\": 43}, {\"threshold\": 0.777, \"p\": 249, \"fpr\": 1.0, \"tpr\": 0.9959839357429718, \"n\": 43}, {\"threshold\": 0.778, \"p\": 249, \"fpr\": 1.0, \"tpr\": 0.9959839357429718, \"n\": 43}, {\"threshold\": 0.779, \"p\": 249, \"fpr\": 1.0, \"tpr\": 0.9959839357429718, \"n\": 43}, {\"threshold\": 0.78, \"p\": 249, \"fpr\": 1.0, \"tpr\": 0.9959839357429718, \"n\": 43}, {\"threshold\": 0.781, \"p\": 249, \"fpr\": 1.0, \"tpr\": 0.9959839357429718, \"n\": 43}, {\"threshold\": 0.782, \"p\": 249, \"fpr\": 1.0, \"tpr\": 0.9959839357429718, \"n\": 43}, {\"threshold\": 0.783, \"p\": 249, \"fpr\": 1.0, \"tpr\": 0.9959839357429718, \"n\": 43}, {\"threshold\": 0.784, \"p\": 249, \"fpr\": 1.0, \"tpr\": 0.9959839357429718, \"n\": 43}, {\"threshold\": 0.785, \"p\": 249, \"fpr\": 1.0, \"tpr\": 0.9959839357429718, \"n\": 43}, {\"threshold\": 0.786, \"p\": 249, \"fpr\": 1.0, \"tpr\": 0.9959839357429718, \"n\": 43}, {\"threshold\": 0.787, \"p\": 249, \"fpr\": 1.0, \"tpr\": 0.9959839357429718, \"n\": 43}, {\"threshold\": 0.788, \"p\": 249, \"fpr\": 1.0, \"tpr\": 0.9959839357429718, \"n\": 43}, {\"threshold\": 0.789, \"p\": 249, \"fpr\": 1.0, \"tpr\": 0.9959839357429718, \"n\": 43}, {\"threshold\": 0.79, \"p\": 249, \"fpr\": 1.0, \"tpr\": 0.9959839357429718, \"n\": 43}, {\"threshold\": 0.791, \"p\": 249, \"fpr\": 1.0, \"tpr\": 0.9959839357429718, \"n\": 43}, {\"threshold\": 0.792, \"p\": 249, \"fpr\": 1.0, \"tpr\": 0.9959839357429718, \"n\": 43}, {\"threshold\": 0.793, \"p\": 249, \"fpr\": 1.0, \"tpr\": 0.9959839357429718, \"n\": 43}, {\"threshold\": 0.794, \"p\": 249, \"fpr\": 1.0, \"tpr\": 0.9959839357429718, \"n\": 43}, {\"threshold\": 0.795, \"p\": 249, \"fpr\": 1.0, \"tpr\": 0.9959839357429718, \"n\": 43}, {\"threshold\": 0.796, \"p\": 249, \"fpr\": 1.0, \"tpr\": 0.9959839357429718, \"n\": 43}, {\"threshold\": 0.797, \"p\": 249, \"fpr\": 1.0, \"tpr\": 0.9959839357429718, \"n\": 43}, {\"threshold\": 0.798, \"p\": 249, \"fpr\": 1.0, \"tpr\": 0.9959839357429718, \"n\": 43}, {\"threshold\": 0.799, \"p\": 249, \"fpr\": 1.0, \"tpr\": 0.9959839357429718, \"n\": 43}, {\"threshold\": 0.8, \"p\": 249, \"fpr\": 1.0, \"tpr\": 0.9959839357429718, \"n\": 43}, {\"threshold\": 0.801, \"p\": 249, \"fpr\": 1.0, \"tpr\": 0.9959839357429718, \"n\": 43}, {\"threshold\": 0.802, \"p\": 249, \"fpr\": 1.0, \"tpr\": 0.9959839357429718, \"n\": 43}, {\"threshold\": 0.803, \"p\": 249, \"fpr\": 1.0, \"tpr\": 0.9959839357429718, \"n\": 43}, {\"threshold\": 0.804, \"p\": 249, \"fpr\": 1.0, \"tpr\": 0.9959839357429718, \"n\": 43}, {\"threshold\": 0.805, \"p\": 249, \"fpr\": 1.0, \"tpr\": 0.9959839357429718, \"n\": 43}, {\"threshold\": 0.806, \"p\": 249, \"fpr\": 1.0, \"tpr\": 0.9959839357429718, \"n\": 43}, {\"threshold\": 0.807, \"p\": 249, \"fpr\": 1.0, \"tpr\": 0.9959839357429718, \"n\": 43}, {\"threshold\": 0.808, \"p\": 249, \"fpr\": 1.0, \"tpr\": 0.9959839357429718, \"n\": 43}, {\"threshold\": 0.809, \"p\": 249, \"fpr\": 1.0, \"tpr\": 0.9959839357429718, \"n\": 43}, {\"threshold\": 0.81, \"p\": 249, \"fpr\": 1.0, \"tpr\": 0.9959839357429718, \"n\": 43}, {\"threshold\": 0.811, \"p\": 249, \"fpr\": 1.0, \"tpr\": 0.9959839357429718, \"n\": 43}, {\"threshold\": 0.812, \"p\": 249, \"fpr\": 1.0, \"tpr\": 0.9959839357429718, \"n\": 43}, {\"threshold\": 0.813, \"p\": 249, \"fpr\": 1.0, \"tpr\": 0.9959839357429718, \"n\": 43}, {\"threshold\": 0.814, \"p\": 249, \"fpr\": 1.0, \"tpr\": 0.9959839357429718, \"n\": 43}, {\"threshold\": 0.815, \"p\": 249, \"fpr\": 1.0, \"tpr\": 0.9959839357429718, \"n\": 43}, {\"threshold\": 0.816, \"p\": 249, \"fpr\": 1.0, \"tpr\": 0.9959839357429718, \"n\": 43}, {\"threshold\": 0.817, \"p\": 249, \"fpr\": 1.0, \"tpr\": 0.9959839357429718, \"n\": 43}, {\"threshold\": 0.818, \"p\": 249, \"fpr\": 1.0, \"tpr\": 0.9959839357429718, \"n\": 43}, {\"threshold\": 0.819, \"p\": 249, \"fpr\": 1.0, \"tpr\": 0.9959839357429718, \"n\": 43}, {\"threshold\": 0.82, \"p\": 249, \"fpr\": 1.0, \"tpr\": 0.9959839357429718, \"n\": 43}, {\"threshold\": 0.821, \"p\": 249, \"fpr\": 1.0, \"tpr\": 0.9959839357429718, \"n\": 43}, {\"threshold\": 0.822, \"p\": 249, \"fpr\": 1.0, \"tpr\": 0.9959839357429718, \"n\": 43}, {\"threshold\": 0.823, \"p\": 249, \"fpr\": 1.0, \"tpr\": 0.9959839357429718, \"n\": 43}, {\"threshold\": 0.824, \"p\": 249, \"fpr\": 1.0, \"tpr\": 0.9959839357429718, \"n\": 43}, {\"threshold\": 0.825, \"p\": 249, \"fpr\": 1.0, \"tpr\": 0.9959839357429718, \"n\": 43}, {\"threshold\": 0.826, \"p\": 249, \"fpr\": 1.0, \"tpr\": 0.9959839357429718, \"n\": 43}, {\"threshold\": 0.827, \"p\": 249, \"fpr\": 1.0, \"tpr\": 0.9959839357429718, \"n\": 43}, {\"threshold\": 0.828, \"p\": 249, \"fpr\": 1.0, \"tpr\": 0.9959839357429718, \"n\": 43}, {\"threshold\": 0.829, \"p\": 249, \"fpr\": 1.0, \"tpr\": 0.9959839357429718, \"n\": 43}, {\"threshold\": 0.83, \"p\": 249, \"fpr\": 1.0, \"tpr\": 0.9959839357429718, \"n\": 43}, {\"threshold\": 0.831, \"p\": 249, \"fpr\": 1.0, \"tpr\": 0.9959839357429718, \"n\": 43}, {\"threshold\": 0.832, \"p\": 249, \"fpr\": 1.0, \"tpr\": 0.9959839357429718, \"n\": 43}, {\"threshold\": 0.833, \"p\": 249, \"fpr\": 1.0, \"tpr\": 0.9959839357429718, \"n\": 43}, {\"threshold\": 0.834, \"p\": 249, \"fpr\": 1.0, \"tpr\": 0.9959839357429718, \"n\": 43}, {\"threshold\": 0.835, \"p\": 249, \"fpr\": 1.0, \"tpr\": 0.9959839357429718, \"n\": 43}, {\"threshold\": 0.836, \"p\": 249, \"fpr\": 1.0, \"tpr\": 0.9959839357429718, \"n\": 43}, {\"threshold\": 0.837, \"p\": 249, \"fpr\": 1.0, \"tpr\": 0.9959839357429718, \"n\": 43}, {\"threshold\": 0.838, \"p\": 249, \"fpr\": 1.0, \"tpr\": 0.9959839357429718, \"n\": 43}, {\"threshold\": 0.839, \"p\": 249, \"fpr\": 1.0, \"tpr\": 0.9959839357429718, \"n\": 43}, {\"threshold\": 0.84, \"p\": 249, \"fpr\": 1.0, \"tpr\": 0.9959839357429718, \"n\": 43}, {\"threshold\": 0.841, \"p\": 249, \"fpr\": 1.0, \"tpr\": 0.9959839357429718, \"n\": 43}, {\"threshold\": 0.842, \"p\": 249, \"fpr\": 1.0, \"tpr\": 0.9959839357429718, \"n\": 43}, {\"threshold\": 0.843, \"p\": 249, \"fpr\": 1.0, \"tpr\": 0.9959839357429718, \"n\": 43}, {\"threshold\": 0.844, \"p\": 249, \"fpr\": 1.0, \"tpr\": 0.9959839357429718, \"n\": 43}, {\"threshold\": 0.845, \"p\": 249, \"fpr\": 1.0, \"tpr\": 0.9959839357429718, \"n\": 43}, {\"threshold\": 0.846, \"p\": 249, \"fpr\": 1.0, \"tpr\": 0.9959839357429718, \"n\": 43}, {\"threshold\": 0.847, \"p\": 249, \"fpr\": 1.0, \"tpr\": 0.9959839357429718, \"n\": 43}, {\"threshold\": 0.848, \"p\": 249, \"fpr\": 1.0, \"tpr\": 0.9959839357429718, \"n\": 43}, {\"threshold\": 0.849, \"p\": 249, \"fpr\": 1.0, \"tpr\": 0.9959839357429718, \"n\": 43}, {\"threshold\": 0.85, \"p\": 249, \"fpr\": 1.0, \"tpr\": 0.9959839357429718, \"n\": 43}, {\"threshold\": 0.851, \"p\": 249, \"fpr\": 1.0, \"tpr\": 0.9959839357429718, \"n\": 43}, {\"threshold\": 0.852, \"p\": 249, \"fpr\": 1.0, \"tpr\": 0.9959839357429718, \"n\": 43}, {\"threshold\": 0.853, \"p\": 249, \"fpr\": 1.0, \"tpr\": 0.9959839357429718, \"n\": 43}, {\"threshold\": 0.854, \"p\": 249, \"fpr\": 1.0, \"tpr\": 0.9959839357429718, \"n\": 43}, {\"threshold\": 0.855, \"p\": 249, \"fpr\": 1.0, \"tpr\": 0.9959839357429718, \"n\": 43}, {\"threshold\": 0.856, \"p\": 249, \"fpr\": 1.0, \"tpr\": 0.9959839357429718, \"n\": 43}, {\"threshold\": 0.857, \"p\": 249, \"fpr\": 1.0, \"tpr\": 0.9959839357429718, \"n\": 43}, {\"threshold\": 0.858, \"p\": 249, \"fpr\": 1.0, \"tpr\": 0.9959839357429718, \"n\": 43}, {\"threshold\": 0.859, \"p\": 249, \"fpr\": 1.0, \"tpr\": 0.9959839357429718, \"n\": 43}, {\"threshold\": 0.86, \"p\": 249, \"fpr\": 1.0, \"tpr\": 0.9959839357429718, \"n\": 43}, {\"threshold\": 0.861, \"p\": 249, \"fpr\": 1.0, \"tpr\": 0.9959839357429718, \"n\": 43}, {\"threshold\": 0.862, \"p\": 249, \"fpr\": 1.0, \"tpr\": 0.9959839357429718, \"n\": 43}, {\"threshold\": 0.863, \"p\": 249, \"fpr\": 1.0, \"tpr\": 0.9959839357429718, \"n\": 43}, {\"threshold\": 0.864, \"p\": 249, \"fpr\": 1.0, \"tpr\": 0.9959839357429718, \"n\": 43}, {\"threshold\": 0.865, \"p\": 249, \"fpr\": 1.0, \"tpr\": 0.9959839357429718, \"n\": 43}, {\"threshold\": 0.866, \"p\": 249, \"fpr\": 1.0, \"tpr\": 0.9959839357429718, \"n\": 43}, {\"threshold\": 0.867, \"p\": 249, \"fpr\": 1.0, \"tpr\": 0.9959839357429718, \"n\": 43}, {\"threshold\": 0.868, \"p\": 249, \"fpr\": 1.0, \"tpr\": 0.9959839357429718, \"n\": 43}, {\"threshold\": 0.869, \"p\": 249, \"fpr\": 1.0, \"tpr\": 0.9959839357429718, \"n\": 43}, {\"threshold\": 0.87, \"p\": 249, \"fpr\": 1.0, \"tpr\": 0.9959839357429718, \"n\": 43}, {\"threshold\": 0.871, \"p\": 249, \"fpr\": 1.0, \"tpr\": 0.9959839357429718, \"n\": 43}, {\"threshold\": 0.872, \"p\": 249, \"fpr\": 1.0, \"tpr\": 0.9959839357429718, \"n\": 43}, {\"threshold\": 0.873, \"p\": 249, \"fpr\": 1.0, \"tpr\": 0.9959839357429718, \"n\": 43}, {\"threshold\": 0.874, \"p\": 249, \"fpr\": 1.0, \"tpr\": 0.9959839357429718, \"n\": 43}, {\"threshold\": 0.875, \"p\": 249, \"fpr\": 1.0, \"tpr\": 0.9959839357429718, \"n\": 43}, {\"threshold\": 0.876, \"p\": 249, \"fpr\": 1.0, \"tpr\": 0.9959839357429718, \"n\": 43}, {\"threshold\": 0.877, \"p\": 249, \"fpr\": 1.0, \"tpr\": 0.9959839357429718, \"n\": 43}, {\"threshold\": 0.878, \"p\": 249, \"fpr\": 1.0, \"tpr\": 0.9959839357429718, \"n\": 43}, {\"threshold\": 0.879, \"p\": 249, \"fpr\": 1.0, \"tpr\": 0.9959839357429718, \"n\": 43}, {\"threshold\": 0.88, \"p\": 249, \"fpr\": 1.0, \"tpr\": 0.9959839357429718, \"n\": 43}, {\"threshold\": 0.881, \"p\": 249, \"fpr\": 1.0, \"tpr\": 0.9959839357429718, \"n\": 43}, {\"threshold\": 0.882, \"p\": 249, \"fpr\": 1.0, \"tpr\": 0.9959839357429718, \"n\": 43}, {\"threshold\": 0.883, \"p\": 249, \"fpr\": 1.0, \"tpr\": 0.9959839357429718, \"n\": 43}, {\"threshold\": 0.884, \"p\": 249, \"fpr\": 1.0, \"tpr\": 0.9959839357429718, \"n\": 43}, {\"threshold\": 0.885, \"p\": 249, \"fpr\": 1.0, \"tpr\": 0.9959839357429718, \"n\": 43}, {\"threshold\": 0.886, \"p\": 249, \"fpr\": 1.0, \"tpr\": 0.9959839357429718, \"n\": 43}, {\"threshold\": 0.887, \"p\": 249, \"fpr\": 1.0, \"tpr\": 0.9959839357429718, \"n\": 43}, {\"threshold\": 0.888, \"p\": 249, \"fpr\": 1.0, \"tpr\": 0.9959839357429718, \"n\": 43}, {\"threshold\": 0.889, \"p\": 249, \"fpr\": 1.0, \"tpr\": 0.9959839357429718, \"n\": 43}, {\"threshold\": 0.89, \"p\": 249, \"fpr\": 1.0, \"tpr\": 0.9959839357429718, \"n\": 43}, {\"threshold\": 0.891, \"p\": 249, \"fpr\": 1.0, \"tpr\": 0.9959839357429718, \"n\": 43}, {\"threshold\": 0.892, \"p\": 249, \"fpr\": 1.0, \"tpr\": 0.9959839357429718, \"n\": 43}, {\"threshold\": 0.893, \"p\": 249, \"fpr\": 1.0, \"tpr\": 0.9959839357429718, \"n\": 43}, {\"threshold\": 0.894, \"p\": 249, \"fpr\": 1.0, \"tpr\": 0.9959839357429718, \"n\": 43}, {\"threshold\": 0.895, \"p\": 249, \"fpr\": 1.0, \"tpr\": 0.9959839357429718, \"n\": 43}, {\"threshold\": 0.896, \"p\": 249, \"fpr\": 1.0, \"tpr\": 0.9959839357429718, \"n\": 43}, {\"threshold\": 0.897, \"p\": 249, \"fpr\": 1.0, \"tpr\": 0.9959839357429718, \"n\": 43}, {\"threshold\": 0.898, \"p\": 249, \"fpr\": 0.0, \"tpr\": 0.008032128514056224, \"n\": 43}, {\"threshold\": 0.899, \"p\": 249, \"fpr\": 0.0, \"tpr\": 0.008032128514056224, \"n\": 43}, {\"threshold\": 0.9, \"p\": 249, \"fpr\": 0.0, \"tpr\": 0.008032128514056224, \"n\": 43}, {\"threshold\": 0.901, \"p\": 249, \"fpr\": 0.0, \"tpr\": 0.008032128514056224, \"n\": 43}, {\"threshold\": 0.902, \"p\": 249, \"fpr\": 0.0, \"tpr\": 0.008032128514056224, \"n\": 43}, {\"threshold\": 0.903, \"p\": 249, \"fpr\": 0.0, \"tpr\": 0.008032128514056224, \"n\": 43}, {\"threshold\": 0.904, \"p\": 249, \"fpr\": 0.0, \"tpr\": 0.008032128514056224, \"n\": 43}, {\"threshold\": 0.905, \"p\": 249, \"fpr\": 0.0, \"tpr\": 0.008032128514056224, \"n\": 43}, {\"threshold\": 0.906, \"p\": 249, \"fpr\": 0.0, \"tpr\": 0.008032128514056224, \"n\": 43}, {\"threshold\": 0.907, \"p\": 249, \"fpr\": 0.0, \"tpr\": 0.008032128514056224, \"n\": 43}, {\"threshold\": 0.908, \"p\": 249, \"fpr\": 0.0, \"tpr\": 0.008032128514056224, \"n\": 43}, {\"threshold\": 0.909, \"p\": 249, \"fpr\": 0.0, \"tpr\": 0.008032128514056224, \"n\": 43}, {\"threshold\": 0.91, \"p\": 249, \"fpr\": 0.0, \"tpr\": 0.008032128514056224, \"n\": 43}, {\"threshold\": 0.911, \"p\": 249, \"fpr\": 0.0, \"tpr\": 0.008032128514056224, \"n\": 43}, {\"threshold\": 0.912, \"p\": 249, \"fpr\": 0.0, \"tpr\": 0.008032128514056224, \"n\": 43}, {\"threshold\": 0.913, \"p\": 249, \"fpr\": 0.0, \"tpr\": 0.008032128514056224, \"n\": 43}, {\"threshold\": 0.914, \"p\": 249, \"fpr\": 0.0, \"tpr\": 0.008032128514056224, \"n\": 43}, {\"threshold\": 0.915, \"p\": 249, \"fpr\": 0.0, \"tpr\": 0.008032128514056224, \"n\": 43}, {\"threshold\": 0.916, \"p\": 249, \"fpr\": 0.0, \"tpr\": 0.008032128514056224, \"n\": 43}, {\"threshold\": 0.917, \"p\": 249, \"fpr\": 0.0, \"tpr\": 0.008032128514056224, \"n\": 43}, {\"threshold\": 0.918, \"p\": 249, \"fpr\": 0.0, \"tpr\": 0.008032128514056224, \"n\": 43}, {\"threshold\": 0.919, \"p\": 249, \"fpr\": 0.0, \"tpr\": 0.008032128514056224, \"n\": 43}, {\"threshold\": 0.92, \"p\": 249, \"fpr\": 0.0, \"tpr\": 0.008032128514056224, \"n\": 43}, {\"threshold\": 0.921, \"p\": 249, \"fpr\": 0.0, \"tpr\": 0.008032128514056224, \"n\": 43}, {\"threshold\": 0.922, \"p\": 249, \"fpr\": 0.0, \"tpr\": 0.008032128514056224, \"n\": 43}, {\"threshold\": 0.923, \"p\": 249, \"fpr\": 0.0, \"tpr\": 0.008032128514056224, \"n\": 43}, {\"threshold\": 0.924, \"p\": 249, \"fpr\": 0.0, \"tpr\": 0.008032128514056224, \"n\": 43}, {\"threshold\": 0.925, \"p\": 249, \"fpr\": 0.0, \"tpr\": 0.008032128514056224, \"n\": 43}, {\"threshold\": 0.926, \"p\": 249, \"fpr\": 0.0, \"tpr\": 0.008032128514056224, \"n\": 43}, {\"threshold\": 0.927, \"p\": 249, \"fpr\": 0.0, \"tpr\": 0.008032128514056224, \"n\": 43}, {\"threshold\": 0.928, \"p\": 249, \"fpr\": 0.0, \"tpr\": 0.008032128514056224, \"n\": 43}, {\"threshold\": 0.929, \"p\": 249, \"fpr\": 0.0, \"tpr\": 0.008032128514056224, \"n\": 43}, {\"threshold\": 0.93, \"p\": 249, \"fpr\": 0.0, \"tpr\": 0.008032128514056224, \"n\": 43}, {\"threshold\": 0.931, \"p\": 249, \"fpr\": 0.0, \"tpr\": 0.008032128514056224, \"n\": 43}, {\"threshold\": 0.932, \"p\": 249, \"fpr\": 0.0, \"tpr\": 0.008032128514056224, \"n\": 43}, {\"threshold\": 0.933, \"p\": 249, \"fpr\": 0.0, \"tpr\": 0.008032128514056224, \"n\": 43}, {\"threshold\": 0.934, \"p\": 249, \"fpr\": 0.0, \"tpr\": 0.008032128514056224, \"n\": 43}, {\"threshold\": 0.935, \"p\": 249, \"fpr\": 0.0, \"tpr\": 0.008032128514056224, \"n\": 43}, {\"threshold\": 0.936, \"p\": 249, \"fpr\": 0.0, \"tpr\": 0.008032128514056224, \"n\": 43}, {\"threshold\": 0.937, \"p\": 249, \"fpr\": 0.0, \"tpr\": 0.008032128514056224, \"n\": 43}, {\"threshold\": 0.938, \"p\": 249, \"fpr\": 0.0, \"tpr\": 0.008032128514056224, \"n\": 43}, {\"threshold\": 0.939, \"p\": 249, \"fpr\": 0.0, \"tpr\": 0.008032128514056224, \"n\": 43}, {\"threshold\": 0.94, \"p\": 249, \"fpr\": 0.0, \"tpr\": 0.008032128514056224, \"n\": 43}, {\"threshold\": 0.941, \"p\": 249, \"fpr\": 0.0, \"tpr\": 0.008032128514056224, \"n\": 43}, {\"threshold\": 0.942, \"p\": 249, \"fpr\": 0.0, \"tpr\": 0.008032128514056224, \"n\": 43}, {\"threshold\": 0.943, \"p\": 249, \"fpr\": 0.0, \"tpr\": 0.008032128514056224, \"n\": 43}, {\"threshold\": 0.944, \"p\": 249, \"fpr\": 0.0, \"tpr\": 0.008032128514056224, \"n\": 43}, {\"threshold\": 0.945, \"p\": 249, \"fpr\": 0.0, \"tpr\": 0.008032128514056224, \"n\": 43}, {\"threshold\": 0.946, \"p\": 249, \"fpr\": 0.0, \"tpr\": 0.008032128514056224, \"n\": 43}, {\"threshold\": 0.947, \"p\": 249, \"fpr\": 0.0, \"tpr\": 0.008032128514056224, \"n\": 43}, {\"threshold\": 0.948, \"p\": 249, \"fpr\": 0.0, \"tpr\": 0.008032128514056224, \"n\": 43}, {\"threshold\": 0.949, \"p\": 249, \"fpr\": 0.0, \"tpr\": 0.008032128514056224, \"n\": 43}, {\"threshold\": 0.95, \"p\": 249, \"fpr\": 0.0, \"tpr\": 0.008032128514056224, \"n\": 43}, {\"threshold\": 0.951, \"p\": 249, \"fpr\": 0.0, \"tpr\": 0.008032128514056224, \"n\": 43}, {\"threshold\": 0.952, \"p\": 249, \"fpr\": 0.0, \"tpr\": 0.008032128514056224, \"n\": 43}, {\"threshold\": 0.953, \"p\": 249, \"fpr\": 0.0, \"tpr\": 0.008032128514056224, \"n\": 43}, {\"threshold\": 0.954, \"p\": 249, \"fpr\": 0.0, \"tpr\": 0.008032128514056224, \"n\": 43}, {\"threshold\": 0.955, \"p\": 249, \"fpr\": 0.0, \"tpr\": 0.008032128514056224, \"n\": 43}, {\"threshold\": 0.956, \"p\": 249, \"fpr\": 0.0, \"tpr\": 0.008032128514056224, \"n\": 43}, {\"threshold\": 0.957, \"p\": 249, \"fpr\": 0.0, \"tpr\": 0.008032128514056224, \"n\": 43}, {\"threshold\": 0.958, \"p\": 249, \"fpr\": 0.0, \"tpr\": 0.008032128514056224, \"n\": 43}, {\"threshold\": 0.959, \"p\": 249, \"fpr\": 0.0, \"tpr\": 0.008032128514056224, \"n\": 43}, {\"threshold\": 0.96, \"p\": 249, \"fpr\": 0.0, \"tpr\": 0.008032128514056224, \"n\": 43}, {\"threshold\": 0.961, \"p\": 249, \"fpr\": 0.0, \"tpr\": 0.008032128514056224, \"n\": 43}, {\"threshold\": 0.962, \"p\": 249, \"fpr\": 0.0, \"tpr\": 0.008032128514056224, \"n\": 43}, {\"threshold\": 0.963, \"p\": 249, \"fpr\": 0.0, \"tpr\": 0.008032128514056224, \"n\": 43}, {\"threshold\": 0.964, \"p\": 249, \"fpr\": 0.0, \"tpr\": 0.008032128514056224, \"n\": 43}, {\"threshold\": 0.965, \"p\": 249, \"fpr\": 0.0, \"tpr\": 0.008032128514056224, \"n\": 43}, {\"threshold\": 0.966, \"p\": 249, \"fpr\": 0.0, \"tpr\": 0.008032128514056224, \"n\": 43}, {\"threshold\": 0.967, \"p\": 249, \"fpr\": 0.0, \"tpr\": 0.008032128514056224, \"n\": 43}, {\"threshold\": 0.968, \"p\": 249, \"fpr\": 0.0, \"tpr\": 0.008032128514056224, \"n\": 43}, {\"threshold\": 0.969, \"p\": 249, \"fpr\": 0.0, \"tpr\": 0.008032128514056224, \"n\": 43}, {\"threshold\": 0.97, \"p\": 249, \"fpr\": 0.0, \"tpr\": 0.008032128514056224, \"n\": 43}, {\"threshold\": 0.971, \"p\": 249, \"fpr\": 0.0, \"tpr\": 0.008032128514056224, \"n\": 43}, {\"threshold\": 0.972, \"p\": 249, \"fpr\": 0.0, \"tpr\": 0.008032128514056224, \"n\": 43}, {\"threshold\": 0.973, \"p\": 249, \"fpr\": 0.0, \"tpr\": 0.008032128514056224, \"n\": 43}, {\"threshold\": 0.974, \"p\": 249, \"fpr\": 0.0, \"tpr\": 0.008032128514056224, \"n\": 43}, {\"threshold\": 0.975, \"p\": 249, \"fpr\": 0.0, \"tpr\": 0.008032128514056224, \"n\": 43}, {\"threshold\": 0.976, \"p\": 249, \"fpr\": 0.0, \"tpr\": 0.008032128514056224, \"n\": 43}, {\"threshold\": 0.977, \"p\": 249, \"fpr\": 0.0, \"tpr\": 0.008032128514056224, \"n\": 43}, {\"threshold\": 0.978, \"p\": 249, \"fpr\": 0.0, \"tpr\": 0.008032128514056224, \"n\": 43}, {\"threshold\": 0.979, \"p\": 249, \"fpr\": 0.0, \"tpr\": 0.008032128514056224, \"n\": 43}, {\"threshold\": 0.98, \"p\": 249, \"fpr\": 0.0, \"tpr\": 0.008032128514056224, \"n\": 43}, {\"threshold\": 0.981, \"p\": 249, \"fpr\": 0.0, \"tpr\": 0.008032128514056224, \"n\": 43}, {\"threshold\": 0.982, \"p\": 249, \"fpr\": 0.0, \"tpr\": 0.008032128514056224, \"n\": 43}, {\"threshold\": 0.983, \"p\": 249, \"fpr\": 0.0, \"tpr\": 0.008032128514056224, \"n\": 43}, {\"threshold\": 0.984, \"p\": 249, \"fpr\": 0.0, \"tpr\": 0.008032128514056224, \"n\": 43}, {\"threshold\": 0.985, \"p\": 249, \"fpr\": 0.0, \"tpr\": 0.008032128514056224, \"n\": 43}, {\"threshold\": 0.986, \"p\": 249, \"fpr\": 0.0, \"tpr\": 0.008032128514056224, \"n\": 43}, {\"threshold\": 0.987, \"p\": 249, \"fpr\": 0.0, \"tpr\": 0.008032128514056224, \"n\": 43}, {\"threshold\": 0.988, \"p\": 249, \"fpr\": 0.0, \"tpr\": 0.008032128514056224, \"n\": 43}, {\"threshold\": 0.989, \"p\": 249, \"fpr\": 0.0, \"tpr\": 0.008032128514056224, \"n\": 43}, {\"threshold\": 0.99, \"p\": 249, \"fpr\": 0.0, \"tpr\": 0.008032128514056224, \"n\": 43}, {\"threshold\": 0.991, \"p\": 249, \"fpr\": 0.0, \"tpr\": 0.008032128514056224, \"n\": 43}, {\"threshold\": 0.992, \"p\": 249, \"fpr\": 0.0, \"tpr\": 0.008032128514056224, \"n\": 43}, {\"threshold\": 0.993, \"p\": 249, \"fpr\": 0.0, \"tpr\": 0.008032128514056224, \"n\": 43}, {\"threshold\": 0.994, \"p\": 249, \"fpr\": 0.0, \"tpr\": 0.008032128514056224, \"n\": 43}, {\"threshold\": 0.995, \"p\": 249, \"fpr\": 0.0, \"tpr\": 0.008032128514056224, \"n\": 43}, {\"threshold\": 0.996, \"p\": 249, \"fpr\": 0.0, \"tpr\": 0.008032128514056224, \"n\": 43}, {\"threshold\": 0.997, \"p\": 249, \"fpr\": 0.0, \"tpr\": 0.008032128514056224, \"n\": 43}, {\"threshold\": 0.998, \"p\": 249, \"fpr\": 0.0, \"tpr\": 0.008032128514056224, \"n\": 43}, {\"threshold\": 0.999, \"p\": 249, \"fpr\": 0.0, \"tpr\": 0.008032128514056224, \"n\": 43}, {\"threshold\": 1.0, \"p\": 249, \"fpr\": 0.0, \"tpr\": 0.0, \"n\": 43}]}]], \"type\": \"Model\"}, \"ipython\": true, \"view_params\": {\"model_type\": \"regression\", \"view\": \"Evaluation\"}, \"model_type\": \"regression\", \"attributes\": {\"section_titles\": [\"Schema\", \"Hyperparameters\", \"Training Summary\", \"Settings\", \"Highest Positive Coefficients\", \"Lowest Negative Coefficients\"], \"sections\": [[[\"Number of coefficients\", 10], [\"Number of examples\", 1121], [\"Number of classes\", 2], [\"Number of feature columns\", 9], [\"Number of unpacked features\", 9]], [[\"L1 penalty\", 0.0], [\"L2 penalty\", 0.01]], [[\"Solver\", \"newton\"], [\"Solver iterations\", 8], [\"Solver status\", \"SUCCESS: Optimal solution found.\"], [\"Training time (sec)\", 0.0111]], [[\"Log-likelihood\", 369.423]], [[\"love\", 6.4951], [\"bad\", 6.4951], [\"awful\", 6.4951], [\"(intercept)\", 2.1655]], [[\"great\", -1.0668]]]}, \"evaluations\": [[\"test_data\", {\"roc_curve\": [{\"threshold\": 0.0, \"p\": 249, \"fpr\": 1.0, \"tpr\": 1.0, \"n\": 43}, {\"threshold\": 0.001, \"p\": 249, \"fpr\": 1.0, \"tpr\": 1.0, \"n\": 43}, {\"threshold\": 0.002, \"p\": 249, \"fpr\": 1.0, \"tpr\": 1.0, \"n\": 43}, {\"threshold\": 0.003, \"p\": 249, \"fpr\": 1.0, \"tpr\": 1.0, \"n\": 43}, {\"threshold\": 0.004, \"p\": 249, \"fpr\": 1.0, \"tpr\": 1.0, \"n\": 43}, {\"threshold\": 0.005, \"p\": 249, \"fpr\": 1.0, \"tpr\": 1.0, \"n\": 43}, {\"threshold\": 0.006, \"p\": 249, \"fpr\": 1.0, \"tpr\": 1.0, \"n\": 43}, {\"threshold\": 0.007, \"p\": 249, \"fpr\": 1.0, \"tpr\": 1.0, \"n\": 43}, {\"threshold\": 0.008, \"p\": 249, \"fpr\": 1.0, \"tpr\": 1.0, \"n\": 43}, {\"threshold\": 0.009, \"p\": 249, \"fpr\": 1.0, \"tpr\": 1.0, \"n\": 43}, {\"threshold\": 0.01, \"p\": 249, \"fpr\": 1.0, \"tpr\": 1.0, \"n\": 43}, {\"threshold\": 0.011, \"p\": 249, \"fpr\": 1.0, \"tpr\": 1.0, \"n\": 43}, {\"threshold\": 0.012, \"p\": 249, \"fpr\": 1.0, \"tpr\": 1.0, \"n\": 43}, {\"threshold\": 0.013, \"p\": 249, \"fpr\": 1.0, \"tpr\": 1.0, \"n\": 43}, {\"threshold\": 0.014, \"p\": 249, \"fpr\": 1.0, \"tpr\": 1.0, \"n\": 43}, {\"threshold\": 0.015, \"p\": 249, \"fpr\": 1.0, \"tpr\": 1.0, \"n\": 43}, {\"threshold\": 0.016, \"p\": 249, \"fpr\": 1.0, \"tpr\": 1.0, \"n\": 43}, {\"threshold\": 0.017, \"p\": 249, \"fpr\": 1.0, \"tpr\": 1.0, \"n\": 43}, {\"threshold\": 0.018, \"p\": 249, \"fpr\": 1.0, \"tpr\": 1.0, \"n\": 43}, {\"threshold\": 0.019, \"p\": 249, \"fpr\": 1.0, \"tpr\": 1.0, \"n\": 43}, {\"threshold\": 0.02, \"p\": 249, \"fpr\": 1.0, \"tpr\": 1.0, \"n\": 43}, {\"threshold\": 0.021, \"p\": 249, \"fpr\": 1.0, \"tpr\": 1.0, \"n\": 43}, {\"threshold\": 0.022, \"p\": 249, \"fpr\": 1.0, \"tpr\": 1.0, \"n\": 43}, {\"threshold\": 0.023, \"p\": 249, \"fpr\": 1.0, \"tpr\": 1.0, \"n\": 43}, {\"threshold\": 0.024, \"p\": 249, \"fpr\": 1.0, \"tpr\": 1.0, \"n\": 43}, {\"threshold\": 0.025, \"p\": 249, \"fpr\": 1.0, \"tpr\": 1.0, \"n\": 43}, {\"threshold\": 0.026, \"p\": 249, \"fpr\": 1.0, \"tpr\": 1.0, \"n\": 43}, {\"threshold\": 0.027, \"p\": 249, \"fpr\": 1.0, \"tpr\": 1.0, \"n\": 43}, {\"threshold\": 0.028, \"p\": 249, \"fpr\": 1.0, \"tpr\": 1.0, \"n\": 43}, {\"threshold\": 0.029, \"p\": 249, \"fpr\": 1.0, \"tpr\": 1.0, \"n\": 43}, {\"threshold\": 0.03, \"p\": 249, \"fpr\": 1.0, \"tpr\": 1.0, \"n\": 43}, {\"threshold\": 0.031, \"p\": 249, \"fpr\": 1.0, \"tpr\": 1.0, \"n\": 43}, {\"threshold\": 0.032, \"p\": 249, \"fpr\": 1.0, \"tpr\": 1.0, \"n\": 43}, {\"threshold\": 0.033, \"p\": 249, \"fpr\": 1.0, \"tpr\": 1.0, \"n\": 43}, {\"threshold\": 0.034, \"p\": 249, \"fpr\": 1.0, \"tpr\": 1.0, \"n\": 43}, {\"threshold\": 0.035, \"p\": 249, \"fpr\": 1.0, \"tpr\": 1.0, \"n\": 43}, {\"threshold\": 0.036, \"p\": 249, \"fpr\": 1.0, \"tpr\": 1.0, \"n\": 43}, {\"threshold\": 0.037, \"p\": 249, \"fpr\": 1.0, \"tpr\": 1.0, \"n\": 43}, {\"threshold\": 0.038, \"p\": 249, \"fpr\": 1.0, \"tpr\": 1.0, \"n\": 43}, {\"threshold\": 0.039, \"p\": 249, \"fpr\": 1.0, \"tpr\": 1.0, \"n\": 43}, {\"threshold\": 0.04, \"p\": 249, \"fpr\": 1.0, \"tpr\": 1.0, \"n\": 43}, {\"threshold\": 0.041, \"p\": 249, \"fpr\": 1.0, \"tpr\": 1.0, \"n\": 43}, {\"threshold\": 0.042, \"p\": 249, \"fpr\": 1.0, \"tpr\": 1.0, \"n\": 43}, {\"threshold\": 0.043, \"p\": 249, \"fpr\": 1.0, \"tpr\": 1.0, \"n\": 43}, {\"threshold\": 0.044, \"p\": 249, \"fpr\": 1.0, \"tpr\": 1.0, \"n\": 43}, {\"threshold\": 0.045, \"p\": 249, \"fpr\": 1.0, \"tpr\": 1.0, \"n\": 43}, {\"threshold\": 0.046, \"p\": 249, \"fpr\": 1.0, \"tpr\": 1.0, \"n\": 43}, {\"threshold\": 0.047, \"p\": 249, \"fpr\": 1.0, \"tpr\": 1.0, \"n\": 43}, {\"threshold\": 0.048, \"p\": 249, \"fpr\": 1.0, \"tpr\": 1.0, \"n\": 43}, {\"threshold\": 0.049, \"p\": 249, \"fpr\": 1.0, \"tpr\": 1.0, \"n\": 43}, {\"threshold\": 0.05, \"p\": 249, \"fpr\": 1.0, \"tpr\": 1.0, \"n\": 43}, {\"threshold\": 0.051, \"p\": 249, \"fpr\": 1.0, \"tpr\": 1.0, \"n\": 43}, {\"threshold\": 0.052, \"p\": 249, \"fpr\": 1.0, \"tpr\": 1.0, \"n\": 43}, {\"threshold\": 0.053, \"p\": 249, \"fpr\": 1.0, \"tpr\": 1.0, \"n\": 43}, {\"threshold\": 0.054, \"p\": 249, \"fpr\": 1.0, \"tpr\": 1.0, \"n\": 43}, {\"threshold\": 0.055, \"p\": 249, \"fpr\": 1.0, \"tpr\": 1.0, \"n\": 43}, {\"threshold\": 0.056, \"p\": 249, \"fpr\": 1.0, \"tpr\": 1.0, \"n\": 43}, {\"threshold\": 0.057, \"p\": 249, \"fpr\": 1.0, \"tpr\": 1.0, \"n\": 43}, {\"threshold\": 0.058, \"p\": 249, \"fpr\": 1.0, \"tpr\": 1.0, \"n\": 43}, {\"threshold\": 0.059, \"p\": 249, \"fpr\": 1.0, \"tpr\": 1.0, \"n\": 43}, {\"threshold\": 0.06, \"p\": 249, \"fpr\": 1.0, \"tpr\": 1.0, \"n\": 43}, {\"threshold\": 0.061, \"p\": 249, \"fpr\": 1.0, \"tpr\": 1.0, \"n\": 43}, {\"threshold\": 0.062, \"p\": 249, \"fpr\": 1.0, \"tpr\": 1.0, \"n\": 43}, {\"threshold\": 0.063, \"p\": 249, \"fpr\": 1.0, \"tpr\": 1.0, \"n\": 43}, {\"threshold\": 0.064, \"p\": 249, \"fpr\": 1.0, \"tpr\": 1.0, \"n\": 43}, {\"threshold\": 0.065, \"p\": 249, \"fpr\": 1.0, \"tpr\": 1.0, \"n\": 43}, {\"threshold\": 0.066, \"p\": 249, \"fpr\": 1.0, \"tpr\": 1.0, \"n\": 43}, {\"threshold\": 0.067, \"p\": 249, \"fpr\": 1.0, \"tpr\": 1.0, \"n\": 43}, {\"threshold\": 0.068, \"p\": 249, \"fpr\": 1.0, \"tpr\": 1.0, \"n\": 43}, {\"threshold\": 0.069, \"p\": 249, \"fpr\": 1.0, \"tpr\": 1.0, \"n\": 43}, {\"threshold\": 0.07, \"p\": 249, \"fpr\": 1.0, \"tpr\": 1.0, \"n\": 43}, {\"threshold\": 0.071, \"p\": 249, \"fpr\": 1.0, \"tpr\": 1.0, \"n\": 43}, {\"threshold\": 0.072, \"p\": 249, \"fpr\": 1.0, \"tpr\": 1.0, \"n\": 43}, {\"threshold\": 0.073, \"p\": 249, \"fpr\": 1.0, \"tpr\": 1.0, \"n\": 43}, {\"threshold\": 0.074, \"p\": 249, \"fpr\": 1.0, \"tpr\": 1.0, \"n\": 43}, {\"threshold\": 0.075, \"p\": 249, \"fpr\": 1.0, \"tpr\": 1.0, \"n\": 43}, {\"threshold\": 0.076, \"p\": 249, \"fpr\": 1.0, \"tpr\": 1.0, \"n\": 43}, {\"threshold\": 0.077, \"p\": 249, \"fpr\": 1.0, \"tpr\": 1.0, \"n\": 43}, {\"threshold\": 0.078, \"p\": 249, \"fpr\": 1.0, \"tpr\": 1.0, \"n\": 43}, {\"threshold\": 0.079, \"p\": 249, \"fpr\": 1.0, \"tpr\": 1.0, \"n\": 43}, {\"threshold\": 0.08, \"p\": 249, \"fpr\": 1.0, \"tpr\": 1.0, \"n\": 43}, {\"threshold\": 0.081, \"p\": 249, \"fpr\": 1.0, \"tpr\": 1.0, \"n\": 43}, {\"threshold\": 0.082, \"p\": 249, \"fpr\": 1.0, \"tpr\": 1.0, \"n\": 43}, {\"threshold\": 0.083, \"p\": 249, \"fpr\": 1.0, \"tpr\": 1.0, \"n\": 43}, {\"threshold\": 0.084, \"p\": 249, \"fpr\": 1.0, \"tpr\": 1.0, \"n\": 43}, {\"threshold\": 0.085, \"p\": 249, \"fpr\": 1.0, \"tpr\": 1.0, \"n\": 43}, {\"threshold\": 0.086, \"p\": 249, \"fpr\": 1.0, \"tpr\": 1.0, \"n\": 43}, {\"threshold\": 0.087, \"p\": 249, \"fpr\": 1.0, \"tpr\": 1.0, \"n\": 43}, {\"threshold\": 0.088, \"p\": 249, \"fpr\": 1.0, \"tpr\": 1.0, \"n\": 43}, {\"threshold\": 0.089, \"p\": 249, \"fpr\": 1.0, \"tpr\": 1.0, \"n\": 43}, {\"threshold\": 0.09, \"p\": 249, \"fpr\": 1.0, \"tpr\": 1.0, \"n\": 43}, {\"threshold\": 0.091, \"p\": 249, \"fpr\": 1.0, \"tpr\": 1.0, \"n\": 43}, {\"threshold\": 0.092, \"p\": 249, \"fpr\": 1.0, \"tpr\": 1.0, \"n\": 43}, {\"threshold\": 0.093, \"p\": 249, \"fpr\": 1.0, \"tpr\": 1.0, \"n\": 43}, {\"threshold\": 0.094, \"p\": 249, \"fpr\": 1.0, \"tpr\": 1.0, \"n\": 43}, {\"threshold\": 0.095, \"p\": 249, \"fpr\": 1.0, \"tpr\": 1.0, \"n\": 43}, {\"threshold\": 0.096, \"p\": 249, \"fpr\": 1.0, \"tpr\": 1.0, \"n\": 43}, {\"threshold\": 0.097, \"p\": 249, \"fpr\": 1.0, \"tpr\": 1.0, \"n\": 43}, {\"threshold\": 0.098, \"p\": 249, \"fpr\": 1.0, \"tpr\": 1.0, \"n\": 43}, {\"threshold\": 0.099, \"p\": 249, \"fpr\": 1.0, \"tpr\": 1.0, \"n\": 43}, {\"threshold\": 0.1, \"p\": 249, \"fpr\": 1.0, \"tpr\": 1.0, \"n\": 43}, {\"threshold\": 0.101, \"p\": 249, \"fpr\": 1.0, \"tpr\": 1.0, \"n\": 43}, {\"threshold\": 0.102, \"p\": 249, \"fpr\": 1.0, \"tpr\": 1.0, \"n\": 43}, {\"threshold\": 0.103, \"p\": 249, \"fpr\": 1.0, \"tpr\": 1.0, \"n\": 43}, {\"threshold\": 0.104, \"p\": 249, \"fpr\": 1.0, \"tpr\": 1.0, \"n\": 43}, {\"threshold\": 0.105, \"p\": 249, \"fpr\": 1.0, \"tpr\": 1.0, \"n\": 43}, {\"threshold\": 0.106, \"p\": 249, \"fpr\": 1.0, \"tpr\": 1.0, \"n\": 43}, {\"threshold\": 0.107, \"p\": 249, \"fpr\": 1.0, \"tpr\": 1.0, \"n\": 43}, {\"threshold\": 0.108, \"p\": 249, \"fpr\": 1.0, \"tpr\": 1.0, \"n\": 43}, {\"threshold\": 0.109, \"p\": 249, \"fpr\": 1.0, \"tpr\": 1.0, \"n\": 43}, {\"threshold\": 0.11, \"p\": 249, \"fpr\": 1.0, \"tpr\": 1.0, \"n\": 43}, {\"threshold\": 0.111, \"p\": 249, \"fpr\": 1.0, \"tpr\": 1.0, \"n\": 43}, {\"threshold\": 0.112, \"p\": 249, \"fpr\": 1.0, \"tpr\": 1.0, \"n\": 43}, {\"threshold\": 0.113, \"p\": 249, \"fpr\": 1.0, \"tpr\": 1.0, \"n\": 43}, {\"threshold\": 0.114, \"p\": 249, \"fpr\": 1.0, \"tpr\": 1.0, \"n\": 43}, {\"threshold\": 0.115, \"p\": 249, \"fpr\": 1.0, \"tpr\": 1.0, \"n\": 43}, {\"threshold\": 0.116, \"p\": 249, \"fpr\": 1.0, \"tpr\": 1.0, \"n\": 43}, {\"threshold\": 0.117, \"p\": 249, \"fpr\": 1.0, \"tpr\": 1.0, \"n\": 43}, {\"threshold\": 0.118, \"p\": 249, \"fpr\": 1.0, \"tpr\": 1.0, \"n\": 43}, {\"threshold\": 0.119, \"p\": 249, \"fpr\": 1.0, \"tpr\": 1.0, \"n\": 43}, {\"threshold\": 0.12, \"p\": 249, \"fpr\": 1.0, \"tpr\": 1.0, \"n\": 43}, {\"threshold\": 0.121, \"p\": 249, \"fpr\": 1.0, \"tpr\": 1.0, \"n\": 43}, {\"threshold\": 0.122, \"p\": 249, \"fpr\": 1.0, \"tpr\": 1.0, \"n\": 43}, {\"threshold\": 0.123, \"p\": 249, \"fpr\": 1.0, \"tpr\": 1.0, \"n\": 43}, {\"threshold\": 0.124, \"p\": 249, \"fpr\": 1.0, \"tpr\": 1.0, \"n\": 43}, {\"threshold\": 0.125, \"p\": 249, \"fpr\": 1.0, \"tpr\": 1.0, \"n\": 43}, {\"threshold\": 0.126, \"p\": 249, \"fpr\": 1.0, \"tpr\": 1.0, \"n\": 43}, {\"threshold\": 0.127, \"p\": 249, \"fpr\": 1.0, \"tpr\": 1.0, \"n\": 43}, {\"threshold\": 0.128, \"p\": 249, \"fpr\": 1.0, \"tpr\": 1.0, \"n\": 43}, {\"threshold\": 0.129, \"p\": 249, \"fpr\": 1.0, \"tpr\": 1.0, \"n\": 43}, {\"threshold\": 0.13, \"p\": 249, \"fpr\": 1.0, \"tpr\": 1.0, \"n\": 43}, {\"threshold\": 0.131, \"p\": 249, \"fpr\": 1.0, \"tpr\": 1.0, \"n\": 43}, {\"threshold\": 0.132, \"p\": 249, \"fpr\": 1.0, \"tpr\": 1.0, \"n\": 43}, {\"threshold\": 0.133, \"p\": 249, \"fpr\": 1.0, \"tpr\": 1.0, \"n\": 43}, {\"threshold\": 0.134, \"p\": 249, \"fpr\": 1.0, \"tpr\": 1.0, \"n\": 43}, {\"threshold\": 0.135, \"p\": 249, \"fpr\": 1.0, \"tpr\": 1.0, \"n\": 43}, {\"threshold\": 0.136, \"p\": 249, \"fpr\": 1.0, \"tpr\": 1.0, \"n\": 43}, {\"threshold\": 0.137, \"p\": 249, \"fpr\": 1.0, \"tpr\": 1.0, \"n\": 43}, {\"threshold\": 0.138, \"p\": 249, \"fpr\": 1.0, \"tpr\": 1.0, \"n\": 43}, {\"threshold\": 0.139, \"p\": 249, \"fpr\": 1.0, \"tpr\": 1.0, \"n\": 43}, {\"threshold\": 0.14, \"p\": 249, \"fpr\": 1.0, \"tpr\": 1.0, \"n\": 43}, {\"threshold\": 0.141, \"p\": 249, \"fpr\": 1.0, \"tpr\": 1.0, \"n\": 43}, {\"threshold\": 0.142, \"p\": 249, \"fpr\": 1.0, \"tpr\": 1.0, \"n\": 43}, {\"threshold\": 0.143, \"p\": 249, \"fpr\": 1.0, \"tpr\": 1.0, \"n\": 43}, {\"threshold\": 0.144, \"p\": 249, \"fpr\": 1.0, \"tpr\": 1.0, \"n\": 43}, {\"threshold\": 0.145, \"p\": 249, \"fpr\": 1.0, \"tpr\": 1.0, \"n\": 43}, {\"threshold\": 0.146, \"p\": 249, \"fpr\": 1.0, \"tpr\": 1.0, \"n\": 43}, {\"threshold\": 0.147, \"p\": 249, \"fpr\": 1.0, \"tpr\": 1.0, \"n\": 43}, {\"threshold\": 0.148, \"p\": 249, \"fpr\": 1.0, \"tpr\": 1.0, \"n\": 43}, {\"threshold\": 0.149, \"p\": 249, \"fpr\": 1.0, \"tpr\": 1.0, \"n\": 43}, {\"threshold\": 0.15, \"p\": 249, \"fpr\": 1.0, \"tpr\": 1.0, \"n\": 43}, {\"threshold\": 0.151, \"p\": 249, \"fpr\": 1.0, \"tpr\": 1.0, \"n\": 43}, {\"threshold\": 0.152, \"p\": 249, \"fpr\": 1.0, \"tpr\": 1.0, \"n\": 43}, {\"threshold\": 0.153, \"p\": 249, \"fpr\": 1.0, \"tpr\": 1.0, \"n\": 43}, {\"threshold\": 0.154, \"p\": 249, \"fpr\": 1.0, \"tpr\": 1.0, \"n\": 43}, {\"threshold\": 0.155, \"p\": 249, \"fpr\": 1.0, \"tpr\": 1.0, \"n\": 43}, {\"threshold\": 0.156, \"p\": 249, \"fpr\": 1.0, \"tpr\": 1.0, \"n\": 43}, {\"threshold\": 0.157, \"p\": 249, \"fpr\": 1.0, \"tpr\": 1.0, \"n\": 43}, {\"threshold\": 0.158, \"p\": 249, \"fpr\": 1.0, \"tpr\": 1.0, \"n\": 43}, {\"threshold\": 0.159, \"p\": 249, \"fpr\": 1.0, \"tpr\": 1.0, \"n\": 43}, {\"threshold\": 0.16, \"p\": 249, \"fpr\": 1.0, \"tpr\": 1.0, \"n\": 43}, {\"threshold\": 0.161, \"p\": 249, \"fpr\": 1.0, \"tpr\": 1.0, \"n\": 43}, {\"threshold\": 0.162, \"p\": 249, \"fpr\": 1.0, \"tpr\": 1.0, \"n\": 43}, {\"threshold\": 0.163, \"p\": 249, \"fpr\": 1.0, \"tpr\": 1.0, \"n\": 43}, {\"threshold\": 0.164, \"p\": 249, \"fpr\": 1.0, \"tpr\": 1.0, \"n\": 43}, {\"threshold\": 0.165, \"p\": 249, \"fpr\": 1.0, \"tpr\": 1.0, \"n\": 43}, {\"threshold\": 0.166, \"p\": 249, \"fpr\": 1.0, \"tpr\": 1.0, \"n\": 43}, {\"threshold\": 0.167, \"p\": 249, \"fpr\": 1.0, \"tpr\": 1.0, \"n\": 43}, {\"threshold\": 0.168, \"p\": 249, \"fpr\": 1.0, \"tpr\": 1.0, \"n\": 43}, {\"threshold\": 0.169, \"p\": 249, \"fpr\": 1.0, \"tpr\": 1.0, \"n\": 43}, {\"threshold\": 0.17, \"p\": 249, \"fpr\": 1.0, \"tpr\": 1.0, \"n\": 43}, {\"threshold\": 0.171, \"p\": 249, \"fpr\": 1.0, \"tpr\": 1.0, \"n\": 43}, {\"threshold\": 0.172, \"p\": 249, \"fpr\": 1.0, \"tpr\": 1.0, \"n\": 43}, {\"threshold\": 0.173, \"p\": 249, \"fpr\": 1.0, \"tpr\": 1.0, \"n\": 43}, {\"threshold\": 0.174, \"p\": 249, \"fpr\": 1.0, \"tpr\": 1.0, \"n\": 43}, {\"threshold\": 0.175, \"p\": 249, \"fpr\": 1.0, \"tpr\": 1.0, \"n\": 43}, {\"threshold\": 0.176, \"p\": 249, \"fpr\": 1.0, \"tpr\": 1.0, \"n\": 43}, {\"threshold\": 0.177, \"p\": 249, \"fpr\": 1.0, \"tpr\": 1.0, \"n\": 43}, {\"threshold\": 0.178, \"p\": 249, \"fpr\": 1.0, \"tpr\": 1.0, \"n\": 43}, {\"threshold\": 0.179, \"p\": 249, \"fpr\": 1.0, \"tpr\": 1.0, \"n\": 43}, {\"threshold\": 0.18, \"p\": 249, \"fpr\": 1.0, \"tpr\": 1.0, \"n\": 43}, {\"threshold\": 0.181, \"p\": 249, \"fpr\": 1.0, \"tpr\": 1.0, \"n\": 43}, {\"threshold\": 0.182, \"p\": 249, \"fpr\": 1.0, \"tpr\": 1.0, \"n\": 43}, {\"threshold\": 0.183, \"p\": 249, \"fpr\": 1.0, \"tpr\": 1.0, \"n\": 43}, {\"threshold\": 0.184, \"p\": 249, \"fpr\": 1.0, \"tpr\": 1.0, \"n\": 43}, {\"threshold\": 0.185, \"p\": 249, \"fpr\": 1.0, \"tpr\": 1.0, \"n\": 43}, {\"threshold\": 0.186, \"p\": 249, \"fpr\": 1.0, \"tpr\": 1.0, \"n\": 43}, {\"threshold\": 0.187, \"p\": 249, \"fpr\": 1.0, \"tpr\": 1.0, \"n\": 43}, {\"threshold\": 0.188, \"p\": 249, \"fpr\": 1.0, \"tpr\": 1.0, \"n\": 43}, {\"threshold\": 0.189, \"p\": 249, \"fpr\": 1.0, \"tpr\": 1.0, \"n\": 43}, {\"threshold\": 0.19, \"p\": 249, \"fpr\": 1.0, \"tpr\": 1.0, \"n\": 43}, {\"threshold\": 0.191, \"p\": 249, \"fpr\": 1.0, \"tpr\": 1.0, \"n\": 43}, {\"threshold\": 0.192, \"p\": 249, \"fpr\": 1.0, \"tpr\": 1.0, \"n\": 43}, {\"threshold\": 0.193, \"p\": 249, \"fpr\": 1.0, \"tpr\": 1.0, \"n\": 43}, {\"threshold\": 0.194, \"p\": 249, \"fpr\": 1.0, \"tpr\": 1.0, \"n\": 43}, {\"threshold\": 0.195, \"p\": 249, \"fpr\": 1.0, \"tpr\": 1.0, \"n\": 43}, {\"threshold\": 0.196, \"p\": 249, \"fpr\": 1.0, \"tpr\": 1.0, \"n\": 43}, {\"threshold\": 0.197, \"p\": 249, \"fpr\": 1.0, \"tpr\": 1.0, \"n\": 43}, {\"threshold\": 0.198, \"p\": 249, \"fpr\": 1.0, \"tpr\": 1.0, \"n\": 43}, {\"threshold\": 0.199, \"p\": 249, \"fpr\": 1.0, \"tpr\": 1.0, \"n\": 43}, {\"threshold\": 0.2, \"p\": 249, \"fpr\": 1.0, \"tpr\": 1.0, \"n\": 43}, {\"threshold\": 0.201, \"p\": 249, \"fpr\": 1.0, \"tpr\": 1.0, \"n\": 43}, {\"threshold\": 0.202, \"p\": 249, \"fpr\": 1.0, \"tpr\": 1.0, \"n\": 43}, {\"threshold\": 0.203, \"p\": 249, \"fpr\": 1.0, \"tpr\": 1.0, \"n\": 43}, {\"threshold\": 0.204, \"p\": 249, \"fpr\": 1.0, \"tpr\": 1.0, \"n\": 43}, {\"threshold\": 0.205, \"p\": 249, \"fpr\": 1.0, \"tpr\": 1.0, \"n\": 43}, {\"threshold\": 0.206, \"p\": 249, \"fpr\": 1.0, \"tpr\": 1.0, \"n\": 43}, {\"threshold\": 0.207, \"p\": 249, \"fpr\": 1.0, \"tpr\": 1.0, \"n\": 43}, {\"threshold\": 0.208, \"p\": 249, \"fpr\": 1.0, \"tpr\": 1.0, \"n\": 43}, {\"threshold\": 0.209, \"p\": 249, \"fpr\": 1.0, \"tpr\": 1.0, \"n\": 43}, {\"threshold\": 0.21, \"p\": 249, \"fpr\": 1.0, \"tpr\": 1.0, \"n\": 43}, {\"threshold\": 0.211, \"p\": 249, \"fpr\": 1.0, \"tpr\": 1.0, \"n\": 43}, {\"threshold\": 0.212, \"p\": 249, \"fpr\": 1.0, \"tpr\": 1.0, \"n\": 43}, {\"threshold\": 0.213, \"p\": 249, \"fpr\": 1.0, \"tpr\": 1.0, \"n\": 43}, {\"threshold\": 0.214, \"p\": 249, \"fpr\": 1.0, \"tpr\": 1.0, \"n\": 43}, {\"threshold\": 0.215, \"p\": 249, \"fpr\": 1.0, \"tpr\": 1.0, \"n\": 43}, {\"threshold\": 0.216, \"p\": 249, \"fpr\": 1.0, \"tpr\": 1.0, \"n\": 43}, {\"threshold\": 0.217, \"p\": 249, \"fpr\": 1.0, \"tpr\": 1.0, \"n\": 43}, {\"threshold\": 0.218, \"p\": 249, \"fpr\": 1.0, \"tpr\": 1.0, \"n\": 43}, {\"threshold\": 0.219, \"p\": 249, \"fpr\": 1.0, \"tpr\": 1.0, \"n\": 43}, {\"threshold\": 0.22, \"p\": 249, \"fpr\": 1.0, \"tpr\": 1.0, \"n\": 43}, {\"threshold\": 0.221, \"p\": 249, \"fpr\": 1.0, \"tpr\": 1.0, \"n\": 43}, {\"threshold\": 0.222, \"p\": 249, \"fpr\": 1.0, \"tpr\": 1.0, \"n\": 43}, {\"threshold\": 0.223, \"p\": 249, \"fpr\": 1.0, \"tpr\": 1.0, \"n\": 43}, {\"threshold\": 0.224, \"p\": 249, \"fpr\": 1.0, \"tpr\": 1.0, \"n\": 43}, {\"threshold\": 0.225, \"p\": 249, \"fpr\": 1.0, \"tpr\": 1.0, \"n\": 43}, {\"threshold\": 0.226, \"p\": 249, \"fpr\": 1.0, \"tpr\": 1.0, \"n\": 43}, {\"threshold\": 0.227, \"p\": 249, \"fpr\": 1.0, \"tpr\": 1.0, \"n\": 43}, {\"threshold\": 0.228, \"p\": 249, \"fpr\": 1.0, \"tpr\": 1.0, \"n\": 43}, {\"threshold\": 0.229, \"p\": 249, \"fpr\": 1.0, \"tpr\": 1.0, \"n\": 43}, {\"threshold\": 0.23, \"p\": 249, \"fpr\": 1.0, \"tpr\": 1.0, \"n\": 43}, {\"threshold\": 0.231, \"p\": 249, \"fpr\": 1.0, \"tpr\": 1.0, \"n\": 43}, {\"threshold\": 0.232, \"p\": 249, \"fpr\": 1.0, \"tpr\": 1.0, \"n\": 43}, {\"threshold\": 0.233, \"p\": 249, \"fpr\": 1.0, \"tpr\": 1.0, \"n\": 43}, {\"threshold\": 0.234, \"p\": 249, \"fpr\": 1.0, \"tpr\": 1.0, \"n\": 43}, {\"threshold\": 0.235, \"p\": 249, \"fpr\": 1.0, \"tpr\": 1.0, \"n\": 43}, {\"threshold\": 0.236, \"p\": 249, \"fpr\": 1.0, \"tpr\": 1.0, \"n\": 43}, {\"threshold\": 0.237, \"p\": 249, \"fpr\": 1.0, \"tpr\": 1.0, \"n\": 43}, {\"threshold\": 0.238, \"p\": 249, \"fpr\": 1.0, \"tpr\": 1.0, \"n\": 43}, {\"threshold\": 0.239, \"p\": 249, \"fpr\": 1.0, \"tpr\": 1.0, \"n\": 43}, {\"threshold\": 0.24, \"p\": 249, \"fpr\": 1.0, \"tpr\": 1.0, \"n\": 43}, {\"threshold\": 0.241, \"p\": 249, \"fpr\": 1.0, \"tpr\": 1.0, \"n\": 43}, {\"threshold\": 0.242, \"p\": 249, \"fpr\": 1.0, \"tpr\": 1.0, \"n\": 43}, {\"threshold\": 0.243, \"p\": 249, \"fpr\": 1.0, \"tpr\": 1.0, \"n\": 43}, {\"threshold\": 0.244, \"p\": 249, \"fpr\": 1.0, \"tpr\": 1.0, \"n\": 43}, {\"threshold\": 0.245, \"p\": 249, \"fpr\": 1.0, \"tpr\": 1.0, \"n\": 43}, {\"threshold\": 0.246, \"p\": 249, \"fpr\": 1.0, \"tpr\": 1.0, \"n\": 43}, {\"threshold\": 0.247, \"p\": 249, \"fpr\": 1.0, \"tpr\": 1.0, \"n\": 43}, {\"threshold\": 0.248, \"p\": 249, \"fpr\": 1.0, \"tpr\": 1.0, \"n\": 43}, {\"threshold\": 0.249, \"p\": 249, \"fpr\": 1.0, \"tpr\": 1.0, \"n\": 43}, {\"threshold\": 0.25, \"p\": 249, \"fpr\": 1.0, \"tpr\": 1.0, \"n\": 43}, {\"threshold\": 0.251, \"p\": 249, \"fpr\": 1.0, \"tpr\": 1.0, \"n\": 43}, {\"threshold\": 0.252, \"p\": 249, \"fpr\": 1.0, \"tpr\": 1.0, \"n\": 43}, {\"threshold\": 0.253, \"p\": 249, \"fpr\": 1.0, \"tpr\": 1.0, \"n\": 43}, {\"threshold\": 0.254, \"p\": 249, \"fpr\": 1.0, \"tpr\": 1.0, \"n\": 43}, {\"threshold\": 0.255, \"p\": 249, \"fpr\": 1.0, \"tpr\": 1.0, \"n\": 43}, {\"threshold\": 0.256, \"p\": 249, \"fpr\": 1.0, \"tpr\": 1.0, \"n\": 43}, {\"threshold\": 0.257, \"p\": 249, \"fpr\": 1.0, \"tpr\": 1.0, \"n\": 43}, {\"threshold\": 0.258, \"p\": 249, \"fpr\": 1.0, \"tpr\": 1.0, \"n\": 43}, {\"threshold\": 0.259, \"p\": 249, \"fpr\": 1.0, \"tpr\": 1.0, \"n\": 43}, {\"threshold\": 0.26, \"p\": 249, \"fpr\": 1.0, \"tpr\": 1.0, \"n\": 43}, {\"threshold\": 0.261, \"p\": 249, \"fpr\": 1.0, \"tpr\": 1.0, \"n\": 43}, {\"threshold\": 0.262, \"p\": 249, \"fpr\": 1.0, \"tpr\": 1.0, \"n\": 43}, {\"threshold\": 0.263, \"p\": 249, \"fpr\": 1.0, \"tpr\": 1.0, \"n\": 43}, {\"threshold\": 0.264, \"p\": 249, \"fpr\": 1.0, \"tpr\": 1.0, \"n\": 43}, {\"threshold\": 0.265, \"p\": 249, \"fpr\": 1.0, \"tpr\": 1.0, \"n\": 43}, {\"threshold\": 0.266, \"p\": 249, \"fpr\": 1.0, \"tpr\": 1.0, \"n\": 43}, {\"threshold\": 0.267, \"p\": 249, \"fpr\": 1.0, \"tpr\": 1.0, \"n\": 43}, {\"threshold\": 0.268, \"p\": 249, \"fpr\": 1.0, \"tpr\": 1.0, \"n\": 43}, {\"threshold\": 0.269, \"p\": 249, \"fpr\": 1.0, \"tpr\": 1.0, \"n\": 43}, {\"threshold\": 0.27, \"p\": 249, \"fpr\": 1.0, \"tpr\": 1.0, \"n\": 43}, {\"threshold\": 0.271, \"p\": 249, \"fpr\": 1.0, \"tpr\": 1.0, \"n\": 43}, {\"threshold\": 0.272, \"p\": 249, \"fpr\": 1.0, \"tpr\": 1.0, \"n\": 43}, {\"threshold\": 0.273, \"p\": 249, \"fpr\": 1.0, \"tpr\": 1.0, \"n\": 43}, {\"threshold\": 0.274, \"p\": 249, \"fpr\": 1.0, \"tpr\": 1.0, \"n\": 43}, {\"threshold\": 0.275, \"p\": 249, \"fpr\": 1.0, \"tpr\": 1.0, \"n\": 43}, {\"threshold\": 0.276, \"p\": 249, \"fpr\": 1.0, \"tpr\": 1.0, \"n\": 43}, {\"threshold\": 0.277, \"p\": 249, \"fpr\": 1.0, \"tpr\": 1.0, \"n\": 43}, {\"threshold\": 0.278, \"p\": 249, \"fpr\": 1.0, \"tpr\": 1.0, \"n\": 43}, {\"threshold\": 0.279, \"p\": 249, \"fpr\": 1.0, \"tpr\": 1.0, \"n\": 43}, {\"threshold\": 0.28, \"p\": 249, \"fpr\": 1.0, \"tpr\": 1.0, \"n\": 43}, {\"threshold\": 0.281, \"p\": 249, \"fpr\": 1.0, \"tpr\": 1.0, \"n\": 43}, {\"threshold\": 0.282, \"p\": 249, \"fpr\": 1.0, \"tpr\": 1.0, \"n\": 43}, {\"threshold\": 0.283, \"p\": 249, \"fpr\": 1.0, \"tpr\": 1.0, \"n\": 43}, {\"threshold\": 0.284, \"p\": 249, \"fpr\": 1.0, \"tpr\": 1.0, \"n\": 43}, {\"threshold\": 0.285, \"p\": 249, \"fpr\": 1.0, \"tpr\": 1.0, \"n\": 43}, {\"threshold\": 0.286, \"p\": 249, \"fpr\": 1.0, \"tpr\": 1.0, \"n\": 43}, {\"threshold\": 0.287, \"p\": 249, \"fpr\": 1.0, \"tpr\": 1.0, \"n\": 43}, {\"threshold\": 0.288, \"p\": 249, \"fpr\": 1.0, \"tpr\": 1.0, \"n\": 43}, {\"threshold\": 0.289, \"p\": 249, \"fpr\": 1.0, \"tpr\": 1.0, \"n\": 43}, {\"threshold\": 0.29, \"p\": 249, \"fpr\": 1.0, \"tpr\": 1.0, \"n\": 43}, {\"threshold\": 0.291, \"p\": 249, \"fpr\": 1.0, \"tpr\": 1.0, \"n\": 43}, {\"threshold\": 0.292, \"p\": 249, \"fpr\": 1.0, \"tpr\": 1.0, \"n\": 43}, {\"threshold\": 0.293, \"p\": 249, \"fpr\": 1.0, \"tpr\": 1.0, \"n\": 43}, {\"threshold\": 0.294, \"p\": 249, \"fpr\": 1.0, \"tpr\": 1.0, \"n\": 43}, {\"threshold\": 0.295, \"p\": 249, \"fpr\": 1.0, \"tpr\": 1.0, \"n\": 43}, {\"threshold\": 0.296, \"p\": 249, \"fpr\": 1.0, \"tpr\": 1.0, \"n\": 43}, {\"threshold\": 0.297, \"p\": 249, \"fpr\": 1.0, \"tpr\": 1.0, \"n\": 43}, {\"threshold\": 0.298, \"p\": 249, \"fpr\": 1.0, \"tpr\": 1.0, \"n\": 43}, {\"threshold\": 0.299, \"p\": 249, \"fpr\": 1.0, \"tpr\": 1.0, \"n\": 43}, {\"threshold\": 0.3, \"p\": 249, \"fpr\": 1.0, \"tpr\": 1.0, \"n\": 43}, {\"threshold\": 0.301, \"p\": 249, \"fpr\": 1.0, \"tpr\": 1.0, \"n\": 43}, {\"threshold\": 0.302, \"p\": 249, \"fpr\": 1.0, \"tpr\": 1.0, \"n\": 43}, {\"threshold\": 0.303, \"p\": 249, \"fpr\": 1.0, \"tpr\": 1.0, \"n\": 43}, {\"threshold\": 0.304, \"p\": 249, \"fpr\": 1.0, \"tpr\": 1.0, \"n\": 43}, {\"threshold\": 0.305, \"p\": 249, \"fpr\": 1.0, \"tpr\": 1.0, \"n\": 43}, {\"threshold\": 0.306, \"p\": 249, \"fpr\": 1.0, \"tpr\": 1.0, \"n\": 43}, {\"threshold\": 0.307, \"p\": 249, \"fpr\": 1.0, \"tpr\": 1.0, \"n\": 43}, {\"threshold\": 0.308, \"p\": 249, \"fpr\": 1.0, \"tpr\": 1.0, \"n\": 43}, {\"threshold\": 0.309, \"p\": 249, \"fpr\": 1.0, \"tpr\": 1.0, \"n\": 43}, {\"threshold\": 0.31, \"p\": 249, \"fpr\": 1.0, \"tpr\": 1.0, \"n\": 43}, {\"threshold\": 0.311, \"p\": 249, \"fpr\": 1.0, \"tpr\": 1.0, \"n\": 43}, {\"threshold\": 0.312, \"p\": 249, \"fpr\": 1.0, \"tpr\": 1.0, \"n\": 43}, {\"threshold\": 0.313, \"p\": 249, \"fpr\": 1.0, \"tpr\": 1.0, \"n\": 43}, {\"threshold\": 0.314, \"p\": 249, \"fpr\": 1.0, \"tpr\": 1.0, \"n\": 43}, {\"threshold\": 0.315, \"p\": 249, \"fpr\": 1.0, \"tpr\": 1.0, \"n\": 43}, {\"threshold\": 0.316, \"p\": 249, \"fpr\": 1.0, \"tpr\": 1.0, \"n\": 43}, {\"threshold\": 0.317, \"p\": 249, \"fpr\": 1.0, \"tpr\": 1.0, \"n\": 43}, {\"threshold\": 0.318, \"p\": 249, \"fpr\": 1.0, \"tpr\": 1.0, \"n\": 43}, {\"threshold\": 0.319, \"p\": 249, \"fpr\": 1.0, \"tpr\": 1.0, \"n\": 43}, {\"threshold\": 0.32, \"p\": 249, \"fpr\": 1.0, \"tpr\": 1.0, \"n\": 43}, {\"threshold\": 0.321, \"p\": 249, \"fpr\": 1.0, \"tpr\": 1.0, \"n\": 43}, {\"threshold\": 0.322, \"p\": 249, \"fpr\": 1.0, \"tpr\": 1.0, \"n\": 43}, {\"threshold\": 0.323, \"p\": 249, \"fpr\": 1.0, \"tpr\": 1.0, \"n\": 43}, {\"threshold\": 0.324, \"p\": 249, \"fpr\": 1.0, \"tpr\": 1.0, \"n\": 43}, {\"threshold\": 0.325, \"p\": 249, \"fpr\": 1.0, \"tpr\": 1.0, \"n\": 43}, {\"threshold\": 0.326, \"p\": 249, \"fpr\": 1.0, \"tpr\": 1.0, \"n\": 43}, {\"threshold\": 0.327, \"p\": 249, \"fpr\": 1.0, \"tpr\": 1.0, \"n\": 43}, {\"threshold\": 0.328, \"p\": 249, \"fpr\": 1.0, \"tpr\": 1.0, \"n\": 43}, {\"threshold\": 0.329, \"p\": 249, \"fpr\": 1.0, \"tpr\": 1.0, \"n\": 43}, {\"threshold\": 0.33, \"p\": 249, \"fpr\": 1.0, \"tpr\": 1.0, \"n\": 43}, {\"threshold\": 0.331, \"p\": 249, \"fpr\": 1.0, \"tpr\": 1.0, \"n\": 43}, {\"threshold\": 0.332, \"p\": 249, \"fpr\": 1.0, \"tpr\": 1.0, \"n\": 43}, {\"threshold\": 0.333, \"p\": 249, \"fpr\": 1.0, \"tpr\": 1.0, \"n\": 43}, {\"threshold\": 0.334, \"p\": 249, \"fpr\": 1.0, \"tpr\": 1.0, \"n\": 43}, {\"threshold\": 0.335, \"p\": 249, \"fpr\": 1.0, \"tpr\": 1.0, \"n\": 43}, {\"threshold\": 0.336, \"p\": 249, \"fpr\": 1.0, \"tpr\": 1.0, \"n\": 43}, {\"threshold\": 0.337, \"p\": 249, \"fpr\": 1.0, \"tpr\": 1.0, \"n\": 43}, {\"threshold\": 0.338, \"p\": 249, \"fpr\": 1.0, \"tpr\": 1.0, \"n\": 43}, {\"threshold\": 0.339, \"p\": 249, \"fpr\": 1.0, \"tpr\": 1.0, \"n\": 43}, {\"threshold\": 0.34, \"p\": 249, \"fpr\": 1.0, \"tpr\": 1.0, \"n\": 43}, {\"threshold\": 0.341, \"p\": 249, \"fpr\": 1.0, \"tpr\": 1.0, \"n\": 43}, {\"threshold\": 0.342, \"p\": 249, \"fpr\": 1.0, \"tpr\": 1.0, \"n\": 43}, {\"threshold\": 0.343, \"p\": 249, \"fpr\": 1.0, \"tpr\": 1.0, \"n\": 43}, {\"threshold\": 0.344, \"p\": 249, \"fpr\": 1.0, \"tpr\": 1.0, \"n\": 43}, {\"threshold\": 0.345, \"p\": 249, \"fpr\": 1.0, \"tpr\": 1.0, \"n\": 43}, {\"threshold\": 0.346, \"p\": 249, \"fpr\": 1.0, \"tpr\": 1.0, \"n\": 43}, {\"threshold\": 0.347, \"p\": 249, \"fpr\": 1.0, \"tpr\": 1.0, \"n\": 43}, {\"threshold\": 0.348, \"p\": 249, \"fpr\": 1.0, \"tpr\": 1.0, \"n\": 43}, {\"threshold\": 0.349, \"p\": 249, \"fpr\": 1.0, \"tpr\": 1.0, \"n\": 43}, {\"threshold\": 0.35, \"p\": 249, \"fpr\": 1.0, \"tpr\": 1.0, \"n\": 43}, {\"threshold\": 0.351, \"p\": 249, \"fpr\": 1.0, \"tpr\": 1.0, \"n\": 43}, {\"threshold\": 0.352, \"p\": 249, \"fpr\": 1.0, \"tpr\": 1.0, \"n\": 43}, {\"threshold\": 0.353, \"p\": 249, \"fpr\": 1.0, \"tpr\": 1.0, \"n\": 43}, {\"threshold\": 0.354, \"p\": 249, \"fpr\": 1.0, \"tpr\": 1.0, \"n\": 43}, {\"threshold\": 0.355, \"p\": 249, \"fpr\": 1.0, \"tpr\": 1.0, \"n\": 43}, {\"threshold\": 0.356, \"p\": 249, \"fpr\": 1.0, \"tpr\": 1.0, \"n\": 43}, {\"threshold\": 0.357, \"p\": 249, \"fpr\": 1.0, \"tpr\": 1.0, \"n\": 43}, {\"threshold\": 0.358, \"p\": 249, \"fpr\": 1.0, \"tpr\": 1.0, \"n\": 43}, {\"threshold\": 0.359, \"p\": 249, \"fpr\": 1.0, \"tpr\": 1.0, \"n\": 43}, {\"threshold\": 0.36, \"p\": 249, \"fpr\": 1.0, \"tpr\": 1.0, \"n\": 43}, {\"threshold\": 0.361, \"p\": 249, \"fpr\": 1.0, \"tpr\": 1.0, \"n\": 43}, {\"threshold\": 0.362, \"p\": 249, \"fpr\": 1.0, \"tpr\": 1.0, \"n\": 43}, {\"threshold\": 0.363, \"p\": 249, \"fpr\": 1.0, \"tpr\": 1.0, \"n\": 43}, {\"threshold\": 0.364, \"p\": 249, \"fpr\": 1.0, \"tpr\": 1.0, \"n\": 43}, {\"threshold\": 0.365, \"p\": 249, \"fpr\": 1.0, \"tpr\": 1.0, \"n\": 43}, {\"threshold\": 0.366, \"p\": 249, \"fpr\": 1.0, \"tpr\": 1.0, \"n\": 43}, {\"threshold\": 0.367, \"p\": 249, \"fpr\": 1.0, \"tpr\": 1.0, \"n\": 43}, {\"threshold\": 0.368, \"p\": 249, \"fpr\": 1.0, \"tpr\": 1.0, \"n\": 43}, {\"threshold\": 0.369, \"p\": 249, \"fpr\": 1.0, \"tpr\": 1.0, \"n\": 43}, {\"threshold\": 0.37, \"p\": 249, \"fpr\": 1.0, \"tpr\": 1.0, \"n\": 43}, {\"threshold\": 0.371, \"p\": 249, \"fpr\": 1.0, \"tpr\": 1.0, \"n\": 43}, {\"threshold\": 0.372, \"p\": 249, \"fpr\": 1.0, \"tpr\": 1.0, \"n\": 43}, {\"threshold\": 0.373, \"p\": 249, \"fpr\": 1.0, \"tpr\": 1.0, \"n\": 43}, {\"threshold\": 0.374, \"p\": 249, \"fpr\": 1.0, \"tpr\": 1.0, \"n\": 43}, {\"threshold\": 0.375, \"p\": 249, \"fpr\": 1.0, \"tpr\": 1.0, \"n\": 43}, {\"threshold\": 0.376, \"p\": 249, \"fpr\": 1.0, \"tpr\": 1.0, \"n\": 43}, {\"threshold\": 0.377, \"p\": 249, \"fpr\": 1.0, \"tpr\": 1.0, \"n\": 43}, {\"threshold\": 0.378, \"p\": 249, \"fpr\": 1.0, \"tpr\": 1.0, \"n\": 43}, {\"threshold\": 0.379, \"p\": 249, \"fpr\": 1.0, \"tpr\": 1.0, \"n\": 43}, {\"threshold\": 0.38, \"p\": 249, \"fpr\": 1.0, \"tpr\": 1.0, \"n\": 43}, {\"threshold\": 0.381, \"p\": 249, \"fpr\": 1.0, \"tpr\": 1.0, \"n\": 43}, {\"threshold\": 0.382, \"p\": 249, \"fpr\": 1.0, \"tpr\": 1.0, \"n\": 43}, {\"threshold\": 0.383, \"p\": 249, \"fpr\": 1.0, \"tpr\": 1.0, \"n\": 43}, {\"threshold\": 0.384, \"p\": 249, \"fpr\": 1.0, \"tpr\": 1.0, \"n\": 43}, {\"threshold\": 0.385, \"p\": 249, \"fpr\": 1.0, \"tpr\": 1.0, \"n\": 43}, {\"threshold\": 0.386, \"p\": 249, \"fpr\": 1.0, \"tpr\": 1.0, \"n\": 43}, {\"threshold\": 0.387, \"p\": 249, \"fpr\": 1.0, \"tpr\": 1.0, \"n\": 43}, {\"threshold\": 0.388, \"p\": 249, \"fpr\": 1.0, \"tpr\": 1.0, \"n\": 43}, {\"threshold\": 0.389, \"p\": 249, \"fpr\": 1.0, \"tpr\": 1.0, \"n\": 43}, {\"threshold\": 0.39, \"p\": 249, \"fpr\": 1.0, \"tpr\": 1.0, \"n\": 43}, {\"threshold\": 0.391, \"p\": 249, \"fpr\": 1.0, \"tpr\": 1.0, \"n\": 43}, {\"threshold\": 0.392, \"p\": 249, \"fpr\": 1.0, \"tpr\": 1.0, \"n\": 43}, {\"threshold\": 0.393, \"p\": 249, \"fpr\": 1.0, \"tpr\": 1.0, \"n\": 43}, {\"threshold\": 0.394, \"p\": 249, \"fpr\": 1.0, \"tpr\": 1.0, \"n\": 43}, {\"threshold\": 0.395, \"p\": 249, \"fpr\": 1.0, \"tpr\": 1.0, \"n\": 43}, {\"threshold\": 0.396, \"p\": 249, \"fpr\": 1.0, \"tpr\": 1.0, \"n\": 43}, {\"threshold\": 0.397, \"p\": 249, \"fpr\": 1.0, \"tpr\": 1.0, \"n\": 43}, {\"threshold\": 0.398, \"p\": 249, \"fpr\": 1.0, \"tpr\": 1.0, \"n\": 43}, {\"threshold\": 0.399, \"p\": 249, \"fpr\": 1.0, \"tpr\": 1.0, \"n\": 43}, {\"threshold\": 0.4, \"p\": 249, \"fpr\": 1.0, \"tpr\": 1.0, \"n\": 43}, {\"threshold\": 0.401, \"p\": 249, \"fpr\": 1.0, \"tpr\": 1.0, \"n\": 43}, {\"threshold\": 0.402, \"p\": 249, \"fpr\": 1.0, \"tpr\": 1.0, \"n\": 43}, {\"threshold\": 0.403, \"p\": 249, \"fpr\": 1.0, \"tpr\": 1.0, \"n\": 43}, {\"threshold\": 0.404, \"p\": 249, \"fpr\": 1.0, \"tpr\": 1.0, \"n\": 43}, {\"threshold\": 0.405, \"p\": 249, \"fpr\": 1.0, \"tpr\": 1.0, \"n\": 43}, {\"threshold\": 0.406, \"p\": 249, \"fpr\": 1.0, \"tpr\": 1.0, \"n\": 43}, {\"threshold\": 0.407, \"p\": 249, \"fpr\": 1.0, \"tpr\": 1.0, \"n\": 43}, {\"threshold\": 0.408, \"p\": 249, \"fpr\": 1.0, \"tpr\": 1.0, \"n\": 43}, {\"threshold\": 0.409, \"p\": 249, \"fpr\": 1.0, \"tpr\": 1.0, \"n\": 43}, {\"threshold\": 0.41, \"p\": 249, \"fpr\": 1.0, \"tpr\": 1.0, \"n\": 43}, {\"threshold\": 0.411, \"p\": 249, \"fpr\": 1.0, \"tpr\": 1.0, \"n\": 43}, {\"threshold\": 0.412, \"p\": 249, \"fpr\": 1.0, \"tpr\": 1.0, \"n\": 43}, {\"threshold\": 0.413, \"p\": 249, \"fpr\": 1.0, \"tpr\": 1.0, \"n\": 43}, {\"threshold\": 0.414, \"p\": 249, \"fpr\": 1.0, \"tpr\": 1.0, \"n\": 43}, {\"threshold\": 0.415, \"p\": 249, \"fpr\": 1.0, \"tpr\": 1.0, \"n\": 43}, {\"threshold\": 0.416, \"p\": 249, \"fpr\": 1.0, \"tpr\": 1.0, \"n\": 43}, {\"threshold\": 0.417, \"p\": 249, \"fpr\": 1.0, \"tpr\": 1.0, \"n\": 43}, {\"threshold\": 0.418, \"p\": 249, \"fpr\": 1.0, \"tpr\": 1.0, \"n\": 43}, {\"threshold\": 0.419, \"p\": 249, \"fpr\": 1.0, \"tpr\": 1.0, \"n\": 43}, {\"threshold\": 0.42, \"p\": 249, \"fpr\": 1.0, \"tpr\": 1.0, \"n\": 43}, {\"threshold\": 0.421, \"p\": 249, \"fpr\": 1.0, \"tpr\": 1.0, \"n\": 43}, {\"threshold\": 0.422, \"p\": 249, \"fpr\": 1.0, \"tpr\": 1.0, \"n\": 43}, {\"threshold\": 0.423, \"p\": 249, \"fpr\": 1.0, \"tpr\": 1.0, \"n\": 43}, {\"threshold\": 0.424, \"p\": 249, \"fpr\": 1.0, \"tpr\": 1.0, \"n\": 43}, {\"threshold\": 0.425, \"p\": 249, \"fpr\": 1.0, \"tpr\": 1.0, \"n\": 43}, {\"threshold\": 0.426, \"p\": 249, \"fpr\": 1.0, \"tpr\": 1.0, \"n\": 43}, {\"threshold\": 0.427, \"p\": 249, \"fpr\": 1.0, \"tpr\": 1.0, \"n\": 43}, {\"threshold\": 0.428, \"p\": 249, \"fpr\": 1.0, \"tpr\": 1.0, \"n\": 43}, {\"threshold\": 0.429, \"p\": 249, \"fpr\": 1.0, \"tpr\": 1.0, \"n\": 43}, {\"threshold\": 0.43, \"p\": 249, \"fpr\": 1.0, \"tpr\": 1.0, \"n\": 43}, {\"threshold\": 0.431, \"p\": 249, \"fpr\": 1.0, \"tpr\": 1.0, \"n\": 43}, {\"threshold\": 0.432, \"p\": 249, \"fpr\": 1.0, \"tpr\": 1.0, \"n\": 43}, {\"threshold\": 0.433, \"p\": 249, \"fpr\": 1.0, \"tpr\": 1.0, \"n\": 43}, {\"threshold\": 0.434, \"p\": 249, \"fpr\": 1.0, \"tpr\": 1.0, \"n\": 43}, {\"threshold\": 0.435, \"p\": 249, \"fpr\": 1.0, \"tpr\": 1.0, \"n\": 43}, {\"threshold\": 0.436, \"p\": 249, \"fpr\": 1.0, \"tpr\": 1.0, \"n\": 43}, {\"threshold\": 0.437, \"p\": 249, \"fpr\": 1.0, \"tpr\": 1.0, \"n\": 43}, {\"threshold\": 0.438, \"p\": 249, \"fpr\": 1.0, \"tpr\": 1.0, \"n\": 43}, {\"threshold\": 0.439, \"p\": 249, \"fpr\": 1.0, \"tpr\": 1.0, \"n\": 43}, {\"threshold\": 0.44, \"p\": 249, \"fpr\": 1.0, \"tpr\": 1.0, \"n\": 43}, {\"threshold\": 0.441, \"p\": 249, \"fpr\": 1.0, \"tpr\": 1.0, \"n\": 43}, {\"threshold\": 0.442, \"p\": 249, \"fpr\": 1.0, \"tpr\": 1.0, \"n\": 43}, {\"threshold\": 0.443, \"p\": 249, \"fpr\": 1.0, \"tpr\": 1.0, \"n\": 43}, {\"threshold\": 0.444, \"p\": 249, \"fpr\": 1.0, \"tpr\": 1.0, \"n\": 43}, {\"threshold\": 0.445, \"p\": 249, \"fpr\": 1.0, \"tpr\": 1.0, \"n\": 43}, {\"threshold\": 0.446, \"p\": 249, \"fpr\": 1.0, \"tpr\": 1.0, \"n\": 43}, {\"threshold\": 0.447, \"p\": 249, \"fpr\": 1.0, \"tpr\": 1.0, \"n\": 43}, {\"threshold\": 0.448, \"p\": 249, \"fpr\": 1.0, \"tpr\": 1.0, \"n\": 43}, {\"threshold\": 0.449, \"p\": 249, \"fpr\": 1.0, \"tpr\": 1.0, \"n\": 43}, {\"threshold\": 0.45, \"p\": 249, \"fpr\": 1.0, \"tpr\": 1.0, \"n\": 43}, {\"threshold\": 0.451, \"p\": 249, \"fpr\": 1.0, \"tpr\": 1.0, \"n\": 43}, {\"threshold\": 0.452, \"p\": 249, \"fpr\": 1.0, \"tpr\": 1.0, \"n\": 43}, {\"threshold\": 0.453, \"p\": 249, \"fpr\": 1.0, \"tpr\": 1.0, \"n\": 43}, {\"threshold\": 0.454, \"p\": 249, \"fpr\": 1.0, \"tpr\": 1.0, \"n\": 43}, {\"threshold\": 0.455, \"p\": 249, \"fpr\": 1.0, \"tpr\": 1.0, \"n\": 43}, {\"threshold\": 0.456, \"p\": 249, \"fpr\": 1.0, \"tpr\": 1.0, \"n\": 43}, {\"threshold\": 0.457, \"p\": 249, \"fpr\": 1.0, \"tpr\": 1.0, \"n\": 43}, {\"threshold\": 0.458, \"p\": 249, \"fpr\": 1.0, \"tpr\": 1.0, \"n\": 43}, {\"threshold\": 0.459, \"p\": 249, \"fpr\": 1.0, \"tpr\": 1.0, \"n\": 43}, {\"threshold\": 0.46, \"p\": 249, \"fpr\": 1.0, \"tpr\": 1.0, \"n\": 43}, {\"threshold\": 0.461, \"p\": 249, \"fpr\": 1.0, \"tpr\": 1.0, \"n\": 43}, {\"threshold\": 0.462, \"p\": 249, \"fpr\": 1.0, \"tpr\": 1.0, \"n\": 43}, {\"threshold\": 0.463, \"p\": 249, \"fpr\": 1.0, \"tpr\": 1.0, \"n\": 43}, {\"threshold\": 0.464, \"p\": 249, \"fpr\": 1.0, \"tpr\": 1.0, \"n\": 43}, {\"threshold\": 0.465, \"p\": 249, \"fpr\": 1.0, \"tpr\": 1.0, \"n\": 43}, {\"threshold\": 0.466, \"p\": 249, \"fpr\": 1.0, \"tpr\": 1.0, \"n\": 43}, {\"threshold\": 0.467, \"p\": 249, \"fpr\": 1.0, \"tpr\": 1.0, \"n\": 43}, {\"threshold\": 0.468, \"p\": 249, \"fpr\": 1.0, \"tpr\": 1.0, \"n\": 43}, {\"threshold\": 0.469, \"p\": 249, \"fpr\": 1.0, \"tpr\": 1.0, \"n\": 43}, {\"threshold\": 0.47, \"p\": 249, \"fpr\": 1.0, \"tpr\": 1.0, \"n\": 43}, {\"threshold\": 0.471, \"p\": 249, \"fpr\": 1.0, \"tpr\": 1.0, \"n\": 43}, {\"threshold\": 0.472, \"p\": 249, \"fpr\": 1.0, \"tpr\": 1.0, \"n\": 43}, {\"threshold\": 0.473, \"p\": 249, \"fpr\": 1.0, \"tpr\": 1.0, \"n\": 43}, {\"threshold\": 0.474, \"p\": 249, \"fpr\": 1.0, \"tpr\": 1.0, \"n\": 43}, {\"threshold\": 0.475, \"p\": 249, \"fpr\": 1.0, \"tpr\": 1.0, \"n\": 43}, {\"threshold\": 0.476, \"p\": 249, \"fpr\": 1.0, \"tpr\": 1.0, \"n\": 43}, {\"threshold\": 0.477, \"p\": 249, \"fpr\": 1.0, \"tpr\": 1.0, \"n\": 43}, {\"threshold\": 0.478, \"p\": 249, \"fpr\": 1.0, \"tpr\": 1.0, \"n\": 43}, {\"threshold\": 0.479, \"p\": 249, \"fpr\": 1.0, \"tpr\": 1.0, \"n\": 43}, {\"threshold\": 0.48, \"p\": 249, \"fpr\": 1.0, \"tpr\": 1.0, \"n\": 43}, {\"threshold\": 0.481, \"p\": 249, \"fpr\": 1.0, \"tpr\": 1.0, \"n\": 43}, {\"threshold\": 0.482, \"p\": 249, \"fpr\": 1.0, \"tpr\": 1.0, \"n\": 43}, {\"threshold\": 0.483, \"p\": 249, \"fpr\": 1.0, \"tpr\": 1.0, \"n\": 43}, {\"threshold\": 0.484, \"p\": 249, \"fpr\": 1.0, \"tpr\": 1.0, \"n\": 43}, {\"threshold\": 0.485, \"p\": 249, \"fpr\": 1.0, \"tpr\": 1.0, \"n\": 43}, {\"threshold\": 0.486, \"p\": 249, \"fpr\": 1.0, \"tpr\": 1.0, \"n\": 43}, {\"threshold\": 0.487, \"p\": 249, \"fpr\": 1.0, \"tpr\": 1.0, \"n\": 43}, {\"threshold\": 0.488, \"p\": 249, \"fpr\": 1.0, \"tpr\": 1.0, \"n\": 43}, {\"threshold\": 0.489, \"p\": 249, \"fpr\": 1.0, \"tpr\": 1.0, \"n\": 43}, {\"threshold\": 0.49, \"p\": 249, \"fpr\": 1.0, \"tpr\": 1.0, \"n\": 43}, {\"threshold\": 0.491, \"p\": 249, \"fpr\": 1.0, \"tpr\": 1.0, \"n\": 43}, {\"threshold\": 0.492, \"p\": 249, \"fpr\": 1.0, \"tpr\": 1.0, \"n\": 43}, {\"threshold\": 0.493, \"p\": 249, \"fpr\": 1.0, \"tpr\": 1.0, \"n\": 43}, {\"threshold\": 0.494, \"p\": 249, \"fpr\": 1.0, \"tpr\": 1.0, \"n\": 43}, {\"threshold\": 0.495, \"p\": 249, \"fpr\": 1.0, \"tpr\": 1.0, \"n\": 43}, {\"threshold\": 0.496, \"p\": 249, \"fpr\": 1.0, \"tpr\": 1.0, \"n\": 43}, {\"threshold\": 0.497, \"p\": 249, \"fpr\": 1.0, \"tpr\": 1.0, \"n\": 43}, {\"threshold\": 0.498, \"p\": 249, \"fpr\": 1.0, \"tpr\": 1.0, \"n\": 43}, {\"threshold\": 0.499, \"p\": 249, \"fpr\": 1.0, \"tpr\": 1.0, \"n\": 43}, {\"threshold\": 0.5, \"p\": 249, \"fpr\": 1.0, \"tpr\": 1.0, \"n\": 43}, {\"threshold\": 0.501, \"p\": 249, \"fpr\": 1.0, \"tpr\": 1.0, \"n\": 43}, {\"threshold\": 0.502, \"p\": 249, \"fpr\": 1.0, \"tpr\": 1.0, \"n\": 43}, {\"threshold\": 0.503, \"p\": 249, \"fpr\": 1.0, \"tpr\": 1.0, \"n\": 43}, {\"threshold\": 0.504, \"p\": 249, \"fpr\": 1.0, \"tpr\": 1.0, \"n\": 43}, {\"threshold\": 0.505, \"p\": 249, \"fpr\": 1.0, \"tpr\": 1.0, \"n\": 43}, {\"threshold\": 0.506, \"p\": 249, \"fpr\": 1.0, \"tpr\": 1.0, \"n\": 43}, {\"threshold\": 0.507, \"p\": 249, \"fpr\": 1.0, \"tpr\": 1.0, \"n\": 43}, {\"threshold\": 0.508, \"p\": 249, \"fpr\": 1.0, \"tpr\": 1.0, \"n\": 43}, {\"threshold\": 0.509, \"p\": 249, \"fpr\": 1.0, \"tpr\": 1.0, \"n\": 43}, {\"threshold\": 0.51, \"p\": 249, \"fpr\": 1.0, \"tpr\": 1.0, \"n\": 43}, {\"threshold\": 0.511, \"p\": 249, \"fpr\": 1.0, \"tpr\": 1.0, \"n\": 43}, {\"threshold\": 0.512, \"p\": 249, \"fpr\": 1.0, \"tpr\": 1.0, \"n\": 43}, {\"threshold\": 0.513, \"p\": 249, \"fpr\": 1.0, \"tpr\": 1.0, \"n\": 43}, {\"threshold\": 0.514, \"p\": 249, \"fpr\": 1.0, \"tpr\": 1.0, \"n\": 43}, {\"threshold\": 0.515, \"p\": 249, \"fpr\": 1.0, \"tpr\": 1.0, \"n\": 43}, {\"threshold\": 0.516, \"p\": 249, \"fpr\": 1.0, \"tpr\": 1.0, \"n\": 43}, {\"threshold\": 0.517, \"p\": 249, \"fpr\": 1.0, \"tpr\": 1.0, \"n\": 43}, {\"threshold\": 0.518, \"p\": 249, \"fpr\": 1.0, \"tpr\": 1.0, \"n\": 43}, {\"threshold\": 0.519, \"p\": 249, \"fpr\": 1.0, \"tpr\": 1.0, \"n\": 43}, {\"threshold\": 0.52, \"p\": 249, \"fpr\": 1.0, \"tpr\": 1.0, \"n\": 43}, {\"threshold\": 0.521, \"p\": 249, \"fpr\": 1.0, \"tpr\": 1.0, \"n\": 43}, {\"threshold\": 0.522, \"p\": 249, \"fpr\": 1.0, \"tpr\": 1.0, \"n\": 43}, {\"threshold\": 0.523, \"p\": 249, \"fpr\": 1.0, \"tpr\": 1.0, \"n\": 43}, {\"threshold\": 0.524, \"p\": 249, \"fpr\": 1.0, \"tpr\": 1.0, \"n\": 43}, {\"threshold\": 0.525, \"p\": 249, \"fpr\": 1.0, \"tpr\": 1.0, \"n\": 43}, {\"threshold\": 0.526, \"p\": 249, \"fpr\": 1.0, \"tpr\": 1.0, \"n\": 43}, {\"threshold\": 0.527, \"p\": 249, \"fpr\": 1.0, \"tpr\": 1.0, \"n\": 43}, {\"threshold\": 0.528, \"p\": 249, \"fpr\": 1.0, \"tpr\": 1.0, \"n\": 43}, {\"threshold\": 0.529, \"p\": 249, \"fpr\": 1.0, \"tpr\": 1.0, \"n\": 43}, {\"threshold\": 0.53, \"p\": 249, \"fpr\": 1.0, \"tpr\": 1.0, \"n\": 43}, {\"threshold\": 0.531, \"p\": 249, \"fpr\": 1.0, \"tpr\": 1.0, \"n\": 43}, {\"threshold\": 0.532, \"p\": 249, \"fpr\": 1.0, \"tpr\": 1.0, \"n\": 43}, {\"threshold\": 0.533, \"p\": 249, \"fpr\": 1.0, \"tpr\": 1.0, \"n\": 43}, {\"threshold\": 0.534, \"p\": 249, \"fpr\": 1.0, \"tpr\": 1.0, \"n\": 43}, {\"threshold\": 0.535, \"p\": 249, \"fpr\": 1.0, \"tpr\": 1.0, \"n\": 43}, {\"threshold\": 0.536, \"p\": 249, \"fpr\": 1.0, \"tpr\": 1.0, \"n\": 43}, {\"threshold\": 0.537, \"p\": 249, \"fpr\": 1.0, \"tpr\": 1.0, \"n\": 43}, {\"threshold\": 0.538, \"p\": 249, \"fpr\": 1.0, \"tpr\": 1.0, \"n\": 43}, {\"threshold\": 0.539, \"p\": 249, \"fpr\": 1.0, \"tpr\": 1.0, \"n\": 43}, {\"threshold\": 0.54, \"p\": 249, \"fpr\": 1.0, \"tpr\": 1.0, \"n\": 43}, {\"threshold\": 0.541, \"p\": 249, \"fpr\": 1.0, \"tpr\": 1.0, \"n\": 43}, {\"threshold\": 0.542, \"p\": 249, \"fpr\": 1.0, \"tpr\": 1.0, \"n\": 43}, {\"threshold\": 0.543, \"p\": 249, \"fpr\": 1.0, \"tpr\": 1.0, \"n\": 43}, {\"threshold\": 0.544, \"p\": 249, \"fpr\": 1.0, \"tpr\": 1.0, \"n\": 43}, {\"threshold\": 0.545, \"p\": 249, \"fpr\": 1.0, \"tpr\": 1.0, \"n\": 43}, {\"threshold\": 0.546, \"p\": 249, \"fpr\": 1.0, \"tpr\": 1.0, \"n\": 43}, {\"threshold\": 0.547, \"p\": 249, \"fpr\": 1.0, \"tpr\": 1.0, \"n\": 43}, {\"threshold\": 0.548, \"p\": 249, \"fpr\": 1.0, \"tpr\": 1.0, \"n\": 43}, {\"threshold\": 0.549, \"p\": 249, \"fpr\": 1.0, \"tpr\": 1.0, \"n\": 43}, {\"threshold\": 0.55, \"p\": 249, \"fpr\": 1.0, \"tpr\": 1.0, \"n\": 43}, {\"threshold\": 0.551, \"p\": 249, \"fpr\": 1.0, \"tpr\": 1.0, \"n\": 43}, {\"threshold\": 0.552, \"p\": 249, \"fpr\": 1.0, \"tpr\": 1.0, \"n\": 43}, {\"threshold\": 0.553, \"p\": 249, \"fpr\": 1.0, \"tpr\": 1.0, \"n\": 43}, {\"threshold\": 0.554, \"p\": 249, \"fpr\": 1.0, \"tpr\": 1.0, \"n\": 43}, {\"threshold\": 0.555, \"p\": 249, \"fpr\": 1.0, \"tpr\": 1.0, \"n\": 43}, {\"threshold\": 0.556, \"p\": 249, \"fpr\": 1.0, \"tpr\": 1.0, \"n\": 43}, {\"threshold\": 0.557, \"p\": 249, \"fpr\": 1.0, \"tpr\": 1.0, \"n\": 43}, {\"threshold\": 0.558, \"p\": 249, \"fpr\": 1.0, \"tpr\": 1.0, \"n\": 43}, {\"threshold\": 0.559, \"p\": 249, \"fpr\": 1.0, \"tpr\": 1.0, \"n\": 43}, {\"threshold\": 0.56, \"p\": 249, \"fpr\": 1.0, \"tpr\": 1.0, \"n\": 43}, {\"threshold\": 0.561, \"p\": 249, \"fpr\": 1.0, \"tpr\": 1.0, \"n\": 43}, {\"threshold\": 0.562, \"p\": 249, \"fpr\": 1.0, \"tpr\": 1.0, \"n\": 43}, {\"threshold\": 0.563, \"p\": 249, \"fpr\": 1.0, \"tpr\": 1.0, \"n\": 43}, {\"threshold\": 0.564, \"p\": 249, \"fpr\": 1.0, \"tpr\": 1.0, \"n\": 43}, {\"threshold\": 0.565, \"p\": 249, \"fpr\": 1.0, \"tpr\": 1.0, \"n\": 43}, {\"threshold\": 0.566, \"p\": 249, \"fpr\": 1.0, \"tpr\": 1.0, \"n\": 43}, {\"threshold\": 0.567, \"p\": 249, \"fpr\": 1.0, \"tpr\": 1.0, \"n\": 43}, {\"threshold\": 0.568, \"p\": 249, \"fpr\": 1.0, \"tpr\": 1.0, \"n\": 43}, {\"threshold\": 0.569, \"p\": 249, \"fpr\": 1.0, \"tpr\": 1.0, \"n\": 43}, {\"threshold\": 0.57, \"p\": 249, \"fpr\": 1.0, \"tpr\": 1.0, \"n\": 43}, {\"threshold\": 0.571, \"p\": 249, \"fpr\": 1.0, \"tpr\": 1.0, \"n\": 43}, {\"threshold\": 0.572, \"p\": 249, \"fpr\": 1.0, \"tpr\": 1.0, \"n\": 43}, {\"threshold\": 0.573, \"p\": 249, \"fpr\": 1.0, \"tpr\": 1.0, \"n\": 43}, {\"threshold\": 0.574, \"p\": 249, \"fpr\": 1.0, \"tpr\": 1.0, \"n\": 43}, {\"threshold\": 0.575, \"p\": 249, \"fpr\": 1.0, \"tpr\": 1.0, \"n\": 43}, {\"threshold\": 0.576, \"p\": 249, \"fpr\": 1.0, \"tpr\": 1.0, \"n\": 43}, {\"threshold\": 0.577, \"p\": 249, \"fpr\": 1.0, \"tpr\": 1.0, \"n\": 43}, {\"threshold\": 0.578, \"p\": 249, \"fpr\": 1.0, \"tpr\": 1.0, \"n\": 43}, {\"threshold\": 0.579, \"p\": 249, \"fpr\": 1.0, \"tpr\": 1.0, \"n\": 43}, {\"threshold\": 0.58, \"p\": 249, \"fpr\": 1.0, \"tpr\": 1.0, \"n\": 43}, {\"threshold\": 0.581, \"p\": 249, \"fpr\": 1.0, \"tpr\": 1.0, \"n\": 43}, {\"threshold\": 0.582, \"p\": 249, \"fpr\": 1.0, \"tpr\": 1.0, \"n\": 43}, {\"threshold\": 0.583, \"p\": 249, \"fpr\": 1.0, \"tpr\": 1.0, \"n\": 43}, {\"threshold\": 0.584, \"p\": 249, \"fpr\": 1.0, \"tpr\": 1.0, \"n\": 43}, {\"threshold\": 0.585, \"p\": 249, \"fpr\": 1.0, \"tpr\": 1.0, \"n\": 43}, {\"threshold\": 0.586, \"p\": 249, \"fpr\": 1.0, \"tpr\": 1.0, \"n\": 43}, {\"threshold\": 0.587, \"p\": 249, \"fpr\": 1.0, \"tpr\": 1.0, \"n\": 43}, {\"threshold\": 0.588, \"p\": 249, \"fpr\": 1.0, \"tpr\": 1.0, \"n\": 43}, {\"threshold\": 0.589, \"p\": 249, \"fpr\": 1.0, \"tpr\": 1.0, \"n\": 43}, {\"threshold\": 0.59, \"p\": 249, \"fpr\": 1.0, \"tpr\": 1.0, \"n\": 43}, {\"threshold\": 0.591, \"p\": 249, \"fpr\": 1.0, \"tpr\": 1.0, \"n\": 43}, {\"threshold\": 0.592, \"p\": 249, \"fpr\": 1.0, \"tpr\": 1.0, \"n\": 43}, {\"threshold\": 0.593, \"p\": 249, \"fpr\": 1.0, \"tpr\": 1.0, \"n\": 43}, {\"threshold\": 0.594, \"p\": 249, \"fpr\": 1.0, \"tpr\": 1.0, \"n\": 43}, {\"threshold\": 0.595, \"p\": 249, \"fpr\": 1.0, \"tpr\": 1.0, \"n\": 43}, {\"threshold\": 0.596, \"p\": 249, \"fpr\": 1.0, \"tpr\": 1.0, \"n\": 43}, {\"threshold\": 0.597, \"p\": 249, \"fpr\": 1.0, \"tpr\": 1.0, \"n\": 43}, {\"threshold\": 0.598, \"p\": 249, \"fpr\": 1.0, \"tpr\": 1.0, \"n\": 43}, {\"threshold\": 0.599, \"p\": 249, \"fpr\": 1.0, \"tpr\": 1.0, \"n\": 43}, {\"threshold\": 0.6, \"p\": 249, \"fpr\": 1.0, \"tpr\": 1.0, \"n\": 43}, {\"threshold\": 0.601, \"p\": 249, \"fpr\": 1.0, \"tpr\": 1.0, \"n\": 43}, {\"threshold\": 0.602, \"p\": 249, \"fpr\": 1.0, \"tpr\": 1.0, \"n\": 43}, {\"threshold\": 0.603, \"p\": 249, \"fpr\": 1.0, \"tpr\": 1.0, \"n\": 43}, {\"threshold\": 0.604, \"p\": 249, \"fpr\": 1.0, \"tpr\": 1.0, \"n\": 43}, {\"threshold\": 0.605, \"p\": 249, \"fpr\": 1.0, \"tpr\": 1.0, \"n\": 43}, {\"threshold\": 0.606, \"p\": 249, \"fpr\": 1.0, \"tpr\": 1.0, \"n\": 43}, {\"threshold\": 0.607, \"p\": 249, \"fpr\": 1.0, \"tpr\": 1.0, \"n\": 43}, {\"threshold\": 0.608, \"p\": 249, \"fpr\": 1.0, \"tpr\": 1.0, \"n\": 43}, {\"threshold\": 0.609, \"p\": 249, \"fpr\": 1.0, \"tpr\": 1.0, \"n\": 43}, {\"threshold\": 0.61, \"p\": 249, \"fpr\": 1.0, \"tpr\": 1.0, \"n\": 43}, {\"threshold\": 0.611, \"p\": 249, \"fpr\": 1.0, \"tpr\": 1.0, \"n\": 43}, {\"threshold\": 0.612, \"p\": 249, \"fpr\": 1.0, \"tpr\": 1.0, \"n\": 43}, {\"threshold\": 0.613, \"p\": 249, \"fpr\": 1.0, \"tpr\": 1.0, \"n\": 43}, {\"threshold\": 0.614, \"p\": 249, \"fpr\": 1.0, \"tpr\": 1.0, \"n\": 43}, {\"threshold\": 0.615, \"p\": 249, \"fpr\": 1.0, \"tpr\": 1.0, \"n\": 43}, {\"threshold\": 0.616, \"p\": 249, \"fpr\": 1.0, \"tpr\": 1.0, \"n\": 43}, {\"threshold\": 0.617, \"p\": 249, \"fpr\": 1.0, \"tpr\": 1.0, \"n\": 43}, {\"threshold\": 0.618, \"p\": 249, \"fpr\": 1.0, \"tpr\": 1.0, \"n\": 43}, {\"threshold\": 0.619, \"p\": 249, \"fpr\": 1.0, \"tpr\": 1.0, \"n\": 43}, {\"threshold\": 0.62, \"p\": 249, \"fpr\": 1.0, \"tpr\": 1.0, \"n\": 43}, {\"threshold\": 0.621, \"p\": 249, \"fpr\": 1.0, \"tpr\": 1.0, \"n\": 43}, {\"threshold\": 0.622, \"p\": 249, \"fpr\": 1.0, \"tpr\": 1.0, \"n\": 43}, {\"threshold\": 0.623, \"p\": 249, \"fpr\": 1.0, \"tpr\": 1.0, \"n\": 43}, {\"threshold\": 0.624, \"p\": 249, \"fpr\": 1.0, \"tpr\": 1.0, \"n\": 43}, {\"threshold\": 0.625, \"p\": 249, \"fpr\": 1.0, \"tpr\": 1.0, \"n\": 43}, {\"threshold\": 0.626, \"p\": 249, \"fpr\": 1.0, \"tpr\": 1.0, \"n\": 43}, {\"threshold\": 0.627, \"p\": 249, \"fpr\": 1.0, \"tpr\": 1.0, \"n\": 43}, {\"threshold\": 0.628, \"p\": 249, \"fpr\": 1.0, \"tpr\": 1.0, \"n\": 43}, {\"threshold\": 0.629, \"p\": 249, \"fpr\": 1.0, \"tpr\": 1.0, \"n\": 43}, {\"threshold\": 0.63, \"p\": 249, \"fpr\": 1.0, \"tpr\": 1.0, \"n\": 43}, {\"threshold\": 0.631, \"p\": 249, \"fpr\": 1.0, \"tpr\": 1.0, \"n\": 43}, {\"threshold\": 0.632, \"p\": 249, \"fpr\": 1.0, \"tpr\": 1.0, \"n\": 43}, {\"threshold\": 0.633, \"p\": 249, \"fpr\": 1.0, \"tpr\": 1.0, \"n\": 43}, {\"threshold\": 0.634, \"p\": 249, \"fpr\": 1.0, \"tpr\": 1.0, \"n\": 43}, {\"threshold\": 0.635, \"p\": 249, \"fpr\": 1.0, \"tpr\": 1.0, \"n\": 43}, {\"threshold\": 0.636, \"p\": 249, \"fpr\": 1.0, \"tpr\": 1.0, \"n\": 43}, {\"threshold\": 0.637, \"p\": 249, \"fpr\": 1.0, \"tpr\": 1.0, \"n\": 43}, {\"threshold\": 0.638, \"p\": 249, \"fpr\": 1.0, \"tpr\": 1.0, \"n\": 43}, {\"threshold\": 0.639, \"p\": 249, \"fpr\": 1.0, \"tpr\": 1.0, \"n\": 43}, {\"threshold\": 0.64, \"p\": 249, \"fpr\": 1.0, \"tpr\": 1.0, \"n\": 43}, {\"threshold\": 0.641, \"p\": 249, \"fpr\": 1.0, \"tpr\": 1.0, \"n\": 43}, {\"threshold\": 0.642, \"p\": 249, \"fpr\": 1.0, \"tpr\": 1.0, \"n\": 43}, {\"threshold\": 0.643, \"p\": 249, \"fpr\": 1.0, \"tpr\": 1.0, \"n\": 43}, {\"threshold\": 0.644, \"p\": 249, \"fpr\": 1.0, \"tpr\": 1.0, \"n\": 43}, {\"threshold\": 0.645, \"p\": 249, \"fpr\": 1.0, \"tpr\": 1.0, \"n\": 43}, {\"threshold\": 0.646, \"p\": 249, \"fpr\": 1.0, \"tpr\": 1.0, \"n\": 43}, {\"threshold\": 0.647, \"p\": 249, \"fpr\": 1.0, \"tpr\": 1.0, \"n\": 43}, {\"threshold\": 0.648, \"p\": 249, \"fpr\": 1.0, \"tpr\": 1.0, \"n\": 43}, {\"threshold\": 0.649, \"p\": 249, \"fpr\": 1.0, \"tpr\": 1.0, \"n\": 43}, {\"threshold\": 0.65, \"p\": 249, \"fpr\": 1.0, \"tpr\": 1.0, \"n\": 43}, {\"threshold\": 0.651, \"p\": 249, \"fpr\": 1.0, \"tpr\": 1.0, \"n\": 43}, {\"threshold\": 0.652, \"p\": 249, \"fpr\": 1.0, \"tpr\": 1.0, \"n\": 43}, {\"threshold\": 0.653, \"p\": 249, \"fpr\": 1.0, \"tpr\": 1.0, \"n\": 43}, {\"threshold\": 0.654, \"p\": 249, \"fpr\": 1.0, \"tpr\": 1.0, \"n\": 43}, {\"threshold\": 0.655, \"p\": 249, \"fpr\": 1.0, \"tpr\": 1.0, \"n\": 43}, {\"threshold\": 0.656, \"p\": 249, \"fpr\": 1.0, \"tpr\": 1.0, \"n\": 43}, {\"threshold\": 0.657, \"p\": 249, \"fpr\": 1.0, \"tpr\": 1.0, \"n\": 43}, {\"threshold\": 0.658, \"p\": 249, \"fpr\": 1.0, \"tpr\": 1.0, \"n\": 43}, {\"threshold\": 0.659, \"p\": 249, \"fpr\": 1.0, \"tpr\": 1.0, \"n\": 43}, {\"threshold\": 0.66, \"p\": 249, \"fpr\": 1.0, \"tpr\": 1.0, \"n\": 43}, {\"threshold\": 0.661, \"p\": 249, \"fpr\": 1.0, \"tpr\": 1.0, \"n\": 43}, {\"threshold\": 0.662, \"p\": 249, \"fpr\": 1.0, \"tpr\": 1.0, \"n\": 43}, {\"threshold\": 0.663, \"p\": 249, \"fpr\": 1.0, \"tpr\": 1.0, \"n\": 43}, {\"threshold\": 0.664, \"p\": 249, \"fpr\": 1.0, \"tpr\": 1.0, \"n\": 43}, {\"threshold\": 0.665, \"p\": 249, \"fpr\": 1.0, \"tpr\": 1.0, \"n\": 43}, {\"threshold\": 0.666, \"p\": 249, \"fpr\": 1.0, \"tpr\": 1.0, \"n\": 43}, {\"threshold\": 0.667, \"p\": 249, \"fpr\": 1.0, \"tpr\": 1.0, \"n\": 43}, {\"threshold\": 0.668, \"p\": 249, \"fpr\": 1.0, \"tpr\": 1.0, \"n\": 43}, {\"threshold\": 0.669, \"p\": 249, \"fpr\": 1.0, \"tpr\": 1.0, \"n\": 43}, {\"threshold\": 0.67, \"p\": 249, \"fpr\": 1.0, \"tpr\": 1.0, \"n\": 43}, {\"threshold\": 0.671, \"p\": 249, \"fpr\": 1.0, \"tpr\": 1.0, \"n\": 43}, {\"threshold\": 0.672, \"p\": 249, \"fpr\": 1.0, \"tpr\": 1.0, \"n\": 43}, {\"threshold\": 0.673, \"p\": 249, \"fpr\": 1.0, \"tpr\": 1.0, \"n\": 43}, {\"threshold\": 0.674, \"p\": 249, \"fpr\": 1.0, \"tpr\": 1.0, \"n\": 43}, {\"threshold\": 0.675, \"p\": 249, \"fpr\": 1.0, \"tpr\": 1.0, \"n\": 43}, {\"threshold\": 0.676, \"p\": 249, \"fpr\": 1.0, \"tpr\": 1.0, \"n\": 43}, {\"threshold\": 0.677, \"p\": 249, \"fpr\": 1.0, \"tpr\": 1.0, \"n\": 43}, {\"threshold\": 0.678, \"p\": 249, \"fpr\": 1.0, \"tpr\": 1.0, \"n\": 43}, {\"threshold\": 0.679, \"p\": 249, \"fpr\": 1.0, \"tpr\": 1.0, \"n\": 43}, {\"threshold\": 0.68, \"p\": 249, \"fpr\": 1.0, \"tpr\": 1.0, \"n\": 43}, {\"threshold\": 0.681, \"p\": 249, \"fpr\": 1.0, \"tpr\": 1.0, \"n\": 43}, {\"threshold\": 0.682, \"p\": 249, \"fpr\": 1.0, \"tpr\": 1.0, \"n\": 43}, {\"threshold\": 0.683, \"p\": 249, \"fpr\": 1.0, \"tpr\": 1.0, \"n\": 43}, {\"threshold\": 0.684, \"p\": 249, \"fpr\": 1.0, \"tpr\": 1.0, \"n\": 43}, {\"threshold\": 0.685, \"p\": 249, \"fpr\": 1.0, \"tpr\": 1.0, \"n\": 43}, {\"threshold\": 0.686, \"p\": 249, \"fpr\": 1.0, \"tpr\": 1.0, \"n\": 43}, {\"threshold\": 0.687, \"p\": 249, \"fpr\": 1.0, \"tpr\": 1.0, \"n\": 43}, {\"threshold\": 0.688, \"p\": 249, \"fpr\": 1.0, \"tpr\": 1.0, \"n\": 43}, {\"threshold\": 0.689, \"p\": 249, \"fpr\": 1.0, \"tpr\": 1.0, \"n\": 43}, {\"threshold\": 0.69, \"p\": 249, \"fpr\": 1.0, \"tpr\": 1.0, \"n\": 43}, {\"threshold\": 0.691, \"p\": 249, \"fpr\": 1.0, \"tpr\": 1.0, \"n\": 43}, {\"threshold\": 0.692, \"p\": 249, \"fpr\": 1.0, \"tpr\": 1.0, \"n\": 43}, {\"threshold\": 0.693, \"p\": 249, \"fpr\": 1.0, \"tpr\": 1.0, \"n\": 43}, {\"threshold\": 0.694, \"p\": 249, \"fpr\": 1.0, \"tpr\": 1.0, \"n\": 43}, {\"threshold\": 0.695, \"p\": 249, \"fpr\": 1.0, \"tpr\": 1.0, \"n\": 43}, {\"threshold\": 0.696, \"p\": 249, \"fpr\": 1.0, \"tpr\": 1.0, \"n\": 43}, {\"threshold\": 0.697, \"p\": 249, \"fpr\": 1.0, \"tpr\": 1.0, \"n\": 43}, {\"threshold\": 0.698, \"p\": 249, \"fpr\": 1.0, \"tpr\": 1.0, \"n\": 43}, {\"threshold\": 0.699, \"p\": 249, \"fpr\": 1.0, \"tpr\": 1.0, \"n\": 43}, {\"threshold\": 0.7, \"p\": 249, \"fpr\": 1.0, \"tpr\": 1.0, \"n\": 43}, {\"threshold\": 0.701, \"p\": 249, \"fpr\": 1.0, \"tpr\": 1.0, \"n\": 43}, {\"threshold\": 0.702, \"p\": 249, \"fpr\": 1.0, \"tpr\": 1.0, \"n\": 43}, {\"threshold\": 0.703, \"p\": 249, \"fpr\": 1.0, \"tpr\": 1.0, \"n\": 43}, {\"threshold\": 0.704, \"p\": 249, \"fpr\": 1.0, \"tpr\": 1.0, \"n\": 43}, {\"threshold\": 0.705, \"p\": 249, \"fpr\": 1.0, \"tpr\": 1.0, \"n\": 43}, {\"threshold\": 0.706, \"p\": 249, \"fpr\": 1.0, \"tpr\": 1.0, \"n\": 43}, {\"threshold\": 0.707, \"p\": 249, \"fpr\": 1.0, \"tpr\": 1.0, \"n\": 43}, {\"threshold\": 0.708, \"p\": 249, \"fpr\": 1.0, \"tpr\": 1.0, \"n\": 43}, {\"threshold\": 0.709, \"p\": 249, \"fpr\": 1.0, \"tpr\": 1.0, \"n\": 43}, {\"threshold\": 0.71, \"p\": 249, \"fpr\": 1.0, \"tpr\": 1.0, \"n\": 43}, {\"threshold\": 0.711, \"p\": 249, \"fpr\": 1.0, \"tpr\": 1.0, \"n\": 43}, {\"threshold\": 0.712, \"p\": 249, \"fpr\": 1.0, \"tpr\": 1.0, \"n\": 43}, {\"threshold\": 0.713, \"p\": 249, \"fpr\": 1.0, \"tpr\": 1.0, \"n\": 43}, {\"threshold\": 0.714, \"p\": 249, \"fpr\": 1.0, \"tpr\": 1.0, \"n\": 43}, {\"threshold\": 0.715, \"p\": 249, \"fpr\": 1.0, \"tpr\": 1.0, \"n\": 43}, {\"threshold\": 0.716, \"p\": 249, \"fpr\": 1.0, \"tpr\": 1.0, \"n\": 43}, {\"threshold\": 0.717, \"p\": 249, \"fpr\": 1.0, \"tpr\": 1.0, \"n\": 43}, {\"threshold\": 0.718, \"p\": 249, \"fpr\": 1.0, \"tpr\": 1.0, \"n\": 43}, {\"threshold\": 0.719, \"p\": 249, \"fpr\": 1.0, \"tpr\": 1.0, \"n\": 43}, {\"threshold\": 0.72, \"p\": 249, \"fpr\": 1.0, \"tpr\": 1.0, \"n\": 43}, {\"threshold\": 0.721, \"p\": 249, \"fpr\": 1.0, \"tpr\": 1.0, \"n\": 43}, {\"threshold\": 0.722, \"p\": 249, \"fpr\": 1.0, \"tpr\": 1.0, \"n\": 43}, {\"threshold\": 0.723, \"p\": 249, \"fpr\": 1.0, \"tpr\": 1.0, \"n\": 43}, {\"threshold\": 0.724, \"p\": 249, \"fpr\": 1.0, \"tpr\": 1.0, \"n\": 43}, {\"threshold\": 0.725, \"p\": 249, \"fpr\": 1.0, \"tpr\": 1.0, \"n\": 43}, {\"threshold\": 0.726, \"p\": 249, \"fpr\": 1.0, \"tpr\": 1.0, \"n\": 43}, {\"threshold\": 0.727, \"p\": 249, \"fpr\": 1.0, \"tpr\": 1.0, \"n\": 43}, {\"threshold\": 0.728, \"p\": 249, \"fpr\": 1.0, \"tpr\": 1.0, \"n\": 43}, {\"threshold\": 0.729, \"p\": 249, \"fpr\": 1.0, \"tpr\": 1.0, \"n\": 43}, {\"threshold\": 0.73, \"p\": 249, \"fpr\": 1.0, \"tpr\": 1.0, \"n\": 43}, {\"threshold\": 0.731, \"p\": 249, \"fpr\": 1.0, \"tpr\": 1.0, \"n\": 43}, {\"threshold\": 0.732, \"p\": 249, \"fpr\": 1.0, \"tpr\": 1.0, \"n\": 43}, {\"threshold\": 0.733, \"p\": 249, \"fpr\": 1.0, \"tpr\": 1.0, \"n\": 43}, {\"threshold\": 0.734, \"p\": 249, \"fpr\": 1.0, \"tpr\": 1.0, \"n\": 43}, {\"threshold\": 0.735, \"p\": 249, \"fpr\": 1.0, \"tpr\": 1.0, \"n\": 43}, {\"threshold\": 0.736, \"p\": 249, \"fpr\": 1.0, \"tpr\": 1.0, \"n\": 43}, {\"threshold\": 0.737, \"p\": 249, \"fpr\": 1.0, \"tpr\": 1.0, \"n\": 43}, {\"threshold\": 0.738, \"p\": 249, \"fpr\": 1.0, \"tpr\": 1.0, \"n\": 43}, {\"threshold\": 0.739, \"p\": 249, \"fpr\": 1.0, \"tpr\": 1.0, \"n\": 43}, {\"threshold\": 0.74, \"p\": 249, \"fpr\": 1.0, \"tpr\": 1.0, \"n\": 43}, {\"threshold\": 0.741, \"p\": 249, \"fpr\": 1.0, \"tpr\": 1.0, \"n\": 43}, {\"threshold\": 0.742, \"p\": 249, \"fpr\": 1.0, \"tpr\": 1.0, \"n\": 43}, {\"threshold\": 0.743, \"p\": 249, \"fpr\": 1.0, \"tpr\": 1.0, \"n\": 43}, {\"threshold\": 0.744, \"p\": 249, \"fpr\": 1.0, \"tpr\": 1.0, \"n\": 43}, {\"threshold\": 0.745, \"p\": 249, \"fpr\": 1.0, \"tpr\": 1.0, \"n\": 43}, {\"threshold\": 0.746, \"p\": 249, \"fpr\": 1.0, \"tpr\": 1.0, \"n\": 43}, {\"threshold\": 0.747, \"p\": 249, \"fpr\": 1.0, \"tpr\": 1.0, \"n\": 43}, {\"threshold\": 0.748, \"p\": 249, \"fpr\": 1.0, \"tpr\": 1.0, \"n\": 43}, {\"threshold\": 0.749, \"p\": 249, \"fpr\": 1.0, \"tpr\": 1.0, \"n\": 43}, {\"threshold\": 0.75, \"p\": 249, \"fpr\": 1.0, \"tpr\": 1.0, \"n\": 43}, {\"threshold\": 0.751, \"p\": 249, \"fpr\": 1.0, \"tpr\": 0.9959839357429718, \"n\": 43}, {\"threshold\": 0.752, \"p\": 249, \"fpr\": 1.0, \"tpr\": 0.9959839357429718, \"n\": 43}, {\"threshold\": 0.753, \"p\": 249, \"fpr\": 1.0, \"tpr\": 0.9959839357429718, \"n\": 43}, {\"threshold\": 0.754, \"p\": 249, \"fpr\": 1.0, \"tpr\": 0.9959839357429718, \"n\": 43}, {\"threshold\": 0.755, \"p\": 249, \"fpr\": 1.0, \"tpr\": 0.9959839357429718, \"n\": 43}, {\"threshold\": 0.756, \"p\": 249, \"fpr\": 1.0, \"tpr\": 0.9959839357429718, \"n\": 43}, {\"threshold\": 0.757, \"p\": 249, \"fpr\": 1.0, \"tpr\": 0.9959839357429718, \"n\": 43}, {\"threshold\": 0.758, \"p\": 249, \"fpr\": 1.0, \"tpr\": 0.9959839357429718, \"n\": 43}, {\"threshold\": 0.759, \"p\": 249, \"fpr\": 1.0, \"tpr\": 0.9959839357429718, \"n\": 43}, {\"threshold\": 0.76, \"p\": 249, \"fpr\": 1.0, \"tpr\": 0.9959839357429718, \"n\": 43}, {\"threshold\": 0.761, \"p\": 249, \"fpr\": 1.0, \"tpr\": 0.9959839357429718, \"n\": 43}, {\"threshold\": 0.762, \"p\": 249, \"fpr\": 1.0, \"tpr\": 0.9959839357429718, \"n\": 43}, {\"threshold\": 0.763, \"p\": 249, \"fpr\": 1.0, \"tpr\": 0.9959839357429718, \"n\": 43}, {\"threshold\": 0.764, \"p\": 249, \"fpr\": 1.0, \"tpr\": 0.9959839357429718, \"n\": 43}, {\"threshold\": 0.765, \"p\": 249, \"fpr\": 1.0, \"tpr\": 0.9959839357429718, \"n\": 43}, {\"threshold\": 0.766, \"p\": 249, \"fpr\": 1.0, \"tpr\": 0.9959839357429718, \"n\": 43}, {\"threshold\": 0.767, \"p\": 249, \"fpr\": 1.0, \"tpr\": 0.9959839357429718, \"n\": 43}, {\"threshold\": 0.768, \"p\": 249, \"fpr\": 1.0, \"tpr\": 0.9959839357429718, \"n\": 43}, {\"threshold\": 0.769, \"p\": 249, \"fpr\": 1.0, \"tpr\": 0.9959839357429718, \"n\": 43}, {\"threshold\": 0.77, \"p\": 249, \"fpr\": 1.0, \"tpr\": 0.9959839357429718, \"n\": 43}, {\"threshold\": 0.771, \"p\": 249, \"fpr\": 1.0, \"tpr\": 0.9959839357429718, \"n\": 43}, {\"threshold\": 0.772, \"p\": 249, \"fpr\": 1.0, \"tpr\": 0.9959839357429718, \"n\": 43}, {\"threshold\": 0.773, \"p\": 249, \"fpr\": 1.0, \"tpr\": 0.9959839357429718, \"n\": 43}, {\"threshold\": 0.774, \"p\": 249, \"fpr\": 1.0, \"tpr\": 0.9959839357429718, \"n\": 43}, {\"threshold\": 0.775, \"p\": 249, \"fpr\": 1.0, \"tpr\": 0.9959839357429718, \"n\": 43}, {\"threshold\": 0.776, \"p\": 249, \"fpr\": 1.0, \"tpr\": 0.9959839357429718, \"n\": 43}, {\"threshold\": 0.777, \"p\": 249, \"fpr\": 1.0, \"tpr\": 0.9959839357429718, \"n\": 43}, {\"threshold\": 0.778, \"p\": 249, \"fpr\": 1.0, \"tpr\": 0.9959839357429718, \"n\": 43}, {\"threshold\": 0.779, \"p\": 249, \"fpr\": 1.0, \"tpr\": 0.9959839357429718, \"n\": 43}, {\"threshold\": 0.78, \"p\": 249, \"fpr\": 1.0, \"tpr\": 0.9959839357429718, \"n\": 43}, {\"threshold\": 0.781, \"p\": 249, \"fpr\": 1.0, \"tpr\": 0.9959839357429718, \"n\": 43}, {\"threshold\": 0.782, \"p\": 249, \"fpr\": 1.0, \"tpr\": 0.9959839357429718, \"n\": 43}, {\"threshold\": 0.783, \"p\": 249, \"fpr\": 1.0, \"tpr\": 0.9959839357429718, \"n\": 43}, {\"threshold\": 0.784, \"p\": 249, \"fpr\": 1.0, \"tpr\": 0.9959839357429718, \"n\": 43}, {\"threshold\": 0.785, \"p\": 249, \"fpr\": 1.0, \"tpr\": 0.9959839357429718, \"n\": 43}, {\"threshold\": 0.786, \"p\": 249, \"fpr\": 1.0, \"tpr\": 0.9959839357429718, \"n\": 43}, {\"threshold\": 0.787, \"p\": 249, \"fpr\": 1.0, \"tpr\": 0.9959839357429718, \"n\": 43}, {\"threshold\": 0.788, \"p\": 249, \"fpr\": 1.0, \"tpr\": 0.9959839357429718, \"n\": 43}, {\"threshold\": 0.789, \"p\": 249, \"fpr\": 1.0, \"tpr\": 0.9959839357429718, \"n\": 43}, {\"threshold\": 0.79, \"p\": 249, \"fpr\": 1.0, \"tpr\": 0.9959839357429718, \"n\": 43}, {\"threshold\": 0.791, \"p\": 249, \"fpr\": 1.0, \"tpr\": 0.9959839357429718, \"n\": 43}, {\"threshold\": 0.792, \"p\": 249, \"fpr\": 1.0, \"tpr\": 0.9959839357429718, \"n\": 43}, {\"threshold\": 0.793, \"p\": 249, \"fpr\": 1.0, \"tpr\": 0.9959839357429718, \"n\": 43}, {\"threshold\": 0.794, \"p\": 249, \"fpr\": 1.0, \"tpr\": 0.9959839357429718, \"n\": 43}, {\"threshold\": 0.795, \"p\": 249, \"fpr\": 1.0, \"tpr\": 0.9959839357429718, \"n\": 43}, {\"threshold\": 0.796, \"p\": 249, \"fpr\": 1.0, \"tpr\": 0.9959839357429718, \"n\": 43}, {\"threshold\": 0.797, \"p\": 249, \"fpr\": 1.0, \"tpr\": 0.9959839357429718, \"n\": 43}, {\"threshold\": 0.798, \"p\": 249, \"fpr\": 1.0, \"tpr\": 0.9959839357429718, \"n\": 43}, {\"threshold\": 0.799, \"p\": 249, \"fpr\": 1.0, \"tpr\": 0.9959839357429718, \"n\": 43}, {\"threshold\": 0.8, \"p\": 249, \"fpr\": 1.0, \"tpr\": 0.9959839357429718, \"n\": 43}, {\"threshold\": 0.801, \"p\": 249, \"fpr\": 1.0, \"tpr\": 0.9959839357429718, \"n\": 43}, {\"threshold\": 0.802, \"p\": 249, \"fpr\": 1.0, \"tpr\": 0.9959839357429718, \"n\": 43}, {\"threshold\": 0.803, \"p\": 249, \"fpr\": 1.0, \"tpr\": 0.9959839357429718, \"n\": 43}, {\"threshold\": 0.804, \"p\": 249, \"fpr\": 1.0, \"tpr\": 0.9959839357429718, \"n\": 43}, {\"threshold\": 0.805, \"p\": 249, \"fpr\": 1.0, \"tpr\": 0.9959839357429718, \"n\": 43}, {\"threshold\": 0.806, \"p\": 249, \"fpr\": 1.0, \"tpr\": 0.9959839357429718, \"n\": 43}, {\"threshold\": 0.807, \"p\": 249, \"fpr\": 1.0, \"tpr\": 0.9959839357429718, \"n\": 43}, {\"threshold\": 0.808, \"p\": 249, \"fpr\": 1.0, \"tpr\": 0.9959839357429718, \"n\": 43}, {\"threshold\": 0.809, \"p\": 249, \"fpr\": 1.0, \"tpr\": 0.9959839357429718, \"n\": 43}, {\"threshold\": 0.81, \"p\": 249, \"fpr\": 1.0, \"tpr\": 0.9959839357429718, \"n\": 43}, {\"threshold\": 0.811, \"p\": 249, \"fpr\": 1.0, \"tpr\": 0.9959839357429718, \"n\": 43}, {\"threshold\": 0.812, \"p\": 249, \"fpr\": 1.0, \"tpr\": 0.9959839357429718, \"n\": 43}, {\"threshold\": 0.813, \"p\": 249, \"fpr\": 1.0, \"tpr\": 0.9959839357429718, \"n\": 43}, {\"threshold\": 0.814, \"p\": 249, \"fpr\": 1.0, \"tpr\": 0.9959839357429718, \"n\": 43}, {\"threshold\": 0.815, \"p\": 249, \"fpr\": 1.0, \"tpr\": 0.9959839357429718, \"n\": 43}, {\"threshold\": 0.816, \"p\": 249, \"fpr\": 1.0, \"tpr\": 0.9959839357429718, \"n\": 43}, {\"threshold\": 0.817, \"p\": 249, \"fpr\": 1.0, \"tpr\": 0.9959839357429718, \"n\": 43}, {\"threshold\": 0.818, \"p\": 249, \"fpr\": 1.0, \"tpr\": 0.9959839357429718, \"n\": 43}, {\"threshold\": 0.819, \"p\": 249, \"fpr\": 1.0, \"tpr\": 0.9959839357429718, \"n\": 43}, {\"threshold\": 0.82, \"p\": 249, \"fpr\": 1.0, \"tpr\": 0.9959839357429718, \"n\": 43}, {\"threshold\": 0.821, \"p\": 249, \"fpr\": 1.0, \"tpr\": 0.9959839357429718, \"n\": 43}, {\"threshold\": 0.822, \"p\": 249, \"fpr\": 1.0, \"tpr\": 0.9959839357429718, \"n\": 43}, {\"threshold\": 0.823, \"p\": 249, \"fpr\": 1.0, \"tpr\": 0.9959839357429718, \"n\": 43}, {\"threshold\": 0.824, \"p\": 249, \"fpr\": 1.0, \"tpr\": 0.9959839357429718, \"n\": 43}, {\"threshold\": 0.825, \"p\": 249, \"fpr\": 1.0, \"tpr\": 0.9959839357429718, \"n\": 43}, {\"threshold\": 0.826, \"p\": 249, \"fpr\": 1.0, \"tpr\": 0.9959839357429718, \"n\": 43}, {\"threshold\": 0.827, \"p\": 249, \"fpr\": 1.0, \"tpr\": 0.9959839357429718, \"n\": 43}, {\"threshold\": 0.828, \"p\": 249, \"fpr\": 1.0, \"tpr\": 0.9959839357429718, \"n\": 43}, {\"threshold\": 0.829, \"p\": 249, \"fpr\": 1.0, \"tpr\": 0.9959839357429718, \"n\": 43}, {\"threshold\": 0.83, \"p\": 249, \"fpr\": 1.0, \"tpr\": 0.9959839357429718, \"n\": 43}, {\"threshold\": 0.831, \"p\": 249, \"fpr\": 1.0, \"tpr\": 0.9959839357429718, \"n\": 43}, {\"threshold\": 0.832, \"p\": 249, \"fpr\": 1.0, \"tpr\": 0.9959839357429718, \"n\": 43}, {\"threshold\": 0.833, \"p\": 249, \"fpr\": 1.0, \"tpr\": 0.9959839357429718, \"n\": 43}, {\"threshold\": 0.834, \"p\": 249, \"fpr\": 1.0, \"tpr\": 0.9959839357429718, \"n\": 43}, {\"threshold\": 0.835, \"p\": 249, \"fpr\": 1.0, \"tpr\": 0.9959839357429718, \"n\": 43}, {\"threshold\": 0.836, \"p\": 249, \"fpr\": 1.0, \"tpr\": 0.9959839357429718, \"n\": 43}, {\"threshold\": 0.837, \"p\": 249, \"fpr\": 1.0, \"tpr\": 0.9959839357429718, \"n\": 43}, {\"threshold\": 0.838, \"p\": 249, \"fpr\": 1.0, \"tpr\": 0.9959839357429718, \"n\": 43}, {\"threshold\": 0.839, \"p\": 249, \"fpr\": 1.0, \"tpr\": 0.9959839357429718, \"n\": 43}, {\"threshold\": 0.84, \"p\": 249, \"fpr\": 1.0, \"tpr\": 0.9959839357429718, \"n\": 43}, {\"threshold\": 0.841, \"p\": 249, \"fpr\": 1.0, \"tpr\": 0.9959839357429718, \"n\": 43}, {\"threshold\": 0.842, \"p\": 249, \"fpr\": 1.0, \"tpr\": 0.9959839357429718, \"n\": 43}, {\"threshold\": 0.843, \"p\": 249, \"fpr\": 1.0, \"tpr\": 0.9959839357429718, \"n\": 43}, {\"threshold\": 0.844, \"p\": 249, \"fpr\": 1.0, \"tpr\": 0.9959839357429718, \"n\": 43}, {\"threshold\": 0.845, \"p\": 249, \"fpr\": 1.0, \"tpr\": 0.9959839357429718, \"n\": 43}, {\"threshold\": 0.846, \"p\": 249, \"fpr\": 1.0, \"tpr\": 0.9959839357429718, \"n\": 43}, {\"threshold\": 0.847, \"p\": 249, \"fpr\": 1.0, \"tpr\": 0.9959839357429718, \"n\": 43}, {\"threshold\": 0.848, \"p\": 249, \"fpr\": 1.0, \"tpr\": 0.9959839357429718, \"n\": 43}, {\"threshold\": 0.849, \"p\": 249, \"fpr\": 1.0, \"tpr\": 0.9959839357429718, \"n\": 43}, {\"threshold\": 0.85, \"p\": 249, \"fpr\": 1.0, \"tpr\": 0.9959839357429718, \"n\": 43}, {\"threshold\": 0.851, \"p\": 249, \"fpr\": 1.0, \"tpr\": 0.9959839357429718, \"n\": 43}, {\"threshold\": 0.852, \"p\": 249, \"fpr\": 1.0, \"tpr\": 0.9959839357429718, \"n\": 43}, {\"threshold\": 0.853, \"p\": 249, \"fpr\": 1.0, \"tpr\": 0.9959839357429718, \"n\": 43}, {\"threshold\": 0.854, \"p\": 249, \"fpr\": 1.0, \"tpr\": 0.9959839357429718, \"n\": 43}, {\"threshold\": 0.855, \"p\": 249, \"fpr\": 1.0, \"tpr\": 0.9959839357429718, \"n\": 43}, {\"threshold\": 0.856, \"p\": 249, \"fpr\": 1.0, \"tpr\": 0.9959839357429718, \"n\": 43}, {\"threshold\": 0.857, \"p\": 249, \"fpr\": 1.0, \"tpr\": 0.9959839357429718, \"n\": 43}, {\"threshold\": 0.858, \"p\": 249, \"fpr\": 1.0, \"tpr\": 0.9959839357429718, \"n\": 43}, {\"threshold\": 0.859, \"p\": 249, \"fpr\": 1.0, \"tpr\": 0.9959839357429718, \"n\": 43}, {\"threshold\": 0.86, \"p\": 249, \"fpr\": 1.0, \"tpr\": 0.9959839357429718, \"n\": 43}, {\"threshold\": 0.861, \"p\": 249, \"fpr\": 1.0, \"tpr\": 0.9959839357429718, \"n\": 43}, {\"threshold\": 0.862, \"p\": 249, \"fpr\": 1.0, \"tpr\": 0.9959839357429718, \"n\": 43}, {\"threshold\": 0.863, \"p\": 249, \"fpr\": 1.0, \"tpr\": 0.9959839357429718, \"n\": 43}, {\"threshold\": 0.864, \"p\": 249, \"fpr\": 1.0, \"tpr\": 0.9959839357429718, \"n\": 43}, {\"threshold\": 0.865, \"p\": 249, \"fpr\": 1.0, \"tpr\": 0.9959839357429718, \"n\": 43}, {\"threshold\": 0.866, \"p\": 249, \"fpr\": 1.0, \"tpr\": 0.9959839357429718, \"n\": 43}, {\"threshold\": 0.867, \"p\": 249, \"fpr\": 1.0, \"tpr\": 0.9959839357429718, \"n\": 43}, {\"threshold\": 0.868, \"p\": 249, \"fpr\": 1.0, \"tpr\": 0.9959839357429718, \"n\": 43}, {\"threshold\": 0.869, \"p\": 249, \"fpr\": 1.0, \"tpr\": 0.9959839357429718, \"n\": 43}, {\"threshold\": 0.87, \"p\": 249, \"fpr\": 1.0, \"tpr\": 0.9959839357429718, \"n\": 43}, {\"threshold\": 0.871, \"p\": 249, \"fpr\": 1.0, \"tpr\": 0.9959839357429718, \"n\": 43}, {\"threshold\": 0.872, \"p\": 249, \"fpr\": 1.0, \"tpr\": 0.9959839357429718, \"n\": 43}, {\"threshold\": 0.873, \"p\": 249, \"fpr\": 1.0, \"tpr\": 0.9959839357429718, \"n\": 43}, {\"threshold\": 0.874, \"p\": 249, \"fpr\": 1.0, \"tpr\": 0.9959839357429718, \"n\": 43}, {\"threshold\": 0.875, \"p\": 249, \"fpr\": 1.0, \"tpr\": 0.9959839357429718, \"n\": 43}, {\"threshold\": 0.876, \"p\": 249, \"fpr\": 1.0, \"tpr\": 0.9959839357429718, \"n\": 43}, {\"threshold\": 0.877, \"p\": 249, \"fpr\": 1.0, \"tpr\": 0.9959839357429718, \"n\": 43}, {\"threshold\": 0.878, \"p\": 249, \"fpr\": 1.0, \"tpr\": 0.9959839357429718, \"n\": 43}, {\"threshold\": 0.879, \"p\": 249, \"fpr\": 1.0, \"tpr\": 0.9959839357429718, \"n\": 43}, {\"threshold\": 0.88, \"p\": 249, \"fpr\": 1.0, \"tpr\": 0.9959839357429718, \"n\": 43}, {\"threshold\": 0.881, \"p\": 249, \"fpr\": 1.0, \"tpr\": 0.9959839357429718, \"n\": 43}, {\"threshold\": 0.882, \"p\": 249, \"fpr\": 1.0, \"tpr\": 0.9959839357429718, \"n\": 43}, {\"threshold\": 0.883, \"p\": 249, \"fpr\": 1.0, \"tpr\": 0.9959839357429718, \"n\": 43}, {\"threshold\": 0.884, \"p\": 249, \"fpr\": 1.0, \"tpr\": 0.9959839357429718, \"n\": 43}, {\"threshold\": 0.885, \"p\": 249, \"fpr\": 1.0, \"tpr\": 0.9959839357429718, \"n\": 43}, {\"threshold\": 0.886, \"p\": 249, \"fpr\": 1.0, \"tpr\": 0.9959839357429718, \"n\": 43}, {\"threshold\": 0.887, \"p\": 249, \"fpr\": 1.0, \"tpr\": 0.9959839357429718, \"n\": 43}, {\"threshold\": 0.888, \"p\": 249, \"fpr\": 1.0, \"tpr\": 0.9959839357429718, \"n\": 43}, {\"threshold\": 0.889, \"p\": 249, \"fpr\": 1.0, \"tpr\": 0.9959839357429718, \"n\": 43}, {\"threshold\": 0.89, \"p\": 249, \"fpr\": 1.0, \"tpr\": 0.9959839357429718, \"n\": 43}, {\"threshold\": 0.891, \"p\": 249, \"fpr\": 1.0, \"tpr\": 0.9959839357429718, \"n\": 43}, {\"threshold\": 0.892, \"p\": 249, \"fpr\": 1.0, \"tpr\": 0.9959839357429718, \"n\": 43}, {\"threshold\": 0.893, \"p\": 249, \"fpr\": 1.0, \"tpr\": 0.9959839357429718, \"n\": 43}, {\"threshold\": 0.894, \"p\": 249, \"fpr\": 1.0, \"tpr\": 0.9959839357429718, \"n\": 43}, {\"threshold\": 0.895, \"p\": 249, \"fpr\": 1.0, \"tpr\": 0.9959839357429718, \"n\": 43}, {\"threshold\": 0.896, \"p\": 249, \"fpr\": 1.0, \"tpr\": 0.9959839357429718, \"n\": 43}, {\"threshold\": 0.897, \"p\": 249, \"fpr\": 1.0, \"tpr\": 0.9959839357429718, \"n\": 43}, {\"threshold\": 0.898, \"p\": 249, \"fpr\": 0.0, \"tpr\": 0.008032128514056224, \"n\": 43}, {\"threshold\": 0.899, \"p\": 249, \"fpr\": 0.0, \"tpr\": 0.008032128514056224, \"n\": 43}, {\"threshold\": 0.9, \"p\": 249, \"fpr\": 0.0, \"tpr\": 0.008032128514056224, \"n\": 43}, {\"threshold\": 0.901, \"p\": 249, \"fpr\": 0.0, \"tpr\": 0.008032128514056224, \"n\": 43}, {\"threshold\": 0.902, \"p\": 249, \"fpr\": 0.0, \"tpr\": 0.008032128514056224, \"n\": 43}, {\"threshold\": 0.903, \"p\": 249, \"fpr\": 0.0, \"tpr\": 0.008032128514056224, \"n\": 43}, {\"threshold\": 0.904, \"p\": 249, \"fpr\": 0.0, \"tpr\": 0.008032128514056224, \"n\": 43}, {\"threshold\": 0.905, \"p\": 249, \"fpr\": 0.0, \"tpr\": 0.008032128514056224, \"n\": 43}, {\"threshold\": 0.906, \"p\": 249, \"fpr\": 0.0, \"tpr\": 0.008032128514056224, \"n\": 43}, {\"threshold\": 0.907, \"p\": 249, \"fpr\": 0.0, \"tpr\": 0.008032128514056224, \"n\": 43}, {\"threshold\": 0.908, \"p\": 249, \"fpr\": 0.0, \"tpr\": 0.008032128514056224, \"n\": 43}, {\"threshold\": 0.909, \"p\": 249, \"fpr\": 0.0, \"tpr\": 0.008032128514056224, \"n\": 43}, {\"threshold\": 0.91, \"p\": 249, \"fpr\": 0.0, \"tpr\": 0.008032128514056224, \"n\": 43}, {\"threshold\": 0.911, \"p\": 249, \"fpr\": 0.0, \"tpr\": 0.008032128514056224, \"n\": 43}, {\"threshold\": 0.912, \"p\": 249, \"fpr\": 0.0, \"tpr\": 0.008032128514056224, \"n\": 43}, {\"threshold\": 0.913, \"p\": 249, \"fpr\": 0.0, \"tpr\": 0.008032128514056224, \"n\": 43}, {\"threshold\": 0.914, \"p\": 249, \"fpr\": 0.0, \"tpr\": 0.008032128514056224, \"n\": 43}, {\"threshold\": 0.915, \"p\": 249, \"fpr\": 0.0, \"tpr\": 0.008032128514056224, \"n\": 43}, {\"threshold\": 0.916, \"p\": 249, \"fpr\": 0.0, \"tpr\": 0.008032128514056224, \"n\": 43}, {\"threshold\": 0.917, \"p\": 249, \"fpr\": 0.0, \"tpr\": 0.008032128514056224, \"n\": 43}, {\"threshold\": 0.918, \"p\": 249, \"fpr\": 0.0, \"tpr\": 0.008032128514056224, \"n\": 43}, {\"threshold\": 0.919, \"p\": 249, \"fpr\": 0.0, \"tpr\": 0.008032128514056224, \"n\": 43}, {\"threshold\": 0.92, \"p\": 249, \"fpr\": 0.0, \"tpr\": 0.008032128514056224, \"n\": 43}, {\"threshold\": 0.921, \"p\": 249, \"fpr\": 0.0, \"tpr\": 0.008032128514056224, \"n\": 43}, {\"threshold\": 0.922, \"p\": 249, \"fpr\": 0.0, \"tpr\": 0.008032128514056224, \"n\": 43}, {\"threshold\": 0.923, \"p\": 249, \"fpr\": 0.0, \"tpr\": 0.008032128514056224, \"n\": 43}, {\"threshold\": 0.924, \"p\": 249, \"fpr\": 0.0, \"tpr\": 0.008032128514056224, \"n\": 43}, {\"threshold\": 0.925, \"p\": 249, \"fpr\": 0.0, \"tpr\": 0.008032128514056224, \"n\": 43}, {\"threshold\": 0.926, \"p\": 249, \"fpr\": 0.0, \"tpr\": 0.008032128514056224, \"n\": 43}, {\"threshold\": 0.927, \"p\": 249, \"fpr\": 0.0, \"tpr\": 0.008032128514056224, \"n\": 43}, {\"threshold\": 0.928, \"p\": 249, \"fpr\": 0.0, \"tpr\": 0.008032128514056224, \"n\": 43}, {\"threshold\": 0.929, \"p\": 249, \"fpr\": 0.0, \"tpr\": 0.008032128514056224, \"n\": 43}, {\"threshold\": 0.93, \"p\": 249, \"fpr\": 0.0, \"tpr\": 0.008032128514056224, \"n\": 43}, {\"threshold\": 0.931, \"p\": 249, \"fpr\": 0.0, \"tpr\": 0.008032128514056224, \"n\": 43}, {\"threshold\": 0.932, \"p\": 249, \"fpr\": 0.0, \"tpr\": 0.008032128514056224, \"n\": 43}, {\"threshold\": 0.933, \"p\": 249, \"fpr\": 0.0, \"tpr\": 0.008032128514056224, \"n\": 43}, {\"threshold\": 0.934, \"p\": 249, \"fpr\": 0.0, \"tpr\": 0.008032128514056224, \"n\": 43}, {\"threshold\": 0.935, \"p\": 249, \"fpr\": 0.0, \"tpr\": 0.008032128514056224, \"n\": 43}, {\"threshold\": 0.936, \"p\": 249, \"fpr\": 0.0, \"tpr\": 0.008032128514056224, \"n\": 43}, {\"threshold\": 0.937, \"p\": 249, \"fpr\": 0.0, \"tpr\": 0.008032128514056224, \"n\": 43}, {\"threshold\": 0.938, \"p\": 249, \"fpr\": 0.0, \"tpr\": 0.008032128514056224, \"n\": 43}, {\"threshold\": 0.939, \"p\": 249, \"fpr\": 0.0, \"tpr\": 0.008032128514056224, \"n\": 43}, {\"threshold\": 0.94, \"p\": 249, \"fpr\": 0.0, \"tpr\": 0.008032128514056224, \"n\": 43}, {\"threshold\": 0.941, \"p\": 249, \"fpr\": 0.0, \"tpr\": 0.008032128514056224, \"n\": 43}, {\"threshold\": 0.942, \"p\": 249, \"fpr\": 0.0, \"tpr\": 0.008032128514056224, \"n\": 43}, {\"threshold\": 0.943, \"p\": 249, \"fpr\": 0.0, \"tpr\": 0.008032128514056224, \"n\": 43}, {\"threshold\": 0.944, \"p\": 249, \"fpr\": 0.0, \"tpr\": 0.008032128514056224, \"n\": 43}, {\"threshold\": 0.945, \"p\": 249, \"fpr\": 0.0, \"tpr\": 0.008032128514056224, \"n\": 43}, {\"threshold\": 0.946, \"p\": 249, \"fpr\": 0.0, \"tpr\": 0.008032128514056224, \"n\": 43}, {\"threshold\": 0.947, \"p\": 249, \"fpr\": 0.0, \"tpr\": 0.008032128514056224, \"n\": 43}, {\"threshold\": 0.948, \"p\": 249, \"fpr\": 0.0, \"tpr\": 0.008032128514056224, \"n\": 43}, {\"threshold\": 0.949, \"p\": 249, \"fpr\": 0.0, \"tpr\": 0.008032128514056224, \"n\": 43}, {\"threshold\": 0.95, \"p\": 249, \"fpr\": 0.0, \"tpr\": 0.008032128514056224, \"n\": 43}, {\"threshold\": 0.951, \"p\": 249, \"fpr\": 0.0, \"tpr\": 0.008032128514056224, \"n\": 43}, {\"threshold\": 0.952, \"p\": 249, \"fpr\": 0.0, \"tpr\": 0.008032128514056224, \"n\": 43}, {\"threshold\": 0.953, \"p\": 249, \"fpr\": 0.0, \"tpr\": 0.008032128514056224, \"n\": 43}, {\"threshold\": 0.954, \"p\": 249, \"fpr\": 0.0, \"tpr\": 0.008032128514056224, \"n\": 43}, {\"threshold\": 0.955, \"p\": 249, \"fpr\": 0.0, \"tpr\": 0.008032128514056224, \"n\": 43}, {\"threshold\": 0.956, \"p\": 249, \"fpr\": 0.0, \"tpr\": 0.008032128514056224, \"n\": 43}, {\"threshold\": 0.957, \"p\": 249, \"fpr\": 0.0, \"tpr\": 0.008032128514056224, \"n\": 43}, {\"threshold\": 0.958, \"p\": 249, \"fpr\": 0.0, \"tpr\": 0.008032128514056224, \"n\": 43}, {\"threshold\": 0.959, \"p\": 249, \"fpr\": 0.0, \"tpr\": 0.008032128514056224, \"n\": 43}, {\"threshold\": 0.96, \"p\": 249, \"fpr\": 0.0, \"tpr\": 0.008032128514056224, \"n\": 43}, {\"threshold\": 0.961, \"p\": 249, \"fpr\": 0.0, \"tpr\": 0.008032128514056224, \"n\": 43}, {\"threshold\": 0.962, \"p\": 249, \"fpr\": 0.0, \"tpr\": 0.008032128514056224, \"n\": 43}, {\"threshold\": 0.963, \"p\": 249, \"fpr\": 0.0, \"tpr\": 0.008032128514056224, \"n\": 43}, {\"threshold\": 0.964, \"p\": 249, \"fpr\": 0.0, \"tpr\": 0.008032128514056224, \"n\": 43}, {\"threshold\": 0.965, \"p\": 249, \"fpr\": 0.0, \"tpr\": 0.008032128514056224, \"n\": 43}, {\"threshold\": 0.966, \"p\": 249, \"fpr\": 0.0, \"tpr\": 0.008032128514056224, \"n\": 43}, {\"threshold\": 0.967, \"p\": 249, \"fpr\": 0.0, \"tpr\": 0.008032128514056224, \"n\": 43}, {\"threshold\": 0.968, \"p\": 249, \"fpr\": 0.0, \"tpr\": 0.008032128514056224, \"n\": 43}, {\"threshold\": 0.969, \"p\": 249, \"fpr\": 0.0, \"tpr\": 0.008032128514056224, \"n\": 43}, {\"threshold\": 0.97, \"p\": 249, \"fpr\": 0.0, \"tpr\": 0.008032128514056224, \"n\": 43}, {\"threshold\": 0.971, \"p\": 249, \"fpr\": 0.0, \"tpr\": 0.008032128514056224, \"n\": 43}, {\"threshold\": 0.972, \"p\": 249, \"fpr\": 0.0, \"tpr\": 0.008032128514056224, \"n\": 43}, {\"threshold\": 0.973, \"p\": 249, \"fpr\": 0.0, \"tpr\": 0.008032128514056224, \"n\": 43}, {\"threshold\": 0.974, \"p\": 249, \"fpr\": 0.0, \"tpr\": 0.008032128514056224, \"n\": 43}, {\"threshold\": 0.975, \"p\": 249, \"fpr\": 0.0, \"tpr\": 0.008032128514056224, \"n\": 43}, {\"threshold\": 0.976, \"p\": 249, \"fpr\": 0.0, \"tpr\": 0.008032128514056224, \"n\": 43}, {\"threshold\": 0.977, \"p\": 249, \"fpr\": 0.0, \"tpr\": 0.008032128514056224, \"n\": 43}, {\"threshold\": 0.978, \"p\": 249, \"fpr\": 0.0, \"tpr\": 0.008032128514056224, \"n\": 43}, {\"threshold\": 0.979, \"p\": 249, \"fpr\": 0.0, \"tpr\": 0.008032128514056224, \"n\": 43}, {\"threshold\": 0.98, \"p\": 249, \"fpr\": 0.0, \"tpr\": 0.008032128514056224, \"n\": 43}, {\"threshold\": 0.981, \"p\": 249, \"fpr\": 0.0, \"tpr\": 0.008032128514056224, \"n\": 43}, {\"threshold\": 0.982, \"p\": 249, \"fpr\": 0.0, \"tpr\": 0.008032128514056224, \"n\": 43}, {\"threshold\": 0.983, \"p\": 249, \"fpr\": 0.0, \"tpr\": 0.008032128514056224, \"n\": 43}, {\"threshold\": 0.984, \"p\": 249, \"fpr\": 0.0, \"tpr\": 0.008032128514056224, \"n\": 43}, {\"threshold\": 0.985, \"p\": 249, \"fpr\": 0.0, \"tpr\": 0.008032128514056224, \"n\": 43}, {\"threshold\": 0.986, \"p\": 249, \"fpr\": 0.0, \"tpr\": 0.008032128514056224, \"n\": 43}, {\"threshold\": 0.987, \"p\": 249, \"fpr\": 0.0, \"tpr\": 0.008032128514056224, \"n\": 43}, {\"threshold\": 0.988, \"p\": 249, \"fpr\": 0.0, \"tpr\": 0.008032128514056224, \"n\": 43}, {\"threshold\": 0.989, \"p\": 249, \"fpr\": 0.0, \"tpr\": 0.008032128514056224, \"n\": 43}, {\"threshold\": 0.99, \"p\": 249, \"fpr\": 0.0, \"tpr\": 0.008032128514056224, \"n\": 43}, {\"threshold\": 0.991, \"p\": 249, \"fpr\": 0.0, \"tpr\": 0.008032128514056224, \"n\": 43}, {\"threshold\": 0.992, \"p\": 249, \"fpr\": 0.0, \"tpr\": 0.008032128514056224, \"n\": 43}, {\"threshold\": 0.993, \"p\": 249, \"fpr\": 0.0, \"tpr\": 0.008032128514056224, \"n\": 43}, {\"threshold\": 0.994, \"p\": 249, \"fpr\": 0.0, \"tpr\": 0.008032128514056224, \"n\": 43}, {\"threshold\": 0.995, \"p\": 249, \"fpr\": 0.0, \"tpr\": 0.008032128514056224, \"n\": 43}, {\"threshold\": 0.996, \"p\": 249, \"fpr\": 0.0, \"tpr\": 0.008032128514056224, \"n\": 43}, {\"threshold\": 0.997, \"p\": 249, \"fpr\": 0.0, \"tpr\": 0.008032128514056224, \"n\": 43}, {\"threshold\": 0.998, \"p\": 249, \"fpr\": 0.0, \"tpr\": 0.008032128514056224, \"n\": 43}, {\"threshold\": 0.999, \"p\": 249, \"fpr\": 0.0, \"tpr\": 0.008032128514056224, \"n\": 43}, {\"threshold\": 1.0, \"p\": 249, \"fpr\": 0.0, \"tpr\": 0.0, \"n\": 43}]}]]}, e);\n",
       "                });\n",
       "            })();\n",
       "        "
      ]
     },
     "metadata": {},
     "output_type": "display_data"
    }
   ],
   "source": [
    "selected_words_model.show(view='Evaluation')"
   ]
  },
  {
   "cell_type": "code",
   "execution_count": 216,
   "metadata": {
    "scrolled": true
   },
   "outputs": [
    {
     "data": {
      "text/html": [
       "<div style=\"max-height:1000px;max-width:1500px;overflow:auto;\"><table frame=\"box\" rules=\"cols\">\n",
       "    <tr>\n",
       "        <th style=\"padding-left: 1em; padding-right: 1em; text-align: center\">Unnamed: 0</th>\n",
       "        <th style=\"padding-left: 1em; padding-right: 1em; text-align: center\">sentence</th>\n",
       "        <th style=\"padding-left: 1em; padding-right: 1em; text-align: center\">frequencies</th>\n",
       "        <th style=\"padding-left: 1em; padding-right: 1em; text-align: center\">word_count</th>\n",
       "        <th style=\"padding-left: 1em; padding-right: 1em; text-align: center\">sentiment</th>\n",
       "        <th style=\"padding-left: 1em; padding-right: 1em; text-align: center\">awesome</th>\n",
       "        <th style=\"padding-left: 1em; padding-right: 1em; text-align: center\">great</th>\n",
       "        <th style=\"padding-left: 1em; padding-right: 1em; text-align: center\">fantastic</th>\n",
       "    </tr>\n",
       "    <tr>\n",
       "        <td style=\"padding-left: 1em; padding-right: 1em; text-align: center; vertical-align: top\">64</td>\n",
       "        <td style=\"padding-left: 1em; padding-right: 1em; text-align: center; vertical-align: top\">s love it the most v</td>\n",
       "        <td style=\"padding-left: 1em; padding-right: 1em; text-align: center; vertical-align: top\">1</td>\n",
       "        <td style=\"padding-left: 1em; padding-right: 1em; text-align: center; vertical-align: top\">{'love': 1, 'it': 1,<br>'most': 1, 's': 1, 'v': ...</td>\n",
       "        <td style=\"padding-left: 1em; padding-right: 1em; text-align: center; vertical-align: top\">1</td>\n",
       "        <td style=\"padding-left: 1em; padding-right: 1em; text-align: center; vertical-align: top\">0</td>\n",
       "        <td style=\"padding-left: 1em; padding-right: 1em; text-align: center; vertical-align: top\">0</td>\n",
       "        <td style=\"padding-left: 1em; padding-right: 1em; text-align: center; vertical-align: top\">0</td>\n",
       "    </tr>\n",
       "    <tr>\n",
       "        <td style=\"padding-left: 1em; padding-right: 1em; text-align: center; vertical-align: top\">115</td>\n",
       "        <td style=\"padding-left: 1em; padding-right: 1em; text-align: center; vertical-align: top\">e also love to see some<br>type of logical reaso ...</td>\n",
       "        <td style=\"padding-left: 1em; padding-right: 1em; text-align: center; vertical-align: top\">1</td>\n",
       "        <td style=\"padding-left: 1em; padding-right: 1em; text-align: center; vertical-align: top\">{'some': 1, 'afraid': 1,<br>'e': 1, 'to': 1, 'type': ...</td>\n",
       "        <td style=\"padding-left: 1em; padding-right: 1em; text-align: center; vertical-align: top\">1</td>\n",
       "        <td style=\"padding-left: 1em; padding-right: 1em; text-align: center; vertical-align: top\">0</td>\n",
       "        <td style=\"padding-left: 1em; padding-right: 1em; text-align: center; vertical-align: top\">0</td>\n",
       "        <td style=\"padding-left: 1em; padding-right: 1em; text-align: center; vertical-align: top\">0</td>\n",
       "    </tr>\n",
       "    <tr>\n",
       "        <td style=\"padding-left: 1em; padding-right: 1em; text-align: center; vertical-align: top\">415</td>\n",
       "        <td style=\"padding-left: 1em; padding-right: 1em; text-align: center; vertical-align: top\">Flight delay, back to sg<br>also glide a few laps ...</td>\n",
       "        <td style=\"padding-left: 1em; padding-right: 1em; text-align: center; vertical-align: top\">1</td>\n",
       "        <td style=\"padding-left: 1em; padding-right: 1em; text-align: center; vertical-align: top\">{'few': 1, 'because': 1,<br>'back': 1, 'toads': 1, ...</td>\n",
       "        <td style=\"padding-left: 1em; padding-right: 1em; text-align: center; vertical-align: top\">1</td>\n",
       "        <td style=\"padding-left: 1em; padding-right: 1em; text-align: center; vertical-align: top\">0</td>\n",
       "        <td style=\"padding-left: 1em; padding-right: 1em; text-align: center; vertical-align: top\">0</td>\n",
       "        <td style=\"padding-left: 1em; padding-right: 1em; text-align: center; vertical-align: top\">0</td>\n",
       "    </tr>\n",
       "</table>\n",
       "<table frame=\"box\" rules=\"cols\">\n",
       "    <tr>\n",
       "        <th style=\"padding-left: 1em; padding-right: 1em; text-align: center\">amazing</th>\n",
       "        <th style=\"padding-left: 1em; padding-right: 1em; text-align: center\">love</th>\n",
       "        <th style=\"padding-left: 1em; padding-right: 1em; text-align: center\">horrible</th>\n",
       "        <th style=\"padding-left: 1em; padding-right: 1em; text-align: center\">bad</th>\n",
       "        <th style=\"padding-left: 1em; padding-right: 1em; text-align: center\">terrible</th>\n",
       "        <th style=\"padding-left: 1em; padding-right: 1em; text-align: center\">awful</th>\n",
       "    </tr>\n",
       "    <tr>\n",
       "        <td style=\"padding-left: 1em; padding-right: 1em; text-align: center; vertical-align: top\">0</td>\n",
       "        <td style=\"padding-left: 1em; padding-right: 1em; text-align: center; vertical-align: top\">1</td>\n",
       "        <td style=\"padding-left: 1em; padding-right: 1em; text-align: center; vertical-align: top\">0</td>\n",
       "        <td style=\"padding-left: 1em; padding-right: 1em; text-align: center; vertical-align: top\">0</td>\n",
       "        <td style=\"padding-left: 1em; padding-right: 1em; text-align: center; vertical-align: top\">0</td>\n",
       "        <td style=\"padding-left: 1em; padding-right: 1em; text-align: center; vertical-align: top\">0</td>\n",
       "    </tr>\n",
       "    <tr>\n",
       "        <td style=\"padding-left: 1em; padding-right: 1em; text-align: center; vertical-align: top\">0</td>\n",
       "        <td style=\"padding-left: 1em; padding-right: 1em; text-align: center; vertical-align: top\">1</td>\n",
       "        <td style=\"padding-left: 1em; padding-right: 1em; text-align: center; vertical-align: top\">0</td>\n",
       "        <td style=\"padding-left: 1em; padding-right: 1em; text-align: center; vertical-align: top\">0</td>\n",
       "        <td style=\"padding-left: 1em; padding-right: 1em; text-align: center; vertical-align: top\">0</td>\n",
       "        <td style=\"padding-left: 1em; padding-right: 1em; text-align: center; vertical-align: top\">0</td>\n",
       "    </tr>\n",
       "    <tr>\n",
       "        <td style=\"padding-left: 1em; padding-right: 1em; text-align: center; vertical-align: top\">0</td>\n",
       "        <td style=\"padding-left: 1em; padding-right: 1em; text-align: center; vertical-align: top\">0</td>\n",
       "        <td style=\"padding-left: 1em; padding-right: 1em; text-align: center; vertical-align: top\">0</td>\n",
       "        <td style=\"padding-left: 1em; padding-right: 1em; text-align: center; vertical-align: top\">1</td>\n",
       "        <td style=\"padding-left: 1em; padding-right: 1em; text-align: center; vertical-align: top\">0</td>\n",
       "        <td style=\"padding-left: 1em; padding-right: 1em; text-align: center; vertical-align: top\">0</td>\n",
       "    </tr>\n",
       "</table>\n",
       "[3 rows x 14 columns]<br/>\n",
       "</div>"
      ],
      "text/plain": [
       "Columns:\n",
       "\tUnnamed: 0\tint\n",
       "\tsentence\tstr\n",
       "\tfrequencies\tint\n",
       "\tword_count\tdict\n",
       "\tsentiment\tint\n",
       "\tawesome\tint\n",
       "\tgreat\tint\n",
       "\tfantastic\tint\n",
       "\tamazing\tint\n",
       "\tlove\tint\n",
       "\thorrible\tint\n",
       "\tbad\tint\n",
       "\tterrible\tint\n",
       "\tawful\tint\n",
       "\n",
       "Rows: 3\n",
       "\n",
       "Data:\n",
       "+------------+-------------------------------+-------------+\n",
       "| Unnamed: 0 |            sentence           | frequencies |\n",
       "+------------+-------------------------------+-------------+\n",
       "|     64     |      s love it the most v     |      1      |\n",
       "|    115     | e also love to see some ty... |      1      |\n",
       "|    415     | Flight delay, back to sg a... |      1      |\n",
       "+------------+-------------------------------+-------------+\n",
       "+-------------------------------+-----------+---------+-------+-----------+---------+\n",
       "|           word_count          | sentiment | awesome | great | fantastic | amazing |\n",
       "+-------------------------------+-----------+---------+-------+-----------+---------+\n",
       "| {'love': 1, 'it': 1, 'most... |     1     |    0    |   0   |     0     |    0    |\n",
       "| {'some': 1, 'afraid': 1, '... |     1     |    0    |   0   |     0     |    0    |\n",
       "| {'few': 1, 'because': 1, '... |     1     |    0    |   0   |     0     |    0    |\n",
       "+-------------------------------+-----------+---------+-------+-----------+---------+\n",
       "+------+----------+-----+----------+-------+\n",
       "| love | horrible | bad | terrible | awful |\n",
       "+------+----------+-----+----------+-------+\n",
       "|  1   |    0     |  0  |    0     |   0   |\n",
       "|  1   |    0     |  0  |    0     |   0   |\n",
       "|  0   |    0     |  1  |    0     |   0   |\n",
       "+------+----------+-----+----------+-------+\n",
       "[3 rows x 14 columns]"
      ]
     },
     "execution_count": 216,
     "metadata": {},
     "output_type": "execute_result"
    }
   ],
   "source": [
    "data[(data['great'] == 1) | (data['love'] == 1) | (data['bad'] == 1)].head(3)"
   ]
  },
  {
   "cell_type": "code",
   "execution_count": 219,
   "metadata": {},
   "outputs": [
    {
     "name": "stdout",
     "output_type": "stream",
     "text": [
      "Percent of the positive expression is 62.5%\n",
      "The proportion between positive and negative sentiment is: 1.7\n"
     ]
    }
   ],
   "source": [
    "# calcutelate the pos/ total signed expressions.\n",
    "# and the proportion pos/ neg\n",
    "sum_positive = 0\n",
    "sum_negative = 0\n",
    "for word in selected_words :\n",
    "    if word == 'awesome' or word == 'great' or word == 'fantastic' or word == 'love':\n",
    "        sum_positive += data[word].sum()\n",
    "    elif word == 'horrible' or word == 'bad' or word == 'terrible' or word == 'awful':\n",
    "        sum_negative += data[word].sum()\n",
    "sum_sentiment = sum_positive + sum_negative\n",
    "proportion = sum_positive*1.0/sum_negative\n",
    "positive_expression = sum_positive*1.0/sum_sentiment*100\n",
    "print('Percent of the positive expression is {}%'.format(round(positive_expression,1)))\n",
    "print('The proportion between positive and negative sentiment is: {}'.format(round(proportion,1)))"
   ]
  }
 ],
 "metadata": {
  "coursera": {
   "course_slug": "python-crash-course",
   "graded_item_id": "Z5d28",
   "launcher_item_id": "eSjyd"
  },
  "kernelspec": {
   "display_name": "Python 2",
   "language": "python",
   "name": "python2"
  },
  "language_info": {
   "codemirror_mode": {
    "name": "ipython",
    "version": 2
   },
   "file_extension": ".py",
   "mimetype": "text/x-python",
   "name": "python",
   "nbconvert_exporter": "python",
   "pygments_lexer": "ipython2",
   "version": "2.7.17"
  },
  "widgets": {
   "application/vnd.jupyter.widget-state+json": {
    "state": {},
    "version_major": 2,
    "version_minor": 0
   }
  }
 },
 "nbformat": 4,
 "nbformat_minor": 2
}
