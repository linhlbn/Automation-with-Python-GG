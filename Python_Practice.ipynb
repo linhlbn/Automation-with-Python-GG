{
 "cells": [
  {
   "cell_type": "code",
   "execution_count": 1,
   "metadata": {},
   "outputs": [
    {
     "name": "stdout",
     "output_type": "stream",
     "text": [
      "Input your surname: \n",
      "Input your firstname: \n",
      "Your surname is: \n",
      "Your firstname is: \n",
      "Your full name is:  \n"
     ]
    }
   ],
   "source": [
    "surname = input('Input your surname: ')\n",
    "firstname = input('Input your firstname: ')\n",
    "print('Your surname is:', surname)\n",
    "print('Your firstname is:', firstname)\n",
    "print('Your full name is:', surname, firstname)"
   ]
  },
  {
   "cell_type": "code",
   "execution_count": 2,
   "metadata": {},
   "outputs": [
    {
     "name": "stdout",
     "output_type": "stream",
     "text": [
      "first self-defined function example result: 4.4\n",
      "second self-defined function example result: 10\n",
      "third self-defined function example result: 28\n",
      "11\n"
     ]
    }
   ],
   "source": [
    "#self defined function AND define GLOBAL VARIABLES\n",
    "def addMe2Me(x): \n",
    "    return x+x\n",
    "def self(f,y):\n",
    "    print('first self-defined function example result: '+str(f(y)))\n",
    "self(addMe2Me,2.2)\n",
    "\n",
    "# more:\n",
    "r = lambda x: x+x\n",
    "print('second self-defined function example result: '+str(r(5)))\n",
    "\n",
    "#more: \n",
    "my_add = lambda x,y: x + y**2\n",
    "testSDF = my_add(3,5)\n",
    "print('third self-defined function example result: '+ str(testSDF))\n",
    "#more _ global\n",
    "global test_var\n",
    "test_var = 5\n",
    "# -> test_var can change its value everywhere\n",
    "\n",
    "#more \n",
    "def test(f, a, b): \n",
    "    print(f(a, b))\n",
    "test((lambda x,y: x ** 3 + y), 2, 3)\n"
   ]
  },
  {
   "cell_type": "code",
   "execution_count": 3,
   "metadata": {},
   "outputs": [
    {
     "data": {
      "text/plain": [
       "140"
      ]
     },
     "execution_count": 3,
     "metadata": {},
     "output_type": "execute_result"
    }
   ],
   "source": [
    "from random import randint\n",
    "# to see function in RANDOM library ->    dir(random)\n",
    "x = randint(0,300)\n",
    "x"
   ]
  },
  {
   "cell_type": "code",
   "execution_count": 4,
   "metadata": {},
   "outputs": [
    {
     "name": "stdout",
     "output_type": "stream",
     "text": [
      "Enter a number: \n",
      "Invalid input\n",
      "Enter a number: \n",
      "Invalid input\n",
      "Enter a number: \n",
      "Invalid input\n",
      "Enter a number: \n",
      "Invalid input\n",
      "Enter a number: done\n",
      "Maximum is -1\n",
      "Minimum is 1000\n"
     ]
    }
   ],
   "source": [
    "largest = -1\n",
    "smallest = 1000\n",
    "while True:\n",
    "    num = input(\"Enter a number: \")\n",
    "    if num == \"done\" : \n",
    "        break\n",
    "    try:\n",
    "        num = int(num)\n",
    "    except:\n",
    "        print('Invalid input')\n",
    "        continue\n",
    "    if num > largest: \n",
    "        largest = num\n",
    "    if num < smallest: \n",
    "        smallest = num\n",
    "print(\"Maximum is\", largest)\n",
    "print(\"Minimum is\", smallest)"
   ]
  },
  {
   "cell_type": "code",
   "execution_count": 7,
   "metadata": {},
   "outputs": [
    {
     "name": "stdout",
     "output_type": "stream",
     "text": [
      "Please input a number between 0~300: 150\n",
      "Too large, please try again.\n",
      "Input y if you want to continue.\n",
      "75\n",
      "75\n"
     ]
    }
   ],
   "source": [
    "from random import randint\n",
    "x = randint(0, 300)\n",
    "go = 'y'\n",
    "while go == 'y':\n",
    "    digit = int(input('Please input a number between 0~300: '))\n",
    "    if digit == x :\n",
    "        print('Bingo!')\n",
    "        break\n",
    "    elif digit > x:\n",
    "        print('Too large, please try again.')\n",
    "    else:\n",
    "        print('Too small, please try again.')\n",
    "    print('Input y if you want to continue.')\n",
    "    go = input()\n",
    "    print(go)"
   ]
  },
  {
   "cell_type": "code",
   "execution_count": 9,
   "metadata": {
    "scrolled": true
   },
   "outputs": [
    {
     "name": "stdout",
     "output_type": "stream",
     "text": [
      "11\n"
     ]
    }
   ],
   "source": [
    "def test(f, a, b): \n",
    "    print(f(a, b))\n",
    "test((lambda x,y: x ** 3 + y), 2, 3)"
   ]
  },
  {
   "cell_type": "code",
   "execution_count": 10,
   "metadata": {
    "scrolled": true
   },
   "outputs": [
    {
     "name": "stdout",
     "output_type": "stream",
     "text": [
      "3\n",
      "7\n",
      "31\n",
      "127\n",
      "8191\n",
      "131071\n",
      "524287\n"
     ]
    }
   ],
   "source": [
    "def isPrime(number):\n",
    "    if number < 2:\n",
    "        return False\n",
    "    for i in range(2, number + 1):\n",
    "        if number % i == 0 and number != i:\n",
    "            return False\n",
    "    return True\n",
    "\n",
    "def isMonisen(p):\n",
    "    m = 2 ** p - 1\n",
    "    if isPrime(p) == True and isPrime(m) == True:\n",
    "        return True\n",
    "    return False\n",
    "\n",
    "countMonisen = 0\n",
    "i = 0\n",
    "while countMonisen != 7:\n",
    "    if isMonisen(i) == True:\n",
    "        countMonisen += 1\n",
    "        print(2**i -1)\n",
    "    i += 1\n"
   ]
  },
  {
   "cell_type": "code",
   "execution_count": 9,
   "metadata": {},
   "outputs": [
    {
     "name": "stdout",
     "output_type": "stream",
     "text": [
      "True\n",
      "False\n",
      "True\n"
     ]
    }
   ],
   "source": [
    "def is_palindrome(input_string):\n",
    "\t# We'll create two strings, to compare them\n",
    "\tnew_string = \"\"\n",
    "\treverse_string = \"\"\n",
    "\t# Traverse through each letter of the input string\n",
    "\tfor letter in input_string:\n",
    "\t\t# Add any non-blank letters to the \n",
    "\t\t# end of one string, and to the front\n",
    "\t\t# of the other string. \n",
    "\t\tif letter != \" \":\n",
    "\t\t\tnew_string = new_string + letter\n",
    "\t\t\treverse_string = letter + reverse_string \n",
    "\t# Compare the strings\n",
    "\tnew_string = new_string.lower()\n",
    "\treverse_string = reverse_string.lower()\n",
    "\tif new_string == reverse_string:\n",
    "\t\treturn True\n",
    "\treturn False\n",
    "\n",
    "print(is_palindrome(\"Never Odd or Even\")) # Should be True\n",
    "print(is_palindrome(\"abc\")) # Should be False\n",
    "print(is_palindrome(\"kayak\")) # Should be True"
   ]
  },
  {
   "cell_type": "markdown",
   "metadata": {},
   "source": [
    "# Google IT Automation with Python Specialization"
   ]
  },
  {
   "cell_type": "code",
   "execution_count": 66,
   "metadata": {},
   "outputs": [
    {
     "name": "stdout",
     "output_type": "stream",
     "text": [
      "12 miles equals 19.2 km\n",
      "5.5 miles equals 8.8 km\n",
      "11 miles equals 17.6 km\n"
     ]
    }
   ],
   "source": [
    "def convert_distance(miles):\n",
    "\tkm = miles * 1.6 \n",
    "\tresult = \"{} miles equals {:.1f} km\".format(miles, km)\n",
    "\treturn result\n",
    "\n",
    "print(convert_distance(12)) # Should be: 12 miles equals 19.2 km\n",
    "print(convert_distance(5.5)) # Should be: 5.5 miles equals 8.8 km\n",
    "print(convert_distance(11)) # Should be: 11 miles equals 17.6 km"
   ]
  },
  {
   "cell_type": "code",
   "execution_count": 118,
   "metadata": {},
   "outputs": [
    {
     "name": "stdout",
     "output_type": "stream",
     "text": [
      "True\n",
      "True\n",
      "False\n"
     ]
    }
   ],
   "source": [
    "# recursion\n",
    "def is_power_of(number, base):\n",
    "  # Base case: when number is smaller than base.\n",
    "  if number < base:\n",
    "    # If number is equal to 1, it's a power (base**0).\n",
    "    if number == 1:\n",
    "      return True\n",
    "    else:\n",
    "      return False\n",
    "\n",
    "  # Recursive case: keep dividing number by base.\n",
    "  return is_power_of(number / base, base)\n",
    "\n",
    "print(is_power_of(8,2)) # Should be True\n",
    "print(is_power_of(64,4)) # Should be True\n",
    "print(is_power_of(70,10)) # Should be False"
   ]
  },
  {
   "cell_type": "code",
   "execution_count": 12,
   "metadata": {},
   "outputs": [
    {
     "name": "stdout",
     "output_type": "stream",
     "text": [
      "['a', 'c', 'e', 'g']\n",
      "['Orange', 'Strawberry', 'Peach']\n"
     ]
    }
   ],
   "source": [
    "def skip_elements(elements):\n",
    "    # code goes here\n",
    "    result = []\n",
    "    for index, ele in enumerate(elements):\n",
    "        if index % 2 == 0 :\n",
    "            result.append(ele)\n",
    "    return result\n",
    "\n",
    "print(skip_elements([\"a\", \"b\", \"c\", \"d\", \"e\", \"f\", \"g\"])) # Should be ['a', 'c', 'e', 'g']\n",
    "print(skip_elements(['Orange', 'Pineapple', 'Strawberry', 'Kiwi', 'Peach'])) # Should be ['Orange', 'Strawberry', 'Peach']"
   ]
  },
  {
   "cell_type": "code",
   "execution_count": 134,
   "metadata": {},
   "outputs": [],
   "source": [
    "def votes(params):\n",
    "\tfor vote in params:\n",
    "\t    print(\"Possible option:\" + vote)\n"
   ]
  },
  {
   "cell_type": "code",
   "execution_count": 11,
   "metadata": {},
   "outputs": [
    {
     "name": "stdout",
     "output_type": "stream",
     "text": [
      "[('program.c', 'program.c'), ('stdio.hpp', 'stdio.h'), ('sample.hpp', 'sample.h'), ('a.out', 'a.out'), ('math.hpp', 'math.h'), ('hpp.out', 'hpp.out')]\n"
     ]
    }
   ],
   "source": [
    "filenames = [\"program.c\", \"stdio.hpp\", \"sample.hpp\", \"a.out\", \"math.hpp\", \"hpp.out\"]\n",
    "newfilenames = []\n",
    "for ele in filenames:\n",
    "  if ele[len(ele)-2:len(ele)] == \"pp\":\n",
    "    temp = (ele, ele[:len(ele)-2])\n",
    "  else:\n",
    "    temp = (ele, ele)\n",
    "  newfilenames.append(temp)\n",
    "print (newfilenames) # Should be [('program.c', 'program.c'), ('stdio.hpp', 'stdio.h'), ('sample.hpp', 'sample.h'), ('a.out', 'a.out'), ('math.hpp', 'math.h'), ('hpp.out', 'hpp.out')]"
   ]
  },
  {
   "cell_type": "code",
   "execution_count": 14,
   "metadata": {},
   "outputs": [
    {
     "data": {
      "text/plain": [
       "('sample.h', 'sample.h')"
      ]
     },
     "execution_count": 14,
     "metadata": {},
     "output_type": "execute_result"
    }
   ],
   "source": [
    "ele = \"sample.hpp\"\n",
    "\n",
    "ele[len(ele)-2:len(ele)] == \"pp\"\n",
    "#ele = ele[:len(ele)-2]\n",
    "#ele\n",
    "(ele[:len(ele)-2], ele[:len(ele)-2])"
   ]
  },
  {
   "cell_type": "code",
   "execution_count": 15,
   "metadata": {},
   "outputs": [
    {
     "name": "stdout",
     "output_type": "stream",
     "text": [
      "rwxr-xr-x\n",
      "rw-r--r--\n",
      "rwxr-x---\n",
      "rw-------\n"
     ]
    }
   ],
   "source": [
    "def octal_to_string(octal):\n",
    "    result = \"\"\n",
    "    value_letters = [(4,\"r\"),(2,\"w\"),(1,\"x\")]\n",
    "    # Iterate over each of the digits in octal\n",
    "    for digit in [int(n) for n in str(octal)]:\n",
    "        # Check for each of the permissions values\n",
    "        for value, letter in value_letters:\n",
    "            if digit >= value:\n",
    "                result += letter\n",
    "                digit -= value\n",
    "            else:\n",
    "                result+=\"-\"\n",
    "    return result\n",
    "    \n",
    "print(octal_to_string(755)) # Should be rwxr-xr-x\n",
    "print(octal_to_string(644)) # Should be rw-r--r--\n",
    "print(octal_to_string(750)) # Should be rwxr-x---\n",
    "print(octal_to_string(600)) # Should be rw-------"
   ]
  },
  {
   "cell_type": "markdown",
   "metadata": {},
   "source": [
    "1. Question 1\n",
    "The email_list function receives a dictionary, which contains domain names as keys, and a list of users as values. Fill in the blanks to generate a list that contains complete email addresses (e.g. diana.prince@gmail.com).\n",
    "2. Question 2\n",
    "The groups_per_user function receives a dictionary, which contains group names with the list of users. Users can belong to multiple groups. Fill in the blanks to return a dictionary with the users as keys and a list of their groups as values.\n",
    "\n"
   ]
  },
  {
   "cell_type": "code",
   "execution_count": 12,
   "metadata": {},
   "outputs": [
    {
     "name": "stdout",
     "output_type": "stream",
     "text": [
      "['clark.kent@gmail.com', 'diana.prince@gmail.com', 'peter.parker@gmail.com', 'barbara.gordon@yahoo.com', 'jean.grey@yahoo.com', 'bruce.wayne@hotmail.com']\n"
     ]
    }
   ],
   "source": [
    "def email_list(domains):\n",
    "\temails = []\n",
    "\tfor typeMail, users in domains.items():\n",
    "\t  for user in users:\n",
    "\t    emails.append(user + \"@\" + typeMail)\n",
    "\treturn(emails)\n",
    "\n",
    "print(email_list({\"gmail.com\": [\"clark.kent\", \"diana.prince\", \"peter.parker\"], \"yahoo.com\": [\"barbara.gordon\", \"jean.grey\"], \"hotmail.com\": [\"bruce.wayne\"]}))"
   ]
  },
  {
   "cell_type": "code",
   "execution_count": 13,
   "metadata": {},
   "outputs": [
    {
     "name": "stdout",
     "output_type": "stream",
     "text": [
      "{'admin': ['local', 'public', 'administrator'], 'userA': ['local'], 'userB': ['public']}\n"
     ]
    }
   ],
   "source": [
    "def groups_per_user(group_dictionary):\n",
    "\tuser_groups = {}\n",
    "\t# Go through group_dictionary\n",
    "\tfor groups, users in group_dictionary.items():\n",
    "\t\t# Now go through the users in the group\n",
    "\t\tfor user in users:\n",
    "\t\t  if user not in user_groups:\n",
    "\t\t    user_groups[user] = [groups]\n",
    "\t\t  else:\n",
    "\t\t    user_groups[user].append(groups)\n",
    "\t\t\t# Now add the group to the the list of\n",
    "# groups for this user, creating the entry\n",
    "# in the dictionary if necessary\n",
    "\n",
    "\treturn(user_groups)\n",
    "\n",
    "print(groups_per_user({\"local\": [\"admin\", \"userA\"],\n",
    "\t\t\"public\":  [\"admin\", \"userB\"],\n",
    "\t\t\"administrator\": [\"admin\"] }))"
   ]
  },
  {
   "cell_type": "code",
   "execution_count": 14,
   "metadata": {},
   "outputs": [
    {
     "name": "stdout",
     "output_type": "stream",
     "text": [
      "Have a NICE day\n",
      "Shhh, don't be so LOUD!\n",
      "Automating with Python is FUN\n"
     ]
    }
   ],
   "source": [
    "def highlight_word(sentence, word):\n",
    "\treturn(sentence.replace(word, word.upper()))\n",
    "\n",
    "print(highlight_word(\"Have a nice day\", \"nice\"))\n",
    "print(highlight_word(\"Shhh, don't be so loud!\", \"loud\"))\n",
    "print(highlight_word(\"Automating with Python is fun\", \"fun\"))\n"
   ]
  },
  {
   "cell_type": "code",
   "execution_count": 15,
   "metadata": {},
   "outputs": [
    {
     "name": "stdout",
     "output_type": "stream",
     "text": [
      "['Mike', 'Carol', 'Greg', 'Marcia', 'Peter', 'Jan', 'Bobby', 'Cindy', 'Alice']\n"
     ]
    }
   ],
   "source": [
    "def combine_lists(list1, list2):\n",
    "  # Generate a new list containing the elements of list2\n",
    "  # Followed by the elements of list1 in reverse order\n",
    "  return list2 + list1[::-1]\n",
    "\t\n",
    "Jamies_list = [\"Alice\", \"Cindy\", \"Bobby\", \"Jan\", \"Peter\"]\n",
    "Drews_list = [\"Mike\", \"Carol\", \"Greg\", \"Marcia\"]\n",
    "\n",
    "print(combine_lists(Jamies_list, Drews_list))\n"
   ]
  },
  {
   "cell_type": "code",
   "execution_count": 16,
   "metadata": {},
   "outputs": [
    {
     "data": {
      "text/plain": [
       "[7, 5, 5]"
      ]
     },
     "execution_count": 16,
     "metadata": {},
     "output_type": "execute_result"
    }
   ],
   "source": [
    "[int(n) for n in str(755)]"
   ]
  },
  {
   "cell_type": "code",
   "execution_count": 17,
   "metadata": {},
   "outputs": [
    {
     "name": "stdout",
     "output_type": "stream",
     "text": [
      "ellohay owhay reaay ouyay\n",
      "rogrammingpay niay ythonpay siay unfay\n"
     ]
    }
   ],
   "source": [
    "def pig_latin(text):\n",
    "  say = text.split(\" \")\n",
    "  # Separate the text into words\n",
    "  words = [ele for ele in say]\n",
    "  result = \"\"\n",
    "  for index, word in enumerate(words):\n",
    "    # Create the pig latin word and add it to the list\n",
    "    if index != len(words) - 1 :\n",
    "      result += word[1:] + word[0] + \"ay\" + \" \"\n",
    "    else:\n",
    "      result += word[1:] + word[0] + \"ay\"\n",
    "    # Turn the list back into a phrase\n",
    "  return result\n",
    "\t\t\n",
    "print(pig_latin(\"hello how are you\")) # Should be \"ellohay owhay reaay ouyay\"\n",
    "print(pig_latin(\"programming in python is fun\")) # Should be \"rogrammingpay niay ythonpay siay unfay\""
   ]
  },
  {
   "cell_type": "code",
   "execution_count": 18,
   "metadata": {},
   "outputs": [
    {
     "name": "stdout",
     "output_type": "stream",
     "text": [
      "hello world\n",
      "['hello', 'world']\n"
     ]
    }
   ],
   "source": [
    "text = \"hello world\"\n",
    "print(text)\n",
    "say = text.split(\" \")\n",
    "print(say)\n",
    "result = \"\"\n",
    "# Separate the text into words\n",
    "words = [ele for ele in say]\n"
   ]
  },
  {
   "cell_type": "code",
   "execution_count": 19,
   "metadata": {},
   "outputs": [
    {
     "name": "stdout",
     "output_type": "stream",
     "text": [
      "['clark.kent@gmail.com', 'diana.prince@gmail.com', 'peter.parker@gmail.com', 'barbara.gordon@yahoo.com', 'jean.grey@yahoo.com', 'bruce.wayne@hotmail.com']\n"
     ]
    }
   ],
   "source": [
    "#The email_list function receives a dictionary, which contains domain names as keys, \n",
    "#and a list of users as values. \n",
    "#Fill in the blanks to generate a list that contains complete email addresses (e.g. diana.prince@gmail.com).\n",
    "def email_list(domains):\n",
    "\temails = []\n",
    "\tfor typeMail, users in domains.items():\n",
    "\t  for user in users:\n",
    "\t    emails.append(user + '@' + typeMail)\n",
    "\treturn(emails)\n",
    "\n",
    "print(email_list({\"gmail.com\": [\"clark.kent\", \"diana.prince\", \"peter.parker\"], \"yahoo.com\": [\"barbara.gordon\", \"jean.grey\"], \"hotmail.com\": [\"bruce.wayne\"]}))"
   ]
  },
  {
   "cell_type": "code",
   "execution_count": 16,
   "metadata": {},
   "outputs": [
    {
     "name": "stdout",
     "output_type": "stream",
     "text": [
      "[4, 9]\n",
      "[1, 4, 9, 16, 25]\n",
      "[0, 1, 4, 9, 16, 25, 36, 49, 64, 81, 100]\n"
     ]
    }
   ],
   "source": [
    "def squares(start, end):\n",
    "  newlist = [start**2]\n",
    "  i = 1\n",
    "  for end in range(start+1, end+1):\n",
    "    newlist.insert(i, end**2)\n",
    "    i+=1\n",
    "  return newlist\n",
    "\n",
    "print(squares(2, 3)) # Should be [4, 9]\n",
    "print(squares(1, 5)) # Should be [1, 4, 9, 16, 25]\n",
    "print(squares(0, 10)) # Should be [0, 1, 4, 9, 16, 25, 36, 49, 64, 81, 100]"
   ]
  },
  {
   "cell_type": "code",
   "execution_count": 24,
   "metadata": {},
   "outputs": [],
   "source": [
    "total = [3, 3, 3]\n",
    "used = [2, 2, 3]"
   ]
  },
  {
   "cell_type": "code",
   "execution_count": 25,
   "metadata": {},
   "outputs": [
    {
     "data": {
      "text/plain": [
       "<function sum(iterable, start=0, /)>"
      ]
     },
     "execution_count": 25,
     "metadata": {},
     "output_type": "execute_result"
    }
   ],
   "source": [
    "sum_used = 0\n",
    "for water in used:\n",
    "    sum_used += water\n",
    "sum"
   ]
  },
  {
   "cell_type": "code",
   "execution_count": null,
   "metadata": {
    "scrolled": true
   },
   "outputs": [],
   "source": [
    "total.sort(reverse=True)\n",
    "total"
   ]
  },
  {
   "cell_type": "code",
   "execution_count": null,
   "metadata": {},
   "outputs": [],
   "source": [
    "sum_used"
   ]
  },
  {
   "cell_type": "code",
   "execution_count": null,
   "metadata": {},
   "outputs": [],
   "source": [
    "def minCans(used, total):\n",
    "    # Write your code here\n",
    "    total.sort(reverse=True) # sort the total\n",
    "    sum_used = 0\n",
    "    for water in used:\n",
    "        sum_used += water #calculate sum of the used water\n",
    "    count_res = 0 # count the doable way\n",
    "    for total_can in total:\n",
    "        if sum_used >= total_can:\n",
    "            count_res +=1\n",
    "            sum_used -= total_can\n",
    "    if sum_used > 0 :\n",
    "        return count_res + 1\n",
    "    else:\n",
    "        return count_res\n",
    "minCans([2,2,2,3],[1,2,3,4])"
   ]
  },
  {
   "cell_type": "code",
   "execution_count": null,
   "metadata": {},
   "outputs": [],
   "source": [
    "268/2"
   ]
  },
  {
   "cell_type": "code",
   "execution_count": null,
   "metadata": {},
   "outputs": [],
   "source": [
    "total"
   ]
  },
  {
   "cell_type": "code",
   "execution_count": null,
   "metadata": {},
   "outputs": [],
   "source": [
    "locs = [1, 2, 1]\n",
    "len(locs)"
   ]
  },
  {
   "cell_type": "code",
   "execution_count": null,
   "metadata": {},
   "outputs": [],
   "source": [
    "max(2,1)"
   ]
  },
  {
   "cell_type": "code",
   "execution_count": null,
   "metadata": {},
   "outputs": [],
   "source": [
    "7//2"
   ]
  },
  {
   "cell_type": "code",
   "execution_count": null,
   "metadata": {},
   "outputs": [],
   "source": [
    "def format_address(address_string):\n",
    "  # Declare variables\n",
    "  kl = address_string.split()\n",
    "  # Separate the address string into parts\n",
    "  numberr = kl[0]\n",
    "  address = address_string[len(numberr)+1:len(address_string)]\n",
    "  # Traverse through the address parts\n",
    "  #for __:\n",
    "    # Determine if the address part is the\n",
    "    # house number or part of the street name\n",
    "\n",
    "  # Does anything else need to be done \n",
    "  # before returning the result?\n",
    "  \n",
    "  # Return the formatted string  \n",
    "  return \"house number {} on street named {}\".format(numberr, address)\n",
    "\n",
    "print(format_address(\"123 Main Street\"))\n",
    "# Should print: \"house number 123 on street named Main Street\"\n",
    "\n",
    "print(format_address(\"1001 1st Ave\"))\n",
    "# Should print: \"house number 1001 on street named 1st Ave\"\n",
    "\n",
    "print(format_address(\"55 North Center Drive\"))\n",
    "# Should print \"house number 55 on street named North Center Drive\"\n"
   ]
  },
  {
   "cell_type": "code",
   "execution_count": null,
   "metadata": {},
   "outputs": [],
   "source": [
    "myStr = '55 North Center Drive'\n",
    "kl = myStr.split()\n",
    "kl"
   ]
  },
  {
   "cell_type": "code",
   "execution_count": null,
   "metadata": {},
   "outputs": [],
   "source": [
    "numberr = kl[0]\n",
    "address2 = ''\n",
    "for index, ad in enumerate(kl):\n",
    "    address2 += ad + ' '\n",
    "address2 = myStr[len(numberr):len(myStr)]\n",
    "address2"
   ]
  },
  {
   "cell_type": "code",
   "execution_count": null,
   "metadata": {},
   "outputs": [],
   "source": [
    "address = ' '\n",
    "for index, ad in enumerate(kl):\n",
    "    if index != 0:\n",
    "        address += ad + ' '\n",
    "address = address[0:len(address)-1]\n",
    "address"
   ]
  },
  {
   "cell_type": "code",
   "execution_count": null,
   "metadata": {},
   "outputs": [],
   "source": [
    "def highlight_word(sentence, word):\n",
    "    return sentence.replace(word, word.upper())\n",
    "\n",
    "print(highlight_word(\"Have a nice day\", \"nice\"))"
   ]
  },
  {
   "cell_type": "code",
   "execution_count": 24,
   "metadata": {},
   "outputs": [
    {
     "name": "stdout",
     "output_type": "stream",
     "text": [
      "{'Adam': 3, 'Brenda': 3, 'David': 5, 'Jose': 3, 'Charlotte': 2, 'Terry': 1, 'Robert': 6, 'Nancy': 1, 'Samantha': 1, 'Chris': 1}\n"
     ]
    }
   ],
   "source": [
    "def combine_guests(guests1, guests2):\n",
    "  # Combine both dictionaries into one, with each key listed \n",
    "  # only once, and the value from guests1 taking precedence\n",
    "  mixDict = guests1\n",
    "  for g, n in guests2.items():\n",
    "    if g not in mixDict:\n",
    "      mixDict[g] = mixDict.setdefault(g, 0) + 1\n",
    "    else:\n",
    "        mixDict[g] += n\n",
    "  return mixDict\n",
    "\n",
    "Rorys_guests = { \"Adam\":2, \"Brenda\":3, \"David\":1, \"Jose\":3, \"Charlotte\":2, \"Terry\":1, \"Robert\":4}\n",
    "Taylors_guests = { \"David\":4, \"Nancy\":1, \"Robert\":2, \"Adam\":1, \"Samantha\":3, \"Chris\":5}\n",
    "\n",
    "print(combine_guests(Rorys_guests, Taylors_guests))\n"
   ]
  },
  {
   "cell_type": "code",
   "execution_count": 23,
   "metadata": {},
   "outputs": [
    {
     "data": {
      "text/plain": [
       "['red', 'white', 'yellow', 'blue']"
      ]
     },
     "execution_count": 23,
     "metadata": {},
     "output_type": "execute_result"
    }
   ],
   "source": [
    "colors = [\"red\", \"white\", \"blue\"]\n",
    "colors.insert(2, \"yellow\")\n",
    "colors"
   ]
  },
  {
   "cell_type": "code",
   "execution_count": null,
   "metadata": {},
   "outputs": [],
   "source": [
    "def combine_guests(guests1, guests2):\n",
    "    result={}\n",
    "    # Combine both dictionaries into one, with each key listed\n",
    "    result={x: guests1.get(x, 0) + guests2.get(x, 0) \n",
    "                    for x in set(guests1).union(guests2)}\n",
    "    # only once, and the value from guests1 taking precedence\n",
    "    return result\n",
    "      \n",
    "      \n",
    "Rorys_guests = { \"Adam\":2, \"Brenda\":3, \"David\":1, \"Jose\":3, \"Charlotte\":2, \"Terry\":1, \"Robert\":4}\n",
    "Taylors_guests = { \"David\":4, \"Nancy\":1, \"Robert\":2, \"Adam\":1, \"Samantha\":3, \"Chris\":5}\n",
    "\n",
    "print(combine_guests(Rorys_guests, Taylors_guests))"
   ]
  },
  {
   "cell_type": "code",
   "execution_count": null,
   "metadata": {},
   "outputs": [],
   "source": [
    "animal = \"Hippopotamus\"\n",
    "print(animal[3:6])\n",
    "print(animal[-5])\n",
    "print(animal[10:])\n",
    "colors = [\"red\", \"white\", \"blue\"]\n",
    "colors.insert(2, \"yellow\")\n",
    "colors"
   ]
  },
  {
   "cell_type": "code",
   "execution_count": 116,
   "metadata": {},
   "outputs": [
    {
     "name": "stdout",
     "output_type": "stream",
     "text": [
      "{'a': 2, 'b': 2, 'c': 2}\n",
      "{'m': 1, 'a': 1, 't': 1, 'h': 1, 'i': 1, 's': 1, 'f': 1, 'u': 1, 'n': 1}\n",
      "{'t': 2, 'h': 1, 'i': 2, 's': 3, 'a': 1, 'e': 3, 'n': 2, 'c': 1}\n"
     ]
    }
   ],
   "source": [
    "def count_letters(text):\n",
    "  result = {}\n",
    "  text = text.lower()\n",
    "  # Go through each letter in the text\n",
    "  for letter in text:\n",
    "    # Check if the letter needs to be counted or not\n",
    "    if letter.isalpha() == True:\n",
    "    # Add or increment the value in the dictionary\n",
    "      result[letter] = text.count(letter)\n",
    "  return result\n",
    "\n",
    "print(count_letters(\"AaBbCc\"))\n",
    "# Should be {'a': 2, 'b': 2, 'c': 2}\n",
    "\n",
    "print(count_letters(\"Math is fun! 2+2=4\"))\n",
    "# Should be {'m': 1, 'a': 1, 't': 1, 'h': 1, 'i': 1, 's': 1, 'f': 1, 'u': 1, 'n': 1}\n",
    "\n",
    "print(count_letters(\"This is a sentence.\"))\n",
    "# Should be {'t': 2, 'h': 1, 'i': 2, 's': 3, 'a': 1, 'e': 3, 'n': 2, 'c': 1}"
   ]
  },
  {
   "cell_type": "code",
   "execution_count": null,
   "metadata": {},
   "outputs": [],
   "source": [
    "text = 'AaBbCc'\n",
    "for letter in text:\n",
    "    text\n",
    "if text.isalpha() == True:\n",
    "    print('yes')\n",
    "text = text.lower()\n",
    "text"
   ]
  },
  {
   "cell_type": "code",
   "execution_count": 181,
   "metadata": {
    "scrolled": true
   },
   "outputs": [
    {
     "name": "stdout",
     "output_type": "stream",
     "text": [
      "Johanna has 2 apples and Martin has 1 apples\n",
      "Johanna has 2 ideas and Martin has 2 ideas\n"
     ]
    }
   ],
   "source": [
    "class Testtt:\n",
    "    pass\n",
    "\n",
    "class Person:\n",
    "    apples = 0\n",
    "    ideas = 0\n",
    "\n",
    "johanna = Person()\n",
    "johanna.apples = 1\n",
    "johanna.ideas = 1\n",
    "\n",
    "martin = Person()\n",
    "martin.apples = 2\n",
    "martin.ideas = 1\n",
    "\n",
    "def exchange_apples(you, me):\n",
    "  #\"you\" and \"me\" will exchange ALL our apples with one another\n",
    "  temp = you.apples\n",
    "  you.apples = me.apples\n",
    "  me.apples = temp\n",
    "  return you.apples, me.apples\n",
    "    \n",
    "def exchange_ideas(you, me):\n",
    "  #\"you\" and \"me\" will share our ideas with one another\n",
    "  temp = you.ideas\n",
    "  you.ideas += me.ideas\n",
    "  me.ideas += temp\n",
    "  return you.ideas, me.ideas\n",
    "\n",
    "exchange_apples(johanna, martin)\n",
    "print(\"Johanna has {} apples and Martin has {} apples\".format(johanna.apples, martin.apples))\n",
    "exchange_ideas(johanna, martin)\n",
    "print(\"Johanna has {} ideas and Martin has {} ideas\".format(johanna.ideas, martin.ideas))"
   ]
  },
  {
   "cell_type": "markdown",
   "metadata": {},
   "source": [
    "**Methods is a FUNCTION that operate on the ATTRIBUTES of a SPECIFIC INSTANCE of a CLASS**\n",
    " * Method: speak (function) \n",
    " * Attribute: name\n",
    " * Instance: hamlet\n",
    " * Class: Piglet\n",
    " \n",
    "**Variables that have different values for different instances of the same class are called instance variables**"
   ]
  },
  {
   "cell_type": "code",
   "execution_count": 192,
   "metadata": {},
   "outputs": [
    {
     "name": "stdout",
     "output_type": "stream",
     "text": [
      "Oink! I'm Hamlet! Oink\n",
      "Oink! I'm Petunia! Oink\n",
      "36\n"
     ]
    }
   ],
   "source": [
    "class Piglet:\n",
    "    #attribute\n",
    "    name = 'piglet' \n",
    "    def speak(self):\n",
    "        print(\"Oink! I'm {}! Oink\".format(self.name))\n",
    "    years = 0\n",
    "    def pig_years(self):\n",
    "        return self.years * 18\n",
    "#instance: hamlet\n",
    "hamlet = Piglet()\n",
    "hamlet.name = \"Hamlet\"\n",
    "hamlet.speak()\n",
    "petunia = Piglet()\n",
    "petunia.name = \"Petunia\"\n",
    "petunia.speak()\n",
    "petunia.years = 2\n",
    "print(petunia.pig_years())"
   ]
  },
  {
   "cell_type": "markdown",
   "metadata": {},
   "source": [
    "**Special Method and Constructors**\n",
    "* init is a constructor\n",
    "* self is represented for instance\n",
    "* color, flavor: parameters"
   ]
  },
  {
   "cell_type": "code",
   "execution_count": 199,
   "metadata": {},
   "outputs": [
    {
     "name": "stdout",
     "output_type": "stream",
     "text": [
      "red\n",
      "Apple is red and its flavor is sweet\n"
     ]
    }
   ],
   "source": [
    "class Apple:\n",
    "    #define a constructor\n",
    "    def __init__(self, color, flavor):\n",
    "        self.color = color\n",
    "        self.flavor = flavor\n",
    "    def __str__(self):\n",
    "        return \"Apple is {} and its flavor is {}\".format(self.color, self.flavor)\n",
    "linh_A = Apple('red', 'sweet')\n",
    "print(linh_A.color)\n",
    "print(linh_A)"
   ]
  },
  {
   "cell_type": "markdown",
   "metadata": {},
   "source": [
    "**Docstrings are super helpful for ... to understand your own function or others one....**"
   ]
  },
  {
   "cell_type": "code",
   "execution_count": 206,
   "metadata": {},
   "outputs": [
    {
     "name": "stdout",
     "output_type": "stream",
     "text": [
      "Help on function to_seconds in module __main__:\n",
      "\n",
      "to_seconds(hours, minutes, seconds)\n",
      "    return seconds! ^____^ This helps you understand the uses of the function\n",
      "\n"
     ]
    }
   ],
   "source": [
    "def to_seconds(hours, minutes, seconds):\n",
    "    \"\"\"return seconds! ^____^ This helps you understand the uses of the function\"\"\"\n",
    "    return hours*3600 + minutes*60 + 60 + seconds\n",
    "help(to_seconds)"
   ]
  },
  {
   "cell_type": "markdown",
   "metadata": {},
   "source": [
    "Totally\n",
    "Classes and Instances\n",
    "Classes define the behavior of all instances of a specific class.\n",
    "Each variable of a specific class is an instance or object.\n",
    "Objects can have attributes, which store information about the object.\n",
    "You can make objects do work by calling their methods.\n",
    "The first parameter of the methods (self) represents the current instance.\n",
    "Methods are just like functions, but they can only be used through a class.\n",
    "Special methods\n",
    "Special methods start and end with __.\n",
    "Special methods have specific names, like __init__ for the constructor or __str__ for the conversion to string.\n",
    "Documenting classes, methods and functions\n",
    "You can add documentation to classes, methods, and functions by using docstrings right after the definition. "
   ]
  },
  {
   "cell_type": "markdown",
   "metadata": {},
   "source": [
    "# Inheritance"
   ]
  },
  {
   "cell_type": "code",
   "execution_count": 30,
   "metadata": {},
   "outputs": [
    {
     "name": "stdout",
     "output_type": "stream",
     "text": [
      "tart\n",
      "sweet\n"
     ]
    }
   ],
   "source": [
    "class Fruit:\n",
    "    def __init__(self, color, flavor):\n",
    "        self.color = color\n",
    "        self.flavor = flavor\n",
    "class Apple(Fruit):\n",
    "    pass\n",
    "class Grape(Fruit):\n",
    "    pass\n",
    "smith = Apple(\"green\", \"tart\")\n",
    "camille = Grape(\"purple\", \"sweet\")\n",
    "print(smith.flavor)\n",
    "print(camille.flavor)"
   ]
  },
  {
   "cell_type": "code",
   "execution_count": 38,
   "metadata": {},
   "outputs": [
    {
     "name": "stdout",
     "output_type": "stream",
     "text": [
      "Oink! I'm Hamlet! Oink!\n",
      "Moooo I'm Milky White! Moooo\n"
     ]
    }
   ],
   "source": [
    "class Animal:\n",
    "    sound = \"\"\n",
    "    def __init__(self, name):\n",
    "        self.name = name\n",
    "    def speak(self):\n",
    "        print(\"{sound} I'm {name}! {sound}\".format(\n",
    "            name=self.name, sound=self.sound))\n",
    "class Piglet(Animal):\n",
    "    sound = \"Oink!\"\n",
    "class Cow(Animal):\n",
    "    sound = \"Moooo\"\n",
    "    \n",
    "hamlet = Piglet(\"Hamlet\")\n",
    "hamlet.speak()\n",
    "milky = Cow(\"Milky White\")\n",
    "milky.speak()"
   ]
  },
  {
   "cell_type": "markdown",
   "metadata": {},
   "source": [
    "# Composition\n",
    "#### ALWAYS INITIALIZE MUTABLE ATTRIBUTES IN THE CONSTRUCTOR\n",
    "* Keys: Package names\n",
    "* Name: Package objects"
   ]
  },
  {
   "cell_type": "code",
   "execution_count": 57,
   "metadata": {},
   "outputs": [],
   "source": [
    "class Repository:\n",
    "    def __init__(self):\n",
    "        self.packages = {}\n",
    "    def add_package(self, package):\n",
    "        self.packages[package.name] = package\n",
    "    def total_size(self):\n",
    "        result = 0\n",
    "        for package in self.packages.values():\n",
    "            result += package.size\n",
    "        return result"
   ]
  },
  {
   "cell_type": "markdown",
   "metadata": {},
   "source": [
    "### Example Composition and Inheritance: "
   ]
  },
  {
   "cell_type": "code",
   "execution_count": 88,
   "metadata": {},
   "outputs": [
    {
     "name": "stdout",
     "output_type": "stream",
     "text": [
      "we have 3 reptile animals\n"
     ]
    },
    {
     "data": {
      "text/plain": [
       "{<__main__.Turtle at 0x10d560590>: 'reptile',\n",
       " <__main__.Snake at 0x10d575890>: 'reptile',\n",
       " <__main__.OtherReptile at 0x10d560c10>: 'reptile'}"
      ]
     },
     "execution_count": 88,
     "metadata": {},
     "output_type": "execute_result"
    }
   ],
   "source": [
    "class Zoo:\n",
    "    def __init__(self):\n",
    "        self.current_animals = {}\n",
    "        #because we use composition, we don't need to declare the NAME of animal in the Zoo\n",
    "        \n",
    "    def add_animal(self, animal):\n",
    "        #way to add Name as KEY, Category as VALUE/ OBJECT\n",
    "        self.current_animals[animal] = animal.category\n",
    "    \n",
    "    def total_of_category(self, category):\n",
    "        result = 0\n",
    "        \n",
    "        for animal in self.current_animals.values():\n",
    "            if animal == category:\n",
    "                result += 1\n",
    "        return result\n",
    "\n",
    "class Turtle(Animal):\n",
    "    category = \"reptile\"\n",
    "class Snake(Animal):\n",
    "    category = \"reptile\"\n",
    "class OtherReptile(Animal):\n",
    "    category = \"reptile\"\n",
    "    \n",
    "zoo = Zoo()\n",
    "\n",
    "turtle = Turtle(\"Turtle\") #create an instance of the Turtle class\n",
    "snake = Snake(\"Snake\") #create an instance of the Snake class\n",
    "otherReptile = OtherReptile(\"OtherReptile\")\n",
    "\n",
    "zoo.add_animal(turtle)\n",
    "zoo.add_animal(snake)\n",
    "zoo.add_animal(otherReptile)\n",
    "\n",
    "        #how many zoo animal types in the reptile category\n",
    "result = zoo.total_of_category(\"reptile\")\n",
    "print(\"we have {} reptile animals\".format(result))\n",
    "zoo.current_animals\n",
    "      "
   ]
  },
  {
   "cell_type": "markdown",
   "metadata": {},
   "source": [
    "# Modules\n",
    "## used to organize functions, classes, and other data together in a structured way"
   ]
  },
  {
   "cell_type": "code",
   "execution_count": 50,
   "metadata": {},
   "outputs": [
    {
     "name": "stdout",
     "output_type": "stream",
     "text": [
      "5\n",
      "10\n"
     ]
    }
   ],
   "source": [
    "import random\n",
    "random.randint(1,10)\n",
    "print(random.randint(1,10))\n",
    "print(random.randint(1,10))"
   ]
  },
  {
   "cell_type": "code",
   "execution_count": 53,
   "metadata": {
    "scrolled": true
   },
   "outputs": [
    {
     "name": "stdout",
     "output_type": "stream",
     "text": [
      "<class 'datetime.datetime'>\n",
      "2020-02-29 00:40:27.844837\n"
     ]
    }
   ],
   "source": []
  },
  {
   "cell_type": "code",
   "execution_count": 54,
   "metadata": {},
   "outputs": [
    {
     "data": {
      "text/plain": [
       "2020"
      ]
     },
     "execution_count": 54,
     "metadata": {},
     "output_type": "execute_result"
    }
   ],
   "source": [
    "import datetime\n",
    "now = datetime.datetime.now()\n",
    "print(type(now))\n",
    "print(now)\n",
    "print(now.year)\n",
    "# timedelta: such as days = 3 -> plus 3 from now, days = -3 -> minus 3 from now\n",
    "print(now + datetime.timedelta(days=3))"
   ]
  },
  {
   "cell_type": "code",
   "execution_count": 56,
   "metadata": {},
   "outputs": [
    {
     "name": "stdout",
     "output_type": "stream",
     "text": [
      "2020-03-03 00:40:27.844837\n"
     ]
    }
   ],
   "source": []
  },
  {
   "cell_type": "markdown",
   "metadata": {},
   "source": [
    "# SUMMARY\n",
    "* Real-world concepts are represented by CLASSES\n",
    "* Instances of classes are usually called OBJECTS\n",
    "* Objects have attributes which are used to store information about them\n",
    "* We can make objects do work by calling their METHODS\n",
    "* Access attributes and methods using dot notation\n",
    "* Objects can be organized by INHERITANCE\n",
    "* Objects can be contained inside each other using COMPOSITION"
   ]
  },
  {
   "cell_type": "code",
   "execution_count": 85,
   "metadata": {},
   "outputs": [
    {
     "data": {
      "text/plain": [
       "{'kar': 'val'}"
      ]
     },
     "execution_count": 85,
     "metadata": {},
     "output_type": "execute_result"
    }
   ],
   "source": [
    "lol = {\"hel\":\"bye\", \"kar\": \"val\"}\n",
    "del lol[\"hel\"]\n",
    "lol"
   ]
  },
  {
   "cell_type": "code",
   "execution_count": 96,
   "metadata": {},
   "outputs": [
    {
     "name": "stdout",
     "output_type": "stream",
     "text": [
      "[1, 2, 3, 5, 5, 6]\n",
      "[2, 5, 3, 5, 6, 1]\n"
     ]
    },
    {
     "data": {
      "text/plain": [
       "[1, 2, 3, 5, 5, 6]"
      ]
     },
     "execution_count": 96,
     "metadata": {},
     "output_type": "execute_result"
    }
   ],
   "source": [
    "num =[2,5,3,5,6,1]\n",
    "# sort but not change the list\n",
    "print(sorted(num))\n",
    "print(num)\n",
    "# sort and change the list\n",
    "num.sort()\n",
    "num"
   ]
  },
  {
   "cell_type": "code",
   "execution_count": 91,
   "metadata": {},
   "outputs": [
    {
     "data": {
      "text/plain": [
       "2"
      ]
     },
     "execution_count": 91,
     "metadata": {},
     "output_type": "execute_result"
    }
   ],
   "source": [
    "tehe = {'geg':'1','gegeb':'3'}\n",
    "len(tehe)"
   ]
  },
  {
   "cell_type": "code",
   "execution_count": 98,
   "metadata": {
    "scrolled": true
   },
   "outputs": [
    {
     "name": "stdout",
     "output_type": "stream",
     "text": [
      "veb\n",
      "egwe\n",
      "eegwffeef\n"
     ]
    }
   ],
   "source": [
    "test_list = '''veb. egwe, (eegwffeef'''.split(\" \")\n",
    "need_to_delete = '''!()-[]{};:'\"\\,<>./?@#$%^&*_~ '''\n",
    "test_list[0]\n",
    "test_dict = {}\n",
    "# tach tung cau \n",
    "for index, word in enumerate(test_list):\n",
    "    temp_word = word\n",
    "    for c_ntd in need_to_delete:\n",
    "        if c_ntd in temp_word:\n",
    "            temp_word = temp_word.split(c_ntd)\n",
    "            if temp_word[0] != '':\n",
    "                temp_word = temp_word[0]\n",
    "            else:\n",
    "                temp_word = temp_word[1]\n",
    "            print(temp_word)\n",
    "            break"
   ]
  },
  {
   "cell_type": "code",
   "execution_count": null,
   "metadata": {},
   "outputs": [],
   "source": [
    "for index, sentence in enumerate(list_sentences):\n",
    "    print(\"{}:{}\".format(index, sentence))\n",
    "    temp_sen = sentence.split(\" \")\n",
    "    for index, word in enumerate(temp_sen):\n",
    "        print(\"{}:{}\".format(index, word))"
   ]
  },
  {
   "cell_type": "code",
   "execution_count": 263,
   "metadata": {},
   "outputs": [
    {
     "name": "stdout",
     "output_type": "stream",
     "text": [
      "{'linh': 1, 'ele': 1, 'tele': 1, 'post': 1, 'minh': 2, 'lovely': 1, 'girl': 1, 'hihi': 1}\n"
     ]
    }
   ],
   "source": [
    "punctuations = '''!()-[]{};:'\"\\,<>./?@#$%^&*_~'''\n",
    "uninteresting_words = [\"the\", \"a\", \"to\", \"if\", \"is\", \"it\", \"of\", \"and\", \"or\", \"an\", \"as\", \"i\", \"me\", \"my\", \\\n",
    "    \"we\", \"our\", \"ours\", \"you\", \"your\", \"yours\", \"he\", \"she\", \"him\", \"his\", \"her\", \"hers\", \"its\", \"they\", \"them\", \\\n",
    "    \"their\", \"what\", \"which\", \"who\", \"whom\", \"this\", \"that\", \"am\", \"are\", \"was\", \"were\", \"be\", \"been\", \"being\", \\\n",
    "    \"have\", \"has\", \"had\", \"do\", \"does\", \"did\", \"but\", \"at\", \"by\", \"with\", \"from\", \"here\", \"when\", \"where\", \"how\", \\\n",
    "    \"all\", \"any\", \"both\", \"each\", \"few\", \"more\", \"some\", \"such\", \"no\", \"nor\", \"too\", \"very\", \"can\", \"will\", \"just\"]\n",
    "\n",
    "\n",
    "file_contents = '''Linh is the (a \\n ele and) {tele post}  \\n Minh; (MINH is lovely girl :3 hihi'''\n",
    "file_contents2 = 'is is'\n",
    "\n",
    "file_contents = file_contents.split(\"\\n\")\n",
    "\n",
    "word_dict = {}\n",
    "for sentence in file_contents:\n",
    "    # split sentence into each word in temp_sen by space\n",
    "    temp_sen = sentence.split(\" \")\n",
    "    for word in temp_sen:\n",
    "        if word.isalpha() and word not in uninteresting_words:\n",
    "            word_dict[word.lower()] = word_dict.setdefault(word.lower(), 0) + 1\n",
    "        else:\n",
    "            for pun in punctuations:\n",
    "                if pun in word:\n",
    "                    temp_word = word.split(pun)\n",
    "                    if temp_word[0] != '':\n",
    "                        temp_word = temp_word[0]\n",
    "                    else:\n",
    "                        temp_word = temp_word[1]\n",
    "                    if temp_word.isalpha() and temp_word not in uninteresting_words:\n",
    "                        word_dict[temp_word.lower()] = word_dict.setdefault(temp_word.lower(), 0) + 1\n",
    "                        break\n",
    "\n",
    "print(word_dict)        "
   ]
  },
  {
   "cell_type": "code",
   "execution_count": 254,
   "metadata": {},
   "outputs": [
    {
     "data": {
      "text/plain": [
       "['Linh is the (a ', ' ele and) {tele post}  ', ' Minh; is lovely girl :3 hihi']"
      ]
     },
     "execution_count": 254,
     "metadata": {},
     "output_type": "execute_result"
    }
   ],
   "source": [
    "file_contents = '''Linh is the (a \\n ele and) {tele post}  \\n Minh; is lovely girl :3 hihi'''\n",
    "file_contents = file_contents.split(\"\\n\")\n",
    "file_contents"
   ]
  },
  {
   "cell_type": "code",
   "execution_count": 14,
   "metadata": {},
   "outputs": [
    {
     "data": {
      "text/plain": [
       "['MAXYEAR',\n",
       " 'MINYEAR',\n",
       " '__builtins__',\n",
       " '__cached__',\n",
       " '__doc__',\n",
       " '__file__',\n",
       " '__loader__',\n",
       " '__name__',\n",
       " '__package__',\n",
       " '__spec__',\n",
       " 'date',\n",
       " 'datetime',\n",
       " 'datetime_CAPI',\n",
       " 'sys',\n",
       " 'time',\n",
       " 'timedelta',\n",
       " 'timezone',\n",
       " 'tzinfo']"
      ]
     },
     "execution_count": 14,
     "metadata": {},
     "output_type": "execute_result"
    }
   ],
   "source": [
    "import arrow\n",
    "import datetime\n",
    "dir(datetime)"
   ]
  },
  {
   "cell_type": "code",
   "execution_count": 6,
   "metadata": {
    "scrolled": true
   },
   "outputs": [
    {
     "data": {
      "text/plain": [
       "'Apr 12 2020'"
      ]
     },
     "execution_count": 6,
     "metadata": {},
     "output_type": "execute_result"
    }
   ],
   "source": [
    "date = arrow.get('2020-03-01', 'YYYY-MM-DD')\n",
    "date.shift(weeks= +6).format('MMM DD YYYY')\n"
   ]
  },
  {
   "cell_type": "code",
   "execution_count": 44,
   "metadata": {},
   "outputs": [
    {
     "name": "stdout",
     "output_type": "stream",
     "text": [
      "2020-03-03 00:14:41.600972\n"
     ]
    }
   ],
   "source": [
    "now = datetime.datetime.now()\n",
    "print(now)"
   ]
  },
  {
   "cell_type": "code",
   "execution_count": 45,
   "metadata": {},
   "outputs": [
    {
     "data": {
      "text/plain": [
       "'2020-03-03'"
      ]
     },
     "execution_count": 45,
     "metadata": {},
     "output_type": "execute_result"
    }
   ],
   "source": [
    "now_str = str(now)\n",
    "now_str[:10]"
   ]
  },
  {
   "cell_type": "code",
   "execution_count": 49,
   "metadata": {},
   "outputs": [
    {
     "name": "stdout",
     "output_type": "stream",
     "text": [
      "230 days, 0:00:00\n"
     ]
    }
   ],
   "source": [
    "now = datetime.datetime.now()\n",
    "now_str = str(now)\n",
    "start_date = '2019-07-17'\n",
    "current_date = now_str[:10]\n",
    "know_u = arrow.get(start_date, 'YYYY-MM-DD')\n",
    "current_u = arrow.get(current_date, 'YYYY-MM-DD')\n",
    "print(current_u-know_u)"
   ]
  },
  {
   "cell_type": "code",
   "execution_count": 18,
   "metadata": {},
   "outputs": [
    {
     "name": "stdout",
     "output_type": "stream",
     "text": [
      "<class 'datetime.datetime'>\n",
      "2020-03-03 00:08:00.905678\n",
      "2020\n",
      "2020-03-06 00:08:00.905678\n"
     ]
    }
   ],
   "source": [
    "\n",
    "print(type(now))\n",
    "print(now)\n",
    "print(now.year)\n",
    "# timedelta: such as days = 3 -> plus 3 from now, days = -3 -> minus 3 from now\n",
    "print(now + datetime.timedelta(days=3))"
   ]
  },
  {
   "cell_type": "code",
   "execution_count": 2,
   "metadata": {},
   "outputs": [
    {
     "data": {
      "text/plain": [
       "datetime.datetime(2020, 3, 3, 0, 8, 0, 905678)"
      ]
     },
     "execution_count": 2,
     "metadata": {},
     "output_type": "execute_result"
    }
   ],
   "source": [
    "now"
   ]
  },
  {
   "cell_type": "markdown",
   "metadata": {},
   "source": [
    "cmd:\n",
    "1/ cat: show the file. Eg: cat hello_word.py -> print('hello world')\n",
    "2/ python3 hello.py -> run the scripts -> hello world \n",
    "3/ nano hello.py -> edit\n",
    "4/\n",
    "#!/usr/bin/env python 3\n",
    "print('hello world')\n",
    "\n",
    "5/ chmod -> change file permission: read, write and execute\n",
    "chmod +x hello.py (x: execute) -> mark as executable: use ./ to run the file "
   ]
  },
  {
   "cell_type": "markdown",
   "metadata": {},
   "source": [
    "# Scalability: when more work is added to a system, the system can do whatever it needs to complete the work"
   ]
  },
  {
   "cell_type": "markdown",
   "metadata": {},
   "source": [
    "# LAB 1"
   ]
  },
  {
   "cell_type": "code",
   "execution_count": 39,
   "metadata": {},
   "outputs": [
    {
     "name": "stdout",
     "output_type": "stream",
     "text": [
      "7.8\n",
      "Everything ok\n"
     ]
    }
   ],
   "source": [
    "import shutil\n",
    "import psutil\n",
    "def check_disk_usage(disk):\n",
    "    \"\"\"Verifies that there's enough free space on disk\"\"\"\n",
    "    du = shutil.disk_usage(disk)\n",
    "    free = du.free / du.total * 100\n",
    "    return free > 20\n",
    "def check_cpu_usage():\n",
    "    \"\"\"Verifies that there's enough unused CPU\"\"\"\n",
    "    usage = psutil.cpu_percent(1)\n",
    "    print(usage)\n",
    "    return usage < 75\n",
    "# If there's not enough disk, or not enough CPU, print an error\n",
    "if not check_disk_usage('/') or not check_cpu_usage():\n",
    "    print(\"ERROR!\")\n",
    "else:\n",
    "    print(\"Everything ok\")"
   ]
  },
  {
   "cell_type": "code",
   "execution_count": 33,
   "metadata": {},
   "outputs": [
    {
     "data": {
      "text/plain": [
       "'[200]'"
      ]
     },
     "execution_count": 33,
     "metadata": {},
     "output_type": "execute_result"
    }
   ],
   "source": [
    "import requests\n",
    "request = requests.get(\"http://www.google.com\")\n",
    "status_code = str(request)\n",
    "status_code[10:15]"
   ]
  },
  {
   "cell_type": "code",
   "execution_count": 38,
   "metadata": {},
   "outputs": [
    {
     "name": "stdout",
     "output_type": "stream",
     "text": [
      "True\n",
      "True\n"
     ]
    }
   ],
   "source": [
    "import requests\n",
    "import socket\n",
    "\n",
    "def check_localhost():\n",
    "    localhost = socket.gethostbyname('localhost')\n",
    "    if localhost == '127.0.0.1':\n",
    "        return True\n",
    "    else:\n",
    "        return False\n",
    "def check_connectivity():\n",
    "    request = requests.get(\"http://www.google.com\")\n",
    "    status_code = str(request)\n",
    "    if status_code[10:15] == '[200]':\n",
    "        return True\n",
    "    else:\n",
    "        return False\n",
    "print(check_localhost())\n",
    "print(check_connectivity())"
   ]
  },
  {
   "cell_type": "code",
   "execution_count": 43,
   "metadata": {},
   "outputs": [
    {
     "data": {
      "text/plain": [
       "'/Users/phamthailinh/Desktop/ds_research/Google_IT_Python_Prof_Cert'"
      ]
     },
     "execution_count": 43,
     "metadata": {},
     "output_type": "execute_result"
    }
   ],
   "source": [
    "import os\n",
    "os.getcwd()"
   ]
  },
  {
   "cell_type": "markdown",
   "metadata": {},
   "source": [
    "<h1> <a href=\"https://googlecoursera.qwiklabs.com/focuses/47743\"> LAB 2 </a>"
   ]
  },
  {
   "cell_type": "code",
   "execution_count": null,
   "metadata": {},
   "outputs": [],
   "source": [
    "\n",
    "#!/usr/bin/env python3\n",
    "import csv\n",
    "\n",
    "def read_employees(csv_file_location):\n",
    "    csv.register_dialect('empDialect', skipinitialspace=True, strict=True)\n",
    "    employee_file = csv.DictReader(open(csv_file_location), dialect = 'empDialect')\n",
    "    employee_list = []\n",
    "    for data in employee_file:\n",
    "        employee_list.append(data)\n",
    "    return employee_list\n",
    "\n",
    "def process_data(employee_list):\n",
    "    department_list = []\n",
    "    for employee_data in employee_list:\n",
    "        department_list.append(employee_data['Department'])\n",
    "    department_data = {}\n",
    "    for department_name in set(department_list):\n",
    "        department_data[department_name] = department_list.count(department_name)\n",
    "    return department_data\n",
    "\n",
    "def write_report(dictionary, report_file):\n",
    "    with open(report_file, \"w+\") as f:\n",
    "        for k in sorted(dictionary):\n",
    "            f.write(str(k) + ':' + str(dictionary[k]) + '\\n')\n",
    "        f.close()\n",
    "\n",
    "\n",
    "employee_list = read_employees(\"/home/student-04-e332e8cc3f89/data/employees.csv\")\n",
    "print(employee_list)\n",
    "print('\\n')\n",
    "dictionary = process_data(employee_list)\n",
    "print(dictionary)\n",
    "print('\\n')\n",
    "write_report(dictionary, \"/home/student-04-e332e8cc3f89/test_report.txt\")"
   ]
  },
  {
   "cell_type": "markdown",
   "metadata": {},
   "source": [
    "# REGULAR EXPRESSIONS"
   ]
  },
  {
   "cell_type": "code",
   "execution_count": 73,
   "metadata": {
    "scrolled": false
   },
   "outputs": [
    {
     "name": "stdout",
     "output_type": "stream",
     "text": [
      "<re.Match object; span=(2, 5), match='aza'>\n",
      "<re.Match object; span=(0, 4), match='Peng'>\n",
      "<re.Match object; span=(0, 1), match='x'>\n",
      "\n",
      "\n",
      "True\n",
      "False\n",
      "True\n",
      "\n",
      "\n",
      "<re.Match object; span=(0, 6), match='python'>\n",
      "<re.Match object; span=(0, 1), match='x'>\n",
      "None\n",
      "<re.Match object; span=(17, 18), match='?'>\n",
      "\n",
      "\n",
      "<re.Match object; span=(7, 10), match='dog'>\n",
      "\n",
      " - just find the first one, want to find all? use findall function!\n",
      "['dog', 'cat']\n",
      "\n",
      "\n"
     ]
    }
   ],
   "source": [
    "import re\n",
    "# r - raw - giong y het\n",
    "result = re.search(r\"aza\", \"plaza\")\n",
    "print(result)\n",
    "# ignore upper case\n",
    "print(re.search(r\"p.ng\", \"Penguin\", re.IGNORECASE))\n",
    "print(re.search((r\"^x\"), \"xeon\"))\n",
    "print('\\n')\n",
    "\n",
    "def check_aei (text):\n",
    "  result = re.search(r\"a.e.i\", text)\n",
    "  return result != None\n",
    "\n",
    "print(check_aei(\"academia\")) # True\n",
    "print(check_aei(\"aerial\")) # False\n",
    "print(check_aei(\"paramedic\")) # True\n",
    "print('\\n')\n",
    "print(re.search(r\"[Pp]ython\", \"python\"))\n",
    "print(re.search(r\"^x\", \"xeon\"))\n",
    "print(re.search(r\"H.ello[A-Z]\", \"HEello, how are you?\"))\n",
    "print(re.search(\"[^a-zA-Z0-9 ]\", \"Hello how are you???\"))\n",
    "print('\\n')\n",
    "print(re.search(\"cat|dog\", \"I love dogs or cats???\"))\n",
    "print('\\n - just find the first one, want to find all? use findall function!')\n",
    "print(re.findall(\"cat|dog\", \"I love dogs or cats???\"))\n",
    "print('\\n')"
   ]
  },
  {
   "cell_type": "code",
   "execution_count": 145,
   "metadata": {},
   "outputs": [
    {
     "name": "stdout",
     "output_type": "stream",
     "text": [
      "<re.Match object; span=(0, 1), match='H'>\n"
     ]
    }
   ],
   "source": [
    "print(re.search((r\"[^J-Z0-9]\"), \"Hello how are you???\"))"
   ]
  },
  {
   "cell_type": "code",
   "execution_count": 74,
   "metadata": {},
   "outputs": [
    {
     "name": "stdout",
     "output_type": "stream",
     "text": [
      "<re.Match object; span=(0, 17), match='Python programmin'>\n",
      "<re.Match object; span=(0, 6), match='Python'>\n"
     ]
    }
   ],
   "source": [
    "# the * return as much as possible\n",
    "print(re.search(r\"Py.*n\", \"Python programming\"))\n",
    "#remove the . then add a-z\n",
    "print(re.search((r\"Py[a-z]*n\"), \"Python programming\"))"
   ]
  },
  {
   "cell_type": "code",
   "execution_count": 99,
   "metadata": {},
   "outputs": [
    {
     "name": "stdout",
     "output_type": "stream",
     "text": [
      "<re.Match object; span=(3, 5), match='OL'>\n"
     ]
    }
   ],
   "source": [
    "print(re.search(r\"o+l+\", \"oilOL\", re.IGNORECASE))"
   ]
  },
  {
   "cell_type": "code",
   "execution_count": 76,
   "metadata": {},
   "outputs": [
    {
     "name": "stdout",
     "output_type": "stream",
     "text": [
      "['o', 'i', 'l', 'O', 'L']\n"
     ]
    }
   ],
   "source": [
    "print(re.findall(r\"[a-z]\", \"oilOL\", re.IGNORECASE))"
   ]
  },
  {
   "cell_type": "code",
   "execution_count": 77,
   "metadata": {},
   "outputs": [
    {
     "name": "stdout",
     "output_type": "stream",
     "text": [
      "<re.Match object; span=(13, 17), match='.com'>\n"
     ]
    }
   ],
   "source": [
    "print(re.search(r\"\\.com\", \"linhlbn@gmail.com\"))"
   ]
  },
  {
   "cell_type": "code",
   "execution_count": 78,
   "metadata": {},
   "outputs": [
    {
     "name": "stdout",
     "output_type": "stream",
     "text": [
      "<re.Match object; span=(0, 1), match='T'>\n",
      "<re.Match object; span=(0, 4), match='This'>\n",
      "<re.Match object; span=(0, 15), match='This_is_example'>\n"
     ]
    }
   ],
   "source": [
    "print(re.search(r\"\\w\", \"This is example\"))\n",
    "print(re.search(r\"\\w*\", \"This is example\"))\n",
    "print(re.search(r\"\\w*\", \"This_is_example\"))\n",
    "# print(re.search((r\"\\b\"), \"~This is example \\n hello\"))\n",
    "# \\w for word, \\w* for words, \\s for space, \\d for digit, \\b word boundaries\n",
    "# . for any word, * for get all and end with something"
   ]
  },
  {
   "cell_type": "code",
   "execution_count": 79,
   "metadata": {},
   "outputs": [
    {
     "name": "stdout",
     "output_type": "stream",
     "text": [
      "<re.Match object; span=(0, 9), match='Australia'>\n"
     ]
    }
   ],
   "source": [
    "# ^ for start a string, $ for finish a string. example: find country name start and end with A\n",
    "print(re.search(r\"^A.*\", \"Australia\"))"
   ]
  },
  {
   "cell_type": "code",
   "execution_count": 83,
   "metadata": {},
   "outputs": [
    {
     "name": "stdout",
     "output_type": "stream",
     "text": [
      "<re.Match object; span=(0, 14), match='_This_is_valid'>\n",
      "None\n"
     ]
    }
   ],
   "source": [
    "pattern = r\"^[a-zA-Z_][a-zA-Z0-9_]*$\"\n",
    "print(re.search(pattern, \"_This_is_valid\"))\n",
    "#this will be not valid because it doesn't have SPACE\n",
    "print(re.search(pattern, \"This is not valid\"))"
   ]
  },
  {
   "cell_type": "markdown",
   "metadata": {},
   "source": [
    "##### Fill in the code to check if the text passed looks like a standard sentence, meaning that it starts with an uppercase letter, followed by at least some lowercase letters or a space, and ends with a period, question mark, or exclamation point."
   ]
  },
  {
   "cell_type": "code",
   "execution_count": 98,
   "metadata": {},
   "outputs": [
    {
     "name": "stdout",
     "output_type": "stream",
     "text": [
      "True\n",
      "False\n",
      "False\n",
      "False\n",
      "True\n"
     ]
    }
   ],
   "source": [
    "import re\n",
    "def check_sentence(text):\n",
    "  result = re.search(r\"^[A-Z][a-z| ]*[.?!]$\", text)\n",
    "  return result != None\n",
    "\n",
    "print(check_sentence(\"Is this is a sentence?\")) # True\n",
    "print(check_sentence(\"is this is a sentence?\")) # False\n",
    "print(check_sentence(\"Hello\")) # False\n",
    "print(check_sentence(\"1-2-3-GO!\")) # False\n",
    "print(check_sentence(\"A star is born.\")) # True"
   ]
  },
  {
   "cell_type": "markdown",
   "metadata": {},
   "source": [
    "##### The check_web_address function checks if the text passed qualifies as a top-level web address, meaning that it contains alphanumeric characters (which includes letters, numbers, and underscores), as well as periods, dashes, and a plus sign, followed by a period and a character-only top-level domain such as \".com\", \".info\", \".edu\", etc. Fill in the regular expression to do that, using escape characters, wildcards, repetition qualifiers, beginning and end-of-line characters, and character classes."
   ]
  },
  {
   "cell_type": "code",
   "execution_count": 117,
   "metadata": {},
   "outputs": [
    {
     "name": "stdout",
     "output_type": "stream",
     "text": [
      "True\n",
      "False\n",
      "True\n",
      "False\n",
      "True\n"
     ]
    }
   ],
   "source": [
    "import re\n",
    "def check_web_address(text):\n",
    "  pattern = r\"\\.[a-zA-Z]*$\"\n",
    "  result = re.search(pattern, text)\n",
    "  return result != None\n",
    "\n",
    "print(check_web_address(\"gmail.com\")) # True\n",
    "print(check_web_address(\"www@google\")) # False\n",
    "print(check_web_address(\"www.Coursera.org\")) # True\n",
    "print(check_web_address(\"web-address.com/homepage\")) # False\n",
    "print(check_web_address(\"My_Favorite-Blog.US\")) # True\n",
    "\n",
    "# tức là trước dấu chấm '.' thì có cái gì cũng dc, sau đó tới các ký tự a-zA-Z. \n",
    "# Và '*' là sau a-zA-Z thì là gì cũng dc"
   ]
  },
  {
   "cell_type": "markdown",
   "metadata": {},
   "source": [
    "# Good source for regular expression <a href=\"https://quantrimang.com/regex-trong-python-165471\"> Click here </a>\n"
   ]
  },
  {
   "cell_type": "raw",
   "metadata": {},
   "source": [
    "Ví dụ: \\$a sẽ khớp với chuỗi chứa ký tự $ đứng trước a. Ở đây, biểu tượng Dollar $ không sử dụng để khớp một chuỗi kết thúc bằng ký tự đi cùng nó như trong công cụ RegEx, $ chỉ là ký tự bình thường."
   ]
  },
  {
   "cell_type": "code",
   "execution_count": 115,
   "metadata": {},
   "outputs": [
    {
     "name": "stdout",
     "output_type": "stream",
     "text": [
      "True\n",
      "True\n",
      "False\n",
      "False\n"
     ]
    }
   ],
   "source": [
    "import re\n",
    "def check_time(text):\n",
    "  pattern = r\"(1|0|)[0-9]\\:[0-5][0-9]\\s*(pm|am|PM|AM)\"\n",
    "  result = re.search(pattern, text)\n",
    "  return result != None\n",
    "\n",
    "print(check_time(\"12:45pm\")) # True\n",
    "print(check_time(\"9:59 AM\")) # True\n",
    "print(check_time(\"6:60am\")) # False\n",
    "print(check_time(\"five o'clock\")) # False\n"
   ]
  },
  {
   "cell_type": "code",
   "execution_count": 107,
   "metadata": {},
   "outputs": [
    {
     "name": "stdout",
     "output_type": "stream",
     "text": [
      "<re.Match object; span=(0, 1), match='d'>\n"
     ]
    }
   ],
   "source": [
    "pattern = r\"[dog]|[cat]\"\n",
    "print(re.search(pattern, 'dog and cat'))"
   ]
  },
  {
   "cell_type": "markdown",
   "metadata": {},
   "source": [
    "### capturing group"
   ]
  },
  {
   "cell_type": "code",
   "execution_count": 150,
   "metadata": {},
   "outputs": [
    {
     "data": {
      "text/plain": [
       "<re.Match object; span=(0, 13), match='Lovelace, Ada'>"
      ]
     },
     "execution_count": 150,
     "metadata": {},
     "output_type": "execute_result"
    }
   ],
   "source": [
    "result = re.search(r\"^(\\w*), (\\w*)$\", \"Lovelace, Ada\")\n",
    "result"
   ]
  },
  {
   "cell_type": "code",
   "execution_count": 154,
   "metadata": {},
   "outputs": [
    {
     "name": "stdout",
     "output_type": "stream",
     "text": [
      "Lovelace, Ada\n",
      "Lovelace, Ada\n",
      "Ada\n"
     ]
    }
   ],
   "source": [
    "print (result.group())\n",
    "print(result[0])\n",
    "print(result[2])"
   ]
  },
  {
   "cell_type": "code",
   "execution_count": 155,
   "metadata": {},
   "outputs": [
    {
     "data": {
      "text/plain": [
       "'Ada Lovelace'"
      ]
     },
     "execution_count": 155,
     "metadata": {},
     "output_type": "execute_result"
    }
   ],
   "source": [
    "\"{} {}\".format(result[2], result[1])"
   ]
  },
  {
   "cell_type": "code",
   "execution_count": 196,
   "metadata": {},
   "outputs": [
    {
     "data": {
      "text/plain": [
       "'loo He'"
      ]
     },
     "execution_count": 196,
     "metadata": {},
     "output_type": "execute_result"
    }
   ],
   "source": [
    "def rearrange_name(name):\n",
    "    result = re.search(r\"^(\\w*), (\\w*)$\", name)\n",
    "    if result is None:\n",
    "        return name\n",
    "    return \"{} {}\".format(result[2], result[1])\n",
    "rearrange_name(\"He, loo\")"
   ]
  },
  {
   "cell_type": "code",
   "execution_count": 4,
   "metadata": {},
   "outputs": [
    {
     "name": "stdout",
     "output_type": "stream",
     "text": [
      "John F. Kennedy\n"
     ]
    }
   ],
   "source": [
    "import re\n",
    "def rearrange_name(name):\n",
    "  result = re.search(r\"^(\\w*), (\\w*) (\\w\\.)$\", name)\n",
    "  if result == None:\n",
    "    return name\n",
    "  return \"{} {} {}\".format(result[2], result[3], result[1])\n",
    "# \"{} {}\".format(result[2], result[1])\n",
    "# result\n",
    "name=rearrange_name(\"Kennedy, John F.\")\n",
    "print(name)"
   ]
  },
  {
   "cell_type": "code",
   "execution_count": 10,
   "metadata": {},
   "outputs": [
    {
     "name": "stdout",
     "output_type": "stream",
     "text": [
      "1: John F. ||| 2: Kennedy\n"
     ]
    },
    {
     "data": {
      "text/plain": [
       "'John F. Kennedy'"
      ]
     },
     "execution_count": 10,
     "metadata": {},
     "output_type": "execute_result"
    }
   ],
   "source": [
    "# second way\n",
    "def rearrange_name(name):\n",
    "    result = re.search(r\"^([\\w \\.-]*), ([\\w \\.-]*)$\", name)\n",
    "    if result is None:\n",
    "        return name\n",
    "    print(\"1: {} ||| 2: {}\".format(result[2],result[1]))\n",
    "    return \"{} {}\".format(result[2], result[1])\n",
    "rearrange_name(\"Kennedy, John F.\")"
   ]
  },
  {
   "cell_type": "code",
   "execution_count": 227,
   "metadata": {},
   "outputs": [
    {
     "name": "stdout",
     "output_type": "stream",
     "text": [
      "__main__\n"
     ]
    }
   ],
   "source": [
    "print(__name__)"
   ]
  },
  {
   "cell_type": "code",
   "execution_count": null,
   "metadata": {},
   "outputs": [],
   "source": []
  },
  {
   "cell_type": "code",
   "execution_count": 234,
   "metadata": {},
   "outputs": [
    {
     "name": "stdout",
     "output_type": "stream",
     "text": [
      "<re.Match object; span=(2, 7), match='scary'>\n"
     ]
    }
   ],
   "source": [
    "print(re.search(r\"[a-zA-Z]{5}\", \"a scary ghost\"))\n",
    "# words repeated 5 times -> apear the first word contained 5 words"
   ]
  },
  {
   "cell_type": "code",
   "execution_count": 8,
   "metadata": {},
   "outputs": [
    {
     "name": "stdout",
     "output_type": "stream",
     "text": [
      "<re.Match object; span=(2, 8), match='really'>\n",
      "['really', 'strawberries']\n"
     ]
    }
   ],
   "source": [
    "print(re.search(r\"[a-zA-Z]{5,10}\", \"I really like strawberries\"))\n",
    "print(re.findall(r\"\\w{5,}\", \"I really like strawberries\"))"
   ]
  },
  {
   "cell_type": "code",
   "execution_count": 11,
   "metadata": {},
   "outputs": [
    {
     "name": "stdout",
     "output_type": "stream",
     "text": [
      "13020911\n"
     ]
    }
   ],
   "source": [
    "def extract_pid(log_line):\n",
    "    regex = r\"\\[(\\d+)]\"\n",
    "    result = re.search(regex, log_line)\n",
    "    if result is None:\n",
    "        return \"\"\n",
    "    return result[1]\n",
    "print(extract_pid(\"here is the test log lines with pid [13020911]\"))"
   ]
  },
  {
   "cell_type": "code",
   "execution_count": 13,
   "metadata": {},
   "outputs": [
    {
     "data": {
      "text/plain": [
       "['One sentence. Another one? And the last on', '']"
      ]
     },
     "execution_count": 13,
     "metadata": {},
     "output_type": "execute_result"
    }
   ],
   "source": [
    "re.split(r\".?!\",\"One sentence. Another one? And the last one!\")"
   ]
  },
  {
   "cell_type": "code",
   "execution_count": 16,
   "metadata": {},
   "outputs": [
    {
     "data": {
      "text/plain": [
       "['One sentence', '.', ' Another one', '?', ' And the last one', '!', '']"
      ]
     },
     "execution_count": 16,
     "metadata": {},
     "output_type": "execute_result"
    }
   ],
   "source": [
    "re.split(r\"([.?!])\",\"One sentence. Another one? And the last one!\")"
   ]
  },
  {
   "cell_type": "code",
   "execution_count": 18,
   "metadata": {},
   "outputs": [
    {
     "data": {
      "text/plain": [
       "'Ada Lovelace'"
      ]
     },
     "execution_count": 18,
     "metadata": {},
     "output_type": "execute_result"
    }
   ],
   "source": [
    "re.sub(r\"^(\\w*), (\\w*)$\", r\"\\2 \\1\", \"Lovelace, Ada\")"
   ]
  },
  {
   "cell_type": "code",
   "execution_count": 24,
   "metadata": {},
   "outputs": [
    {
     "name": "stdout",
     "output_type": "stream",
     "text": [
      "Sabrina Green,+1-802-867-5309,System Administrator\n",
      "Eli Jones,+1-684-3481127,IT specialist\n",
      "Melody Daniels,+1-846-687-7436,Programmer\n",
      "Charlie Rivera,+1-698-746-3357,Web Developer\n"
     ]
    }
   ],
   "source": [
    "import re\n",
    "def transform_record(record):\n",
    "  new_record = re.sub(r\"\\b(\\d{3}-\\d{3}-?\\d{4,})\\b\", r\"+1-\\1\", record)\n",
    "  return new_record\n",
    "\n",
    "print(transform_record(\"Sabrina Green,802-867-5309,System Administrator\")) \n",
    "# Sabrina Green,+1-802-867-5309,System Administrator\n",
    "\n",
    "# this test is TRICKY !!!\n",
    "print(transform_record(\"Eli Jones,684-3481127,IT specialist\")) \n",
    "# Eli Jones,+1-684-3481127,IT specialist\n",
    "\n",
    "print(transform_record(\"Melody Daniels,846-687-7436,Programmer\")) \n",
    "# Melody Daniels,+1-846-687-7436,Programmer\n",
    "\n",
    "print(transform_record(\"Charlie Rivera,698-746-3357,Web Developer\")) \n",
    "# Charlie Rivera,+1-698-746-3357,Web Developer"
   ]
  },
  {
   "cell_type": "code",
   "execution_count": 32,
   "metadata": {},
   "outputs": [
    {
     "name": "stdout",
     "output_type": "stream",
     "text": [
      "['beautiful']\n",
      "['Obviously', 'queen', 'courageous', 'gracious']\n",
      "['rambunctious', 'quietly', 'delicious']\n",
      "['queue']\n",
      "[]\n"
     ]
    }
   ],
   "source": [
    "# The multi_vowel_words function returns all words \n",
    "# with 3 or more consecutive vowels (a, e, i, o, u). \n",
    "# Fill in the regular expression to do that.\n",
    "import re\n",
    "def multi_vowel_words(text):\n",
    "  pattern = r\"\\b(\\w+[a|e|i|o|u]{3}\\w+)\\b\"\n",
    "  result = re.findall(pattern, text)\n",
    "  return result\n",
    "\n",
    "print(multi_vowel_words(\"Life is beautiful\")) \n",
    "# ['beautiful']\n",
    "\n",
    "print(multi_vowel_words(\"Obviously, the queen is courageous and gracious.\")) \n",
    "# ['Obviously', 'queen', 'courageous', 'gracious']\n",
    "\n",
    "print(multi_vowel_words(\"The rambunctious children had to sit quietly and await their delicious dinner.\")) \n",
    "# ['rambunctious', 'quietly', 'delicious']\n",
    "\n",
    "print(multi_vowel_words(\"The order of a data queue is First In First Out (FIFO)\")) \n",
    "# ['queue']\n",
    "\n",
    "print(multi_vowel_words(\"Hello world!\")) \n",
    "# []"
   ]
  },
  {
   "cell_type": "code",
   "execution_count": 61,
   "metadata": {},
   "outputs": [
    {
     "name": "stdout",
     "output_type": "stream",
     "text": [
      "// Start of program\n",
      "  number = 0   // Initialize the variable\n",
      "  number += 1   // Increment the variable\n",
      "  return(number)\n"
     ]
    }
   ],
   "source": [
    "import re\n",
    "def transform_comments(line_of_code):\n",
    "  result = re.sub(r\"([#@]{1,})\", r\"//\",line_of_code)\n",
    "  return result\n",
    "\n",
    "print(transform_comments(\"####@# Start of program\")) \n",
    "# Should be \"// Start of program\"\n",
    "print(transform_comments(\"  number = 0   ## Initialize the variable\")) \n",
    "# Should be \"  number = 0   // Initialize the variable\"\n",
    "print(transform_comments(\"  number += 1   # Increment the variable\")) \n",
    "# Should be \"  number += 1   // Increment the variable\"\n",
    "print(transform_comments(\"  return(number)\")) \n",
    "# Should be \"  return(number)\""
   ]
  },
  {
   "cell_type": "markdown",
   "metadata": {},
   "source": [
    "When capturing regex groups, what datatype does the groups method return?\n",
    "\n",
    "-> A tuple"
   ]
  },
  {
   "cell_type": "markdown",
   "metadata": {},
   "source": [
    "<h1> <a href=\"https://googlecoursera.qwiklabs.com/focuses/47744\"> LAB 3 </a>"
   ]
  },
  {
   "cell_type": "code",
   "execution_count": 65,
   "metadata": {
    "collapsed": true
   },
   "outputs": [
    {
     "ename": "FileNotFoundError",
     "evalue": "[Errno 2] No such file or directory: '/home/student-04-6d7101b85cea/data/user_emails.csv'",
     "output_type": "error",
     "traceback": [
      "\u001b[0;31m---------------------------------------------------------------------------\u001b[0m",
      "\u001b[0;31mFileNotFoundError\u001b[0m                         Traceback (most recent call last)",
      "\u001b[0;32m<ipython-input-65-01024ff59d8b>\u001b[0m in \u001b[0;36m<module>\u001b[0;34m\u001b[0m\n\u001b[1;32m     62\u001b[0m     \u001b[0moutput_file\u001b[0m\u001b[0;34m.\u001b[0m\u001b[0mclose\u001b[0m\u001b[0;34m(\u001b[0m\u001b[0;34m)\u001b[0m\u001b[0;34m\u001b[0m\u001b[0;34m\u001b[0m\u001b[0m\n\u001b[1;32m     63\u001b[0m \u001b[0;34m\u001b[0m\u001b[0m\n\u001b[0;32m---> 64\u001b[0;31m \u001b[0mmain\u001b[0m\u001b[0;34m(\u001b[0m\u001b[0;34m)\u001b[0m\u001b[0;34m\u001b[0m\u001b[0;34m\u001b[0m\u001b[0m\n\u001b[0m",
      "\u001b[0;32m<ipython-input-65-01024ff59d8b>\u001b[0m in \u001b[0;36mmain\u001b[0;34m()\u001b[0m\n\u001b[1;32m     31\u001b[0m   \u001b[0mnew_domain_email_list\u001b[0m \u001b[0;34m=\u001b[0m \u001b[0;34m[\u001b[0m\u001b[0;34m]\u001b[0m\u001b[0;34m\u001b[0m\u001b[0;34m\u001b[0m\u001b[0m\n\u001b[1;32m     32\u001b[0m \u001b[0;34m\u001b[0m\u001b[0m\n\u001b[0;32m---> 33\u001b[0;31m   \u001b[0;32mwith\u001b[0m \u001b[0mopen\u001b[0m\u001b[0;34m(\u001b[0m\u001b[0mcsv_file_location\u001b[0m\u001b[0;34m,\u001b[0m \u001b[0;34m'r'\u001b[0m\u001b[0;34m)\u001b[0m \u001b[0;32mas\u001b[0m \u001b[0mf\u001b[0m\u001b[0;34m:\u001b[0m\u001b[0;34m\u001b[0m\u001b[0;34m\u001b[0m\u001b[0m\n\u001b[0m\u001b[1;32m     34\u001b[0m     \u001b[0muser_data_list\u001b[0m \u001b[0;34m=\u001b[0m \u001b[0mlist\u001b[0m\u001b[0;34m(\u001b[0m\u001b[0mcsv\u001b[0m\u001b[0;34m.\u001b[0m\u001b[0mreader\u001b[0m\u001b[0;34m(\u001b[0m\u001b[0mf\u001b[0m\u001b[0;34m)\u001b[0m\u001b[0;34m)\u001b[0m\u001b[0;34m\u001b[0m\u001b[0;34m\u001b[0m\u001b[0m\n\u001b[1;32m     35\u001b[0m     \u001b[0;31m## user_data_list included 'Full name' and 'email address'\u001b[0m\u001b[0;34m\u001b[0m\u001b[0;34m\u001b[0m\u001b[0;34m\u001b[0m\u001b[0m\n",
      "\u001b[0;31mFileNotFoundError\u001b[0m: [Errno 2] No such file or directory: '/home/student-04-6d7101b85cea/data/user_emails.csv'"
     ]
    }
   ],
   "source": [
    "#!/usr/bin/env python3\n",
    "\n",
    "import re\n",
    "import csv\n",
    "\n",
    "\n",
    "def contains_domain(address, domain):\n",
    "  \"\"\"Returns True if the email address contains the given,domain,in the domain position, false if not.\"\"\"\n",
    "  domain = r'[\\w\\.-]+@'+domain+'$'\n",
    "  # domain =  [\\w\\.-]+@abc.edu$ \n",
    "  if re.match(domain,address):\n",
    "    return True\n",
    "  return False\n",
    "\n",
    "\n",
    "def replace_domain(address, old_domain, new_domain):\n",
    "  \"\"\"Replaces the old domain with the new domain in the received address.\"\"\"\n",
    "  old_domain_pattern = r'' + old_domain + '$'\n",
    "  # old_domain_pattern =     abc.edu$\n",
    "  # address = email_address = dam' email kia kia`\n",
    "  address = re.sub(old_domain_pattern, new_domain, address)\n",
    "  return address\n",
    "\n",
    "def main():\n",
    "  \"\"\"Processes the list of emails, replacing any instances of the old domain with the new domain.\"\"\"\n",
    "  old_domain, new_domain = 'abc.edu', 'xyz.edu'\n",
    "  csv_file_location = '/home/student-04-6d7101b85cea/data/user_emails.csv'\n",
    "  report_file = '/home/student-04-6d7101b85cea/data' + '/updated_user_emails.csv'\n",
    "  user_email_list = []\n",
    "  old_domain_email_list = []\n",
    "  new_domain_email_list = []\n",
    "\n",
    "  with open(csv_file_location, 'r') as f:\n",
    "    user_data_list = list(csv.reader(f))\n",
    "    ## user_data_list included 'Full name' and 'email address'\n",
    "    ## then user_email_list will take the 'email address' part!\n",
    "    user_email_list = [data[1].strip() for data in user_data_list[1:]]\n",
    "\n",
    "    for email_address in user_email_list:\n",
    "      if contains_domain(email_address, old_domain):\n",
    "        old_domain_email_list.append(email_address)\n",
    "        replaced_email = replace_domain(email_address,old_domain,new_domain)\n",
    "        new_domain_email_list.append(replaced_email)\n",
    "\n",
    "    email_key = ' ' + 'Email Address'\n",
    "    email_index = user_data_list[0].index(email_key)\n",
    "    # email_ key = <space> Email Adress\n",
    "    #email_index = 1\n",
    "    #user_data_list[0]=['Full Name', ' Email Address']\n",
    "    #user_data_list[0].index('Full Name')=0 because it is first place!\n",
    "    # user_data_list[1:] : all but except index\n",
    "\n",
    "    for user in user_data_list[1:]:\n",
    "      for old_domain, new_domain in zip(old_domain_email_list, new_domain_email_list):\n",
    "        if user[email_index] == ' ' + old_domain:\n",
    "          user[email_index] = ' ' + new_domain\n",
    "  f.close()\n",
    "\n",
    "  with open(report_file, 'w+') as output_file:\n",
    "    writer = csv.writer(output_file)\n",
    "    writer.writerows(user_data_list)\n",
    "    output_file.close()\n",
    "\n",
    "main()"
   ]
  },
  {
   "cell_type": "markdown",
   "metadata": {},
   "source": [
    "Before (user_emails.csv)\n",
    "Full Name, Email Address\n",
    "Blossom Gill, blossom@abc.edu\n",
    "Hayes Delgado, nonummy@utnisia.com\n",
    "Petra Jones, ac@abc.edu\n",
    "Oleg Noel, noel@liberomauris.ca\n",
    "Ahmed Miller, ahmed.miller@nequenonquam.co.uk\n",
    "Macaulay Douglas, mdouglas@abc.edu\n",
    "Aurora Grant, enim.non@abc.edu\n",
    "Madison Mcintosh, mcintosh@nisiaenean.net\n",
    "Montana Powell, montanap@semmagna.org\n",
    "Rogan Robinson, rr.robinson@abc.edu\n",
    "Simon Rivera, sri@abc.edu\n",
    "Benedict Pacheco, bpacheco@abc.edu\n",
    "Maisie Hendrix, mai.hendrix@abc.edu\n",
    "Xaviera Gould, xlg@utnisia.net\n",
    "Oren Rollins, oren@semmagna.com\n",
    "Flavia Santiago, flavia@utnisia.net\n",
    "Jackson Owens, jackowens@abc.edu\n",
    "Britanni Humphrey, britanni@ut.net\n",
    "Kirk Nixon, kirknixon@abc.edu\n",
    "Bree Campbell, breee@utnisia.net\n",
    "\n",
    "\n",
    "After (updated_user_emails.csv)\n",
    "Full Name, Email Address\n",
    "Blossom Gill, blossom@xyz.edu\n",
    "Hayes Delgado, nonummy@utnisia.com\n",
    "Petra Jones, ac@xyz.edu\n",
    "Oleg Noel, noel@liberomauris.ca\n",
    "Ahmed Miller, ahmed.miller@nequenonquam.co.uk\n",
    "Macaulay Douglas, mdouglas@xyz.edu\n",
    "Aurora Grant, enim.non@xyz.edu\n",
    "Madison Mcintosh, mcintosh@nisiaenean.net\n",
    "Montana Powell, montanap@semmagna.org\n",
    "Rogan Robinson, rr.robinson@xyz.edu\n",
    "Simon Rivera, sri@xyz.edu\n",
    "Benedict Pacheco, bpacheco@xyz.edu\n",
    "Maisie Hendrix, mai.hendrix@xyz.edu\n",
    "Xaviera Gould, xlg@utnisia.net\n",
    "Oren Rollins, oren@semmagna.com\n",
    "Flavia Santiago, flavia@utnisia.net\n",
    "Jackson Owens, jackowens@xyz.edu\n",
    "Britanni Humphrey, britanni@ut.net\n",
    "Kirk Nixon, kirknixon@xyz.edu\n",
    "Bree Campbell, breee@utnisia.net\n"
   ]
  },
  {
   "cell_type": "code",
   "execution_count": 67,
   "metadata": {},
   "outputs": [
    {
     "data": {
      "text/plain": [
       "132"
      ]
     },
     "execution_count": 67,
     "metadata": {},
     "output_type": "execute_result"
    }
   ],
   "source": []
  },
  {
   "cell_type": "code",
   "execution_count": null,
   "metadata": {},
   "outputs": [],
   "source": []
  }
 ],
 "metadata": {
  "kernelspec": {
   "display_name": "Python 3",
   "language": "python",
   "name": "python3"
  },
  "language_info": {
   "codemirror_mode": {
    "name": "ipython",
    "version": 3
   },
   "file_extension": ".py",
   "mimetype": "text/x-python",
   "name": "python",
   "nbconvert_exporter": "python",
   "pygments_lexer": "ipython3",
   "version": "3.7.6"
  }
 },
 "nbformat": 4,
 "nbformat_minor": 4
}
